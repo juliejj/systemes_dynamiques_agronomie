{
 "cells": [
  {
   "cell_type": "markdown",
   "metadata": {
    "slideshow": {
     "slide_type": "slide"
    }
   },
   "source": [
    "# Table of Contents\n",
    "* [1. Filtrage de Kalman](#1.-Filtrage-de-Kalman)\n",
    "\t* [1.1 Système linéaire gaussien en tems discret](#1.1-Système-linéaire-gaussien-en-tems-discret)\n",
    "\t\t* [1.1.1 Définition](#1.1.1-Définition)\n",
    "\t\t* [1.1.2 Simulation](#1.1.2-Simulation)\n",
    "\t\t* [1.1.3 Un peu de vectorisation](#1.1.3-Un-peu-de-vectorisation)\n",
    "\t* [1.2 Loi conditionnelle gaussienne](#1.2-Loi-conditionnelle-gaussienne)\n",
    "\t* [1.3 Problème de filtrage linéaire](#1.3-Problème-de-filtrage-linéaire)\n",
    "\t* [1.4 Filtre de Kalman étendu](#1.4-Filtre-de-Kalman-étendu)\n",
    "\t\t* [1.4.1 Filtrage non linéaire en temps dicsret](#1.4.1-Filtrage-non-linéaire-en-temps-dicsret)\n",
    "\t\t* [1.4.2 Filtre de Kalman étendu en temps discret](#1.4.2-Filtre-de-Kalman-étendu-en-temps-discret)\n",
    "\t* [1.5 Cas linéaire continu/discret](#1.5-Cas-linéaire-continu/discret)\n",
    "\t\t* [1.5.1 Equation d'état](#1.5.1-Equation-d'état)\n",
    "\t\t* [1.5.2 Filtre de Kalman étendu continu/discret](#1.5.2-Filtre-de-Kalman-étendu-continu/discret)\n",
    "\t* [1.6 Application au chemostat](#1.6-Application-au-chemostat)\n"
   ]
  },
  {
   "cell_type": "markdown",
   "metadata": {
    "slideshow": {
     "slide_type": "slide"
    }
   },
   "source": [
    "# 1. Filtrage de Kalman"
   ]
  },
  {
   "cell_type": "markdown",
   "metadata": {
    "slideshow": {
     "slide_type": "slide"
    }
   },
   "source": [
    "## 1.1 Système linéaire gaussien en tems discret"
   ]
  },
  {
   "cell_type": "markdown",
   "metadata": {},
   "source": [
    "### 1.1.1 Définition"
   ]
  },
  {
   "cell_type": "markdown",
   "metadata": {},
   "source": [
    "$$\n",
    "   X_{k+1} = A\\,X_{k} + B\\,W_k\\,,\\ 0\\leq k < k_{max}\n",
    "$$\n",
    "\n",
    "- $X_k\\to\\mathbb{R}^n$\n",
    "- bruit: $W_k\\to\\mathbb{R}^m$, $W_k\\sim N(0,Q_W)$\n",
    "- $A\\in\\mathbb{R}^{n\\times n}$, $B\\in\\mathbb{R}^{m\\times n}$\n",
    "\n",
    "Il s'agit d'un **système gaussien**: $X_{0:k_{max}}$ est un vecteur aléatoire gaussien. (Notation: $Z_{k':k}=(Z_{k'},Z_{k'+1},\\dots ,Z_{k})$, $k'\\leq k$).\n",
    "\n",
    "La moyenne $\\bar X_k = \\mathbb{E}(X_k)$ et la covariance $Q^X_k = \\mathrm{Var}(X_k)$ sont donnés par:\n",
    "\n",
    "\n",
    "\\begin{align*}\n",
    "   \\bar X_{k+1} &= A\\,\\bar X_{k} \n",
    "   \\\\\n",
    "   Q^X_{k+1} &= A\\,Q^X_{k}\\,A^*+B\\,Q_W\\,B^*\n",
    "\\end{align*}"
   ]
  },
  {
   "cell_type": "markdown",
   "metadata": {
    "slideshow": {
     "slide_type": "slide"
    }
   },
   "source": [
    "### 1.1.2 Simulation"
   ]
  },
  {
   "cell_type": "code",
   "execution_count": 11,
   "metadata": {},
   "outputs": [
    {
     "data": {
      "image/png": "[encoded data removed]",
      "text/plain": [
       "<matplotlib.figure.Figure at 0x1088ea9b0>"
      ]
     },
     "metadata": {},
     "output_type": "display_data"
    }
   ],
   "source": [
    "import numpy as np\n",
    "import matplotlib.pyplot as plt\n",
    "\n",
    "kmax = 300\n",
    "\n",
    "EX0, VX0 = 10, 5\n",
    "A, B, QW = 0.9, 1, 0.1\n",
    "sQW = np.sqrt(QW)\n",
    "sVX0 = np.sqrt(VX0)\n",
    "\n",
    "def sys_lin(EX0, sVX0, A, B, sQW):\n",
    "    W = sQW*np.random.randn(kmax)\n",
    "    X = np.ones(kmax+1)\n",
    "    X[0] = EX0+sVX0*np.random.randn()\n",
    "    for k in range(kmax):\n",
    "        X[k+1] = A*X[k]+B*W[k]\n",
    "    return X\n",
    "\n",
    "def sys_lin_loi(EX0, sVX0, A, B, sQW):\n",
    "    espX = np.ones(kmax+1)\n",
    "    varX = np.ones(kmax+1)\n",
    "    espX[0] = EX0\n",
    "    for k in range(kmax):\n",
    "        espX[k+1] = A*espX[k]\n",
    "        varX[k+1] = A*A*varX[k]+B*B*QW\n",
    "    return espX, varX\n",
    "\n",
    "X = sys_lin(EX0, sVX0, A, B, sQW)\n",
    "espX, varX = sys_lin_loi(EX0, sVX0, A, B, sQW)\n",
    "\n",
    "plt.plot([0, kmax], [0, 0], color=\"g\", linestyle=':')\n",
    "plt.plot(espX,color='k')\n",
    "plt.fill_between(range(kmax+1),espX+2*np.sqrt(varX), \n",
    "                 espX-2*np.sqrt(varX), color = '0.75', alpha=0.4)\n",
    "plt.plot(X)\n",
    "plt.show()"
   ]
  },
  {
   "cell_type": "code",
   "execution_count": 12,
   "metadata": {
    "slideshow": {
     "slide_type": "slide"
    }
   },
   "outputs": [
    {
     "data": {
      "application/vnd.jupyter.widget-view+json": {
       "model_id": "eef2a50943d24e96b6ee2f1e78fea92e",
       "version_major": 2,
       "version_minor": 0
      },
      "text/html": [
       "<p>Failed to display Jupyter Widget of type <code>interactive</code>.</p>\n",
       "<p>\n",
       "  If you're reading this message in Jupyter Notebook or JupyterLab, it may mean\n",
       "  that the widgets JavaScript is still loading. If this message persists, it\n",
       "  likely means that the widgets JavaScript library is either not installed or\n",
       "  not enabled. See the <a href=\"https://ipywidgets.readthedocs.io/en/stable/user_install.html\">Jupyter\n",
       "  Widgets Documentation</a> for setup instructions.\n",
       "</p>\n",
       "<p>\n",
       "  If you're reading this message in another notebook frontend (for example, a static\n",
       "  rendering on GitHub or <a href=\"https://nbviewer.jupyter.org/\">NBViewer</a>),\n",
       "  it may mean that your frontend doesn't currently support widgets.\n",
       "</p>\n"
      ],
      "text/plain": [
       "interactive(children=(FloatSlider(value=0.0, description='A', max=1.0, step=0.01), FloatSlider(value=3.0, description='B', max=6.0), IntSlider(value=50, description='iseed', min=1), Output()), _dom_classes=('widget-interact',))"
      ]
     },
     "metadata": {},
     "output_type": "display_data"
    }
   ],
   "source": [
    "from ipywidgets import interact, fixed\n",
    "\n",
    "def plt_sys_lin(A, B, iseed):\n",
    "    np.random.seed(iseed)\n",
    "    X = sys_lin(10, 0, A, B, 1)\n",
    "    plt.plot([0, kmax], [0, 0], color=\"g\", linestyle=':')\n",
    "    plt.plot(X)\n",
    "    plt.ylim([-4,15])\n",
    "    plt.show()\n",
    "    \n",
    "interact(plt_sys_lin, A=(0,1,0.01), B=(0.,6,0.1), \n",
    "         iseed=(1,100,1))\n",
    "plt.show()\n"
   ]
  },
  {
   "cell_type": "markdown",
   "metadata": {
    "slideshow": {
     "slide_type": "slide"
    }
   },
   "source": [
    "### 1.1.3 Un peu de vectorisation"
   ]
  },
  {
   "cell_type": "code",
   "execution_count": 13,
   "metadata": {},
   "outputs": [
    {
     "data": {
      "image/png": "[encoded data removed]",
      "text/plain": [
       "<matplotlib.figure.Figure at 0x108af6a90>"
      ]
     },
     "metadata": {},
     "output_type": "display_data"
    }
   ],
   "source": [
    "kmax = 300\n",
    "\n",
    "mcmax = 300\n",
    "EX0, VX0 = 10, 5\n",
    "A, B, QW = 0.9, 1, 0.1\n",
    "sQW = np.sqrt(QW)\n",
    "sVX0 = np.sqrt(VX0)\n",
    "\n",
    "def sys_lin_vec(mcmax,EX0, sVX0, A, B, sQW):\n",
    "    W = sQW*np.random.randn(kmax,mcmax)\n",
    "    X = np.ones((kmax+1,mcmax))\n",
    "    X[0,] = EX0+sVX0*np.random.randn()\n",
    "    for k in range(kmax):\n",
    "        X[k+1,] = A*X[k,]+B*W[k,]\n",
    "    return X\n",
    "\n",
    "X = sys_lin_vec(mcmax, EX0, sVX0, A, B, sQW)\n",
    "plt.plot(X,alpha=.04,color='b')\n",
    "plt.plot(espX,color='w')\n",
    "plt.plot(espX+2*np.sqrt(varX),color='k')\n",
    "plt.plot(espX-2*np.sqrt(varX),color='k')\n",
    "plt.show()"
   ]
  },
  {
   "cell_type": "code",
   "execution_count": 14,
   "metadata": {
    "slideshow": {
     "slide_type": "slide"
    }
   },
   "outputs": [
    {
     "data": {
      "image/png": "[encoded data removed]",
      "text/plain": [
       "<matplotlib.figure.Figure at 0x108bf2208>"
      ]
     },
     "metadata": {},
     "output_type": "display_data"
    }
   ],
   "source": [
    "mcmax = 10000\n",
    "X = sys_lin_vec(mcmax, EX0, sVX0, A, B, sQW)\n",
    "num_bins = 30\n",
    "n, bins, patches = plt.hist(X[-1,], num_bins, normed=1, \n",
    "                            facecolor='green', alpha=0.5)\n",
    "plt.show()\n"
   ]
  },
  {
   "cell_type": "markdown",
   "metadata": {
    "slideshow": {
     "slide_type": "slide"
    }
   },
   "source": [
    "## 1.2 Loi conditionnelle gaussienne"
   ]
  },
  {
   "cell_type": "markdown",
   "metadata": {},
   "source": [
    "Soit $Z=\\left(\\begin{matrix}X \\\\ Y\\end{matrix}\\right)$ un vecteur aléatoire gaussien à valeurs dans $\\mathbb R^{n+d}$ de moyenne $\\bar Z$ et de covariance $Q_Z$ avec:\n",
    "\n",
    "\\begin{align*}\n",
    "   \\bar Z &= \\begin{pmatrix}\\bar X \\\\ \\bar Y \\end{pmatrix}\n",
    "   &\n",
    "   Q_Z &=\\begin{pmatrix} Q_{X X} & Q_{XY} \\\\ Q_{XY}^* &\n",
    "                         Q_{YY}\\end{pmatrix}\n",
    "\\end{align*}\n",
    "\n",
    "où $Q_{YY}>0$ alors $X|Y$ est gaussien $N(\\hat  X,R)$ avec:\n",
    "\n",
    "\\begin{align*}\n",
    "  \\hat X\n",
    "  &=\n",
    "  \\bar X + Q_{XY}\\,Q_{YY}^{-1}\\,(Y-\\bar Y)\n",
    "  &\n",
    "  R\n",
    "  &=\n",
    "  Q_{XX}-Q_{XY}\\,Q_{YY}^{-1}\\,Q_{XY}^*\n",
    "\\end{align*}"
   ]
  },
  {
   "cell_type": "code",
   "execution_count": 17,
   "metadata": {
    "slideshow": {
     "slide_type": "slide"
    }
   },
   "outputs": [
    {
     "data": {
      "application/vnd.jupyter.widget-view+json": {
       "model_id": "b4a0ec472c684f8698b19114d10e75ff",
       "version_major": 2,
       "version_minor": 0
      },
      "text/html": [
       "<p>Failed to display Jupyter Widget of type <code>interactive</code>.</p>\n",
       "<p>\n",
       "  If you're reading this message in Jupyter Notebook or JupyterLab, it may mean\n",
       "  that the widgets JavaScript is still loading. If this message persists, it\n",
       "  likely means that the widgets JavaScript library is either not installed or\n",
       "  not enabled. See the <a href=\"https://ipywidgets.readthedocs.io/en/stable/user_install.html\">Jupyter\n",
       "  Widgets Documentation</a> for setup instructions.\n",
       "</p>\n",
       "<p>\n",
       "  If you're reading this message in another notebook frontend (for example, a static\n",
       "  rendering on GitHub or <a href=\"https://nbviewer.jupyter.org/\">NBViewer</a>),\n",
       "  it may mean that your frontend doesn't currently support widgets.\n",
       "</p>\n"
      ],
      "text/plain": [
       "interactive(children=(FloatSlider(value=2.0, description='obs', max=10.0, min=-6.0), Output()), _dom_classes=('widget-interact',))"
      ]
     },
     "metadata": {},
     "output_type": "display_data"
    }
   ],
   "source": [
    "import scipy.stats as stats\n",
    "\n",
    "barZ = np.array([[1],[3]])\n",
    "QZ = np.array([[3,1],[1,1]])\n",
    "\n",
    "a = barZ[0]\n",
    "b = QZ[0,0]\n",
    "xx = np.linspace(-6, 10, 100)\n",
    "\n",
    "R = QZ[0,0]-QZ[0,1]*QZ[0,1]/QZ[1,1]\n",
    "\n",
    "def pltbayesgauss(obs):\n",
    "    hatX = barZ[0]+QZ[0,1]*(obs-barZ[1])/QZ[1,1]\n",
    "    plt.plot([obs,obs],[0,1],':')\n",
    "    plt.plot(xx, stats.norm.pdf(xx, a, b),label='loi a priori')\n",
    "    plt.plot(xx, stats.norm.pdf(xx, hatX, R),label='loi a posteriori')\n",
    "    plt.ylim([0,0.25])\n",
    "    plt.legend()\n",
    "    plt.show()\n",
    "\n",
    "interact(pltbayesgauss, obs=(-6,10,0.1))\n",
    "plt.show()"
   ]
  },
  {
   "cell_type": "markdown",
   "metadata": {
    "slideshow": {
     "slide_type": "slide"
    }
   },
   "source": [
    "## 1.3 Problème de filtrage linéaire"
   ]
  },
  {
   "cell_type": "markdown",
   "metadata": {},
   "source": [
    "\\begin{align*}\n",
    "\\tag{équation d'état}\n",
    "   X_{k+1} &= A\\,X_{k} + B\\,W_k\\,\\ 0\\leq k<k_{max}\n",
    "   \\\\\n",
    "\\tag{équation d'observation}\n",
    "   Y_{k} &= H\\,X_{k} + V_k   \\,\\ 0< k\\leq k_{max}\n",
    "\\end{align*}\n",
    "\n",
    "- $X_k\\to\\mathbb{R}^n$, $Y_k\\to\\mathbb{R}^d$\n",
    "- bruit d'état: $W_k\\to\\mathbb{R}^m$, $W_k\\sim N(0,Q_W)$\n",
    "- bruit de mesure: $V_k\\to\\mathbb{R}^d$, $V_k\\sim N(0,Q_V)$, $Q_V>0$\n",
    "- $A\\in\\mathbb{R}^{n\\times n}$, $B\\in\\mathbb{R}^{m\\times n}$, $H\\in\\mathbb{R}^{n\\times d}$\n",
    "\n",
    "Il s'agit d'un **système gaussien**: $(X_0,\\dots,X_{k_{max}},Y_1,\\dots,Y_{k_{max}})$ est un vecteur aléatoire gaussien. (Notation: $Z_{k':k}=(Z_{k'},Z_{k'+1},\\dots ,Z_{k})$, $k'\\leq k$).\n",
    "\n",
    "**Filtrage:** On veut estimer l'état caché à l'aide des observations. À l'instant $k$, on dispose des observations $Y_{1:k}$ et on veut estimer $X_k$. \n"
   ]
  },
  {
   "cell_type": "markdown",
   "metadata": {
    "slideshow": {
     "slide_type": "slide"
    }
   },
   "source": [
    "La loi de $X_k$ sachant les observations $Y_{1:k}$ est gaussienne de moyenne $\\hat X_k$ et de covariance $R_k$ donné par:\n",
    "> **initialisation**\n",
    ">   - $\\hat X_0 \\leftarrow \\bar{X}_0$ \n",
    ">   - $R_0 \\leftarrow Q_0$ \n",
    ">\n",
    "> **itérations** $k=1,2,3\\dots$\n",
    ">   - **prédiction** (calcul de la loi de $X_k|Y_{0:k-1}$)\n",
    ">        * $\\hat  X_{k^-} \\leftarrow A\\,\\hat  X_{k-1} $\n",
    ">        * $R_{k^-} \\leftarrow  A\\,R_{k-1}\\,A^* + B\\,Q^W\\,B^*$\n",
    ">   - **correction** (calcul de la loi de $X_k|Y_{0:k}$)\n",
    ">        * $K_k \\leftarrow R_{k^-}\\,H^*\\;[ H\\,R_{k^-}\\,H^*+Q^ V ]^{-1}$  gain\n",
    ">        * $\\hat X_k \\leftarrow \\hat X_{k^-} + K_k\\;[ { Y_k}-H\\,\\hat  X_{k^-}]$\n",
    ">        * $R_k \\leftarrow [ I-K_k\\,H ]\\;R_{k^-}$\n",
    "\n",
    "\n",
    "\n"
   ]
  },
  {
   "cell_type": "code",
   "execution_count": 18,
   "metadata": {
    "slideshow": {
     "slide_type": "slide"
    }
   },
   "outputs": [
    {
     "data": {
      "image/png": "[encoded data removed]",
      "text/plain": [
       "<matplotlib.figure.Figure at 0x10e9c7550>"
      ]
     },
     "metadata": {},
     "output_type": "display_data"
    }
   ],
   "source": [
    "import numpy as np\n",
    "import matplotlib.pyplot as plt\n",
    "\n",
    "kmax = 300\n",
    "\n",
    "EX0, VX0 = 10, 5\n",
    "A, B, QW = 0.9, 1, 0.1\n",
    "H, QV = 1, 0.2\n",
    "sQW = np.sqrt(QW)\n",
    "sQV = np.sqrt(QV)\n",
    "sVX0 = np.sqrt(VX0)\n",
    "\n",
    "def sys_lin_esp_etat(EX0, sVX0, A, B, H, sQW, sQV):\n",
    "    W = sQW*np.random.randn(kmax)\n",
    "    V = sQV*np.random.randn(kmax)\n",
    "    X = np.ones(kmax+1)\n",
    "    Y = np.ones(kmax+1)\n",
    "    X[0] = EX0+sVX0*np.random.randn()\n",
    "    Y[0] = 0 # on s en moque\n",
    "    for k in range(kmax):\n",
    "        X[k+1] = A*X[k]+B*W[k]\n",
    "        Y[k+1] = H*X[k+1]+V[k]\n",
    "    return X,Y\n",
    "\n",
    "def kalman(EX0, sVX0, A, B, H, sQW, sQV, Y):\n",
    "    hatX = np.ones(kmax+1)\n",
    "    R = np.ones(kmax+1)\n",
    "    hatX[0] = EX0\n",
    "    R[0] = sVX0*sVX0\n",
    "    for k in range(kmax):\n",
    "        # prediction\n",
    "        predX = A*hatX[k]\n",
    "        predR = A*A*R[k]+B*B*sQW*sQW\n",
    "        # correction\n",
    "        gain = predR * H / (H*predR*H+sQV*sQV)\n",
    "        hatX[k+1] = predX + gain * (Y[k+1]-H*predX)\n",
    "        R[k+1] = (1-gain*H)*predR\n",
    "    return hatX, R\n",
    "\n",
    "X,Y = sys_lin_esp_etat(EX0, sVX0, A, B, H, sQW, sQV)\n",
    "espX, varX = sys_lin_loi(EX0, sVX0, A, B, sQW)\n",
    "hatX, R = kalman(EX0, sVX0, A, B, H, sQW, sQV, Y)\n",
    "\n",
    "plt.fill_between(range(kmax+1),espX+2*np.sqrt(varX),\n",
    "                 espX-2*np.sqrt(varX), \n",
    "                 color = 'g', alpha=0.12,\n",
    "                 label=r'$\\bar X_k\\pm 2\\,\\sqrt{Q^X_k}$ (a priori)')\n",
    "plt.fill_between(range(kmax+1),hatX+2*np.sqrt(R),\n",
    "                 hatX-2*np.sqrt(R), \n",
    "                 color = 'r', alpha=0.12,\n",
    "                 label=r'$\\hat X_k\\pm 2\\,\\sqrt{R_k}$ (a posteriori)')\n",
    "plt.plot(X,label=r'$X_k$')\n",
    "plt.plot(espX,color='g',label=r'$\\bar X_k$')\n",
    "plt.plot(hatX,color='r',alpha=0.5,label=r'$\\hat X_k$')\n",
    "\n",
    "plt.legend()\n",
    "plt.show()"
   ]
  },
  {
   "cell_type": "markdown",
   "metadata": {
    "slideshow": {
     "slide_type": "slide"
    }
   },
   "source": [
    "## 1.4 Filtre de Kalman étendu"
   ]
  },
  {
   "cell_type": "markdown",
   "metadata": {},
   "source": [
    "### 1.4.1 Filtrage non linéaire en temps dicsret"
   ]
  },
  {
   "cell_type": "markdown",
   "metadata": {},
   "source": [
    "\\begin{align*}\n",
    "\\tag{équation d'état}\n",
    "   X_{k+1} &= f(X_{k}) + \\sigma\\,W_k\\,\\ 0\\leq k<k_{max}\n",
    "   \\\\\n",
    "\\tag{équation d'observation}\n",
    "   Y_{k} &= h(X_{k}) + V_k   \\,\\ 0< k\\leq k_{max}\n",
    "\\end{align*}\n",
    "\n",
    "- $X_k\\to\\mathbb{R}^n$, $Y_k\\to\\mathbb{R}^d$\n",
    "- bruit d'état: $W_k\\to\\mathbb{R}^m$, $W_k\\sim N(0,Q_W)$\n",
    "- bruit de mesure: $V_k\\to\\mathbb{R}^d$, $V_k\\sim N(0,Q_V)$, $Q_V>0$\n",
    "\n",
    "**Filtrage:** On veut estimer l'état caché à l'aide des observations. À l'instant $k$, on dispose des observations $Y_{1:k}$ et on veut estimer $X_k$. \n",
    "\n",
    "En général: pas de solution en dimension finie\n"
   ]
  },
  {
   "cell_type": "markdown",
   "metadata": {
    "slideshow": {
     "slide_type": "slide"
    }
   },
   "source": [
    "### 1.4.2 Filtre de Kalman étendu en temps discret"
   ]
  },
  {
   "cell_type": "markdown",
   "metadata": {},
   "source": [
    "La loi de $X_k$ sachant les observations $Y_{1:k}$ est gaussienne de moyenne $\\hat X_k$ et de covariance $R_k$ donné par:\n",
    "> **initialisation**\n",
    ">   - $\\hat X_0 \\leftarrow \\bar{X}_0$ \n",
    ">   - $R_0 \\leftarrow Q_0$ \n",
    ">\n",
    "> **itérations** $k=1,2,3\\dots$\n",
    ">   - **prédiction** (calcul de la loi de $X_k|Y_{0:k-1}$)\n",
    ">        * $F_{k-1} \\leftarrow \\nabla f(\\hat  X_{k-1})$\n",
    ">        * $\\hat  X_{k^-} \\leftarrow f(\\hat  X_{k-1}) $\n",
    ">        * $R_{k^-} \\leftarrow  F_{k-1}\\,R_{k-1}\\,F_{k-1}^* + \\sigma\\,Q^W\\,\\sigma^*$\n",
    ">   - **correction** (calcul de la loi de $X_k|Y_{0:k}$)\n",
    ">        * $H_k \\leftarrow \\nabla h(\\hat  X_{k^-}) $\n",
    ">        * $K_k \\leftarrow R_{k^-}\\,H_k^*\\;[ H_k\\,R_{k^-}\\,H_k^*+Q^ V ]^{-1}$  gain\n",
    ">        * $\\hat X_k \\leftarrow \\hat X_{k^-} + K_k\\;[ { Y_k}-h(\\hat  X_{k^-})]$\n",
    ">        * $R_k \\leftarrow [ I-K_k\\,H_h ]\\;R_{k^-}$"
   ]
  },
  {
   "cell_type": "markdown",
   "metadata": {
    "slideshow": {
     "slide_type": "slide"
    }
   },
   "source": [
    "## 1.5 Cas linéaire continu/discret"
   ]
  },
  {
   "cell_type": "markdown",
   "metadata": {},
   "source": [
    "\\begin{align*}\n",
    "\\tag{équation d'état}\n",
    "   \\dot X(t) &= f(X(t)) + \\sigma\\,\\xi(t)\n",
    "   \\\\\n",
    "\\tag{équation d'observation}\n",
    "   Y_{k} &= H\\,X(t_k) + V_k   \n",
    "\\end{align*}\n",
    "\n",
    "- $0=t_1<t_1<t_2\\cdots$\n",
    "- $X(t)\\to\\mathbb{R}^n$, $Y_k\\to\\mathbb{R}^d$\n",
    "- bruit d'état: $\\xi(t)$ bruit blanc gaussien centré de covariance $Q_\\xi$\n",
    "- bruit de mesure: $V_k\\to\\mathbb{R}^d$, $V_k\\sim N(0,Q_V)$, $Q_V>0$\n",
    "- $A\\in\\mathbb{R}^{n\\times n}$, $B\\in\\mathbb{R}^{m\\times n}$, $H\\in\\mathbb{R}^{n\\times d}$"
   ]
  },
  {
   "cell_type": "markdown",
   "metadata": {
    "slideshow": {
     "slide_type": "slide"
    }
   },
   "source": [
    "### 1.5.1 Equation d'état"
   ]
  },
  {
   "cell_type": "markdown",
   "metadata": {},
   "source": [
    "Si $t_k=k\\,\\delta$ alors:\n",
    "\n",
    "$$\n",
    "  X(t_{k+1}) = X(t_k) + \\delta \\,f(X(t_k)) + \\sigma \\,W_k\n",
    "$$\n",
    "\n",
    "où\n",
    "\n",
    "$$\n",
    "  W_k =  \\int_{t_k}^{t_{k+1}} \\xi_s\\,ds\n",
    "$$\n",
    "\n",
    "est un bruit blanc gaussien discret de covariance $\\delta\\,Q_\\xi$"
   ]
  },
  {
   "cell_type": "markdown",
   "metadata": {
    "slideshow": {
     "slide_type": "slide"
    }
   },
   "source": [
    "### 1.5.2 Filtre de Kalman étendu continu/discret"
   ]
  },
  {
   "cell_type": "markdown",
   "metadata": {},
   "source": [
    "\n",
    "> **initialisation**\n",
    ">   - $\\hat X(0) \\leftarrow \\bar{X}_0$ \n",
    ">   - $R(0) \\leftarrow Q_0$ \n",
    ">\n",
    "> **itérations** $k=1,2,3\\dots$\n",
    ">   - **prédiction**  calcul de la loi de $X(t)|Y_{0:k-1}$ pour $t_{k-1}<t<t_k$:\n",
    "\n",
    ">\\begin{align*}\n",
    " \\frac{d}{dt} \\hat  X^-(t)  &= f(\\hat  X^-(t)) & \\hat  X^-(t_k)=\\hat X(t_k)\n",
    "\\\\\n",
    " \\frac{d}{dt}  R^-(t)&=  \\nabla f(\\hat  X^-(t))\\,R^-(t)+R^-(t)\\,\\nabla f(\\hat  X^-(t))^* \n",
    " + \\sigma\\,Q_\\xi\\,\\sigma^*\n",
    "  &  R^-(t_k)=R(t_k)\n",
    "\\end{align*}\n",
    "\n",
    "\n",
    ">   - **correction** (calcul de la loi de $X(t_k)|Y_{0:k}$)\n",
    "\n",
    ">\\begin{align*}\n",
    "  H_k &\\leftarrow \\nabla h(\\hat  X^-(t_k)) \\\\\n",
    "  K_k &\\leftarrow R^-(t_k)\\,H_k^*\\;[ H_k\\,R^-(t_k)\\,H_k^*+Q^ V ]^{-1}\\\\\n",
    "  \\hat X(t_k) &\\leftarrow \\hat X^-(t_k)  + K_k\\;[ Y_k-h(\\hat  X^-(t_k))] \\\\\n",
    "  R(t_k) &\\leftarrow [ I-K_k\\,H_h ]\\;R^-(t_k)\n",
    "\\end{align*}\n",
    "\n"
   ]
  },
  {
   "cell_type": "markdown",
   "metadata": {
    "slideshow": {
     "slide_type": "slide"
    }
   },
   "source": [
    "## 1.6 Application au chemostat"
   ]
  },
  {
   "cell_type": "markdown",
   "metadata": {},
   "source": [
    "\\begin{align*}\n",
    "\\dot X(t) &= f(X(t)) + \\sigma \\,\\xi(t)\\\\\n",
    "Y_k  &= h(X(t_k)) + V_k\n",
    "\\end{align*}\n",
    "\n",
    "\n",
    "\n",
    "avec $X=\\begin{pmatrix} B\\\\ X\\end{pmatrix}=\\begin{pmatrix} x_1\\\\ x_2\\end{pmatrix}$ et\n",
    "\n",
    "$$\n",
    "  f(X) = f(B,S)\n",
    "  =\n",
    "  \\begin{pmatrix} \n",
    "    (\\mu(S)-D)\\,B \\\\ \n",
    "    D\\,(S_{in}-S)-\\kappa\\,\\mu(S)\\,B\n",
    "  \\end{pmatrix}\n",
    "  =\n",
    "  \\begin{pmatrix} \n",
    "    (\\mu(x_2)-D)\\,x_1 \\\\ \n",
    "    D\\,(S_{in}-x_2)-\\kappa\\,\\mu(x_2)\\,x_1\n",
    "  \\end{pmatrix}\n",
    "$$\n",
    "\n",
    "$$\n",
    "  \\nabla f(X) \n",
    "  =\n",
    "  \\begin{pmatrix} \n",
    "    \\mu(S)-D  &  \\mu'(S)\\,B \\\\ \n",
    "    -\\kappa\\,\\mu(S) & D-\\kappa\\,\\mu'(S)\\,B  \n",
    "  \\end{pmatrix}\n",
    "  =\n",
    "  \\begin{pmatrix} \n",
    "    \\mu(x_2)-D  &  \\mu'(x_2)\\,x_1 \\\\ \n",
    "    -\\kappa\\,\\mu(x_2) & D-\\kappa\\,\\mu'(x_2)\\,x_1  \n",
    "  \\end{pmatrix}\n",
    "$$\n",
    "\n",
    "$$\n",
    "   h(X) = h(B,S) = \\mu(S)\\,B=\\mu(x_2)\\,x_1\n",
    "$$\n",
    "\n",
    "$$\n",
    "   \\nabla h(X) = \\nabla h(B,S) \n",
    "   = \n",
    "   \\begin{pmatrix}  \\mu(S) &  \\mu'(S)\\,B  \\end{pmatrix}\n",
    "   = \n",
    "   \\begin{pmatrix}  \\mu(x_2) &  \\mu'(x_2)\\,x_1  \\end{pmatrix}\n",
    "$$\n",
    "\n",
    "et\n",
    "\n",
    "$$\n",
    "   \\mu(S) =   \\mu_{max}\\,\\frac{S}{K+S} \n",
    "$$\n",
    "\n",
    "$$\n",
    "   \\mu'(S) =   \\mu_{max}\\,\\frac{(K+S)\\,S'-(K+S)'\\,S}{(K+S)^2} =   \\mu_{max}\\,\\frac{K}{(K+S)^2}\n",
    "$$"
   ]
  },
  {
   "cell_type": "code",
   "execution_count": 146,
   "metadata": {
    "slideshow": {
     "slide_type": "slide"
    }
   },
   "outputs": [
    {
     "data": {
      "text/plain": [
       "array([[1, 0],\n",
       "       [0, 1]])"
      ]
     },
     "execution_count": 146,
     "metadata": {},
     "output_type": "execute_result"
    }
   ],
   "source": [
    "x1, x2, p11, p12, p21, p22 = 1,2,3,0.1,0.1,5\n",
    "vecteur = np.array([x1, x2, p11, p12, p21, p22])\n",
    "state = vecteur[2:7].reshape((2, 2))\n",
    "cov = vecteur[0:2].reshape((2, 1))\n",
    "type(cov)\n",
    "a = np.array([1.8 , 0.15])\n",
    "b = np.array([1.8 , 0.15]).reshape((2, 1))"
   ]
  },
  {
   "cell_type": "code",
   "execution_count": 171,
   "metadata": {
    "slideshow": {
     "slide_type": "slide"
    }
   },
   "outputs": [
    {
     "data": {
      "image/png": "[encoded data removed]",
      "text/plain": [
       "<matplotlib.figure.Figure at 0x10eddc198>"
      ]
     },
     "metadata": {},
     "output_type": "display_data"
    }
   ],
   "source": [
    "import numpy as np\n",
    "import matplotlib.pyplot as plt\n",
    "from scipy.integrate import odeint\n",
    "\n",
    "\n",
    "smin, smax = 0, 3 \n",
    "bmin, bmax = 0, 1.5\n",
    "ka = 2;         # stoichiometric coefficient\n",
    "s_in = 2.4;     # input substrate concentration\n",
    "D = 0.1;        # dillution rate\n",
    "mu_max = 5;     # maximim of the specific rate (Monod case)\n",
    "k_s      = 10;  # half saturation coeficient   (Monod case)\n",
    "T = 300\n",
    "\n",
    "Sigma = np.array([1, 0, 0, 1]).reshape((2, 2))\n",
    "Qxi = np.array([0.0001, 0, 0, 0.0001]).reshape((2, 2))\n",
    "\n",
    "Qv = 0.0001\n",
    "\n",
    "EX0 = np.array([1.8 , 0.15]).reshape((2, 1))\n",
    "VX0 = np.array([1, 0, 0, 1]).reshape((2, 2))\n",
    "\n",
    "def f(x, t):\n",
    "    \"second memnbre de l'EDO chemostat\"\n",
    "    mu = mu_max*x[1]/(k_s+x[1])\n",
    "    f1 = (mu-D)*x[0]\n",
    "    f2 = D*(s_in-x[1])-ka*mu*x[0]\n",
    "    return f1,f2\n",
    "\n",
    "def Df(x):\n",
    "    \"differentielle second memnbre de l'EDO chemostat\"\n",
    "    mu = mu_max*x[1]/(k_s+x[1])\n",
    "    D1f1 = mu-D\n",
    "    D2f1 = mup*x[0]\n",
    "    D1f2 = -ka*mu\n",
    "    D3f2 = D-ka*mup*x[0]\n",
    "    return D1f1,D2f1,D1f2,D3f2\n",
    "\n",
    "def h(x):\n",
    "    \"fonction observation\"\n",
    "    mu = mu_max*x[1]/(k_s+x[1])\n",
    "    h = mu*x[0]\n",
    "    return h\n",
    "\n",
    "def Dh(x):\n",
    "    \"differentielle fonction observation\"\n",
    "    mu = mu_max*x[1]/(k_s+x[1])\n",
    "    mup = mu_max*1/(k_s+x[1])**2\n",
    "    h = mu*x[0]\n",
    "    return mu,mup*x[1]\n",
    "\n",
    "\n",
    "def f_etendu(x_etendu, t):\n",
    "    '''second membre étendu : \n",
    "    EDO chemostat couplé à l'EDO de Riccati pour FKE'''\n",
    "    x = x_etendu[0:2].reshape((2,1))\n",
    "    mu = mu_max*x[1]/(k_s+x[1])\n",
    "    mup = mu_max*1/(k_s+x[1])**2\n",
    "    f1 =(mu-D)*x[0]\n",
    "    f2 = D*(s_in-x[1])-ka*mu*x[0]\n",
    "    cov = x_etendu[2:7].reshape((2, 2))\n",
    "    DF = np.array([mu-D, -ka*mu, mup*x[0], D-ka*mup*x[0]]).reshape((2, 2))\n",
    "    Fcov = DF*cov+cov*DF.transpose()+Sigma*Qxi*Sigma.transpose()\n",
    "    return [f1, f2, Fcov[0,0], Fcov[1,0], Fcov[0,1], Fcov[1,1]]\n",
    "\n",
    "\n",
    "# SIMULATION\n",
    "\n",
    "t_obs = np.linspace(0, T, 1201)  # pas d'observation en t_obs[0]=0 \n",
    "\n",
    "X0 = EX0[0]  # biomasse initiale\n",
    "S0 = EX0[1]  # subtrat initiale\n",
    "\n",
    "X = np.ones_like(t_obs)\n",
    "S = np.ones_like(t_obs)\n",
    "Y = np.ones_like(t_obs)\n",
    "X[0], S[0] = X0, S0\n",
    "Y[0] = 0 # dummy value\n",
    "i = 0\n",
    "delta = t_obs[1]\n",
    "i_max = len(t_obs)\n",
    "for i in range(i_max-1):\n",
    "    fX, fS = f([X[i],S[i]], 0)\n",
    "    X[i+1] = X[i] + delta * fX + np.sqrt(Qxi[0,0]*delta)*np.random.randn()\n",
    "    S[i+1] = S[i] + delta * fS + np.sqrt(Qxi[1,1]*delta)*np.random.randn()\n",
    "    Y[i+1] = h([X[i+1],S[i+1]])  + np.sqrt(Qv)*np.random.randn()\n",
    "\n",
    "plt.plot(t_obs,X,label='biomass')    \n",
    "plt.plot(t_obs,S,label='substrat')    \n",
    "plt.plot(t_obs,Y,label='observation')    \n",
    "plt.xlabel(r'temps $h$')\n",
    "plt.legend()\n",
    "plt.show()\n"
   ]
  },
  {
   "cell_type": "code",
   "execution_count": 179,
   "metadata": {
    "slideshow": {
     "slide_type": "slide"
    }
   },
   "outputs": [
    {
     "data": {
      "text/plain": [
       "(6,)"
      ]
     },
     "execution_count": 179,
     "metadata": {},
     "output_type": "execute_result"
    }
   ],
   "source": [
    "# FILTRAGE\n",
    "R = np.ones((4,len(t_obs)))\n",
    "hatX = np.ones((2,len(t_obs)))\n",
    "\n",
    "hatX[:,0] = X0,S0\n",
    "R[:,0] = 0,0,0,0\n",
    "\n",
    "val_ini = np.concatenate([hatX[:,0] , R[:,0]])\n",
    "\n",
    "\n",
    "np.shape(val_ini)\n"
   ]
  },
  {
   "cell_type": "code",
   "execution_count": 217,
   "metadata": {},
   "outputs": [
    {
     "data": {
      "text/plain": [
       "(2, 2)"
      ]
     },
     "execution_count": 217,
     "metadata": {},
     "output_type": "execute_result"
    }
   ],
   "source": [
    "\n",
    "\n",
    "for i in range(i_max-1):\n",
    "    # prédiction\n",
    "    val_ini = np.concatenate([hatX[:,0] , R[:,0]])\n",
    "    tt,val_pred = odeint( f_etendu, val_ini, [t_obs[i],t_obs[i+1]])\n",
    "    hatXpred = np.array(val_pred[0:2]).reshape((2, 1))\n",
    "    Rpred = val_pred[2:6].reshape((2, 2))\n",
    "    \n",
    "  \n",
    "    # correction\n",
    "    H = np.array(Dh(hatXpred))\n",
    "    gain = Rpred*H.transpose()/(H*Rpred*H.transpose()+Qv)\n",
    "    hatXcor = hatXpred  + gain*(Y[i+1] - h(hatXpred))\n",
    "    Rcor  = (np.identity(2)-gain*H)*Rpred\n",
    "\n",
    "np.shape(np.array(H)*np.array(Rpred))                                 \n",
    "       "
   ]
  },
  {
   "cell_type": "code",
   "execution_count": null,
   "metadata": {
    "collapsed": true
   },
   "outputs": [],
   "source": [
    "    hatX[:,i+1] = hatXcor\n",
    "    R[:,i+1] = Rcor\n",
    "\n"
   ]
  }
 ],
 "metadata": {
  "anaconda-cloud": {},
  "celltoolbar": "Slideshow",
  "kernelspec": {
   "display_name": "Python 3",
   "language": "python",
   "name": "python3"
  },
  "language_info": {
   "codemirror_mode": {
    "name": "ipython",
    "version": 3
   },
   "file_extension": ".py",
   "mimetype": "text/x-python",
   "name": "python",
   "nbconvert_exporter": "python",
   "pygments_lexer": "ipython3",
   "version": "3.6.3"
  },
  "latex_envs": {
   "LaTeX_envs_menu_present": true,
   "autocomplete": true,
   "bibliofile": "biblio.bib",
   "cite_by": "apalike",
   "current_citInitial": 1,
   "eqLabelWithNumbers": true,
   "eqNumInitial": 1,
   "hotkeys": {
    "equation": "Ctrl-E",
    "itemize": "Ctrl-I"
   },
   "labels_anchors": false,
   "latex_user_defs": false,
   "report_style_numbering": false,
   "user_envs_cfg": false
  },
  "widgets": {
   "state": {
    "26b4d98b24754bf29c4bdcc57535143b": {
     "views": [
      {
       "cell_index": 13
      }
     ]
    },
    "8f7bcf23722d43c7b931b60173a4cc28": {
     "views": [
      {
       "cell_index": 7
      }
     ]
    }
   },
   "version": "1.2.0"
  }
 },
 "nbformat": 4,
 "nbformat_minor": 1
}
