{
 "cells": [
  {
   "cell_type": "markdown",
   "metadata": {},
   "source": [
    "# Le chemostat"
   ]
  },
  {
   "cell_type": "markdown",
   "metadata": {},
   "source": [
    "$\\newcommand{eqdef}{:=} \\newcommand{\\Ks}{K_{\\textrm{s}}}\\newcommand{\\Ky}{K_{\\textrm{y}}}\\newcommand{\\mumax}{\\mu_{\\textrm{max}}}\\newcommand{\\ssin}{s^{\\textrm{in}}}\\newcommand{\\Qin}{Q^{\\textrm{in}}}\\newcommand{\\Qout}{Q^{\\textrm{out}}}$\n",
    "\n",
    "\n",
    "Un bioréacteur est une enceinte confinée dans laquelle se réalisent des interactions biochimiques. Un exemple de bioréacteur est donné par le chemostat: il s'agit d'un dispositif dans lequel des micro-organismes (bactéries, phytoplancton, etc.) sont mis en présence d'une ressource limitante (substrat) et d'autres éléments non limitants. Il est alors possible de quantifier la réponse de la population en culture en fonction des variations de la ressource limitante. Cette culture se fait en \\emph{continu}: le volume $V$ du chemostat est maintenu constant à l'aide de pompes. Le substrat est injecté dans le chemostat avec un débit volumique $Q$ (en litres/jour), à une concentration $\\ssin$. On définit le \\emph{taux de dilution}:\n",
    "\\[\n",
    "  D \\eqdef \\frac QV\n",
    "\\]\n",
    "(exprimé en jour$^{-1}$). L'inverse $D^{-1}$ du taux de dilution est appelée le \\emph{temps de résidence} des cellules dans le chemostat. À l'intérieur du chemostat, les bactéries consomment le substrat et croissent. Le mélange substrat/bactéries est pompé en sortie du chemostat. On suppose que le chemostat est mélangé de telle sorte que les répartitions de substrat et de biomasse sont homogènes dans l'espace. \n",
    "\n",
    "\n",
    "\n",
    "\n",
    "\n",
    "Le chemostat  est un dispositif dans lequel des bactéries sont mis en présence d'un substrat de façon continue. Les nutriments sont injectés dans le dispositif avec un débit volumique $Q$ (exprimé par exemple en litres/jour), à une\n",
    "concentration $\\ssin$. Dans l'enceinte du chemostat de volume $V$, les bactéries consomment le substrat: la création d'une unité de biomasse nécessite $\\Ky$ unités de substrat ($\\Ky$ est un coefficient de rendement, *yield* en anglais), cette ``réaction'' est notée $\\displaystyle S\\to^{\\Ky} B$. La biomasse des bactéries croît à un taux $\\mu(x_{2})$ dépendant de la concentration $x_{2}$ en substrat. Afin de garder le volume $V$ contant, le contenu du chemostat contenant une concentration $b$ de bactéries et $s$ de substrat est pompé en sortie.\n",
    "\n",
    "\n",
    "\n",
    "\\bigskip\n",
    "\n",
    "On note $x_{1}(t)$ et $x_{2}(t)$ les concentrations respectives en biomasse et en substrat à l'instant $t$ au sein du chemostat; la dynamique est la suivante:\n",
    "\n",
    "<img src=\"./images/chemostat.png\" alt=\"chemostat\" style=\"width: 550px;\"/>\n",
    "\n",
    "\n",
    "\\begin{enumerate}\n",
    "\\item\n",
    "La biomasse croît selon un taux de croissance spécifique $\\mu(x_{2})$ des bactéries correspondant à une concentration  $s$ de substrat; elle est extraite du chemostat à un taux $D$. L'équation correspondante est donc $\\dot x_{1}(t) = \\mu(x_2(t))\\,x_{1}(t)-D\\,x_{1}(t)$.\n",
    "\n",
    "\\item\n",
    "Le substrat est injecté dans le chemostat à la vitesse $D\\,\\ssin$; il est extrait du chemostat à un taux $D$; enfin si la création d'une unité de biomasse nécessite $\\Ky$ unités de substrat, celui-ci est consommé à la vitesse $\\mu(x_2(t))\\,x_{1}(t)$. L'équation correspondante est donc $\\dot x_2(t)=-\\Ky\\,\\mu(x_2(t))\\,x_{1}(t)+D\\,(\\ssin-x_2(t))$.\n",
    "\n",
    "\\end{enumerate}\n",
    "On obtient le système couplé d'EDO:\n",
    "\\begin{align}\n",
    "\\label{eq.chemostat.1}  \n",
    "\\dot x_1(t) \n",
    "&= \\mu(x_2(t))\\,x_1(t)-D\\,x_1(t)\\,,\n",
    "\\\\\n",
    "\\label{eq.chemostat.2}  \n",
    "\\dot x_2(t) \n",
    "&= -\\Ky\\,\\mu(x_2(t))\\,x_1(t)+D\\,(\\ssin-x_2(t))\\,.\n",
    "\\end{align}\n",
    "La dynamique de ce système dépend de la capacité des cellules à se diviser, c'est-à-dire à augmenter la biomasse de la population afin de compenser les pertes par évacuation. Cette capacité est le taux de croissance $\\mu(x_2(t))$.\n",
    "Il existe différentes possibilités pour la fonction de croissance (cf.  Figure \\ref{fig.fonction_croissance}):\n",
    "\\begin{enumerate}\n",
    "\\item\n",
    "La fonction de croissance de Monod:\n",
    "%, souvent appelée à tors fonction de croissance de Michaelis-Menten \\cite[\\S 1.4.1]{jlobry1991a}:\n",
    "\\begin{align}\n",
    "\\label{eq.croissance.monod}\n",
    "  \\mu(x_{2})\n",
    "  =\n",
    "  \\mumax\\,\\frac{x_{2}}{\\Ks+x_{2}}\n",
    "\\end{align}\n",
    "où $\\Ks$ est appelée constante de demi-saturation, i.e. $\\mu(\\Ks)=\\frac12 \\, \\mumax$. \n",
    "\\item\n",
    "La fonction de croissance d'Haldane:\n",
    "\\begin{align}\n",
    "\\label{eq.croissance.inhibition}\n",
    "  \\mu(x_{2})\n",
    "  =\n",
    "  \\mumax\\,\\frac{x_{2}}{\\Ks+x_{2}+x_{2}^2/\\alpha}\n",
    "\\end{align}\n",
    "\\end{enumerate}\n",
    "Dans le premier cas il y a un phénomène de saturation, dans le second un phénomène d'inhibition. Nous nous plaçons dans le premier cas."
   ]
  },
  {
   "cell_type": "code",
   "execution_count": null,
   "metadata": {
    "collapsed": true
   },
   "outputs": [],
   "source": []
  }
 ],
 "metadata": {
  "anaconda-cloud": {},
  "kernelspec": {
   "display_name": "Python [default]",
   "language": "python",
   "name": "python3"
  },
  "language_info": {
   "codemirror_mode": {
    "name": "ipython",
    "version": 3
   },
   "file_extension": ".py",
   "mimetype": "text/x-python",
   "name": "python",
   "nbconvert_exporter": "python",
   "pygments_lexer": "ipython3",
   "version": "3.5.2"
  },
  "latex_envs": {
   "LaTeX_envs_menu_present": true,
   "bibliofile": "biblio.bib",
   "cite_by": "apalike",
   "current_citInitial": 1,
   "eqLabelWithNumbers": true,
   "eqNumInitial": 1,
   "labels_anchors": false,
   "latex_user_defs": false,
   "report_style_numbering": false,
   "user_envs_cfg": false
  }
 },
 "nbformat": 4,
 "nbformat_minor": 1
}
