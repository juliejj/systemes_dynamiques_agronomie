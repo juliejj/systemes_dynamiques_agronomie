{
 "cells": [
  {
   "cell_type": "markdown",
   "metadata": {
    "slideshow": {
     "slide_type": "slide"
    }
   },
   "source": [
    "# Table of Contents\n",
    "* [1. Le chemostat](#1.-Le-chemostat)\n",
    "\t* [1.1 Définition](#1.1-Définition)\n",
    "\t\t* [1.1.1 Exemples de $\\mu$](#1.1.1-Exemples-de-$\\mu$)\n",
    "\t* [1.2 Modélisation](#1.2-Modélisation)\n",
    "\t\t* [1.2.1 Mode batch](#1.2.1-Mode-batch)\n",
    "\t\t* [1.2.2 Culture continue](#1.2.2-Culture-continue)\n",
    "\t* [1.3 Comportement asymptotique](#1.3-Comportement-asymptotique)\n",
    "\t\t* [1.3.1 Points d'équilibre](#1.3.1-Points-d'équilibre)\n",
    "\t\t* [1.3.2 Stabilité](#1.3.2-Stabilité)\n",
    "\t\t* [1.3.3 Monod vs Haldane](#1.3.3-Monod-vs-Haldane)\n"
   ]
  },
  {
   "cell_type": "markdown",
   "metadata": {
    "slideshow": {
     "slide_type": "slide"
    }
   },
   "source": [
    "# 1. Le chemostat"
   ]
  },
  {
   "cell_type": "markdown",
   "metadata": {},
   "source": [
    "- les articles pionniers: [[Monod 1950](#cite-monod1950a)] et [[Novick 1950](#cite-novick1950a)]\n",
    "- un classique: [[Smith et Waltman 1995](#cite-smith1995a)]\n",
    "- une référence plus récente : [[Ching Shan Chou et Friedman 2016](#cite-chingshanchou2016a)]"
   ]
  },
  {
   "cell_type": "markdown",
   "metadata": {
    "slideshow": {
     "slide_type": "slide"
    }
   },
   "source": [
    "## 1.1 Définition"
   ]
  },
  {
   "cell_type": "markdown",
   "metadata": {},
   "source": [
    "Le chemostat ou bioréacteur est un procédé de culture de microorganismes en continu. Le bioréacteur est continument alimenté  en nutriments (substrat) qui est consommé par les microorganismes qui se multiplient. Les microorganismes et le substrat sont continument soutirés du réacteur, contrôlant ainsi le volume au sein du réacteur.\n",
    "\n",
    "\n",
    "<img src=\"./images/chemostat.png\" alt=\"chemostat\" style=\"width: 550px;\"/>\n",
    "\n",
    "On définit:\n",
    "\n",
    "- $V(t)$ le volume du réacteur (en litre $l$)\n",
    "- $D_{in}(t)$ et $D_{out}(t)$ les débits en entrée et sortie ($l/h$)\n",
    "- la concentration en substrat en entrée $S_{in}(t)$ ($g/l$)\n",
    "- les concentrations en substrat $S(t)$ et en biomasse $X(t)$ au sein du réacteur ($g/l$)\n",
    "\n",
    "Au sein du réacteur unne réaction transforme le subtrat en biomasse:\n",
    "$$\n",
    "   k\\,S  \\xrightarrow[]{r} X\n",
    "$$\n",
    "où $r=\\mu\\,X$ est le taux de la réaction (exprimé en $1/h$), $k$ est une constante stoechiométrique (adimensionnel)"
   ]
  },
  {
   "cell_type": "markdown",
   "metadata": {
    "slideshow": {
     "slide_type": "slide"
    }
   },
   "source": [
    "### 1.1.1 Exemples de $\\mu$"
   ]
  },
  {
   "cell_type": "markdown",
   "metadata": {},
   "source": [
    "$\\mu=\\mu(S)$ dépend de la concentration en substrat, 3 cas:\n",
    "\n",
    "- linéaire: $\\mu(S)=\\rho\\,S$\n",
    "- Monod (saturation): $\\mu(S)=\\mu_{max}\\,\\frac{S}{K+S}$\n",
    "- Haldane (inhibition): $\\mu(S)=\\mu^* \\,\\frac{S}{K+S+S^2/K_i}$"
   ]
  },
  {
   "cell_type": "code",
   "execution_count": 22,
   "metadata": {
    "collapsed": false,
    "slideshow": {
     "slide_type": "slide"
    }
   },
   "outputs": [
    {
     "data": {
      "image/png": "[encoded data removed]",
      "text/plain": [
       "<matplotlib.figure.Figure at 0x10e5baa20>"
      ]
     },
     "metadata": {},
     "output_type": "display_data"
    }
   ],
   "source": [
    "import numpy as np\n",
    "import matplotlib.pyplot as plt\n",
    "mumax, K, mustar, Ki = 10, 1, 10, 2\n",
    "s0, s1 = 0, 10\n",
    "les_s = np.linspace(s0,s1,300, endpoint=True)\n",
    "\n",
    "monod = lambda s: mumax*s/(K+s)\n",
    "haldane = lambda s: mustar*s/(K+s+s*s/Ki)\n",
    "\n",
    "plt.plot(les_s, monod(les_s), label='Monod')\n",
    "plt.plot(les_s, mumax*np.ones_like(les_s), linestyle='--')\n",
    "plt.plot(les_s, haldane(les_s), label='Haldane')\n",
    "plt.ylim([0,mumax*1.2])\n",
    "plt.legend()\n",
    "plt.show()"
   ]
  },
  {
   "cell_type": "markdown",
   "metadata": {
    "slideshow": {
     "slide_type": "slide"
    }
   },
   "source": [
    "## 1.2 Modélisation"
   ]
  },
  {
   "cell_type": "markdown",
   "metadata": {},
   "source": [
    "Le bilan des masses entre $t$ te $t+\\delta$ au sein du chemostat (loi de conservation de la masse):\n",
    "\n",
    "\\begin{align*}\n",
    "  [V\\,X](t+\\delta)  -  [V\\,X](t) \n",
    "  &= \\hphantom{D_{in}\\,S_{in}\\,\\delta}-D_{out}\\,X\\,\\delta + \\mu\\,V\\,X \\,\\delta\n",
    "  \\\\\n",
    "  [V\\,S](t+\\delta)  -  [V\\,S](t)\n",
    "  &= D_{in}\\,S_{in}\\,\\delta -D_{out}\\,S\\,\\delta - k\\,\\mu\\,V\\,X \\,\\delta\n",
    "  \\\\\n",
    "  V(t+\\delta) -  V(t) \n",
    "  &= D_{in} \\,\\delta -D_{out}\\,\\delta \n",
    "\\end{align*}\n",
    "\n",
    "on divise par $\\delta$ et on fait $\\delta\\to 0$:\n",
    "\n",
    "\\begin{align*}\n",
    "  d [V\\, X]/dt  \n",
    "  &= \\hphantom{D_{in}\\,S_{in}}-D_{out}\\,X+ \\mu\\,V\\,X\n",
    "  \\\\\n",
    "  d[V\\, S]/dt \n",
    "  &= D_{in}\\,S_{in} -D_{out}\\,S - k\\,\\mu\\,V\\,X\n",
    "  \\\\\n",
    "  dV(t)/dt \n",
    "  &= D_{in} - D_{out} \n",
    "\\end{align*}\n",
    "\n",
    "\n",
    "mais $d [V X]/dt=\\dot V\\,X+V\\,\\dot X$ et $d [V\\, S]/dt=\\dot V\\,S+V\\,\\dot S$\n",
    "\n",
    "\\begin{align*}\n",
    "  \\dot V\\,X+V\\,\\dot X \n",
    "  &= \\hphantom{D_{in}\\,S_{in}}-D_{out}\\,X+ \\mu\\,V\\,X\n",
    "  \\\\\n",
    "  \\dot V\\,S+V\\,\\dot S\n",
    "  &= D_{in}\\,S_{in} -D_{out}\\,S - k\\,\\mu\\,V\\,X\n",
    "  \\\\\n",
    "  \\dot V \n",
    "  &= D_{in} - D_{out} \n",
    "\\end{align*}\n",
    "\n",
    "finalement\n",
    "\n",
    "\\begin{align*}\n",
    "  \\dot X \n",
    "  &= -\\frac{D_{in}}{V}\\,X+ \\mu\\,X\n",
    "  \\\\\n",
    "  \\dot S\n",
    "  &= \\frac{D_{in}}{V}\\,[S_{in}-S] - k\\,\\mu\\,X\n",
    "  \\\\\n",
    "  \\dot V \n",
    "  &= D_{in} - D_{out} \n",
    "\\end{align*}\n",
    "on introduit le taux de dilution $D:=D_{in}/V$ (en $1/l$):\n",
    "\n",
    "\\begin{align*}\n",
    "  \\dot X \n",
    "  &= -D\\,X+ \\mu\\,X\n",
    "  \\\\\n",
    "  \\dot S\n",
    "  &= D\\,[S_{in}-S] - k\\,\\mu\\,X\n",
    "  \\\\\n",
    "  \\dot V \n",
    "  &= D_{in} - D_{out} \n",
    "\\end{align*}"
   ]
  },
  {
   "cell_type": "markdown",
   "metadata": {
    "slideshow": {
     "slide_type": "slide"
    }
   },
   "source": [
    "Trois possibilités:\n",
    "\n",
    "- le mode **batch** où $D_{in}=D_{out}=0$\n",
    "- le mode **fed batch** où $D_{in}>0$ et $D_{out}=0$\n",
    "- le mode de **culture continue** où $D_{in}=D_{out}>0$ donc le volume est constant"
   ]
  },
  {
   "cell_type": "markdown",
   "metadata": {
    "slideshow": {
     "slide_type": "slide"
    }
   },
   "source": [
    "### 1.2.1 Mode batch"
   ]
  },
  {
   "cell_type": "markdown",
   "metadata": {},
   "source": [
    "Supposons $D=0$ et $\\mu = \\rho\\,S$\n",
    "\n",
    "\\begin{align*}\n",
    "  \\dot X \n",
    "  &= \\rho\\,S\\,X\n",
    "  \\\\\n",
    "  \\dot S\n",
    "  &= - k\\,\\rho\\,S\\,X\n",
    "\\end{align*}\n",
    "donc $\\dot S +k\\,\\dot X$ d'où $S +k\\,X$ est une constant, on pose $\\gamma:= S +k\\, X$, on obtient:\n",
    "\n",
    "\\begin{align*}\n",
    "  \\dot X \n",
    "  &= \\rho\\,[\\gamma-k\\,X]\\,X\n",
    "\\end{align*}\n",
    "c'est la courbe logistique $K=\\gamma/k$ est la capacité d'acceuil et $r=\\rho\\,\\gamma$ est la taux de croissance maximal."
   ]
  },
  {
   "cell_type": "markdown",
   "metadata": {
    "slideshow": {
     "slide_type": "slide"
    }
   },
   "source": [
    "### 1.2.2 Culture continue"
   ]
  },
  {
   "cell_type": "markdown",
   "metadata": {},
   "source": [
    "Ici $V$ est constant et on suppose que $\\mu$ dépend de $S$:\n",
    "\\begin{align*}\n",
    "  \\dot X \n",
    "  &= [\\mu(S)-D]\\,X\n",
    "  \\\\\n",
    "  \\dot S\n",
    "  &= D\\,[S_{in}-S] - k\\,\\mu(S)\\,X\n",
    "\\end{align*}\n",
    "\n",
    "où\n",
    "\n",
    "- $1/k$ est un coefficient de rendement\n",
    "- $\\mu(S)$ est le taux de croissance spécifique"
   ]
  },
  {
   "cell_type": "markdown",
   "metadata": {
    "slideshow": {
     "slide_type": "slide"
    }
   },
   "source": [
    "## 1.3 Comportement asymptotique"
   ]
  },
  {
   "cell_type": "markdown",
   "metadata": {},
   "source": [
    "### 1.3.1 Points d'équilibre"
   ]
  },
  {
   "cell_type": "markdown",
   "metadata": {},
   "source": [
    "On pose $x=(S,X)$ et \n",
    "$$\n",
    "    f(x)=f(S,X) = \\left(\\begin{array}{c}D\\,[S_{in}-S] - k\\,\\mu(S)\\,X \\\\ [\\mu(S)-D]\\,X\\end{array}\\right)\n",
    "$$\n",
    "On cherche les points $(S,X)$ tels que $f(S,X)=0$:\n",
    "\n",
    "- lessivage: $E_l=(S_s,X_l)=(0,0)$\n",
    "- équilibre souhaité: $E^*=(S^*,X^*)$ avec: $\\mu(S^*)=D$, i.e. $S^*=\\mu^{-1}(D)$ (quand c'est possible) et $X^*=(S_{in}-S^*)/k$"
   ]
  },
  {
   "cell_type": "markdown",
   "metadata": {
    "collapsed": true,
    "slideshow": {
     "slide_type": "slide"
    }
   },
   "source": [
    "### 1.3.2 Stabilité"
   ]
  },
  {
   "cell_type": "markdown",
   "metadata": {},
   "source": [
    "Le point d'équilibre $E^*$ existe et est stable si et seulement si:\n",
    "\n",
    "$$\n",
    "  J=\n",
    "  \\left(\\begin{array}{cc}\n",
    "  \\partial f_1/\\partial S & \\partial f_1/\\partial X\n",
    "  \\\\\n",
    "  \\partial f_2/\\partial S & \\partial f_2/\\partial X\n",
    "  \\end{array}\\right)\n",
    "  (S^*,X^*)\n",
    "  =\n",
    "  \\left(\\begin{array}{cc}\n",
    "  D-k\\,\\mu'(S^*)\\,X^* & -k\\,D\n",
    "  \\\\\n",
    "  \\mu'(S^*)\\,X & 0\n",
    "  \\end{array}\\right)\n",
    "$$\n",
    "\n",
    "$Tr(J)=-D-k\\,\\mu'(S^*)\\,X^*<0$ et $det(J)=k\\,D\\,\\mu'(S^*)\\,X>0$ ainsi les valeurs propres ont des parties réelles négatives (voir [ici](https://fr.wikipedia.org/wiki/Théorie_de_la_stabilité))."
   ]
  },
  {
   "cell_type": "markdown",
   "metadata": {},
   "source": [
    "### 1.3.3 Monod vs Haldane"
   ]
  },
  {
   "cell_type": "markdown",
   "metadata": {},
   "source": [
    "Dans le cas Monod: un seul point d'équilibre stable dans les conditions précédentes\n",
    "\n",
    "Dans le cas Haldane, l'équation $\\mu(S)=D$ peut avoir 2 solutions $S_1^*<S_2^*$\n",
    "\n",
    "- $(S^*_1,(S_{in}-S_1^*)/k)$ existe si et seulement si $S^*_1<S_{in}$, c'est un point stable\n",
    "- $(S^*_2,(S_{in}-S_2^*)/k)$ existe si et seulement si $S^*_2<S_{in}$, c'est un point instable"
   ]
  },
  {
   "cell_type": "markdown",
   "metadata": {},
   "source": [
    "\n",
    "\n",
    "\n",
    "<table >\n",
    "  <tr>\n",
    "    <td><img src=\"./images/stab_monod.png\" alt=\"stab monod\" style=\"width: 350px;\"/></td>\n",
    "    <td><img src=\"./images/stab_haldane.png\" alt=\"stab haldane\" style=\"width: 350px;\"/></td>\n",
    "  </tr>\n",
    "</table>\n",
    "\n"
   ]
  },
  {
   "cell_type": "markdown",
   "metadata": {},
   "source": [
    "<!--bibtex\n",
    "\n",
    "@book{chingshanchou2016a,\n",
    "\tAuthor = {Ching Shan Chou and Avner Friedman},\n",
    "\tPublisher = {Springer International Publishing},\n",
    "\tTitle = {Introduction to Mathematical Biology: Modeling, Analysis, and Simulations},\n",
    "\tYear = {2016}}\n",
    "\n",
    "@article{monod1950a,\n",
    "\tAuthor = {Monod, Jacques},\n",
    "\tJournal = {Annales de l'Institut Pasteur},\n",
    "\tNumber = {4},\n",
    "\tPages = {390-410},\n",
    "\tTitle = {La technique de culture continue, th{\\'e}orie et applications},\n",
    "\tVolume = {79},\n",
    "\tYear = {1950}}\n",
    "\n",
    "@article{novick1950a,\n",
    "\tAuthor = {Aaron Novick and Szilard, Leo},\n",
    "\tJournal = {Science},\n",
    "\tNumber = {2920},\n",
    "\tPages = {715-716},\n",
    "\tTitle = {Description of the Chemostat},\n",
    "\tVolume = {112},\n",
    "\tYear = {1950}}\n",
    "\n",
    "\n",
    "@book{smith1995a,\n",
    "\tAuthor = {Hal L. Smith and Paul E. Waltman},\n",
    "\tPublisher = {{Cambridge University Press}},\n",
    "\tTitle = {The Theory of the Chemostat: Dynamics of Microbial Competition},\n",
    "\tYear = {1995}}\n",
    "\n",
    "\n",
    "---->"
   ]
  },
  {
   "cell_type": "markdown",
   "metadata": {},
   "source": [
    "# References\n",
    "\n",
    "<a name=\"cite-monod1950a\"/><sup>[^](#ref-1) </sup>Monod, Jacques. 1950. _La technique de culture continue, th&eacute;orie et applications_.\n",
    "\n",
    "<a name=\"cite-novick1950a\"/><sup>[^](#ref-2) </sup>Aaron Novick and Szilard, Leo. 1950. _Description of the Chemostat_.\n",
    "\n",
    "<a name=\"cite-smith1995a\"/><sup>[^](#ref-3) </sup>Hal L. Smith and Paul E. Waltman. 1995. _The Theory of the Chemostat: Dynamics of Microbial Competition_.\n",
    "\n"
   ]
  }
 ],
 "metadata": {
  "anaconda-cloud": {},
  "celltoolbar": "Slideshow",
  "kernelspec": {
   "display_name": "Python [default]",
   "language": "python",
   "name": "python3"
  },
  "language_info": {
   "codemirror_mode": {
    "name": "ipython",
    "version": 3
   },
   "file_extension": ".py",
   "mimetype": "text/x-python",
   "name": "python",
   "nbconvert_exporter": "python",
   "pygments_lexer": "ipython3",
   "version": "3.5.2"
  },
  "latex_envs": {
   "LaTeX_envs_menu_present": true,
   "bibliofile": "biblio.bib",
   "cite_by": "apalike",
   "current_citInitial": 1,
   "eqLabelWithNumbers": true,
   "eqNumInitial": 1,
   "labels_anchors": false,
   "latex_user_defs": false,
   "report_style_numbering": false,
   "user_envs_cfg": false
  }
 },
 "nbformat": 4,
 "nbformat_minor": 1
}
