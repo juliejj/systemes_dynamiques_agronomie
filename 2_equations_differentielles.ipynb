{
 "cells": [
  {
   "cell_type": "markdown",
   "metadata": {
    "slideshow": {
     "slide_type": "slide"
    }
   },
   "source": [
    "# Table of Contents\n",
    "* [1. Equations différentielles](#1.-Equations-différentielles)\n",
    "\t* [1.1 Définition](#1.1-Définition)\n",
    "\t* [1.2 Unicité](#1.2-Unicité)\n",
    "\t* [1.3 Existence](#1.3-Existence)\n",
    "\t* [1.4 Equations linéaires](#1.4-Equations-linéaires)\n",
    "\t\t* [1.4.1 Résolvante](#1.4.1-Résolvante)\n",
    "\t\t* [1.4.2 Solution générale](#1.4.2-Solution-générale)\n",
    "\t* [1.5 Comportement asymptotique](#1.5-Comportement-asymptotique)\n",
    "\t\t* [1.5.1 Cas linéaire](#1.5.1-Cas-linéaire)\n",
    "\t\t* [1.5.2 Cas non-linéaire](#1.5.2-Cas-non-linéaire)\n",
    "\t\t\t* [1.5.2.1 Linéarisation](#1.5.2.1-Linéarisation)\n",
    "\t\t\t* [1.5.2.2 Approche de Lyapounov](#1.5.2.2-Approche-de-Lyapounov)\n",
    "\t* [1.6 Approximation numérique des EDO](#1.6-Approximation-numérique-des-EDO)\n",
    "\t\t* [1.6.1 Développement de Taylor](#1.6.1-Développement-de-Taylor)\n",
    "\t\t* [1.6.2 Approximation d'Euler](#1.6.2-Approximation-d'Euler)\n",
    "\t\t* [1.6.3 Runge-Kutta](#1.6.3-Runge-Kutta)\n",
    "\t* [1.7 À faire](#1.7-À-faire)\n"
   ]
  },
  {
   "cell_type": "markdown",
   "metadata": {
    "nbpresent": {
     "id": "d038ae08-ee50-4ad2-9aa5-3dc09b3cb033"
    },
    "slideshow": {
     "slide_type": "slide"
    }
   },
   "source": [
    "# 1. Equations différentielles"
   ]
  },
  {
   "cell_type": "markdown",
   "metadata": {
    "nbpresent": {
     "id": "9465da87-3279-4417-aaa7-f66e7f568c1b"
    },
    "slideshow": {
     "slide_type": "slide"
    }
   },
   "source": [
    "## 1.1 Définition"
   ]
  },
  {
   "cell_type": "markdown",
   "metadata": {},
   "source": [
    "Une **[équation différentielle](https://fr.wikipedia.org/wiki/Équation_différentielle)** est une relation mathématique entre une ou plusieurs fonctions inconnues et leurs dérivées, par exemple $F(x(t),\\dot x(t),\\ddot x(t),t)=0$ où $t$ appartient à un \"certain sous-ensemble de $\\mathbb{R}$\". Nous allons considérer le cas le plus simple, celui des équations du premier ordre:\n",
    "\n",
    "\\begin{align}\n",
    "\\label{eqCauchy}\n",
    "  \\dot x(t) = f(t,x(t))\\,,\\ t\\geq 0\\,,\\ x(0)=x_{0}\\,.\n",
    "\\end{align}\n",
    "\n",
    "où $x(t)\\in\\mathbb{R}^d$ et $f:\\mathbb{R}_+\\times\\mathbb{R}^d\\to \\mathbb{R}^d$. Lorsque $f$ ne dépend pas de $t$, l'ED est dite **autonome**, lorque $f$ est linéaire en $x$, l'ED est dite **linéaire**.\n",
    "\n",
    "L'équation \\eqref{eqCauchy} se comprend de façon équivalente sous la forme intégrale de la façon suivante:\n",
    "\n",
    "\\begin{align*}\n",
    "  x(t) = x_0 + \\int_0^t f(s,x(s))\\,{\\rm d} s\\,,\\ t\\geq 0\\,.\n",
    "\\end{align*}\n",
    "\n",
    "L'existence et l'unicité est assurée par le [théorème de Cauchy-Lipschitz](https://fr.wikipedia.org/wiki/Théorème_de_Cauchy-Lipschitz). \n",
    "\n",
    "L'analyse des ED n'est pas si simple. Le problème \\eqref{eqCauchy}, dit de Cauchy, est un problème local en temps. Nous nous contentons ici de donner quelques éléments dans le cas le plus simple.\n",
    "\n",
    "Voir [[Benzoni-Gavage 2010](#cite-benzoni2010a)] ou [[Demailly 2006](#cite-demailly2006a)] pour un exposé plus complet et [[Boularas et al 2009](#cite-boularas2009a)] pour un exposé très vivant et accessible; [[Agarwal and O'Regan 2008](#cite-agarwal2008a)] pour un exposé mathématique."
   ]
  },
  {
   "cell_type": "markdown",
   "metadata": {
    "nbpresent": {
     "id": "fb0bd62c-c76b-4387-a64e-21049cbfc11a"
    },
    "slideshow": {
     "slide_type": "slide"
    }
   },
   "source": [
    "## 1.2 Unicité"
   ]
  },
  {
   "cell_type": "markdown",
   "metadata": {},
   "source": [
    "On dira que l'équation \\eqref{eqCauchy} admet une **solution unique** si, étant donné deux fonctions $x_i(t)$ vérifiant \\eqref{eqCauchy}, $i=1,2$, alors $x_1(t)=x_2(t)$ pour tout $t\\geq 0$.\n",
    "\n",
    "\n",
    "\n",
    "**Exemple 1:** On considère l'ED autonome:\n",
    "\n",
    "$$\n",
    "  \\dot x(t) = 2\\,\\sqrt{x(t)}\\,,\\ x(0)=0\\,.\n",
    "$$\n",
    "\n",
    "Il est clair que $x_{1}(t)=0$, $t\\geq 0$ est une solution de cette équation ainsi que  $x_{2}(t)=t^2$, $t\\geq 0$. Par une technique de *recollement* consistant à mettre bout à bout ces deux solutions, on peut cosntruire une infinité de solutions. Ici $f(x)=2\\,\\sqrt{x}$ est une fonction continue, il faut en fait un peu plus de régularité pour abtenir l'unicité de la solution de l'équation \\eqref{eqCauchy}.\n",
    "\n"
   ]
  },
  {
   "cell_type": "markdown",
   "metadata": {
    "slideshow": {
     "slide_type": "subslide"
    }
   },
   "source": [
    "La fonction  $f$ est dite (globalement) *lipschitzienne* s'il existe  une constante $L$ tels que:\n",
    "\n",
    "\\begin{align*}\n",
    "  |f(t,x)-f(t,y)| \\leq L\\,|x-y|\\,,\\ \\forall t,x,y\\,.\n",
    "\\end{align*}\n",
    "\n",
    "<img src=\"./images/lipschitz2.pdf\" alt=\"Lipschitz\" style=\"width: 200px;\"/>\n",
    "\n",
    "Une fonction lipschitzienne est continue mais pas forcément dérivable. Lorsque la fonction admet une dérivée uniformément bornée par une constante $L$, alors elle est lipschitzienne avec constante $L$.\n",
    "\n",
    "**Proposition**\n",
    "Soit $x_{i}(\\cdot)$, $i=1,2$, deux solutions du problème \\eqref{eqCauchy}. On suppose $f$ globalement lipschitzienne, alors:\n",
    "\n",
    "$$\n",
    "   |x_{1}(t)-x_{2}(t)| \\leq e^{L\\,|t|}\\,|x_{1}(0)-x_{2}(0)|\\,,\\forall t\\geq 0\\,.\n",
    "$$\n",
    "\n",
    "\n",
    "Donc si $x_{1}(0)=x_{2}(0)=x_0$ alors $x_{1}(t)=x_{2}(t)$ pour tout $t$. Dans l'exemple précédent $f(x)=2\\,\\sqrt{x}$ n'est pas lipschitzienne. L'outil central permettant de démontrer la proposition précédente est le [lemme de Gronwall](https://fr.wikipedia.org/wiki/Lemme_de_Grönwall)."
   ]
  },
  {
   "cell_type": "markdown",
   "metadata": {
    "nbpresent": {
     "id": "20ac6e31-554f-4c02-a4f2-a4ab6aa70189"
    },
    "slideshow": {
     "slide_type": "slide"
    }
   },
   "source": [
    "## 1.3 Existence"
   ]
  },
  {
   "cell_type": "markdown",
   "metadata": {},
   "source": [
    "Il existe deux méthodes classiques pour ``construire'' des solutions du problème de Cauchy. Nous verrons dans la section suivante la méthode d'**approximation d'Euler**, une autre approche classique mais moins constructive consiste à faire appel aux **approximations successives de Picard**. On se donne $x^{(0)}(t)$ continue et on pose:\n",
    "\n",
    "$$\n",
    "    x^{(n+1)} = \\mathcal{I} x^{(n)}\n",
    "$$\n",
    "\n",
    "avec\n",
    "\n",
    "$$\n",
    "   \\mathcal{I} x(t) = x_{0} + \\int_{t_{0}}^t f(s,x(s))\\,{\\rm d} s\\,,\\ t\\geq 0\\,.\n",
    "$$\n",
    "\n",
    "La solution de \\eqref{eqCauchy} apparait alors comme un point fixe de l'application $\\mathcal{I}$, i.e. $x$ telle que $x=\\mathcal{I} x$.\n",
    "\n",
    "\n",
    "**Proposition**\n",
    "Supposons $f$ est dite (globalement) *lipschitzienne* en $x$ pour tout $t$ et continue en $(t,x)$, il existe alors une solution au problème  \\eqref{eq.cauchy}.\n",
    "\n",
    "\n",
    "Preuve: voir [[Benzoni-Gavage 2010](#cite-benzoni2010a) p. 147].\n"
   ]
  },
  {
   "cell_type": "markdown",
   "metadata": {
    "slideshow": {
     "slide_type": "subslide"
    }
   },
   "source": [
    "**Example 2**\n",
    "Par exemple considérons un modèle de croissance de population où le taux de croissance per capita est linéaire en la taille de population:\n",
    "\n",
    "$$\n",
    "  \\dot x(t)=\\lambda\\,x(t)^2\\,,\\ x(0)=x_{0}\n",
    "$$\n",
    "\n",
    "On peut vérifier que la solution de cette équation est:\n",
    "\n",
    "$$\n",
    "  x_{t} = \\frac{x_{0}}{1-\\lambda\\,x_{0}\\,t}\n",
    "$$\n",
    "\n",
    "qui est définie sur $t\\in[0,\\frac{1}{\\lambda x}[$ et on a effectivement $x(t)\\uparrow\\infty$ lorsque $t\\uparrow \\frac{1}{\\lambda x}$. Il n'est pas possible d'étendre la solution à tout $t>0$ dans la mesure où $f(x)=\\lambda\\,x^2$ n'est pas à croissance au plus linéaire.\n",
    "\n",
    "\n",
    "Qu'est-ce qui ne colle pas dans cet exemple  ?"
   ]
  },
  {
   "cell_type": "markdown",
   "metadata": {
    "slideshow": {
     "slide_type": "slide"
    }
   },
   "source": [
    "## 1.4 Equations linéaires"
   ]
  },
  {
   "cell_type": "markdown",
   "metadata": {},
   "source": [
    "On considère le problème de Cauchy linéaire:\\index{equation@équation différentielle!linéaire}\n",
    "\n",
    "\\begin{align}\n",
    "\\label{eqCauchy2}\n",
    "  \\dot x(t) = A(t)\\,x(t)+b(t)\\,,\\ t\\geq 0\\,,\\ x(0)=x_{0}\n",
    "\\end{align}\n",
    "\n",
    "où l'on suppose que la matrice $A(t)$ et le vecteur $b(t)$ sont continus en $t$, on obtient alors l'existence et l'unicité d'une solution à ce problème.\n",
    "\n",
    "\n",
    "Soit $x_{i}(t)$ la solution de \\eqref{eqCauchy2} où $b(t)$ est remplacé par $b_{i}(t)$, pour $i=1,2$. On vérifie aisément que pour tous réels $c_{1},c_{2}$, $c_{1}\\,x_{1}(t)+c_{2}\\,x_{2}(t)$ est solution de  \\eqref{eqCauchy2} où $b(t)$ est remplacé par $c_{1}\\,b_{1}(t)+c_{2}\\,b_{2}(t)$. Pour $b_{i}(t)=0$, $x_{i}(t)$ est notamment solution de l'équation homogène:\n",
    "\n",
    "\\begin{align}\n",
    "\\label{eqCauchy2b0}\n",
    "  \\dot x(t) = A(t)\\,x(t)\n",
    "\\end{align}\n",
    "\n",
    "tout comme $c_{1}\\,x_{1}(t)+c_{2}\\,x_{2}(t)$, i.e. les solutions de \\eqref{eqCauchy2b0} forment un espace vectoriel. De plus si $b_{1}(t)=b_{2}(t)$, $c_{1}=-c_{2}=1$ et $x_{1}(t)$ est solution de \\eqref{eqCauchy2}, alors $x_{2}(t)$ est aussi solution de \\eqref{eqCauchy2}. Donc les solutions de \\eqref{eqCauchy2} sont obtenues en additionnant une solution particulière de \\eqref{eqCauchy2} aux solutions de \\eqref{eqCauchy2b0}."
   ]
  },
  {
   "cell_type": "markdown",
   "metadata": {
    "slideshow": {
     "slide_type": "subslide"
    }
   },
   "source": [
    "### 1.4.1 Résolvante"
   ]
  },
  {
   "cell_type": "markdown",
   "metadata": {},
   "source": [
    "Les solutions de \\eqref{eqCauchy2b0} forment un espace vectoriel dont on peut construire une base en considérant la *résolvante*, c'est à dire la famille de matrices $\\Phi(t,s)$ définie par:\n",
    "\n",
    "\\begin{align}\n",
    "\\label{eqCauchy2Resolvante}\n",
    "  \\frac{{\\rm d}}{{\\rm d} t} \\Phi(t,s) = A(t)\\,\\Phi(t,s)\\,,\\ t\\geq 0\\,,\\ \\Phi(s,s)=I\n",
    "\\end{align}\n",
    "\n",
    "pour tous $0\\leq s\\leq t$; alors les colonnes de $\\Phi(t,0)$ forment une base de l'ensemble des solutions de \\eqref{eqCauchy2b0}  [[Agarwal and O'Regan2008](#cite-agarwal2008a) p. 116].\n",
    "\n",
    "\n",
    "On peut expliciter $\\Phi$ en utilisant les approximation successives de Picard: $\\Phi^{(0)}(t,s)=I$, puis les itérations $\\Phi^{(n+1)}(t,s)=I+\\int_{s}^t A(r)\\,\\Phi(t,s)\\,{\\rm d} r$ qui convergent donc vers:\n",
    "\n",
    "\\begin{align}\n",
    "\\label{eqCauchy2ResolvanteExplicite}\n",
    "\\Phi(t,s)\n",
    "  =\n",
    "  I\n",
    "  +\\int_{s}^t A(r)\\,{\\rm d} r\n",
    "  +\\int_{s}^t\\int_{s}^{r} A(r)\\,A(r')\\,{\\rm d} r'\\,{\\rm d} r\n",
    "  +\\cdots\n",
    "\\end{align}\n",
    "\n",
    "qui est solution de \\eqref{eqCauchy2Resolvante}. \n",
    "\n",
    "\n",
    "\n",
    "\n",
    "Soit $\\Phi(t,s)$ la résolvante de l'équation \\eqref{eqCauchy2}.\n",
    "Montrez que:\n",
    "\n",
    "$$\n",
    "   \\Phi(t,s) = \\Phi(t,r)\\times \\Phi(r,s)\n",
    "$$\n",
    "\n",
    "et en particulier $\\Phi(t,s) = \\Phi(s,t)^{-1}$ et $\\Phi(t,t)=I$.\n",
    "\n"
   ]
  },
  {
   "cell_type": "markdown",
   "metadata": {
    "slideshow": {
     "slide_type": "subslide"
    }
   },
   "source": [
    "Lorsque $A(t)\\equiv A$, l'équation \\eqref{eqCauchy2ResolvanteExplicite} devient \n",
    "\n",
    "$$\n",
    "\\Phi(t,s)\n",
    "  =\n",
    "  I\n",
    "  + (t-s)\\,A\n",
    "  + \\frac12 (t-s)^2\\,A^2\n",
    "  + \\frac1{3!} (t-s)^3\\,A^3\n",
    "  +\\cdots\n",
    "$$\n",
    "\n",
    "qui est une série absolument convergente que l'on appelle exponentielle de la matrice $(t-s)\\,A$:\n",
    "\n",
    "$$\n",
    "  \\Phi(t,s)\n",
    "  =\n",
    "  \\Phi(t-s)\n",
    "  =\n",
    "  e^{(t-s)\\,A}\n",
    "$$\n",
    "\n",
    "où l'on note\n",
    "\n",
    "$$\n",
    "  e^{M}\n",
    "  :=\n",
    "  \\sum_{n\\in\\mathbb N} \\frac{1}{n!} M^n\n",
    "$$\n",
    "\n",
    "(avec les conventions usuelles $A^0=I$ et $0!=1$).\n",
    "\n",
    "Si $M_{1}$ et $M_{2}$ sont des matrices carrées qui commutent alors $e^{M_{1}}\\,e^{M_{2}} = e^{M_{2}}\\,e^{M_{1}} = e^{M_{1}+M_{2}}$. Si $M$ est une matrice carrée alors $e^M$ est inversible et son inverse est $e^{-M}$. Si $C$ est inversible alors $e^{CMC^{-1}}=C\\,e^{M}\\,C^{-1}$.\n",
    "\\end{exercise}\n",
    "%-----------------------------------"
   ]
  },
  {
   "cell_type": "markdown",
   "metadata": {
    "slideshow": {
     "slide_type": "subslide"
    }
   },
   "source": [
    "### 1.4.2 Solution générale"
   ]
  },
  {
   "cell_type": "markdown",
   "metadata": {},
   "source": [
    "Une fois la résolvante obtenue, afin de déterminer les solutions de \\eqref{eqCauchy2} on utilise la méthode de variation des constantes. On fera appel aux résultats de l'exercice précédent.\n",
    "\n",
    "On cherche une fonction $y(t)$ telle que $x(t)=\\Phi(t,0)\\,y(t)$ soit solution  de \\eqref{eqCauchy2}, c'est à dire telle que:\n",
    "\n",
    "$$\n",
    "  \\dot \\Phi(t,0)\\,y(t)+ \\Phi(t,0)\\,\\dot y(t)\n",
    "  =\n",
    "  A(t)\\,\\Phi(t,0)\\,y(t)+b(t)\n",
    "$$\n",
    "\n",
    "ce qui donne $\\Phi(t,0)\\,\\dot y(t) = b(t)$, donc:\n",
    "\n",
    "$$\n",
    "\\dot y(t) = \\Phi(t,0)^{-1}\\,b(t) = \\Phi(0,t)\\,b(t)\n",
    "$$\n",
    "\n",
    "et ainsi, la fonction  $y(t)$ s'écrit:\n",
    "\n",
    "$$\n",
    "y(t)  = y(0) + \\int_{0}^t \\Phi(0,t)\\,b(t){\\rm d} t\n",
    "$$\n",
    "\n",
    "Enfin $x(0)=\\Phi(0,0)\\,y(0)=y(0)$, donc la solution de \\eqref{eqCauchy2} s'écrit\n",
    "\n",
    "$$\n",
    "x(t) = \\Phi(t,0) \\,x_{0} +\\Phi(t,0) \\,\\int_{0}^t \\Phi(0,s)\\,B(s)\\,{\\rm d} s\n",
    "$$\n",
    "\n",
    "ou encore\n",
    "\n",
    "$$\n",
    "x(t) = \\Phi(t,0) \\,x_{0} + \\int_{0}^t \\Phi(t,s)\\,B(s)\\,{\\rm d} s\n",
    "$$\n",
    "\n",
    "Lorsque $A(t)\\equiv A$, alors $\\Phi(t,s)=e^{A\\,(t-s)}$ et \n",
    "$$\n",
    "x(t) = e^{A\\,t} \\,x_{0} + \\,\\int_{0}^t e^{A\\,(t-s)}\\,B(s)\\,{\\rm d} s\\,.\n",
    "$$\n"
   ]
  },
  {
   "cell_type": "markdown",
   "metadata": {
    "slideshow": {
     "slide_type": "slide"
    }
   },
   "source": [
    "## 1.5 Comportement asymptotique"
   ]
  },
  {
   "cell_type": "markdown",
   "metadata": {},
   "source": [
    "On considère le problème de Cauchy autonome suivant:\n",
    "\n",
    "\\begin{equation}\n",
    "\\label{eqCauchy2Auto}\n",
    "  \\dot x(t) = f(x(t))\\,,\\ t\\geq 0\\,,\\ x(0)=x_{0}\n",
    "\\end{equation}\n",
    "\n",
    "pour laquelle on suppose qu'il existe une solution globale. On peut par exemple supposé que $f$ est globalement lipschitzienne.\n",
    "\n",
    "Supposons que la solution $x(t)$ de \\eqref{eqCauchy2Auto} converge vers un point $x^*$ de $\\mathbb{R}^d$, alors nécessairement $x(t)$ va cesser d'évoluer au ``bout d'un certain temps'' de telle sorte que $\\dot x(t)=0$ et donc néces\\-sairement $f(x^*)=0$. Un tel point est appelé **point d'équilibre** de l'équation différentielle. Dans un premier temps sans se poser la question du comportement asymptotique de la solution de l'EDO, on peut chercher à déterminer les points d'équilibre de l'EDO.\n",
    "\n",
    "Dans un second temps, on peut chercher à caractériser la nature de ces points d'équilibre. Un point d'équilibre $x^*$ sera dit \\emph{stable}\\index{point d'équilibre!stable} si:\n",
    "\n",
    "\\begin{align}\n",
    "\\label{eqStable}\n",
    "  \\forall \\epsilon>0\\,,\\ \\exists \\eta>0\\,:\\ \n",
    "  |x_{0}-x^*| <\\eta \\Rightarrow |x(t)-x^*|<\\epsilon\\,,\\ \\forall t\\geq 0\\,.\n",
    "\\end{align}\n",
    "\n",
    "Si de plus:\n",
    "\n",
    "\\begin{align}\n",
    "\\label{eqAsymptotiquementStable}\n",
    "  |x(t)-x^*|\\to 0\\textrm{ lorsque }t\\to \\infty\n",
    "\\end{align}\n",
    "\n",
    "alors le point est dit **asymptotiquement stable**. Un point d'équilibre qui n'est pas stable est dit **instable**."
   ]
  },
  {
   "cell_type": "markdown",
   "metadata": {
    "slideshow": {
     "slide_type": "subslide"
    }
   },
   "source": [
    "### 1.5.1 Cas linéaire"
   ]
  },
  {
   "cell_type": "markdown",
   "metadata": {},
   "source": [
    "On considère le problème de Cauchy autonome linéaire suivant:\n",
    "\n",
    "\\begin{align}\\label{eqCauchyLin}\n",
    "  \\dot x(t) = A\\,x(t)\\,,\\ t\\geq 0\\,,\\ x(0)=x_{0}\n",
    "\\end{align}\n",
    "\n",
    "Il est bien connu que le comportement asymptotique de la solution de cette équation est liée aux propriétés spectrales de la matrice; on note $Sp(A)$ le spectre de la matrice $A$, c'est à dire l'ensemble de ses valeurs propres. \n",
    "\n",
    "Le point $0$ est un point d'équilibre de \\eqref{eqCauchyLin} et:\n",
    "\n",
    "- $0$ est asymptotiquement stable ssi $Re(\\lambda)<0$ pour tout $\\lambda\\in Sp(A)$;\n",
    "- $0$ est stable ssi pour tout $\\lambda\\in Sp(A)$:\n",
    "   - $Re(\\lambda)\\leq 0$;\n",
    "   - et lorsque $Re(\\lambda) = 0$ alors la multiplicité géométrique de $\\lambda$ correspond à sa multiplicité algébrique (la multiplicité géométrique de $\\lambda$ est la dimension du noyau de $A-\\lambda\\,I$; la multiplicité algébrique de $\\lambda$ est la multiplicité comme  racine du polynôme caractéristique).\n",
    "\n",
    "Ce résultat s'appuie en fait sur la compréhension de la résolvante du système \\eqref{eqCauchyLin} qui est en effet donnée par [[Agarwal and O'Regan 2008](#cite-agarwal2008a)  p. 133]:\n",
    "\n",
    "$$\n",
    "  \\Phi(t,0)\n",
    "  =\n",
    "  \\bigl[ e^{\\lambda_{1}\\,t}\\,v_{1},\\dots,e^{\\lambda_{n}\\,t}\\,v_{n}\\bigr]\n",
    "$$\n",
    "où $\\lambda_{i}$ sont les valeurs propres de $A$ et $v_{i}$ des vecteurs propres associés."
   ]
  },
  {
   "cell_type": "markdown",
   "metadata": {
    "slideshow": {
     "slide_type": "subslide"
    }
   },
   "source": [
    "### 1.5.2 Cas non-linéaire"
   ]
  },
  {
   "cell_type": "markdown",
   "metadata": {},
   "source": [
    "On considère le problème de Cauchy autonome non-linéaire suivant:\n",
    "\n",
    "\\begin{align}\n",
    "\\label{eqCauchy2Nl}\n",
    "  \\dot x(t) = f(x(t))\\,,\\ t\\geq 0\\,,\\ x(0)=x_{0}\n",
    "\\end{align}\n",
    "\n",
    "et $x^*$ un point d'équilibre. On suppose $f$ différentiable et à dérivées continues.\n",
    "\n",
    "On peut supposer que $f(0)=0$ et donc que $x^*=0$ en faisant le changement de variable $x\\to x-x^*$ dans \\eqref{eqCauchy2Nl}. On se place donc dans le cas $f(0)=0$ et on étudie les propriétés du point d'équilibre 0.  On note $J_f(0)$ la matrice jacobienne de $f$ au point d'équilibre~$0$. \n",
    "\n",
    "%-----------------------------------\n",
    "\\begin{exercise}\n",
    "Etudiez les points d'équilibre de l'équation logistique.\n",
    "\\end{exercise}\n",
    "%-----------------------------------"
   ]
  },
  {
   "cell_type": "markdown",
   "metadata": {
    "slideshow": {
     "slide_type": "subslide"
    }
   },
   "source": [
    "#### 1.5.2.1 Linéarisation"
   ]
  },
  {
   "cell_type": "markdown",
   "metadata": {},
   "source": [
    "Une méthode classique consiste à étudier le système linéarisé en $0$:\n",
    "\n",
    "\\begin{align}\n",
    "\\label{eqCauchy2NlLinearise}\n",
    "  \\dot x(t) = J_f(0)\\,x(t)\\,,\\ t\\geq 0\\,,\\ x(0)=x_{0}\n",
    "\\end{align}\n",
    "\n",
    "où $J_f(x)$ est la matrice jacobienne de $f$ en $x$:\n",
    "$$\n",
    "J_f(x)\n",
    "   :=\n",
    "   \\left(\\begin{matrix}\n",
    "      \\partial f_{1}(x)/\\partial x_{1} & \n",
    "      \\partial f_{1}(x)/\\partial x_{2} &\n",
    "      \\cdots & \n",
    "      \\partial f_{1}(x)/\\partial x_{d} & \n",
    "   \\\\\n",
    "      \\partial f_{2}(x)/\\partial x_{1} & \n",
    "      \\partial f_{2}(x)/\\partial x_{2} &\n",
    "      \\cdots & \n",
    "      \\partial f_{2}(x)/\\partial x_{d} & \n",
    "   \\\\\n",
    "      \\vdots  & \n",
    "      \\vdots &\n",
    "       & \n",
    "      \\vdots & \n",
    "   \\\\[0.5em]\n",
    "      \\partial f_{d}(x)/\\partial x_{1} & \n",
    "      \\partial f_{d}(x)/\\partial x_{2} &\n",
    "      \\cdots & \n",
    "      \\partial f_{d}(x)/\\partial x_{d} & \n",
    "   \\end{matrix}\\right)\n",
    "$$\n",
    "\n",
    "Alors:\n",
    "- si pour tout $\\lambda\\in Sp(J_f(0))$  on a $\\Re(\\lambda)<0$   alors $0$ est asymptotiquement stable pour \\eqref{eqCauchy2Nl};\n",
    "- s'il existe  $\\lambda\\in Sp(J_f(0))$  tel que $\\Re(\\lambda)>0$ alors $0$ est instable  pour \\eqref{eqCauchy2Nl}.\n",
    "\n",
    "\n",
    "Si toutes les valeurs propres ont des parties réelles nulles alors $0$ est stable pour \\eqref{eqCauchy2NlLinearise} mais on ne peut rien dire de $0$ pour \\eqref{eqCauchy2Nl}."
   ]
  },
  {
   "cell_type": "markdown",
   "metadata": {
    "slideshow": {
     "slide_type": "subslide"
    }
   },
   "source": [
    "#### 1.5.2.2 Approche de Lyapounov"
   ]
  },
  {
   "cell_type": "markdown",
   "metadata": {},
   "source": [
    "On se place dans un voisinage $\\mathcal{V}$ de $0$, une fonction $V:\\mathcal{V}\\mapsto\\mathbb R$ continue et différentiable sur $\\mathcal{V}\\setminus\\{0\\}$ est appelée *fonction de Lypounov* si:\n",
    "\n",
    "- $V(0)=0$ et $V(x)>0$ pour tout $x\\in \\mathcal{V}\\setminus\\{0\\}$;\n",
    "- $f(u)\\,\\nabla V(u)\\leq 0$ pour tout $x\\in \\mathcal{V}\\setminus\\{0\\}$.\n",
    "\n",
    "On a alors le résultat suivant: s'il existe une fonction de Lyapounov pour \\eqref{eq.cauchy2.nl} alors le point d'équilibre $0$ est stable."
   ]
  },
  {
   "cell_type": "markdown",
   "metadata": {
    "slideshow": {
     "slide_type": "slide"
    }
   },
   "source": [
    "## 1.6 Approximation numérique des EDO"
   ]
  },
  {
   "cell_type": "markdown",
   "metadata": {},
   "source": [
    "Le module `integrate` de [SciPy](https://www.scipy.org) propose deux outils pour [intégrer numériquement des EDO](https://en.wikipedia.org/wiki/Numerical_methods_for_ordinary_differential_equations?oldid=550976985): `integrate.odeint` et `integrate.ode`. \n",
    "\n",
    "- `integrate.odeint` est une fonction implémentant le solveur LSODA d'ODEPACK qui bascule automatiquement entre une méthode de prédiction-correction d'Adam Adams pour des problèmes non-raides à une méthode BDF pour les problèmes raides.\n",
    "\n",
    "- `integrate.ode` est une classe offrant une interface orientée objet donnant accès à plusieurs solveurs.\n",
    "\n",
    "`integrate.ode` est plus flexible mais `integrate.odeint` est nettement plus accessible. Nous nous limiterons ici à ce dernier solveur.\n",
    "La fonction `odeint` comprend 3 arguments obligatoires : une fonction définissant le membre de droit de l'EDO, i.e. la fonction $f$,  un array donnant la condition initiale, est un array de valeurs de $t$ où $x(t)$ doit être calculé.  La fonction du membre de droite comprends 2 arguments obligatoires, un array $x$ et un scalaire  $t$, et des arguments optionnels.\n",
    "\n",
    "Voir [[Johansson 2015 p. 223](#cite-johansson2015a)]."
   ]
  },
  {
   "cell_type": "markdown",
   "metadata": {
    "slideshow": {
     "slide_type": "subslide"
    }
   },
   "source": [
    "### 1.6.1 Développement de Taylor"
   ]
  },
  {
   "cell_type": "markdown",
   "metadata": {},
   "source": [
    "On considère une solution $x(t)$ du problème de Cauchy  \\eqref{eqCauchy} définie pour $t\\in[0,T]$ avec $t_{0}=0$. \n",
    "On se donne $\\delta>0$, on pose $t_{k}=k\\,\\delta$ et on considère le développement de Taylor:\n",
    "\n",
    "$$\n",
    "  x(t+\\delta) = x(t) + \\delta\\,x'(t) + \\frac{\\delta^2}{2}\\,x''(t)\n",
    "  + \\frac{\\delta^3}{3!}\\,x'''(t)+\\cdots\n",
    "$$\n",
    "\n",
    "À l'ordre $n$, on a la formule:\n",
    "\n",
    "$$\n",
    "  x(t+\\delta) = x(t) + \\delta\\,x'(t) + \\frac{\\delta^2}{2}\\,x''(t)\n",
    "  + \\frac{\\delta^3}{3!}\\,x'''(t)+\\cdots+\\frac{\\delta^n}{n!}\\,x^{(n)}(\\tau)\n",
    "$$\n",
    "pour un certain $\\tau\\in[t,t+\\delta]$"
   ]
  },
  {
   "cell_type": "markdown",
   "metadata": {
    "slideshow": {
     "slide_type": "subslide"
    }
   },
   "source": [
    "### 1.6.2 Approximation d'Euler"
   ]
  },
  {
   "cell_type": "markdown",
   "metadata": {},
   "source": [
    "L'approximation d'Euler de $x(t)$ consiste à tronquer à l'ordre 1:\n",
    "$$\n",
    "  x(t+\\delta) = x(t) + \\delta\\,x'(t) +\\frac{\\delta^2}{2}\\,x^{''}(\\tau)\n",
    "$$\n",
    "\n",
    "donc\n",
    "\n",
    "$$\n",
    "  x(t+\\delta) = x(t) + \\delta\\,f(t,x(t)) + O(\\delta^2)\n",
    "$$\n",
    "\n",
    "(ordre 1: erreur locale en $O(\\delta^2)$, erreur globale en $O(\\delta)$)\n",
    "\n",
    "\n",
    "\n",
    "<img src=\"./images/er_euler.png\" alt=\"Schema d'Euler\" style=\"width: 200px;\"/>\n",
    "\n"
   ]
  },
  {
   "cell_type": "markdown",
   "metadata": {
    "slideshow": {
     "slide_type": "subslide"
    }
   },
   "source": [
    "On obtient l'approximaton:\n",
    "\\begin{align}\n",
    "\\label{eqEuler}\n",
    "   \\tilde x_{k+1} \n",
    "   = \n",
    "   \\tilde x_k+\\delta\\,f(t_{k},\\tilde x_k)\n",
    "\\end{align}\n",
    "\n",
    "$\\delta$ est le pas de l'approximation, on définit $\\tilde x(t)$ comme étant l'interpolée linéaire des points $\\tilde x_k$.\n",
    "\n",
    "\n",
    "<img src=\"./images/euler_erreur.png\" alt=\"Schema d'Euler\" style=\"width: 500px;\"/>"
   ]
  },
  {
   "cell_type": "markdown",
   "metadata": {
    "slideshow": {
     "slide_type": "subslide"
    }
   },
   "source": [
    "### 1.6.3 Runge-Kutta"
   ]
  },
  {
   "cell_type": "markdown",
   "metadata": {},
   "source": [
    "Cette méthode reprend la méthode d'Euler en utilisant une approximation de la dérivée au point milieu. Le développement de Taylor à l'rdore 3 donne:\n",
    "\n",
    "$$\n",
    "  x(t+\\delta) = x(t) + \\delta\\,x'(t) + \\frac{\\delta^2}{2}\\,x''(t)\n",
    "  + \\frac{\\delta^3}{3!}\\,x'''(\\tau)\n",
    "$$\n",
    "\n",
    "mais \n",
    "\n",
    "$\n",
    "x'(t+\\delta/2) = x'(t)+ \\frac{\\delta}{2}\\,x''(t)+O(\\delta^2)\n",
    "$ donc \n",
    "$\n",
    "\\frac{\\delta^2}{2}\\,x''(t)= \\delta[x'(t+\\delta/2) - x'(t)]  +O(\\delta^3)\n",
    "$ et\n",
    "\n",
    "\\begin{align*}\n",
    "  x(t+\\delta) \n",
    "  &= x(t) + \\delta x'(t) + \\frac{\\delta^2}{2}\\,\\frac{x'(t+\\delta/2)-x'(t)}{\\delta/2} + O(\\delta^3)\n",
    "  \\\\\n",
    "  &= x(t) + \\delta  x'(t+\\delta/2)  + O(\\delta^3)\n",
    "  \\\\\n",
    "  &= x(t) + \\delta  f(t+\\delta/2,x(t+\\delta/2))  + O(\\delta^3)\n",
    "  \\\\\n",
    "  &= x(t) + \\delta  f\\big(t+\\delta/2,x(t)+(\\delta/2)\\,f(t,x(t))\\big)  + O(\\delta^3)\n",
    "\\end{align*}\n",
    "\n",
    "\n",
    "\n",
    "<img src=\"./images/er_rk2.png\" alt=\"Schema RK2\" style=\"width: 200px;\"/>\n",
    "\n",
    "\n",
    "\n",
    "il s'agit donc d'un schéma d'ordre 2:\n",
    "\n",
    "\\begin{align}\n",
    "\\label{eqRK2}\n",
    "   \\tilde x_{k+1} \n",
    "   = \n",
    "   \\tilde x_k+\\delta\\,f\\Big(t_{k}+\\frac{\\delta}{2},\\tilde x_k+\\frac{\\delta}{2}\\,f(t_k,\\tilde x_k)\\Big)\n",
    "\\end{align}"
   ]
  },
  {
   "cell_type": "code",
   "execution_count": 49,
   "metadata": {
    "collapsed": false,
    "slideshow": {
     "slide_type": "subslide"
    }
   },
   "outputs": [
    {
     "data": {
      "image/png": "[encoded data removed]",
      "text/plain": [
       "<matplotlib.figure.Figure at 0x10ea65c50>"
      ]
     },
     "metadata": {},
     "output_type": "display_data"
    }
   ],
   "source": [
    "def euler( f, x0, t ):\n",
    "    n = len( t )\n",
    "    x = np.array( [x0] * n )\n",
    "    for i in range(n-1):\n",
    "        x[i+1] = x[i] + ( t[i+1] - t[i] ) * f( x[i], t[i] )\n",
    "    return x\n",
    "\n",
    "def rk2a( f, x0, t ):\n",
    "    n = len( t )\n",
    "    x = np.array( [ x0 ] * n )\n",
    "    for i in range( n - 1 ):\n",
    "        h = t[i+1] - t[i]\n",
    "        k1 = 0.5 * h * f( x[i], t[i] ) \n",
    "        x[i+1] = x[i] + h * f( x[i] + k1, t[i] + 0.5 * h  )\n",
    "    return x\n",
    "\n",
    "def f( x, t ):\n",
    "    return x * np.sin( t )\n",
    "\n",
    "x0, T =  -1., 10.0\n",
    "n = 51\n",
    "t = np.linspace( 0, T, n )\n",
    "t2 = np.linspace( 0, T, 2*n )\n",
    "\n",
    "x = -np.exp( 1.0 - np.cos( t ) )\n",
    "x_euler = euler( f, x0, t )\n",
    "x_euler2 = euler( f, x0, t2 )\n",
    "x_rk2 = rk2a( f, x0, t )\n",
    "\n",
    "plt.plot(t,x,label=r'$x(t)$')\n",
    "plt.plot(t,x_euler,label='Euler',linestyle='--')\n",
    "plt.plot(t2,x_euler2,label=r'Euler $\\delta/2$',linestyle='--')\n",
    "plt.plot(t,x_rk2,label='RK2',linestyle='--')\n",
    "plt.legend()\n",
    "plt.show()\n"
   ]
  },
  {
   "cell_type": "markdown",
   "metadata": {
    "slideshow": {
     "slide_type": "skip"
    }
   },
   "source": [
    "<!--bibtex\n",
    "\n",
    "@book{agarwal2008a,\n",
    "\tAuthor = {R.P. Agarwal and D. O'Regan},\n",
    "\tPublisher = {Springer},\n",
    "\tTitle = {An introduction to ordinary differential equations},\n",
    "\tYear = {2008}}\n",
    "\n",
    " \n",
    "@book{benzoni2010a,\n",
    "\tAuthor = {Sylvie Benzoni-Gavage},\n",
    "\tPublisher = {Dunod},\n",
    "\tTitle = {Calcul diff{\\'e}rentiel et équations diff{\\'e}rentielles},\n",
    "\tYear = {2010}}\n",
    "\n",
    "@book{boularas2009a,\n",
    "\tAuthor = {Driss Boularas and Daniel Fredon and Daniel Petit},\n",
    "\tPublisher = {Dunod},\n",
    "\tTitle = {Mini Manuel de Mathématiques pour les sciences de la vie et de l'environnement},\n",
    "\tYear = {2009}}\n",
    "\n",
    "@book{demailly2006a,\n",
    "\tAuthor = {Demailly, J.P.},\n",
    "\tOpturl = {http://books.google.fr/books?id=2yTLzzm3N6kC},\n",
    "\tPublisher = {EDP Sciences},\n",
    "\tTitle = {Analyse num{\\'e}rique et équations fiff{\\'e}rentielles},\n",
    "\tYear = {2006}}\n",
    "    \n",
    "@book{johansson2015a,\n",
    "\tAuthor = {Robert Johansson},\n",
    "\tPublisher = {Apress},\n",
    "\tTitle = {Numerical Python. A Practical Techniques Approach for Industry},\n",
    "\tYear = {2015}}\n",
    "\n",
    "\n",
    "-->"
   ]
  },
  {
   "cell_type": "markdown",
   "metadata": {
    "slideshow": {
     "slide_type": "slide"
    }
   },
   "source": [
    "# References\n",
    "\n",
    "<a name=\"cite-benzoni2010a\"/><sup>[^](#ref-1) [^](#ref-5) </sup>Sylvie Benzoni-Gavage. 2010. _Calcul diff&eacute;rentiel et équations diff&eacute;rentielles_.\n",
    "\n",
    "<a name=\"cite-demailly2006a\"/><sup>[^](#ref-2) </sup>Demailly, J.P.. 2006. _Analyse num&eacute;rique et équations fiff&eacute;rentielles_.\n",
    "\n",
    "<a name=\"cite-boularas2009a\"/><sup>[^](#ref-3) </sup>Driss Boularas and Daniel Fredon and Daniel Petit. 2009. _Mini Manuel de Mathématiques pour les sciences de la vie et de l'environnement_.\n",
    "\n",
    "<a name=\"cite-agarwal2008a\"/><sup>[^](#ref-4) [^](#ref-6) [^](#ref-7) </sup>R.P. Agarwal and D. O'Regan. 2008. _An introduction to ordinary differential equations_.\n",
    "\n",
    "<a name=\"cite-johansson2015a\"/><sup>[^](#ref-8) </sup>Robert Johansson. 2015. _Numerical Python. A Practical Techniques Approach for Industry_.\n",
    "\n"
   ]
  },
  {
   "cell_type": "markdown",
   "metadata": {
    "slideshow": {
     "slide_type": "slide"
    }
   },
   "source": [
    "## 1.7 À faire"
   ]
  },
  {
   "cell_type": "markdown",
   "metadata": {},
   "source": [
    "Animation, voir [ici](http://python.physique.free.fr/animations.html) et [là](http://louistiao.me/posts/notebooks/embedding-matplotlib-animations-in-jupyter-notebooks/)."
   ]
  },
  {
   "cell_type": "code",
   "execution_count": 17,
   "metadata": {
    "collapsed": false
   },
   "outputs": [
    {
     "name": "stdout",
     "output_type": "stream",
     "text": [
      "Nplot =   0  1  2  3  4  5  6  7  8  9  10  11  12  13  14  15  16  17  18  19  20  21  22  23  24  25  26  27  28  29  30  31  32  33  34  35  36  37  38  39  40  41  42  43  44  45  46  47  48  49  50  51  52  53  54  55  56  57  58  59  60  61  62  63  64  65  66  67  68  69  70  71  72  73  74  75  76  77  78  79  80  81  82  83  84  85  86  87  88  89  90  91  92  93  94  95  96  97  98  99\n",
      " conversion...  fini !\n"
     ]
    },
    {
     "data": {
      "text/plain": [
       "<matplotlib.figure.Figure at 0x10fa84b00>"
      ]
     },
     "metadata": {},
     "output_type": "display_data"
    }
   ],
   "source": [
    "\"\"\"\n",
    "Animation d'une particule se baladant sur une ellipse\n",
    "\"\"\"\n",
    "\n",
    "from __future__ import division\n",
    "from scipy import *                 \n",
    "from pylab import *\n",
    "import os\n",
    "\n",
    "#initialisation\n",
    "tini = 0\n",
    "tfin = 2\n",
    "Npas = 100\n",
    "\n",
    "#Positions Successives\n",
    "def Positions(t):\n",
    "    x = 0.5*cos(2*pi*t)\n",
    "    y = 0.5*sin(2*pi*t)\n",
    "    return [x, y]\n",
    "\n",
    "# Construction d'une série d'images et de leur assemblage dans une animation\n",
    "print ('Nplot = ', end=\"\")\n",
    "for k in range(Npas):\n",
    "    t = tini + (tfin-tini)*k/(Npas-1)\n",
    "    plot(Positions(t)[0], Positions(t)[1], 'o', color='b')\n",
    "    axis([-1, 1, -1, 1])\n",
    "    filename = 'fichierTemp'+str('%02d' %k)+'.pdf'\n",
    "    savefig(filename)\n",
    "    print (' ',k, end=\"\")\n",
    "    clf()\n",
    "\n",
    "# convert est une fonction d'ImageMagick : option -delay en 1/100 de seconde\n",
    "cmd = 'convert fichierTemp*.pdf images/animation.gif'\n",
    "print ('\\n','conversion... ', end=\"\")\n",
    "os.system(cmd)\n",
    "os.system('rm fichierTemp*.pdf')    # destruction des fichiers temporaires (utiliser rem sous Linux)\n",
    "print (\" fini !\")"
   ]
  },
  {
   "cell_type": "markdown",
   "metadata": {},
   "source": [
    "Voila le résultat:\n",
    "\n",
    "![animation](images/animation.gif)\n",
    "\n"
   ]
  },
  {
   "cell_type": "code",
   "execution_count": null,
   "metadata": {
    "collapsed": true
   },
   "outputs": [],
   "source": []
  }
 ],
 "metadata": {
  "anaconda-cloud": {},
  "celltoolbar": "Slideshow",
  "kernelspec": {
   "display_name": "Python [default]",
   "language": "python",
   "name": "python3"
  },
  "language_info": {
   "codemirror_mode": {
    "name": "ipython",
    "version": 3
   },
   "file_extension": ".py",
   "mimetype": "text/x-python",
   "name": "python",
   "nbconvert_exporter": "python",
   "pygments_lexer": "ipython3",
   "version": "3.5.2"
  },
  "latex_envs": {
   "LaTeX_envs_menu_present": true,
   "bibliofile": "biblio.bib",
   "cite_by": "apalike",
   "current_citInitial": 1,
   "eqLabelWithNumbers": true,
   "eqNumInitial": 1,
   "labels_anchors": false,
   "latex_user_defs": false,
   "report_style_numbering": false,
   "user_envs_cfg": false
  },
  "nbpresent": {
   "slides": {
    "2370c56b-61f1-404c-af0f-84176bc33cff": {
     "id": "2370c56b-61f1-404c-af0f-84176bc33cff",
     "prev": "7f712783-530e-4ce2-877c-8e9a465e992a",
     "regions": {
      "2fa00e09-8012-4978-86ca-177a886cc672": {
       "attrs": {
        "height": 0.8,
        "width": 0.8,
        "x": 0.1,
        "y": 0.1
       },
       "content": {
        "cell": "fb0bd62c-c76b-4387-a64e-21049cbfc11a",
        "part": "whole"
       },
       "id": "2fa00e09-8012-4978-86ca-177a886cc672"
      }
     }
    },
    "3745cb09-8bfb-46c4-9f28-09cca6df92e9": {
     "id": "3745cb09-8bfb-46c4-9f28-09cca6df92e9",
     "prev": "2370c56b-61f1-404c-af0f-84176bc33cff",
     "regions": {
      "ed03c2f3-604e-481e-aeb1-10c05f38efec": {
       "attrs": {
        "height": 0.8,
        "width": 0.8,
        "x": 0.1,
        "y": 0.1
       },
       "content": {
        "cell": "20ac6e31-554f-4c02-a4f2-a4ab6aa70189",
        "part": "whole"
       },
       "id": "ed03c2f3-604e-481e-aeb1-10c05f38efec"
      }
     }
    },
    "4b353193-8407-43e4-97e3-9521567f2f8c": {
     "id": "4b353193-8407-43e4-97e3-9521567f2f8c",
     "prev": null,
     "regions": {
      "9c442883-364e-47f7-8b98-6ad200b042d2": {
       "attrs": {
        "height": 0.8,
        "width": 0.8,
        "x": 0.1,
        "y": 0.1
       },
       "content": {
        "cell": "d038ae08-ee50-4ad2-9aa5-3dc09b3cb033",
        "part": "whole"
       },
       "id": "9c442883-364e-47f7-8b98-6ad200b042d2"
      }
     }
    },
    "7f712783-530e-4ce2-877c-8e9a465e992a": {
     "id": "7f712783-530e-4ce2-877c-8e9a465e992a",
     "prev": "4b353193-8407-43e4-97e3-9521567f2f8c",
     "regions": {
      "72edcf47-fb69-45dd-8444-08d2b40e4d28": {
       "attrs": {
        "height": 0.8,
        "width": 0.8,
        "x": 0.1,
        "y": 0.1
       },
       "content": {
        "cell": "9465da87-3279-4417-aaa7-f66e7f568c1b",
        "part": "whole"
       },
       "id": "72edcf47-fb69-45dd-8444-08d2b40e4d28"
      }
     }
    },
    "a4990c21-44c2-4634-8518-934edff8e434": {
     "id": "a4990c21-44c2-4634-8518-934edff8e434",
     "prev": "3745cb09-8bfb-46c4-9f28-09cca6df92e9",
     "regions": {
      "a8361832-346e-4814-9bd0-076f589af4d4": {
       "attrs": {
        "height": 0.8,
        "width": 0.8,
        "x": 0.1,
        "y": 0.1
       },
       "content": {
        "cell": "e129dde5-54aa-4ea4-94ce-1f9d1e7ad431",
        "part": "whole"
       },
       "id": "a8361832-346e-4814-9bd0-076f589af4d4"
      }
     }
    }
   },
   "themes": {}
  }
 },
 "nbformat": 4,
 "nbformat_minor": 1
}
