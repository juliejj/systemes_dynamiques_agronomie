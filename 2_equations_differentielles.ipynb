{
 "cells": [
  {
   "cell_type": "markdown",
   "metadata": {
    "slideshow": {
     "slide_type": "slide"
    }
   },
   "source": [
    "# Table of Contents\n",
    "* [1. Equations différentielles](#1.-Equations-différentielles)\n",
    "\t* [1.1 Définition](#1.1-Définition)\n",
    "\t* [1.2 Unicité](#1.2-Unicité)\n",
    "\t* [1.3 Existence](#1.3-Existence)\n",
    "\t* [1.4 Equations linéaires](#1.4-Equations-linéaires)\n",
    "\t\t* [1.4.1 Résolvante](#1.4.1-Résolvante)\n",
    "\t\t* [1.4.2 Solution générale](#1.4.2-Solution-générale)\n",
    "\t* [1.5 Comportement asymptotique](#1.5-Comportement-asymptotique)\n",
    "\t\t* [1.5.1 Cas linéaire](#1.5.1-Cas-linéaire)\n",
    "\t\t* [1.5.2 Cas non-linéaire](#1.5.2-Cas-non-linéaire)\n",
    "\t\t\t* [1.5.2.1 Linéarisation](#1.5.2.1-Linéarisation)\n",
    "\t\t\t* [1.5.2.2 Approche de Lypounov](#1.5.2.2-Approche-de-Lypounov)\n",
    "\t* [1.6 Approximation d'Euler](#1.6-Approximation-d'Euler)\n"
   ]
  },
  {
   "cell_type": "markdown",
   "metadata": {
    "nbpresent": {
     "id": "d038ae08-ee50-4ad2-9aa5-3dc09b3cb033"
    },
    "slideshow": {
     "slide_type": "slide"
    }
   },
   "source": [
    "# 1. Equations différentielles"
   ]
  },
  {
   "cell_type": "markdown",
   "metadata": {
    "nbpresent": {
     "id": "9465da87-3279-4417-aaa7-f66e7f568c1b"
    },
    "slideshow": {
     "slide_type": "slide"
    }
   },
   "source": [
    "## 1.1 Définition"
   ]
  },
  {
   "cell_type": "markdown",
   "metadata": {},
   "source": [
    "Une **[équation différentielle](https://fr.wikipedia.org/wiki/Équation_différentielle)** est une relation mathématique entre une ou plusieurs fonctions inconnues et leurs dérivées, par exemple $F(x(t),\\dot x(t),\\ddot x(t),t)=0$ où $t$ appartient à un \"certain sous-ensemble de $\\mathbb{R}$\". Nous allons considérer le cas le plus simple, celui des équations du premier ordre:\n",
    "\n",
    "\\begin{align}\n",
    "\\label{eqCauchy}\n",
    "  \\dot x(t) = f(t,x(t))\\,,\\ t\\geq 0\\,,\\ x(0)=x_{0}\\,.\n",
    "\\end{align}\n",
    "\n",
    "où $x(t)\\in\\mathbb{R}^d$ et $f:\\mathbb{R}_+\\times\\mathbb{R}^d\\to \\mathbb{R}^d$. Lorsque $f$ ne dépend pas de $t$, l'ED est dite **autonome**, lorque $f$ est linéaire en $x$, l'ED est dite **linéaire**.\n",
    "\n",
    "L'équation \\eqref{eqCauchy} se comprend de façon équivalente sous la forme intégrale de la façon suivante:\n",
    "\n",
    "\\begin{align*}\n",
    "  x(t) = x_0 + \\int_0^t f(s,x(s))\\,{\\rm d} s\\,,\\ t\\geq 0\\,.\n",
    "\\end{align*}\n",
    "\n",
    "L'existence et l'unicité est assurée par le [théorème de Cauchy-Lipschitz](https://fr.wikipedia.org/wiki/Théorème_de_Cauchy-Lipschitz). \n",
    "\n",
    "L'analyse des ED n'est pas si simple. Le problème \\eqref{eqCauchy}, dit de Cauchy, est un problème local en temps. Nous nous contentons ici de donner quelques éléments dans le cas le plus simple.\n",
    "\n",
    "Voir [[Benzoni-Gavage 2010](#cite-benzoni2010a)] ou [[Demailly 2006](#cite-demailly2006a)] pour un exposé plus complet et [[Boularas et al 2009](#cite-boularas2009a)] pour un exposé très vivant et accessible; [[Agarwal and O'Regan 2008](#cite-agarwal2008a)] pour un exposé mathématique."
   ]
  },
  {
   "cell_type": "markdown",
   "metadata": {
    "nbpresent": {
     "id": "fb0bd62c-c76b-4387-a64e-21049cbfc11a"
    },
    "slideshow": {
     "slide_type": "slide"
    }
   },
   "source": [
    "## 1.2 Unicité"
   ]
  },
  {
   "cell_type": "markdown",
   "metadata": {},
   "source": [
    "On dira que l'équation \\eqref{eqCauchy} admet une **solution unique** si, étant donné deux fonctions $x_i(t)$ vérifiant \\eqref{eqCauchy}, $i=1,2$, alors $x_1(t)=x_2(t)$ pour tout $t\\geq 0$.\n",
    "\n",
    "\n",
    "\n",
    "\\begin{example}\\label{example:edo.non.unique}\n",
    "On considère l'ED autonome:\n",
    "\n",
    "$$\n",
    "  \\dot x(t) = 2\\,\\sqrt{x(t)}\\,,\\ x(0)=0\\,.\n",
    "$$\n",
    "\n",
    "Il est clair que $x_{1}(t)=0$, $t\\geq 0$ est une solution de cette équation ainsi que  $x_{2}(t)=t^2$, $t\\geq 0$. Par une technique de *recollement* consistant à mettre bout à bout ces deux solutions, on peut cosntruire une infinité de solutions. Ici $f(x)=2\\,\\sqrt{x}$ est une fonction continue, il faut en fait un peu plus de régularité pour abtenir l'unicité de la solution de l'équation \\eqref{eqCauchy}.\n",
    "\\end{example}\n"
   ]
  },
  {
   "cell_type": "markdown",
   "metadata": {
    "slideshow": {
     "slide_type": "subslide"
    }
   },
   "source": [
    "La fonction  $f$ est dite (globalement) *lipschitzienne* s'il existe  une constante $L$ tels que:\n",
    "\n",
    "\\begin{align*}\n",
    "  |f(t,x)-f(t,y)| \\leq L\\,|x-y|\\,,\\ \\forall t,x,y\\,.\n",
    "\\end{align*}\n",
    "\n",
    "<img src=\"./images/lipschitz2.pdf\" alt=\"Lipschitz\" style=\"width: 200px;\"/>\n",
    "\n",
    "Une fonction lipschitzienne est continue mais pas forcément dérivable. Lorsque la fonction admet une dérivée uniformément bornée par une constante $L$, alors elle est lipschitzienne avec constante $L$.\n",
    "\n",
    "\\begin{proposition}\n",
    "Soit $x_{i}(\\cdot)$, $i=1,2$, deux solutions du problème \\eqref{eqCauchy}. On suppose $f$ globalement lipschitzienne, alors:\n",
    "\n",
    "$$\n",
    "   |x_{1}(t)-x_{2}(t)| \\leq e^{L\\,|t|}\\,|x_{1}(0)-x_{2}(0)|\\,,\\forall t\\geq 0\\,.\n",
    "$$\n",
    "\n",
    "\\end{proposition}\n",
    "\n",
    "Donc si $x_{1}(0)=x_{2}(0)=x_0$ alors $x_{1}(t)=x_{2}(t)$ pour tout $t$. Dans l'exemple précédent $f(x)=2\\,\\sqrt{x}$ n'est pas lipschitzienne. L'outil central permettant de démontrer la proposition précédente est le [lemme de Gronwall](https://fr.wikipedia.org/wiki/Lemme_de_Grönwall)."
   ]
  },
  {
   "cell_type": "markdown",
   "metadata": {
    "nbpresent": {
     "id": "20ac6e31-554f-4c02-a4f2-a4ab6aa70189"
    },
    "slideshow": {
     "slide_type": "slide"
    }
   },
   "source": [
    "## 1.3 Existence"
   ]
  },
  {
   "cell_type": "markdown",
   "metadata": {},
   "source": [
    "Il existe deux méthodes classiques pour ``construire'' des solutions du problème de Cauchy. Nous verrons dans la section suivante la méthode d'**approximation d'Euler**, une autre approche classique mais moins constructive consiste à faire appel aux **approximations successives de Picard**. On se donne $x^{(0)}(t)$ continue et on pose:\n",
    "\n",
    "$$\n",
    "    x^{(n+1)} = \\mathcal{I} x^{(n)}\n",
    "$$\n",
    "\n",
    "avec\n",
    "\n",
    "$$\n",
    "   \\mathcal{I} x(t) = x_{0} + \\int_{t_{0}}^t f(s,x(s))\\,{\\rm d} s\\,,\\ t\\geq 0\\,.\n",
    "$$\n",
    "\n",
    "La solution de \\eqref{eqCauchy} apparait alors comme un point fixe de l'application $\\mathcal{I}$, i.e. $x$ telle que $x=\\mathcal{I} x$.\n",
    "\n",
    "\n",
    "\\begin{proposition}\n",
    "Supposons $f$ est dite (globalement) *lipschitzienne* en $x$ pour tout $t$ et continue en $(t,x)$, il existe alors une solution au problème  \\eqref{eq.cauchy}.\n",
    "\\end{proposition}\n",
    "\n",
    "Preuve: voir [[Benzoni-Gavage 2010](#cite-benzoni2010a) p. 147].\n"
   ]
  },
  {
   "cell_type": "markdown",
   "metadata": {
    "slideshow": {
     "slide_type": "subslide"
    }
   },
   "source": [
    "\\begin{example}\n",
    "Par exemple considérons un modèle de croissance de population où le taux de croissance per capita est linéaire en la taille de population:\n",
    "\n",
    "$$\n",
    "  \\dot x(t)=\\lambda\\,x(t)^2\\,,\\ x(0)=x_{0}\n",
    "$$\n",
    "\n",
    "On peut vérifier que la solution de cette équation est:\n",
    "\n",
    "$$\n",
    "  x_{t} = \\frac{x_{0}}{1-\\lambda\\,x_{0}\\,t}\n",
    "$$\n",
    "\n",
    "qui est définie sur $t\\in[0,\\frac{1}{\\lambda x}[$ et on a effectivement $x(t)\\uparrow\\infty$ lorsque $t\\uparrow \\frac{1}{\\lambda x}$. Il n'est pas possible d'étendre la solution à tout $t>0$ dans la mesure où $f(x)=\\lambda\\,x^2$ n'est pas à croissance au plus linéaire.\n",
    "\\end{example}\n",
    "\n",
    "Qu'est-ce qui ne colle pas dans cet exemple  ?"
   ]
  },
  {
   "cell_type": "markdown",
   "metadata": {
    "slideshow": {
     "slide_type": "slide"
    }
   },
   "source": [
    "## 1.4 Equations linéaires"
   ]
  },
  {
   "cell_type": "markdown",
   "metadata": {},
   "source": [
    "On considère le problème de Cauchy linéaire:\\index{equation@équation différentielle!linéaire}\n",
    "\n",
    "\\begin{align}\n",
    "\\label{eqCauchy2}\n",
    "  \\dot x(t) = A(t)\\,x(t)+b(t)\\,,\\ t\\geq 0\\,,\\ x(0)=x_{0}\n",
    "\\end{align}\n",
    "\n",
    "où l'on suppose que la matrice $A(t)$ et le vecteur $b(t)$ sont continus en $t$, on obtient alors l'existence et l'unicité d'une solution à ce problème.\n",
    "\n",
    "\n",
    "Soit $x_{i}(t)$ la solution de \\eqref{eqCauchy2} où $b(t)$ est remplacé par $b_{i}(t)$, pour $i=1,2$. On vérifie aisément que pour tous réels $c_{1},c_{2}$, $c_{1}\\,x_{1}(t)+c_{2}\\,x_{2}(t)$ est solution de  \\eqref{eqCauchy2} où $b(t)$ est remplacé par $c_{1}\\,b_{1}(t)+c_{2}\\,b_{2}(t)$. Pour $b_{i}(t)=0$, $x_{i}(t)$ est notamment solution de l'équation homogène:\n",
    "\n",
    "\\begin{align}\n",
    "\\label{eqCauchy2b0}\n",
    "  \\dot x(t) = A(t)\\,x(t)\n",
    "\\end{align}\n",
    "\n",
    "tout comme $c_{1}\\,x_{1}(t)+c_{2}\\,x_{2}(t)$, i.e. les solutions de \\eqref{eqCauchy2b0} forment un espace vectoriel. De plus si $b_{1}(t)=b_{2}(t)$, $c_{1}=-c_{2}=1$ et $x_{1}(t)$ est solution de \\eqref{eqCauchy2}, alors $x_{2}(t)$ est aussi solution de \\eqref{eqCauchy2}. Donc les solutions de \\eqref{eqCauchy2} sont obtenues en additionnant une solution particulière de \\eqref{eqCauchy2} aux solutions de \\eqref{eqCauchy2b0}."
   ]
  },
  {
   "cell_type": "markdown",
   "metadata": {
    "slideshow": {
     "slide_type": "subslide"
    }
   },
   "source": [
    "### 1.4.1 Résolvante"
   ]
  },
  {
   "cell_type": "markdown",
   "metadata": {},
   "source": [
    "Les solutions de \\eqref{eqCauchy2b0} forment un espace vectoriel dont on peut construire une base en considérant la *résolvante*, c'est à dire la famille de matrices $\\Phi(t,s)$ définie par:\n",
    "\n",
    "\\begin{align}\n",
    "\\label{eqCauchy2Resolvante}\n",
    "  \\frac{{\\rm d}}{{\\rm d} t} \\Phi(t,s) = A(t)\\,\\Phi(t,s)\\,,\\ t\\geq 0\\,,\\ \\Phi(s,s)=I\n",
    "\\end{align}\n",
    "\n",
    "pour tous $0\\leq s\\leq t$; alors les colonnes de $\\Phi(t,0)$ forment une base de l'ensemble des solutions de \\eqref{eqCauchy2b0}  [[Agarwal and O'Regan2008](#cite-agarwal2008a) p. 116].\n",
    "\n",
    "\n",
    "On peut expliciter $\\Phi$ en utilisant les approximation successives de Picard: $\\Phi^{(0)}(t,s)=I$, puis les itérations $\\Phi^{(n+1)}(t,s)=I+\\int_{s}^t A(r)\\,\\Phi(t,s)\\,{\\rm d} r$ qui convergent donc vers:\n",
    "\n",
    "\\begin{align}\n",
    "\\label{eqCauchy2ResolvanteExplicite}\n",
    "\\Phi(t,s)\n",
    "  =\n",
    "  I\n",
    "  +\\int_{s}^t A(r)\\,{\\rm d} r\n",
    "  +\\int_{s}^t\\int_{s}^{r} A(r)\\,A(r')\\,{\\rm d} r'\\,{\\rm d} r\n",
    "  +\\cdots\n",
    "\\end{align}\n",
    "\n",
    "qui est solution de \\eqref{eqCauchy2Resolvante}. \n",
    "\n",
    "\n",
    "%-----------------------------------\n",
    "\\begin{exercise}\n",
    "Soit $\\Phi(t,s)$ la résolvante de l'équation \\eqref{eqCauchy2}.\n",
    "Montrez que:\n",
    "\n",
    "$$\n",
    "   \\Phi(t,s) = \\Phi(t,r)\\times \\Phi(r,s)\n",
    "$$\n",
    "\n",
    "et en particulier $\\Phi(t,s) = \\Phi(s,t)^{-1}$ et $\\Phi(t,t)=I$.\n",
    "\\end{exercise}\n",
    "%-----------------------------------\n",
    "\n"
   ]
  },
  {
   "cell_type": "markdown",
   "metadata": {
    "slideshow": {
     "slide_type": "subslide"
    }
   },
   "source": [
    "Lorsque $A(t)\\equiv A$, l'équation \\eqref{eqCauchy2ResolvanteExplicite} devient \n",
    "\n",
    "$$\n",
    "\\Phi(t,s)\n",
    "  =\n",
    "  I\n",
    "  + (t-s)\\,A\n",
    "  + \\frac12 (t-s)^2\\,A^2\n",
    "  + \\frac1{3!} (t-s)^3\\,A^3\n",
    "  +\\cdots\n",
    "$$\n",
    "\n",
    "qui est une série absolument convergente que l'on appelle exponentielle de la matrice $(t-s)\\,A$:\n",
    "\n",
    "$$\n",
    "  \\Phi(t,s)\n",
    "  =\n",
    "  \\Phi(t-s)\n",
    "  =\n",
    "  e^{(t-s)\\,A}\n",
    "$$\n",
    "\n",
    "où l'on note\n",
    "\n",
    "$$\n",
    "  e^{M}\n",
    "  :=\n",
    "  \\sum_{n\\in\\mathbb N} \\frac{1}{n!} M^n\n",
    "$$\n",
    "\n",
    "(avec les conventions usuelles $A^0=I$ et $0!=1$).\n",
    "\n",
    "%-----------------------------------\n",
    "\\begin{exercise}\n",
    "Si $M_{1}$ et $M_{2}$ sont des matrices carrées qui commutent alors $e^{M_{1}}\\,e^{M_{2}} = e^{M_{2}}\\,e^{M_{1}} = e^{M_{1}+M_{2}}$. Si $M$ est une matrice carrée alors $e^M$ est inversible et son inverse est $e^{-M}$. Si $C$ est inversible alors $e^{CMC^{-1}}=C\\,e^{M}\\,C^{-1}$.\n",
    "\\end{exercise}\n",
    "%-----------------------------------"
   ]
  },
  {
   "cell_type": "markdown",
   "metadata": {
    "slideshow": {
     "slide_type": "subslide"
    }
   },
   "source": [
    "### 1.4.2 Solution générale"
   ]
  },
  {
   "cell_type": "markdown",
   "metadata": {},
   "source": [
    "Une fois la résolvante obtenue, afin de déterminer les solutions de \\eqref{eqCauchy2} on utilise la méthode de variation des constantes. On fera appel aux résultats de l'exercice précédent.\n",
    "\n",
    "On cherche une fonction $y(t)$ telle que $x(t)=\\Phi(t,0)\\,y(t)$ soit solution  de \\eqref{eqCauchy2}, c'est à dire telle que:\n",
    "\n",
    "$$\n",
    "  \\dot \\Phi(t,0)\\,y(t)+ \\Phi(t,0)\\,\\dot y(t)\n",
    "  =\n",
    "  A(t)\\,\\Phi(t,0)\\,y(t)+b(t)\n",
    "$$\n",
    "\n",
    "ce qui donne $\\Phi(t,0)\\,\\dot y(t) = b(t)$, donc:\n",
    "\n",
    "$$\n",
    "\\dot y(t) = \\Phi(t,0)^{-1}\\,b(t) = \\Phi(0,t)\\,b(t)\n",
    "$$\n",
    "\n",
    "et ainsi, la fonction  $y(t)$ s'écrit:\n",
    "\n",
    "$$\n",
    "y(t)  = y(0) + \\int_{0}^t \\Phi(0,t)\\,b(t){\\rm d} t\n",
    "$$\n",
    "\n",
    "Enfin $x(0)=\\Phi(0,0)\\,y(0)=y(0)$, donc la solution de \\eqref{eqCauchy2} s'écrit\n",
    "\n",
    "$$\n",
    "x(t) = \\Phi(t,0) \\,x_{0} +\\Phi(t,0) \\,\\int_{0}^t \\Phi(0,s)\\,B(s)\\,{\\rm d} s\n",
    "$$\n",
    "\n",
    "ou encore\n",
    "\n",
    "$$\n",
    "x(t) = \\Phi(t,0) \\,x_{0} + \\int_{0}^t \\Phi(t,s)\\,B(s)\\,{\\rm d} s\n",
    "$$\n",
    "\n",
    "Lorsque $A(t)\\equiv A$, alors $\\Phi(t,s)=e^{A\\,(t-s)}$ et \n",
    "$$\n",
    "x(t) = e^{A\\,t} \\,x_{0} + \\,\\int_{0}^t e^{A\\,(t-s)}\\,B(s)\\,{\\rm d} s\\,.\n",
    "$$\n"
   ]
  },
  {
   "cell_type": "markdown",
   "metadata": {
    "slideshow": {
     "slide_type": "slide"
    }
   },
   "source": [
    "## 1.5 Comportement asymptotique"
   ]
  },
  {
   "cell_type": "markdown",
   "metadata": {},
   "source": [
    "On considère le problème de Cauchy autonome suivant:\n",
    "\n",
    "\\begin{equation}\n",
    "\\label{eqCauchy2Auto}\n",
    "  \\dot x(t) = f(x(t))\\,,\\ t\\geq 0\\,,\\ x(0)=x_{0}\n",
    "\\end{equation}\n",
    "\n",
    "pour laquelle on suppose qu'il existe une solution globale. On peut par exemple supposé que $f$ est globalement lipschitzienne.\n",
    "\n",
    "Supposons que la solution $x(t)$ de \\eqref{eqCauchy2Auto} converge vers un point $x^*$ de $\\mathbb{R}^d$, alors nécessairement $x(t)$ va cesser d'évoluer au ``bout d'un certain temps'' de telle sorte que $\\dot x(t)=0$ et donc néces\\-sairement $f(x^*)=0$. Un tel point est appelé **point d'équilibre** de l'équation différentielle. Dans un premier temps sans se poser la question du comportement asymptotique de la solution de l'EDO, on peut chercher à déterminer les points d'équilibre de l'EDO.\n",
    "\n",
    "Dans un second temps, on peut chercher à caractériser la nature de ces points d'équilibre. Un point d'équilibre $x^*$ sera dit \\emph{stable}\\index{point d'équilibre!stable} si:\n",
    "\n",
    "\\begin{align}\n",
    "\\label{eqStable}\n",
    "  \\forall \\epsilon>0\\,,\\ \\exists \\eta>0\\,:\\ \n",
    "  |x_{0}-x^*| <\\eta \\Rightarrow |x(t)-x^*|<\\epsilon\\,,\\ \\forall t\\geq 0\\,.\n",
    "\\end{align}\n",
    "\n",
    "Si de plus:\n",
    "\n",
    "\\begin{align}\n",
    "\\label{eqAsymptotiquementStable}\n",
    "  |x(t)-x^*|\\to 0\\textrm{ lorsque }t\\to \\infty\n",
    "\\end{align}\n",
    "\n",
    "alors le point est dit **asymptotiquement stable**. Un point d'équilibre qui n'est pas stable est dit **instable**."
   ]
  },
  {
   "cell_type": "markdown",
   "metadata": {
    "slideshow": {
     "slide_type": "subslide"
    }
   },
   "source": [
    "### 1.5.1 Cas linéaire"
   ]
  },
  {
   "cell_type": "markdown",
   "metadata": {},
   "source": [
    "On considère le problème de Cauchy autonome linéaire suivant:\n",
    "\n",
    "\\begin{align}\\label{eqCauchyLin}\n",
    "  \\dot x(t) = A\\,x(t)\\,,\\ t\\geq 0\\,,\\ x(0)=x_{0}\n",
    "\\end{align}\n",
    "\n",
    "Il est bien connu que le comportement asymptotique de la solution de cette équation est liée aux propriétés spectrales de la matrice; on note $Sp(A)$ le spectre de la matrice $A$, c'est à dire l'ensemble de ses valeurs propres. \n",
    "\n",
    "Le point $0$ est un point d'équilibre de \\eqref{eqCauchyLin} et:\n",
    "\n",
    "- $0$ est asymptotiquement stable ssi $Re(\\lambda)<0$ pour tout $\\lambda\\in Sp(A)$;\n",
    "- $0$ est stable ssi pour tout $\\lambda\\in Sp(A)$:\n",
    "   - $Re(\\lambda)\\leq 0$;\n",
    "   - et lorsque $Re(\\lambda) = 0$ alors la multiplicité géométrique de $\\lambda$ correspond à sa multiplicité algébrique (la multiplicité géométrique de $\\lambda$ est la dimension du noyau de $A-\\lambda\\,I$; la multiplicité algébrique de $\\lambda$ est la multiplicité comme  racine du polynôme caractéristique).\n",
    "\n",
    "Ce résultat s'appuie en fait sur la compréhension de la résolvante du système \\eqref{eqCauchyLin} qui est en effet donnée par [[Agarwal and O'Regan 2008](#cite-agarwal2008a)  p. 133]:\n",
    "\n",
    "$$\n",
    "  \\Phi(t,0)\n",
    "  =\n",
    "  \\bigl[ e^{\\lambda_{1}\\,t}\\,v_{1},\\dots,e^{\\lambda_{n}\\,t}\\,v_{n}\\bigr]\n",
    "$$\n",
    "où $\\lambda_{i}$ sont les valeurs propres de $A$ et $v_{i}$ des vecteurs propres associés."
   ]
  },
  {
   "cell_type": "markdown",
   "metadata": {
    "slideshow": {
     "slide_type": "subslide"
    }
   },
   "source": [
    "### 1.5.2 Cas non-linéaire"
   ]
  },
  {
   "cell_type": "markdown",
   "metadata": {},
   "source": [
    "On considère le problème de Cauchy autonome non-linéaire suivant:\n",
    "\n",
    "\\begin{align}\n",
    "\\label{eqCauchy2Nl}\n",
    "  \\dot x(t) = f(x(t))\\,,\\ t\\geq 0\\,,\\ x(0)=x_{0}\n",
    "\\end{align}\n",
    "\n",
    "et $x^*$ un point d'équilibre. On suppose $f$ différentiable et à dérivées continues.\n",
    "\n",
    "On peut supposer que $f(0)=0$ et donc que $x^*=0$ en faisant le changement de variable $x\\to x-x^*$ dans \\eqref{eqCauchy2Nl}. On se place donc dans le cas $f(0)=0$ et on étudie les propriétés du point d'équilibre 0.  On note $J_f(0)$ la matrice jacobienne de $f$ au point d'équilibre~$0$. \n",
    "\n",
    "%-----------------------------------\n",
    "\\begin{exercise}\n",
    "Etudiez les points d'équilibre de l'équation logistique.\n",
    "\\end{exercise}\n",
    "%-----------------------------------"
   ]
  },
  {
   "cell_type": "markdown",
   "metadata": {
    "slideshow": {
     "slide_type": "subslide"
    }
   },
   "source": [
    "#### 1.5.2.1 Linéarisation"
   ]
  },
  {
   "cell_type": "markdown",
   "metadata": {},
   "source": [
    "Une méthode classique consiste à étudier le système linéarisé en $0$:\n",
    "\n",
    "\\begin{align}\n",
    "\\label{eqCauchy2NlLinearise}\n",
    "  \\dot x(t) = J_f(0)\\,x(t)\\,,\\ t\\geq 0\\,,\\ x(0)=x_{0}\n",
    "\\end{align}\n",
    "\n",
    "où $J_f(x)$ est la matrice jacobienne de $f$ en $x$:\n",
    "$$\n",
    "J_f(x)\n",
    "   :=\n",
    "   \\left(\\begin{matrix}\n",
    "      \\partial f_{1}(x)/\\partial x_{1} & \n",
    "      \\partial f_{1}(x)/\\partial x_{2} &\n",
    "      \\cdots & \n",
    "      \\partial f_{1}(x)/\\partial x_{d} & \n",
    "   \\\\\n",
    "      \\partial f_{2}(x)/\\partial x_{1} & \n",
    "      \\partial f_{2}(x)/\\partial x_{2} &\n",
    "      \\cdots & \n",
    "      \\partial f_{2}(x)/\\partial x_{d} & \n",
    "   \\\\\n",
    "      \\vdots  & \n",
    "      \\vdots &\n",
    "       & \n",
    "      \\vdots & \n",
    "   \\\\[0.5em]\n",
    "      \\partial f_{d}(x)/\\partial x_{1} & \n",
    "      \\partial f_{d}(x)/\\partial x_{2} &\n",
    "      \\cdots & \n",
    "      \\partial f_{d}(x)/\\partial x_{d} & \n",
    "   \\end{matrix}\\right)\n",
    "$$\n",
    "\n",
    "Alors:\n",
    "- si pour tout $\\lambda\\in Sp(J_f(0))$  on a $\\Re(\\lambda)<0$   alors $0$ est asymptotiquement stable pour \\eqref{eqCauchy2Nl};\n",
    "- s'il existe  $\\lambda\\in Sp(J_f(0))$  tel que $\\Re(\\lambda)>0$ alors $0$ est instable  pour \\eqref{eqCauchy2Nl}.\n",
    "\n",
    "\n",
    "Si toutes les valeurs propres ont des parties réelles nulles alors $0$ est stable pour \\eqref{eqCauchy2NlLinearise} mais on ne peut rien dire de $0$ pour \\eqref{eqCauchy2Nl}."
   ]
  },
  {
   "cell_type": "markdown",
   "metadata": {
    "slideshow": {
     "slide_type": "subslide"
    }
   },
   "source": [
    "#### 1.5.2.2 Approche de Lyapounov"
   ]
  },
  {
   "cell_type": "markdown",
   "metadata": {},
   "source": [
    "On se place dans un voisinage $\\mathcal{V}$ de $0$, une fonction $V:\\mathcal{V}\\mapsto\\mathbb R$ continue et différentiable sur $\\mathcal{V}\\setminus\\{0\\}$ est appelée *fonction de Lypounov* si:\n",
    "\n",
    "- $V(0)=0$ et $V(x)>0$ pour tout $x\\in \\mathcal{V}\\setminus\\{0\\}$;\n",
    "- $f(u)\\,\\nabla V(u)\\leq 0$ pour tout $x\\in \\mathcal{V}\\setminus\\{0\\}$.\n",
    "\n",
    "On a alors le résultat suivant: s'il existe une fonction de Lyapounov pour \\eqref{eq.cauchy2.nl} alors le point d'équilibre $0$ est stable."
   ]
  },
  {
   "cell_type": "markdown",
   "metadata": {
    "slideshow": {
     "slide_type": "slide"
    }
   },
   "source": [
    "## 1.6 Approximation d'Euler"
   ]
  },
  {
   "cell_type": "markdown",
   "metadata": {},
   "source": [
    "On considère une solution $x(t)$ du problème de Cauchy  \\eqref{eq.cauchy} définie pour $t\\in[0,T]$ avec $t_{0}=0$. \n",
    "On se donne $\\delta>0$, on pose $t_{k}=k\\,\\delta$ et on introduit l'approximation d'Euler\\index{schéma d'approximation} de $x(t)$:\n",
    "\n",
    "\\begin{align}\n",
    "\\label{eqEuler}\n",
    "   x^{\\delta}(t) \n",
    "   = \n",
    "   x^{\\delta}(t_{k})+(t-t_{k})\\,f(t_{k},x^\\delta(t_{k}))\n",
    "\\end{align}\n",
    "\n",
    "pour $t\\in[t_{k},t_{k+1}]$; $\\delta$ est le pas de l'approximation.\n",
    "\n",
    "\n",
    "\\begin{proposition}[convergence du schéma d'Euler]\n",
    "Supposons $f$ est continue et à dérivée bornée (et donc globalement lipschitzienne), alors:\n",
    "\n",
    "$$\n",
    "\\sup_{0\\leq t\\leq T} |x^\\delta(t)-x(t)|\n",
    "  \\leq C\\,(|x^\\delta(0)-x(0)|+\\delta)\n",
    "$$\n",
    "\n",
    "où la constante $C$ dépend notamment de $T$.\n",
    "\\end{proposition}\n"
   ]
  },
  {
   "cell_type": "markdown",
   "metadata": {
    "slideshow": {
     "slide_type": "skip"
    }
   },
   "source": [
    "<!--bibtex\n",
    "\n",
    "@book{agarwal2008a,\n",
    "\tAuthor = {R.P. Agarwal and D. O'Regan},\n",
    "\tPublisher = {Springer},\n",
    "\tTitle = {An introduction to ordinary differential equations},\n",
    "\tYear = {2008}}\n",
    "\n",
    " \n",
    "@book{benzoni2010a,\n",
    "\tAuthor = {Sylvie Benzoni-Gavage},\n",
    "\tPublisher = {Dunod},\n",
    "\tTitle = {Calcul diff{\\'e}rentiel et équations diff{\\'e}rentielles},\n",
    "\tYear = {2010}}\n",
    "\n",
    "@book{boularas2009a,\n",
    "\tAuthor = {Driss Boularas and Daniel Fredon and Daniel Petit},\n",
    "\tPublisher = {Dunod},\n",
    "\tTitle = {Mini Manuel de Mathématiques pour les sciences de la vie et de l'environnement},\n",
    "\tYear = {2009}}\n",
    "\n",
    "@book{demailly2006a,\n",
    "\tAuthor = {Demailly, J.P.},\n",
    "\tOpturl = {http://books.google.fr/books?id=2yTLzzm3N6kC},\n",
    "\tPublisher = {EDP Sciences},\n",
    "\tTitle = {Analyse num{\\'e}rique et équations fiff{\\'e}rentielles},\n",
    "\tYear = {2006}}\n",
    "\n",
    "-->"
   ]
  },
  {
   "cell_type": "markdown",
   "metadata": {
    "slideshow": {
     "slide_type": "slide"
    }
   },
   "source": [
    "# References\n",
    "\n",
    "<a name=\"cite-benzoni2010a\"/><sup>[^](#ref-1) [^](#ref-5) </sup>Sylvie Benzoni-Gavage. 2010. _Calcul diff&eacute;rentiel et équations diff&eacute;rentielles_.\n",
    "\n",
    "<a name=\"cite-demailly2006a\"/><sup>[^](#ref-2) </sup>Demailly, J.P.. 2006. _Analyse num&eacute;rique et équations fiff&eacute;rentielles_.\n",
    "\n",
    "<a name=\"cite-boularas2009a\"/><sup>[^](#ref-3) </sup>Driss Boularas and Daniel Fredon and Daniel Petit. 2009. _Mini Manuel de Mathématiques pour les sciences de la vie et de l'environnement_.\n",
    "\n",
    "<a name=\"cite-agarwal2008a\"/><sup>[^](#ref-4) [^](#ref-6) </sup>R.P. Agarwal and D. O'Regan. 2008. _An introduction to ordinary differential equations_.\n",
    "\n"
   ]
  }
 ],
 "metadata": {
  "anaconda-cloud": {},
  "celltoolbar": "Slideshow",
  "kernelspec": {
   "display_name": "Python [default]",
   "language": "python",
   "name": "python3"
  },
  "language_info": {
   "codemirror_mode": {
    "name": "ipython",
    "version": 3
   },
   "file_extension": ".py",
   "mimetype": "text/x-python",
   "name": "python",
   "nbconvert_exporter": "python",
   "pygments_lexer": "ipython3",
   "version": "3.5.2"
  },
  "latex_envs": {
   "LaTeX_envs_menu_present": true,
   "bibliofile": "biblio.bib",
   "cite_by": "apalike",
   "current_citInitial": 1,
   "eqLabelWithNumbers": true,
   "eqNumInitial": 1,
   "labels_anchors": false,
   "latex_user_defs": false,
   "report_style_numbering": false,
   "user_envs_cfg": false
  },
  "nbpresent": {
   "slides": {
    "2370c56b-61f1-404c-af0f-84176bc33cff": {
     "id": "2370c56b-61f1-404c-af0f-84176bc33cff",
     "prev": "7f712783-530e-4ce2-877c-8e9a465e992a",
     "regions": {
      "2fa00e09-8012-4978-86ca-177a886cc672": {
       "attrs": {
        "height": 0.8,
        "width": 0.8,
        "x": 0.1,
        "y": 0.1
       },
       "content": {
        "cell": "fb0bd62c-c76b-4387-a64e-21049cbfc11a",
        "part": "whole"
       },
       "id": "2fa00e09-8012-4978-86ca-177a886cc672"
      }
     }
    },
    "3745cb09-8bfb-46c4-9f28-09cca6df92e9": {
     "id": "3745cb09-8bfb-46c4-9f28-09cca6df92e9",
     "prev": "2370c56b-61f1-404c-af0f-84176bc33cff",
     "regions": {
      "ed03c2f3-604e-481e-aeb1-10c05f38efec": {
       "attrs": {
        "height": 0.8,
        "width": 0.8,
        "x": 0.1,
        "y": 0.1
       },
       "content": {
        "cell": "20ac6e31-554f-4c02-a4f2-a4ab6aa70189",
        "part": "whole"
       },
       "id": "ed03c2f3-604e-481e-aeb1-10c05f38efec"
      }
     }
    },
    "4b353193-8407-43e4-97e3-9521567f2f8c": {
     "id": "4b353193-8407-43e4-97e3-9521567f2f8c",
     "prev": null,
     "regions": {
      "9c442883-364e-47f7-8b98-6ad200b042d2": {
       "attrs": {
        "height": 0.8,
        "width": 0.8,
        "x": 0.1,
        "y": 0.1
       },
       "content": {
        "cell": "d038ae08-ee50-4ad2-9aa5-3dc09b3cb033",
        "part": "whole"
       },
       "id": "9c442883-364e-47f7-8b98-6ad200b042d2"
      }
     }
    },
    "7f712783-530e-4ce2-877c-8e9a465e992a": {
     "id": "7f712783-530e-4ce2-877c-8e9a465e992a",
     "prev": "4b353193-8407-43e4-97e3-9521567f2f8c",
     "regions": {
      "72edcf47-fb69-45dd-8444-08d2b40e4d28": {
       "attrs": {
        "height": 0.8,
        "width": 0.8,
        "x": 0.1,
        "y": 0.1
       },
       "content": {
        "cell": "9465da87-3279-4417-aaa7-f66e7f568c1b",
        "part": "whole"
       },
       "id": "72edcf47-fb69-45dd-8444-08d2b40e4d28"
      }
     }
    },
    "a4990c21-44c2-4634-8518-934edff8e434": {
     "id": "a4990c21-44c2-4634-8518-934edff8e434",
     "prev": "3745cb09-8bfb-46c4-9f28-09cca6df92e9",
     "regions": {
      "a8361832-346e-4814-9bd0-076f589af4d4": {
       "attrs": {
        "height": 0.8,
        "width": 0.8,
        "x": 0.1,
        "y": 0.1
       },
       "content": {
        "cell": "e129dde5-54aa-4ea4-94ce-1f9d1e7ad431",
        "part": "whole"
       },
       "id": "a8361832-346e-4814-9bd0-076f589af4d4"
      }
     }
    }
   },
   "themes": {}
  }
 },
 "nbformat": 4,
 "nbformat_minor": 1
}
