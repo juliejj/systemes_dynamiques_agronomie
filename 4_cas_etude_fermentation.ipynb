{
 "cells": [
  {
   "cell_type": "markdown",
   "metadata": {
    "collapsed": false,
    "nbpresent": {
     "id": "807ad54a-89d9-4d52-8f93-83d81c075a95"
    },
    "slideshow": {
     "slide_type": "slide"
    }
   },
   "source": [
    "# Cas d'étude: la fermentation alcoolique"
   ]
  },
  {
   "cell_type": "markdown",
   "metadata": {
    "slideshow": {
     "slide_type": "skip"
    }
   },
   "source": [
    "## Contexte"
   ]
  },
  {
   "cell_type": "markdown",
   "metadata": {
    "slideshow": {
     "slide_type": "subslide"
    }
   },
   "source": [
    "### Etude des levures\n",
    "\n",
    "La fermentation alcoolique est une étape cruciale de la vinification. Généralement réalisée en réacteur batch, elle consiste principalement en la bioconversion (par des levures) du sucre en éthanol et divers métabolites apportant au vin une partie de ses caractéristiques organoleptiques (glycérol, acides organiques, composés d'arômes, etc).\n",
    "\n",
    "<img src=\"./images/Courbes_batch.jpg\" width=\"500\">\n",
    "\n",
    "> La maîtrise de ce procédé implique une bonne connaissance des levures et de leur physiologie.\n",
    "\n",
    "L'étude des levures en batch est difficile car le procédé est dynamique, et l'état des levures change donc en permanence."
   ]
  },
  {
   "cell_type": "markdown",
   "metadata": {
    "slideshow": {
     "slide_type": "subslide"
    }
   },
   "source": [
    "### Fermenteur continu multi-étagé (FCME)\n",
    "\n",
    "C'est afin de pouvoir étudier les levures que des chercheurs de l'UMR SPO (Sciences pour l'Oenologie) ont mis au point un fermenteur continu multi-étagé (FCME), composé de $4$ réacteurs continus (chemostats) en série. \n",
    "\n",
    "<img src=\"./images/PhotoFCME.jpg\" width=\"500\">"
   ]
  },
  {
   "cell_type": "markdown",
   "metadata": {
    "slideshow": {
     "slide_type": "subslide"
    }
   },
   "source": [
    "### Objectif du FCME\n",
    "\n",
    "L'objectif de cet outil est à la fois :\n",
    "- d'obtenir des levures dans des états physiologiques stables\n",
    "- de reproduire, en régime permanent, les différents stades transitoires de la fermentation en réacteur batch. \n",
    "\n",
    "<img src=\"./images/schema_FCME.png\" width=\"600\">"
   ]
  },
  {
   "cell_type": "markdown",
   "metadata": {
    "slideshow": {
     "slide_type": "subslide"
    }
   },
   "source": [
    "<img src=\"./images/FCME_mime.jpg\" width=\"450\">\n",
    "\n",
    "En effet, le FCME permet de passer d'une échelle temporelle à une échelle spatiale avec la possibilité, par exemple, d'obtenir simultanément, dans les différents réacteurs, des levures en phase de croissance et en phase stationnaire, dans un environnement et un état physiologique stable dans le temps."
   ]
  },
  {
   "cell_type": "markdown",
   "metadata": {
    "nbpresent": {
     "id": "0c765ed4-e7de-4af2-bc42-0da5887a2841"
    },
    "slideshow": {
     "slide_type": "slide"
    }
   },
   "source": [
    "## Problématique\n",
    "\n",
    "Les chercheurs de l'UMR SPO ont montré expérimentalement qu'il était possible, en faisant varier les débits d'entrée de chacun des réacteurs, de \"choisir\" la concentration en sucre atteinte, en régime permanent, dans chacun des réacteurs. Ce contrôle se fait pour l'instant de manière manuelle. Le but est maintenant d'automatiser ce contrôle.\n",
    "\n",
    "<img src=\"./images/controle_manuel.jpg\" width=\"450\">"
   ]
  },
  {
   "cell_type": "markdown",
   "metadata": {
    "collapsed": true,
    "nbpresent": {
     "id": "184fef32-b352-477b-ad5b-38fc528389dc"
    },
    "slideshow": {
     "slide_type": "slide"
    }
   },
   "source": [
    "## Fermentation alcoolique\n",
    "\n",
    "La fermentation alcoolique consiste en la conversion par des levures du sucre issu du raisin en alcool. Lors de la fermentation, $4$ composants jouent un rôle essentiel:\n",
    "\n",
    "- le sucre, noté $S$, qui est naturellement présent dans le raisin va être converti en alcool,\n",
    "- l'éthanol (c'est à dire l'alcool), notée $E$, qui est issu de la transformation du sucre du raisin,\n",
    "- les levures que l'on notera $X$. On parlera parfois aussi de biomasse. Ce sont elles qui vont convertir le sucre en alcool. \n",
    "- l'azote notée $N$, qui est nécessaire à la croissance des levures.\n",
    "\n"
   ]
  },
  {
   "cell_type": "markdown",
   "metadata": {
    "slideshow": {
     "slide_type": "subslide"
    }
   },
   "source": [
    "### Schéma réactionnel\n",
    "Le schéma réactionnel d'un procédé de fermentation en batch comprend deux réactions principales:\n",
    "\n",
    "- la levure $X$ croit sur l'azote $N$ qui est le substrat limitant dans le procédé de fermentation:\n",
    "$$  k_1 N \\longrightarrow X $$\n",
    "où $k_1$ est le coefficient de rendement de la conversion de l'azote en levures. \n",
    "\n",
    "-  le sucre $S$ est dégradé enzymatiquement en éthanol $E$ et en $CO_{2}$, cette dégradation étant inhibée par l'éthanol:\n",
    "$$ k_2S \\underset{X}{\\longrightarrow} E+CO_{2},$$\n",
    "où $k_2$ est le coefficient de rendement lié à la dégradation du sucre. \n"
   ]
  },
  {
   "cell_type": "markdown",
   "metadata": {
    "slideshow": {
     "slide_type": "subslide"
    }
   },
   "source": [
    "### Modèle de fermentation batch\n",
    "- La première réaction de croissance de $X$ sur $S$ peut s'exprimer par:\n",
    "$$\n",
    "\\left\\{\\begin{array}{cr}\n",
    "\\frac{dX}{dt}= & \\mu_1(N)X \\\\\n",
    "\\frac{dN}{dt}= & -k_1\\mu_1(N)X \n",
    "\\end{array}\\right.\n",
    "$$\n",
    "où $\\mu_1$ est la fonction de croissance des levures, que l'on supposera sous forme de loi de Monod, c'est à dire de la forme:\n",
    "$$ \\mu_1(N)=\\mu_1^{max}\\frac{N}{K_N+N}$$\n",
    "- La conversion du sucre en éthanol s'écrit de la façon suivante:\n",
    "$$\n",
    "\\left\\{\\begin{array}{cr}\n",
    "\\frac{dE}{dt}= & \\mu_2(E,S)X  \\\\\n",
    "\\frac{dS}{dt}= & -k_2\\mu_2(E,S)X \n",
    "\\end{array}\\right.\n",
    "$$\n",
    "où $\\mu_2$ est la fonction de croissance de l'éthanol, que l'on supposera de la forme:\n",
    "$$ \\mu_2(E,S)=\\mu_2^{max}\\frac{S}{K_S+S}\\frac{K_E}{K_E+E}.$$\n",
    "\n",
    "La quantité $\\mu_2(E,S)X$ représente le taux de production ou vitesse de dégagement de $CO_2$.\n"
   ]
  },
  {
   "cell_type": "markdown",
   "metadata": {
    "slideshow": {
     "slide_type": "subslide"
    }
   },
   "source": [
    "### Fermenteur Continu\n",
    "\n",
    "On s'intéresse maintenant à la fermentation continue. Le fermenteur est alimenté en continu par un moût synthétique avec un débit $Q_{in}$. Pour garder un volume constant $V$, on soutire également du milieu dans le réacteur avec un débit $Q_{out}$ égal à $Q_{in}$.\n",
    "On note $D$ le taux de dilution qui est donné par:\n",
    "$$D=\\frac{Q_{in}}{V}.$$\n",
    "\n",
    "Le moût synthétique comprend uniquement de l'azote et du sucre en concentrations respectives $N_0$ et $S_0$.\n",
    "\n",
    "Le modèle complet du fermenteur continu s'écrit donc finalement:\n",
    "$$\n",
    "\\boxed{\n",
    "\\left\\{\n",
    "\\begin{array}{crl}\n",
    "\\frac{dX}{dt}= & \\mu_1(N)X &-DX\\\\\n",
    "\\frac{dN}{dt}= & -k_1\\mu_1(N)X&+D(N_0-N)  \\\\\n",
    "\\frac{dE}{dt}= & \\mu_2(E,S)X &-DE \\\\\n",
    "\\frac{dS}{dt}= & -k_2\\mu_2(E,S)X&+D(S_0-S) \n",
    "\\end{array}\n",
    "\\right.\n",
    "\\text{ avec }\n",
    "\\left\\{\n",
    "\\begin{array}{lcr}\n",
    " \\mu_1(N)&=&\\mu_1^{max}\\frac{N}{K_N+N}\\\\\n",
    " \\mu_2(E,S)&=&\\mu_2^{max}\\frac{S}{K_S+S}\\frac{K_E}{K_E+E}.\n",
    "\\end{array}\n",
    "\\right. \n",
    "}\n",
    "$$\n",
    "\n",
    "Tous les paramètres du modèle sont supposés strictement positifs:\n",
    "$$ k_1,\\,k_2,\\,\\mu_1^{max},\\,\\mu_2^{max},\\,K_E,\\,K_S>0.$$"
   ]
  },
  {
   "cell_type": "markdown",
   "metadata": {
    "slideshow": {
     "slide_type": "slide"
    }
   },
   "source": [
    "## Application des concepts vu dans le cours au cas d'étude\n",
    "\n",
    "Par simplicité on ne considèrera qu'un seul réacteur au lieu de quatre.\n",
    "\n",
    "L'étude de ce cas se déroulera en trois étapes qui correspondent aux trois journées de la formation:\n",
    "\n",
    "- Simulation et analyse\n",
    "- Identification des paramètres du modèle\n",
    "- Contrôle de la concentration en sucre"
   ]
  },
  {
   "cell_type": "code",
   "execution_count": null,
   "metadata": {
    "collapsed": true
   },
   "outputs": [],
   "source": []
  }
 ],
 "metadata": {
  "anaconda-cloud": {},
  "celltoolbar": "Slideshow",
  "kernelspec": {
   "display_name": "Python [default]",
   "language": "python",
   "name": "python3"
  },
  "language_info": {
   "codemirror_mode": {
    "name": "ipython",
    "version": 3
   },
   "file_extension": ".py",
   "mimetype": "text/x-python",
   "name": "python",
   "nbconvert_exporter": "python",
   "pygments_lexer": "ipython3",
   "version": "3.5.2"
  },
  "latex_envs": {
   "LaTeX_envs_menu_present": true,
   "bibliofile": "biblio.bib",
   "cite_by": "apalike",
   "current_citInitial": 1,
   "eqLabelWithNumbers": true,
   "eqNumInitial": 1,
   "labels_anchors": false,
   "latex_user_defs": false,
   "report_style_numbering": false,
   "user_envs_cfg": false
  },
  "nbpresent": {
   "slides": {
    "07e6a460-a4ba-4c53-9572-d101ff8dea6c": {
     "id": "07e6a460-a4ba-4c53-9572-d101ff8dea6c",
     "prev": "7fca2c18-45c9-4db8-bfe7-cea04caf67d3",
     "regions": {
      "8ebbc6ee-03b7-475f-8c02-c0fc458c8046": {
       "attrs": {
        "height": 0.8,
        "width": 0.8,
        "x": 0.1,
        "y": 0.1
       },
       "content": {
        "cell": "63efc5de-42ae-4ae5-8a9d-ae251344c407",
        "part": "whole"
       },
       "id": "8ebbc6ee-03b7-475f-8c02-c0fc458c8046"
      }
     }
    },
    "0aa33b04-2ead-4fb7-82ac-781ce4a6b2d2": {
     "id": "0aa33b04-2ead-4fb7-82ac-781ce4a6b2d2",
     "prev": null,
     "regions": {
      "6d1b9ed0-fd2e-49f7-9b91-4f20e31a1d9c": {
       "attrs": {
        "height": 0.8,
        "width": 0.8,
        "x": 0.1,
        "y": 0.1
       },
       "content": {
        "cell": "0c765ed4-e7de-4af2-bc42-0da5887a2841",
        "part": "whole"
       },
       "id": "6d1b9ed0-fd2e-49f7-9b91-4f20e31a1d9c"
      }
     }
    },
    "25204994-df75-45fe-addc-afbdac66cfca": {
     "id": "25204994-df75-45fe-addc-afbdac66cfca",
     "prev": "4ef7fd0e-8f2e-4ee9-9539-2c09c29e4d1f",
     "regions": {
      "3e1ff6bf-aaa6-4bb1-9583-93a2a1c34014": {
       "attrs": {
        "height": 0.8,
        "width": 0.8,
        "x": 0.1,
        "y": 0.1
       },
       "content": {
        "cell": "d6e6f062-3c13-4dba-ad2a-4b56f65be418",
        "part": "whole"
       },
       "id": "3e1ff6bf-aaa6-4bb1-9583-93a2a1c34014"
      }
     }
    },
    "39c39b33-6efa-4109-bd75-c5c84d06b675": {
     "id": "39c39b33-6efa-4109-bd75-c5c84d06b675",
     "prev": "07e6a460-a4ba-4c53-9572-d101ff8dea6c",
     "regions": {
      "9ab43b16-9633-477a-86a2-d6b5230ca6c9": {
       "attrs": {
        "height": 0.8,
        "width": 0.8,
        "x": 0.1,
        "y": 0.1
       },
       "content": {
        "cell": "39aa6d75-1f80-49d2-9878-d5b773b4bf66",
        "part": "whole"
       },
       "id": "9ab43b16-9633-477a-86a2-d6b5230ca6c9"
      }
     }
    },
    "3c47ee9c-09b5-4b3c-856d-8cf27b481ec0": {
     "id": "3c47ee9c-09b5-4b3c-856d-8cf27b481ec0",
     "prev": "7287ac15-c42a-4777-97a3-884493c23069",
     "regions": {
      "74fe33a1-54d4-4298-8b34-b745dcd15714": {
       "attrs": {
        "height": 0.8,
        "width": 0.8,
        "x": 0.1,
        "y": 0.1
       },
       "content": {
        "cell": "017b43f0-59ba-4fae-bea2-41d78b8186e5",
        "part": "whole"
       },
       "id": "74fe33a1-54d4-4298-8b34-b745dcd15714"
      }
     }
    },
    "4ef7fd0e-8f2e-4ee9-9539-2c09c29e4d1f": {
     "id": "4ef7fd0e-8f2e-4ee9-9539-2c09c29e4d1f",
     "prev": "f367e2ad-370a-485a-a720-22107a713586",
     "regions": {
      "e78e24bb-c4e4-474e-b961-446cc976844f": {
       "attrs": {
        "height": 0.8,
        "width": 0.8,
        "x": 0.1,
        "y": 0.1
       },
       "content": {
        "cell": "8244a81e-ebca-4d87-9b5d-86d96758f8d4",
        "part": "whole"
       },
       "id": "e78e24bb-c4e4-474e-b961-446cc976844f"
      }
     }
    },
    "58d6e727-61c0-4372-a242-d0b57a6d0aec": {
     "id": "58d6e727-61c0-4372-a242-d0b57a6d0aec",
     "prev": "e4b2b807-7582-44a1-9aa2-f007e6acd75f",
     "regions": {
      "71054266-82eb-428e-a4e8-7c25ca7b1b6d": {
       "attrs": {
        "height": 0.8,
        "width": 0.8,
        "x": 0.1,
        "y": 0.1
       },
       "content": {
        "cell": "c8c1eb8a-e1d2-4cd1-abb9-d00c752bc7d5",
        "part": "whole"
       },
       "id": "71054266-82eb-428e-a4e8-7c25ca7b1b6d"
      }
     }
    },
    "6ccbd6fc-d25b-43d3-a70c-d43f7b47dff4": {
     "id": "6ccbd6fc-d25b-43d3-a70c-d43f7b47dff4",
     "prev": "0aa33b04-2ead-4fb7-82ac-781ce4a6b2d2",
     "regions": {
      "3897df41-b451-468b-b138-976473c90494": {
       "attrs": {
        "height": 0.8,
        "width": 0.8,
        "x": 0.1,
        "y": 0.1
       },
       "content": {
        "cell": "184fef32-b352-477b-ad5b-38fc528389dc",
        "part": "whole"
       },
       "id": "3897df41-b451-468b-b138-976473c90494"
      }
     }
    },
    "7287ac15-c42a-4777-97a3-884493c23069": {
     "id": "7287ac15-c42a-4777-97a3-884493c23069",
     "prev": "e4720b25-5d77-472a-a508-740bf01b0d1b",
     "regions": {
      "e0dedc90-afc1-408c-b8a6-14c6e10e075d": {
       "attrs": {
        "height": 0.8,
        "width": 0.8,
        "x": 0.1,
        "y": 0.1
       },
       "content": {
        "cell": "7ad991d3-e9bc-4dc4-a7a1-abec3e87d641",
        "part": "whole"
       },
       "id": "e0dedc90-afc1-408c-b8a6-14c6e10e075d"
      }
     }
    },
    "7fca2c18-45c9-4db8-bfe7-cea04caf67d3": {
     "id": "7fca2c18-45c9-4db8-bfe7-cea04caf67d3",
     "prev": "bbfd0400-41c8-4b4d-a417-6621a96f6e2e",
     "regions": {
      "c2932076-be92-4aaf-aca3-620af06445f6": {
       "attrs": {
        "height": 0.8,
        "width": 0.8,
        "x": 0.1,
        "y": 0.1
       },
       "content": {
        "cell": "c8cd87ff-b0db-4d26-bcc0-e5f40047a9c6",
        "part": "whole"
       },
       "id": "c2932076-be92-4aaf-aca3-620af06445f6"
      }
     }
    },
    "bbfd0400-41c8-4b4d-a417-6621a96f6e2e": {
     "id": "bbfd0400-41c8-4b4d-a417-6621a96f6e2e",
     "prev": "e78b3a84-8c4a-4f50-8397-3b8c54956799",
     "regions": {
      "c0968ee1-2a3f-48f4-b753-c0a777176d6a": {
       "attrs": {
        "height": 0.8,
        "width": 0.8,
        "x": 0.1,
        "y": 0.1
       },
       "content": {
        "cell": "4636146b-a3ed-4565-bd3d-203ed55b0209",
        "part": "whole"
       },
       "id": "c0968ee1-2a3f-48f4-b753-c0a777176d6a"
      }
     }
    },
    "e4720b25-5d77-472a-a508-740bf01b0d1b": {
     "id": "e4720b25-5d77-472a-a508-740bf01b0d1b",
     "prev": "39c39b33-6efa-4109-bd75-c5c84d06b675",
     "regions": {
      "f08c488f-717e-46dd-80ee-1f8a45e611a3": {
       "attrs": {
        "height": 0.8,
        "width": 0.8,
        "x": 0.1,
        "y": 0.1
       },
       "content": {
        "cell": "fc9e338e-179e-4bea-9ffc-7ffa52d06f99",
        "part": "whole"
       },
       "id": "f08c488f-717e-46dd-80ee-1f8a45e611a3"
      }
     }
    },
    "e4b2b807-7582-44a1-9aa2-f007e6acd75f": {
     "id": "e4b2b807-7582-44a1-9aa2-f007e6acd75f",
     "prev": "6ccbd6fc-d25b-43d3-a70c-d43f7b47dff4",
     "regions": {
      "c0c8f1f7-b67b-43e9-8e36-da444342c0d6": {
       "attrs": {
        "height": 0.8,
        "width": 0.8,
        "x": 0.1,
        "y": 0.1
       },
       "content": {
        "cell": "3f7cd8cf-b424-49da-b53c-c37a13ee0c2e",
        "part": "whole"
       },
       "id": "c0c8f1f7-b67b-43e9-8e36-da444342c0d6"
      }
     }
    },
    "e78b3a84-8c4a-4f50-8397-3b8c54956799": {
     "id": "e78b3a84-8c4a-4f50-8397-3b8c54956799",
     "prev": "58d6e727-61c0-4372-a242-d0b57a6d0aec",
     "regions": {
      "83f014d5-a514-4d72-8919-3261f8c5e83f": {
       "attrs": {
        "height": 0.8,
        "width": 0.8,
        "x": 0.1,
        "y": 0.1
       },
       "content": {
        "cell": "e552ca4f-6634-46b0-9671-06166d9a43d2",
        "part": "whole"
       },
       "id": "83f014d5-a514-4d72-8919-3261f8c5e83f"
      }
     }
    },
    "f367e2ad-370a-485a-a720-22107a713586": {
     "id": "f367e2ad-370a-485a-a720-22107a713586",
     "prev": "3c47ee9c-09b5-4b3c-856d-8cf27b481ec0",
     "regions": {
      "71320ce3-4f62-4ffb-8764-f3151a06160d": {
       "attrs": {
        "height": 0.8,
        "width": 0.8,
        "x": 0.1,
        "y": 0.1
       },
       "content": {
        "cell": "e38a99ae-5823-463b-8b16-4fa1369febe5",
        "part": "whole"
       },
       "id": "71320ce3-4f62-4ffb-8764-f3151a06160d"
      }
     }
    }
   },
   "themes": {}
  }
 },
 "nbformat": 4,
 "nbformat_minor": 1
}
