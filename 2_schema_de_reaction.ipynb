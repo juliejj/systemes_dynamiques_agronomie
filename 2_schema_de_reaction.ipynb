{
 "cells": [
  {
   "cell_type": "markdown",
   "metadata": {
    "slideshow": {
     "slide_type": "slide"
    }
   },
   "source": [
    "# Schémas de réaction\n",
    "\n",
    "Voir le cours [Modélisation et analyse des systèmes dynamiques](http://perso.uclouvain.be/georges.bastin/sysdyn.pdf)\n",
    "de [Georges Bastin](http://perso.uclouvain.be/georges.bastin/)."
   ]
  },
  {
   "cell_type": "markdown",
   "metadata": {
    "slideshow": {
     "slide_type": "slide"
    }
   },
   "source": [
    "Cette approche s'inspire de la [cinétique chimique](https://fr.wikipedia.org/wiki/Cinétique_chimique)\n",
    "où existe la notion d'espèce.\n",
    "\n",
    "\n",
    "Dans un volume $V$ on considère:\n",
    "\n",
    "- $N$ espèces $S_{i}$, $i=1,\\dots,N$\n",
    "- sujettes à $M$ réactions $R_{j}$,  $j=1,\\dots,M$\n",
    "\n",
    "<img src=\"./images/volume_reactions.pdf\" alt=\"reactions\" style=\"width: 350px;\"/>\n",
    "\n",
    "On note $[S_i]$ la concentration de l'espèce $i$ et:\n",
    "$$\n",
    "  X(t) \n",
    "  = \\big(X_1(t),\\dots X_N(t)\\big)^*\n",
    "  = \\big([S_1](t),\\dots [S_N](t)\\big)^*\n",
    "$$"
   ]
  },
  {
   "cell_type": "markdown",
   "metadata": {
    "slideshow": {
     "slide_type": "slide"
    }
   },
   "source": [
    "## Ordre d'une réaction"
   ]
  },
  {
   "cell_type": "markdown",
   "metadata": {},
   "source": [
    "Voir [ordre de réaction](https://en.wikipedia.org/wiki/Order_of_reaction) (wikipedia)\n",
    "\n",
    "\n",
    "\n",
    "\n",
    "Réactions élémentaires: instantanées, principalement uni-moléculaires ou bi-moléculaires\n",
    "\n",
    "\n",
    "**Ordre 0** \n",
    "<img src=\"./images/volume_basic_reactions_order_0.pdf\" alt=\"volume_basic_reactions_order_0\" style=\"width: 150px;\"/> \n",
    "$$\n",
    "  \\emptyset \\xrightarrow[]{c_j} \\textrm{produit}\n",
    "$$\n",
    "\n",
    "\n",
    "\n",
    "**Ordre 1** \n",
    "<img src=\"./images/volume_basic_reactions_order_1.pdf\" alt=\"volume_basic_reactions_order_1\" style=\"width: 150px;\"/> \n",
    "$$\n",
    "  S_i \\xrightarrow[]{c_j} \\textrm{produit}\n",
    "$$\n",
    "\n",
    "**Ordre 2** \n",
    "<img src=\"./images/volume_basic_reactions_order_2_dimer2.pdf\" alt=\"volume_basic_reactions_order_2_dimer2\" style=\"width: 150px;\"/> \n",
    "$$\n",
    "  2 S_i \\xrightarrow[]{c_j} \\textrm{produit}\n",
    "$$\n",
    "\n",
    "**Ordre 2** \n",
    "<img src=\"./images/volume_basic_reactions_order_2.pdf\" alt=\"volume_basic_reactions_order_2\" style=\"width: 150px;\"/> \n",
    "$$\n",
    "  2 S_i \\xrightarrow[]{c_j} \\textrm{produit}\n",
    "$$"
   ]
  },
  {
   "cell_type": "markdown",
   "metadata": {
    "slideshow": {
     "slide_type": "slide"
    }
   },
   "source": [
    "## Cas général"
   ]
  },
  {
   "cell_type": "markdown",
   "metadata": {},
   "source": [
    "\\begin{align*}\n",
    "  R_{j}:\\quad \n",
    "  \\underbrace{\n",
    "     n_{1j}\\,[S_1] + \\cdots + n_{Nj}\\,[S_{N}]\n",
    "  }_{\\textrm{réactifs}}\n",
    "  \\xrightarrow[]{c_{j}}\n",
    "  \\underbrace{\n",
    "  n'_{1j}\\,[S_1] + \\cdots + n'_{Nj}\\,[S_N]\n",
    "  }_{\\textrm{produits}}\n",
    "\\end{align*}\n",
    "\n",
    "\n",
    "correspond à $x \\rightarrow x+\\nu_{j}$ avec\n",
    "$$\n",
    "\\nu_j \n",
    "   = \\begin{pmatrix}\\nu_{1j}\\\\ \\vdots \\\\ \\nu_{Nj}\\end{pmatrix}\n",
    "   = \\begin{pmatrix}n'_{1j}-n_{1j}\\\\ \\vdots \\\\ n'_{Nj}-n_{Nj}\\end{pmatrix}\n",
    "$$\n",
    "\n",
    "-  $c_{j}$ contantes cinétiques\n",
    "- $\\nu_{ij}$ coefficients stoechiométriques\n",
    "\n",
    "\n",
    "> **loi d'action de masse cinétique:**  le taux d'une réaction est proportionnel au produit des concentrations des espèces réactantes \n",
    "\n",
    "le taux de la réaction $R_j$ est:\n",
    "$$\n",
    "  \\lambda_j(X) = c_j\\,[S_1]^{n_{1j}}\\cdots [S_{N}]^{n_{Nj}}\n",
    "$$\n"
   ]
  },
  {
   "cell_type": "markdown",
   "metadata": {
    "slideshow": {
     "slide_type": "slide"
    }
   },
   "source": [
    "## Equation du taux de réaction"
   ]
  },
  {
   "cell_type": "markdown",
   "metadata": {},
   "source": [
    "si on néglige les fluctuations:\n",
    "\n",
    "\\begin{align*}\n",
    " \\dot X(t)\n",
    " &=\n",
    " \\sum_{j=1}^M\\nu_{j}\\,\\lambda_{j}(X(t))\n",
    "\\end{align*}\n",
    "\n",
    "i.e. $\\dot X(t)= {\\mathcal S} \\, \\lambda(X(t))$ où ${\\mathcal S} = [\\nu_{1}\\,\\nu_{2}\\cdots\\nu_{M}]$ est la  matrice de stoechiométrie\n",
    "\n",
    "> **loi d'action de masse cinétique**: le taux de réaction est proportionnel au produit des concentrations des espèces participant à la réaction.\n",
    "\n",
    "\n",
    "voir la [matrice de Petersen](https://en.wikipedia.org/wiki/Petersen_matrix)"
   ]
  },
  {
   "cell_type": "code",
   "execution_count": null,
   "metadata": {},
   "outputs": [],
   "source": []
  }
 ],
 "metadata": {
  "celltoolbar": "Slideshow",
  "kernelspec": {
   "display_name": "Python 3",
   "language": "python",
   "name": "python3"
  },
  "language_info": {
   "codemirror_mode": {
    "name": "ipython",
    "version": 3
   },
   "file_extension": ".py",
   "mimetype": "text/x-python",
   "name": "python",
   "nbconvert_exporter": "python",
   "pygments_lexer": "ipython3",
   "version": "3.6.3"
  },
  "latex_envs": {
   "LaTeX_envs_menu_present": true,
   "autocomplete": true,
   "bibliofile": "biblio.bib",
   "cite_by": "apalike",
   "current_citInitial": 1,
   "eqLabelWithNumbers": true,
   "eqNumInitial": 1,
   "hotkeys": {
    "equation": "Ctrl-E",
    "itemize": "Ctrl-I"
   },
   "labels_anchors": false,
   "latex_user_defs": false,
   "report_style_numbering": false,
   "user_envs_cfg": false
  }
 },
 "nbformat": 4,
 "nbformat_minor": 1
}
