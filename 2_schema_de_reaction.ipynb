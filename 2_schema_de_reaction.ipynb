{
 "cells": [
  {
   "cell_type": "markdown",
   "metadata": {
    "slideshow": {
     "slide_type": "slide"
    }
   },
   "source": [
    "# Schémas de réaction\n",
    "\n",
    "Voir le cours [Modélisation et analyse des systèmes dynamiques](http://perso.uclouvain.be/georges.bastin/sysdyn.pdf)\n",
    "de [Georges Bastin](http://perso.uclouvain.be/georges.bastin/)."
   ]
  },
  {
   "cell_type": "markdown",
   "metadata": {
    "slideshow": {
     "slide_type": "slide"
    }
   },
   "source": [
    "Cette approche s'inspire de la [cinétique chimique](https://fr.wikipedia.org/wiki/Cinétique_chimique)\n",
    "où existe la notion d'espèce.\n",
    "\n",
    "\n",
    "Dans un volume $V$ on considère:\n",
    "\n",
    "- $N$ espèces $S_{i}$, $i=1,\\dots,N$\n",
    "- sujettes à $M$ réactions $R_{j}$,  $j=1,\\dots,M$\n",
    "\n",
    "<img src=\"./images/volume_reactions.pdf\" alt=\"reactions\" style=\"width: 350px;\"/>\n",
    "\n",
    "On note $[S_i]$ la concentration de l'espèce $i$ et:\n",
    "$$\n",
    "  X(t) \n",
    "  = \\big(X_1(t),\\dots X_N(t)\\big)^*\n",
    "  = \\big([S_1](t),\\dots [S_N](t)\\big)^*\n",
    "$$"
   ]
  },
  {
   "cell_type": "markdown",
   "metadata": {
    "slideshow": {
     "slide_type": "slide"
    }
   },
   "source": [
    "## Réactions de base\n",
    "\n",
    "Voir [wikipedia](https://fr.wikipedia.org/wiki/Ordre_de_réaction).\n",
    "\n",
    "\n",
    "\n",
    "\n",
    "Réactions élémentaires: instantanées, principalement uni-moléculaires ou bi-moléculaires\n",
    "\n",
    "| ordre    |      &nbsp; &nbsp; &nbsp; &nbsp; &nbsp; &nbsp; &nbsp;     réaction  &nbsp; &nbsp; &nbsp; &nbsp; &nbsp; &nbsp; &nbsp;                     |           |\n",
    "|----------|:----------------------------------------:|----------:|\n",
    "| 1 |  $S_i \\xrightarrow[]{c_j} \\textrm{produit}$ | <img src=\"./images/volume_basic_reactions_order_1.pdf\" alt=\"volume_basic_reactions_order_1\" style=\"width: 150px;\"/>  |\n",
    "| 2 |    $2 S_i \\xrightarrow[]{c_j} \\textrm{produit}$   |   <img src=\"./images/volume_basic_reactions_order_2_dimer2.pdf\" alt=\"volume_basic_reactions_order_2_dimer2\" style=\"width: 150px;\"/>  |\n",
    "| 2 | $S_i +  S_j \\xrightarrow[]{c_j} \\textrm{produit}$ |    <img src=\"./images/volume_basic_reactions_order_2.pdf\" alt=\"volume_basic_reactions_order_2\" style=\"width: 150px;\"/> |\n",
    "    \n",
    "    \n",
    "\n",
    "\n",
    "On peut aussi considérer:\n",
    "\n",
    "\n",
    "| ordre    |      &nbsp; &nbsp; &nbsp; &nbsp; &nbsp; &nbsp; &nbsp;     réaction  &nbsp; &nbsp; &nbsp; &nbsp; &nbsp; &nbsp; &nbsp;                     |           |\n",
    "|----------|:----------------------------------------:|----------:|\n",
    "| 0 |  $\\emptyset \\xrightarrow[]{c_j} \\textrm{produit}$ | <img src=\"./images/volume_basic_reactions_order_0.pdf\" alt=\"volume_basic_reactions_order_0\" style=\"width: 150px;\"/> |\n"
   ]
  },
  {
   "cell_type": "markdown",
   "metadata": {
    "slideshow": {
     "slide_type": "slide"
    }
   },
   "source": [
    "## Réactions générales\n",
    "\n",
    "\\begin{align*}\n",
    "  R_{j}:\\quad \n",
    "  \\underbrace{\n",
    "     n_{1j}\\,[S_1] + \\cdots + n_{Nj}\\,[S_{N}]\n",
    "  }_{\\textrm{réactifs}}\n",
    "  \\xrightarrow[]{c_{j}}\n",
    "  \\underbrace{\n",
    "  n'_{1j}\\,[S_1] + \\cdots + n'_{Nj}\\,[S_N]\n",
    "  }_{\\textrm{produits}}\n",
    "\\end{align*}\n",
    "\n",
    "\n",
    "correspond à $x \\rightarrow x+\\nu_{j}$ avec\n",
    "$$\n",
    "\\nu_j \n",
    "   = \\begin{pmatrix}\\nu_{1j}\\\\ \\vdots \\\\ \\nu_{Nj}\\end{pmatrix}\n",
    "   = \\begin{pmatrix}n'_{1j}-n_{1j}\\\\ \\vdots \\\\ n'_{Nj}-n_{Nj}\\end{pmatrix}\n",
    "$$\n",
    "\n",
    "-  $c_{j}$ contantes cinétiques\n",
    "- $\\nu_{ij}$ coefficients stoechiométriques\n",
    "\n",
    "\n",
    "> **loi d'action de masse cinétique:**  le taux d'une réaction est proportionnel au produit des concentrations des espèces réactantes \n",
    "\n",
    "le taux de la réaction $R_j$ est:\n",
    "$$\n",
    "  \\lambda_j(X) = c_j\\,[S_1]^{n_{1j}}\\cdots [S_{N}]^{n_{Nj}}\n",
    "$$\n"
   ]
  },
  {
   "cell_type": "markdown",
   "metadata": {
    "slideshow": {
     "slide_type": "slide"
    }
   },
   "source": [
    "## Equation du taux de réaction"
   ]
  },
  {
   "cell_type": "markdown",
   "metadata": {},
   "source": [
    "si on néglige les fluctuations:\n",
    "\n",
    "\\begin{align*}\n",
    " \\dot X(t)\n",
    " &=\n",
    " \\sum_{j=1}^M\\nu_{j}\\,\\lambda_{j}(X(t))\n",
    "\\end{align*}\n",
    "\n",
    "i.e. $\\dot X(t)= {\\mathcal S} \\, \\lambda(X(t))$ où ${\\mathcal S} = [\\nu_{1}\\,\\nu_{2}\\cdots\\nu_{M}]$ est la  matrice de stoechiométrie\n",
    "\n",
    "> **loi d'action de masse cinétique**: le taux de réaction est proportionnel au produit des concentrations des espèces participant à la réaction.\n",
    "\n",
    "\n",
    "voir la [matrice de Petersen](https://en.wikipedia.org/wiki/Petersen_matrix)"
   ]
  },
  {
   "cell_type": "markdown",
   "metadata": {
    "slideshow": {
     "slide_type": "slide"
    }
   },
   "source": [
    "## Exemple\n",
    "\n",
    "$\\require{mhchem}$\n",
    "\n",
    "Considérons une réaction d'ordre 3 suivie d'une réaction de Michaelis-Menten:\n",
    "\\begin{align*}\n",
    "\\ce{A +2B -> S}\n",
    "\\\\\n",
    "\\ce{E + S  <=>[k_f][k_r] ES ->[k_\\mathrm{cat}] {E} + P}\n",
    "\\end{align*}\n",
    "\n",
    "\n",
    "deux réactants $\\ce A$ et $\\ce B$ se combinent pour donner un substrat ($\\ce{S=AB2}$), qui à l'aide d'une enzime $\\ce E$, se transforme en un produit $\\ce P$. Le modèle de [Michaelis-Menten](https://fr.wikipedia.org/wiki/Équation_de_Michaelis-Menten)  décrit la cinétique d'une réaction catalysée par une enzyme agissant sur un substrat unique pour donner un produit.\n",
    "\n",
    "\n",
    "\\begin{align*}\n",
    "{\\rm d} [\\ce A] / {\\rm d}t&= -k_1[\\ce A][\\ce B]^2\n",
    "\\\\\n",
    "{\\rm d} [\\ce B] / {\\rm d}t&= -2 k_1[\\ce A][\\ce B]^2\n",
    "\\\\\n",
    "{\\rm d} [\\ce S] / {\\rm d}t&= k_1[\\ce A][\\ce B]^2 - k_f[\\ce E][\\ce S] + k_r[\\ce {ES}]\n",
    "\\\\\n",
    "{\\rm d} [\\ce E] / {\\rm d}t&= - k_f[\\ce E][\\ce S] + k_r[\\ce {ES}] + k_\\mathrm{cat}[\\ce ES]\n",
    "\\\\\n",
    "{\\rm d} [\\ce ES] / {\\rm d}t&= k_f[E][S] - k_r[\\ce {ES}] - k_\\mathrm{cat}[\\ce {ES}]\n",
    "\\\\\n",
    "{\\rm d} [\\ce P] / {\\rm d}t&= k_\\mathrm{cat}[\\ce ES]\n",
    "\\end{align*}\n",
    "\n",
    "($[\\ce X]$ désigne la concentration de l'espèce $\\ce X$).\n",
    "\n",
    "La matrice de Petersen est:\n",
    "\n",
    "\n",
    "|     réaction       |ordre   | A  | B  | S  | E  | ES | P  |     taux de réaction             |\n",
    "| ------------- | -- | -- | -- | -- | -- | -- | -- | ---------------- |\n",
    "| A et B produisent S  |3| -1  | -2  | +1  | 0  | 0 | 0  |$k_1[\\ce A][\\ce B]^2$  |\n",
    "| formation de ES à partir de E et S  |2| 0  | 0   | -1  | -1  | +1 | 0  |$k_f[\\ce E][\\ce S]$  |\n",
    "| décomposition de ES en E et S  |1| 0  | 0  | +1  | +1  | -1 | 0  | $k_r[\\ce {ES}]$  |\n",
    "| décomposition de ES en E et P  |1| 0  | 0  | 0    | +1  | -1 | +1  | $k_\\mathrm{cat}[\\ce {ES}]$  |\n",
    "\n",
    "\n",
    "\n",
    "\n",
    "\n",
    "On obtient l'équation de la réaction:\n",
    "\\begin{align*}\n",
    "  \\frac{\\rm d}{{\\rm d}t}\n",
    "  \\begin{pmatrix} [\\ce A] \\\\ [\\ce B] \\\\ [\\ce S] \\\\ [\\ce E] \\\\ [\\ce{ES}] \\\\ [\\ce P]\\end{pmatrix} =\n",
    "  \\begin{bmatrix}\n",
    "    -1 & 0 & 0 & 0  \\\\\n",
    "    -2 & 0 & 0 & 0  \\\\\n",
    "    +1 & -1 & +1 & 0  \\\\\n",
    "    0 & -1 & +1 & +1  \\\\\n",
    "    0 & +1 & -1 & -1  \\\\\n",
    "    0 & 0 & 0 & +1  \\\\\n",
    "  \\end{bmatrix}\n",
    "  \\begin{pmatrix} \n",
    "     k_1[\\ce A][\\ce B]^2 \\\\\n",
    "     k_f[\\ce E][\\ce S] \\\\\n",
    "     k_r[\\ce{ES}] \\\\\n",
    "     k_\\ce{cat}[\\ce{ES}] \\\\\n",
    "  \\end{pmatrix}\n",
    "\\end{align*}\n"
   ]
  },
  {
   "cell_type": "code",
   "execution_count": null,
   "metadata": {},
   "outputs": [],
   "source": []
  }
 ],
 "metadata": {
  "celltoolbar": "Slideshow",
  "kernelspec": {
   "display_name": "Python 3",
   "language": "python",
   "name": "python3"
  },
  "language_info": {
   "codemirror_mode": {
    "name": "ipython",
    "version": 3
   },
   "file_extension": ".py",
   "mimetype": "text/x-python",
   "name": "python",
   "nbconvert_exporter": "python",
   "pygments_lexer": "ipython3",
   "version": "3.6.3"
  },
  "latex_envs": {
   "LaTeX_envs_menu_present": true,
   "autocomplete": true,
   "bibliofile": "biblio.bib",
   "cite_by": "apalike",
   "current_citInitial": 1,
   "eqLabelWithNumbers": true,
   "eqNumInitial": 1,
   "hotkeys": {
    "equation": "Ctrl-E",
    "itemize": "Ctrl-I"
   },
   "labels_anchors": false,
   "latex_user_defs": false,
   "report_style_numbering": false,
   "user_envs_cfg": false
  }
 },
 "nbformat": 4,
 "nbformat_minor": 1
}
