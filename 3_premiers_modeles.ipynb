{
 "cells": [
  {
   "cell_type": "markdown",
   "metadata": {
    "nbpresent": {
     "id": "cb05c7bb-7f2d-4adb-90ba-fe02a36cd0d4"
    },
    "slideshow": {
     "slide_type": "slide"
    }
   },
   "source": [
    "# Les bases de la dynamique des populations"
   ]
  },
  {
   "cell_type": "markdown",
   "metadata": {
    "nbpresent": {
     "id": "58414b35-5245-49af-b6cc-3de17850740a"
    }
   },
   "source": [
    "À voir: \n",
    "\n",
    "- [[Bacaer 2009](#cite-bacaer2009a)] très intéressante perspective historique\n",
    "- [[Boularas et al 2009](#cite-boularas2009a)] présentation très vivante et accessible des modèles différentiels\n",
    "- [[Otto et Dray2007](#cite-otto2007a)] très complet et tourné vers les biologistes"
   ]
  },
  {
   "cell_type": "markdown",
   "metadata": {
    "nbpresent": {
     "id": "b3adc013-50e3-45d1-9588-aa017e3afd05"
    },
    "slideshow": {
     "slide_type": "slide"
    }
   },
   "source": [
    "## Modèles différentiels"
   ]
  },
  {
   "cell_type": "markdown",
   "metadata": {
    "nbpresent": {
     "id": "f35083b5-e6cf-443d-a7a0-f3356f14d8c1"
    },
    "slideshow": {
     "slide_type": "subslide"
    }
   },
   "source": [
    "Nous voulons modéliser l'évolution de la taille d'une population composée d'une seule espèce. Notons $n(t)$ la taille de cette population à l'instant $t$, il s'agit d'une quantité entière. Nous allons modéliser l'évolution de cette taille à des instants  $t_{k}$, que nous supposerons pour simplifier équirépartis, i.e. $t_{k}=k\\,h$ avec $h>0$:\n",
    "\n",
    "<img src=\"./images/schema_pop.png\" alt=\"schema_pop\" style=\"width: 450px;\"/>\n",
    "\n",
    "Modéliser l'évolution de la taille de population consiste à définir la variation $\\Delta n(t_{k})$ de cette taille entre les instants $t_{k}$ et $t_{k+1}$:\n",
    "\n",
    "$$\n",
    "  n(t_{k+1})=n(t_{k})+\\Delta n(t_{k})\\,.\n",
    "$$\n"
   ]
  },
  {
   "cell_type": "markdown",
   "metadata": {
    "slideshow": {
     "slide_type": "subslide"
    }
   },
   "source": [
    "On suppose donc que ces accroissements dépendent de la taille courante de la population. Il est pertinent de s'intéresse à la variation de la taille de la population par unité de temps:\n",
    "\n",
    "$$\n",
    "  \\frac{n(t_{k+1})-n(t_{k})}{h}=\\frac{\\Delta n(t_{k})}{h}\\,.\n",
    "$$\n",
    "\n",
    "On fait l'hypothèse que les instants $t_{k}$ sont rapprochés, i.e. $h$ petit.\n",
    "\n",
    "Dans l'équation précédente on fait tendre $h$ vers 0 et $k$ vers l'infini de telle sorte que $t_{k}\\to t$ pour $t$ donné. On suppose aussi que $\\Delta n(t_{k})$ tend vers l'infini de telle sorte que le rapport $\\Delta n(t_{k})/h$ tende vers un certain $F(n(t))$:\n",
    "\n",
    "\\begin{align}\\label{eqNt}\n",
    "  \\dot n(t)=F(n(t))\\,.\n",
    "\\end{align}\n",
    "\n"
   ]
  },
  {
   "cell_type": "markdown",
   "metadata": {
    "slideshow": {
     "slide_type": "subslide"
    }
   },
   "source": [
    "Enfin, *la taille $n(t)$ de la population est supposée très grande* et nous faisons le *changement* d'échelle suivant:\n",
    "\n",
    "$$\n",
    "   x(t) := \\frac{n(t)}{M}\n",
    "$$\n",
    "\n",
    "Ce changement de variable peut s'interpréter de différentes façons. Par exemple pour une population de bactéries:\n",
    "\n",
    "- $M$ peut être vu comme l'inverse de la masse d'une bactérie, alors $x(t)$ désigne la *{biomasse}* de la population; \n",
    "- $M$ peut être le *volume* dans lequel vit cette population, $x(t)$ est alors une *densité* de population; \n",
    "- $M$ peut être simplement un *changement d'échelle*, si la taille de la population est de l'ordre de $10^{9}$ individus et si $M=10^{3}$ alors $x(t)$ désignera la taille de la population de méta-individus (1 méta-individu = $10^3$ individus). \n",
    "\n",
    "\n"
   ]
  },
  {
   "cell_type": "markdown",
   "metadata": {
    "slideshow": {
     "slide_type": "subslide"
    }
   },
   "source": [
    "L'équation \\eqref{eqNt}\n",
    " devient:\n",
    "\n",
    "$$\n",
    "  \\frac{\\dot n(t)}{M}=\\frac{1}{M}\\,F\\Bigl(M\\,\\frac{n(t)}{M}\\Bigr)\n",
    "$$\n",
    "\n",
    "et en posant $f(x) := \\frac{1}{M}\\,F(M\\,x)$ on obtient l'équation différentielle ordinaire (EDO):\n",
    "\n",
    "$$\n",
    "  \\dot x(t)=f(x(t))\\,,\\ x(0)=x_{0}\n",
    "$$\n",
    "\n",
    "et son état $x(t)$ peut donc désigner la *taille* d'une population, sa *biomasse*, sa *densité* (nombre d'individus par unité de volume), ou bien encore sa *concentration* (massique ou molaire); pour simplifier nous dirons que $x(t)$ ``est'' la population; $x_{0}$ désigne la population initiale, supposée connue.\n",
    "\n"
   ]
  },
  {
   "cell_type": "markdown",
   "metadata": {
    "slideshow": {
     "slide_type": "subslide"
    }
   },
   "source": [
    "Dans beaucoup d'exemples de dynamique de population $f$ est de la forme:\n",
    "\n",
    "$$\n",
    " f(x)=r(x)\\,x\n",
    "$$\n",
    "\n",
    "où $r(x)$ s'interprète comme un **taux de croissance per capita** (par individu). En effet si $x(t+h)=x(t)+f(x(t))$ ($h=1$ unité de temps) et si par exemple $f(x(t))=5$  il y alors eu un accroissement de 5 individus (dans l'échelle $x$) sur la période de temps $h$: est-ce grand ou petit ? Cela est relatif à la taille $x(t)$ de la population, c'est donc le rapport $\\frac{f(x(t))}{x(t)}=r(x(t))$ qui importe."
   ]
  },
  {
   "cell_type": "markdown",
   "metadata": {
    "nbpresent": {
     "id": "59e167c6-46f8-45c6-8def-954a7ba8cdc7"
    },
    "slideshow": {
     "slide_type": "slide"
    }
   },
   "source": [
    "## Croissance exponentielle"
   ]
  },
  {
   "cell_type": "markdown",
   "metadata": {
    "nbpresent": {
     "id": "46deb29b-7018-4b56-b990-ebad367b1429"
    }
   },
   "source": [
    "La première étape consiste à appréhender la croissance géométique (temps discret) et exponentielle (temps continu).\n",
    "\n",
    "On considère une population dont la taille évolue de la façon suivante:\n",
    "\n",
    "$$\n",
    "  n(t_{k+1}) \n",
    "  = n(t_{k})\n",
    "  +\\lambda\\,n(t_{k})\\,h\n",
    "  -\\mu\\,n(t_{k})\\,h\n",
    "$$\n",
    "\n",
    "où $\\lambda$ est le taux de naissance et $\\mu$ celui de mort. Il est nécessaire \n",
    "ici que l'intervalle de temps $[t_{k},t_{k+1}]$ soit suffisamment petit pour que \n",
    "$n(t_{k})$ évolue peu, mais aussi suffisamment grand pour que des \n",
    "événements de naissance et mort surviennent. Après changement d'échelle, \n",
    "l'équation précédente devient:\n",
    "\n",
    "$$\n",
    "   \\dot x(t) = (\\lambda-\\mu)\\,x(t)\\,,\\ x(0)=x_0\n",
    "$$\n",
    "\n",
    "taux de naissance $\\lambda>0$, taux de mort $\\mu>0$.\n",
    "\n",
    "qui admet la solution explicite suivante:\n",
    "\n",
    "$$\n",
    "  x(t) = x_{0}\\,e^{(\\lambda-\\mu)\\,t}\\,,\\quad t\\geq 0\\,.\n",
    "$$"
   ]
  },
  {
   "cell_type": "code",
   "execution_count": 2,
   "metadata": {
    "nbpresent": {
     "id": "0618d73c-a2e4-4d01-8ece-bcf35efc6da8"
    },
    "slideshow": {
     "slide_type": "subslide"
    }
   },
   "outputs": [
    {
     "data": {
      "image/png": "[encoded data removed]",
      "text/plain": [
       "<matplotlib.figure.Figure at 0x101c7ff60>"
      ]
     },
     "metadata": {},
     "output_type": "display_data"
    }
   ],
   "source": [
    "%matplotlib inline\n",
    "import numpy as np\n",
    "import matplotlib.pyplot as plt\n",
    "\n",
    "t0, t1 = 0, 10\n",
    "temps = np.linspace(t0,t1,200, endpoint=True)\n",
    "\n",
    "population = lambda t: x0*np.exp((rb-rd)*t)\n",
    "\n",
    "legende = []\n",
    "for x0, rb, rd in zip([1, 1, 1], [1, 1, 0.9], [0.9, 1, 1]):\n",
    "    plt.plot(temps, population(temps))\n",
    "    legende = legende + [r'$\\lambda=$'+str(rb)+r', $\\mu=$'+str(rd),]\n",
    "plt.legend(legende, loc='upper left')\n",
    "plt.show()"
   ]
  },
  {
   "cell_type": "markdown",
   "metadata": {
    "nbpresent": {
     "id": "1d81fc20-f284-4303-a407-5cb5c7849000"
    },
    "slideshow": {
     "slide_type": "subslide"
    }
   },
   "source": [
    "Ainsi \n",
    "\n",
    "- lorsque $\\mu>\\lambda$ la population croît exponentiellement\n",
    "- lorsque $\\lambda<\\mu$ la population tend exponentiellement vers 0. \n",
    "\n",
    "On parlera de croissance (ou décroissance) malthusienne. \n",
    "\n",
    "Lorsque  $\\lambda<\\mu$ la population décroît exponentiellement vite vers 0 mais à tout instant fini cette population est strictement positive, pourtant si $M=10^3$ et si $x(t)$ descend en dessous de $10^{-3}$ alors $x(t)$ représentera moins d'un individu. Ce point n'est pas cohérent avec l'hypothèse de population grande et donc limite l'intérêt de ce modèle pour les petites tailles de population."
   ]
  },
  {
   "cell_type": "markdown",
   "metadata": {
    "nbpresent": {
     "id": "cf2d6f49-b2a7-4e86-8142-7e535b691185"
    },
    "slideshow": {
     "slide_type": "slide"
    }
   },
   "source": [
    "## Croissance logistique"
   ]
  },
  {
   "cell_type": "markdown",
   "metadata": {
    "nbpresent": {
     "id": "25ec18aa-d0b8-4ddd-ac57-ec1f57b519e9"
    }
   },
   "source": [
    "En 1838,\n",
    " [Pierre François Verhulst](https://en.wikipedia.org/wiki/Pierre_Francois_Verhulst) (1804-1849)\n",
    " proposa un modèle de croissance  dont le taux de croissance diminue linéairement en fonction de la taille de la population rendant ainsi compte de la capacité maximale d'accueil du milieu.\n",
    "\n",
    "\n",
    "$$\n",
    "  \\dot x(t) = r\\times\\left(1-\\frac{x(t)}{K}\\right)\\,x(t)\\,,\\ x(0)=x_0\n",
    "$$\n",
    "\n",
    "admet l'unique solution:\n",
    "\n",
    "$$\n",
    "  x(t) \n",
    "  =  K \\,\\frac{1}{1+\\left(\\frac {K}{x_{0}} - 1\\right) \\,e^{-r\\,t}}\n",
    "  =  \\frac{1}{\\frac{x_0}{K}\\,\\left(e^{rt} - 1\\right)+1}\\; x_0\\,e^{r\\,t}\n",
    "$$"
   ]
  },
  {
   "cell_type": "code",
   "execution_count": 3,
   "metadata": {
    "nbpresent": {
     "id": "5c3bba07-6c14-4842-a4b6-1155c48d6c95"
    },
    "slideshow": {
     "slide_type": "fragment"
    }
   },
   "outputs": [
    {
     "data": {
      "image/png": "[encoded data removed]",
      "text/plain": [
       "<matplotlib.figure.Figure at 0x105d41e10>"
      ]
     },
     "metadata": {},
     "output_type": "display_data"
    }
   ],
   "source": [
    "t0, t1 = 0, 10\n",
    "\n",
    "temps = np.linspace(t0,t1,300, endpoint=True)\n",
    "\n",
    "population = lambda t: K*1/(1+ (K/x0-1) * np.exp(-r*t))\n",
    "\n",
    "x0, K = 1, 5\n",
    "legende = []\n",
    "for r in [2, 1, 0.5]:\n",
    "    plt.plot(temps, population(temps))\n",
    "    legende = legende + [r'$r=$'+str(r),]    \n",
    "plt.ylim([0,K*1.2])\n",
    "plt.legend(legende, loc='lower right',title=r'taux de croissance $r$')\n",
    "plt.plot([t0, t1], [K, K], color=\"k\", linestyle='--')\n",
    "plt.text((t1-t0)/50, K, r\"$K$ (capacité d'accueil)\", \n",
    "         verticalalignment='bottom', horizontalalignment='left')\n",
    "plt.xlabel(r'temps $t$')\n",
    "plt.ylabel(r'taille $x(t)$ de la population')\n",
    "plt.show()"
   ]
  },
  {
   "cell_type": "code",
   "execution_count": 4,
   "metadata": {
    "nbpresent": {
     "id": "1341bfcf-c7f7-4986-8a9b-784be2aef5cb"
    },
    "slideshow": {
     "slide_type": "subslide"
    }
   },
   "outputs": [
    {
     "data": {
      "application/vnd.jupyter.widget-view+json": {
       "model_id": "94d59ebafa8d4dffb890350bb7430d9e",
       "version_major": 2,
       "version_minor": 0
      },
      "text/html": [
       "<p>Failed to display Jupyter Widget of type <code>interactive</code>.</p>\n",
       "<p>\n",
       "  If you're reading this message in Jupyter Notebook or JupyterLab, it may mean\n",
       "  that the widgets JavaScript is still loading. If this message persists, it\n",
       "  likely means that the widgets JavaScript library is either not installed or\n",
       "  not enabled. See the <a href=\"https://ipywidgets.readthedocs.io/en/stable/user_install.html\">Jupyter\n",
       "  Widgets Documentation</a> for setup instructions.\n",
       "</p>\n",
       "<p>\n",
       "  If you're reading this message in another notebook frontend (for example, a static\n",
       "  rendering on GitHub or <a href=\"https://nbviewer.jupyter.org/\">NBViewer</a>),\n",
       "  it may mean that your frontend doesn't currently support widgets.\n",
       "</p>\n"
      ],
      "text/plain": [
       "interactive(children=(FloatSlider(value=2.91, description='x0', max=6.0, min=0.01), FloatSlider(value=2.91, description='K', max=6.0, min=0.01), FloatSlider(value=10.0, description='r', max=20.0, min=0.1), Output()), _dom_classes=('widget-interact',))"
      ]
     },
     "metadata": {},
     "output_type": "display_data"
    }
   ],
   "source": [
    "from ipywidgets import interact, fixed\n",
    "\n",
    "def pltlogistique(x0,K,r):\n",
    "    population2 = K*1/(1+ (K/x0-1) * np.exp(-r*temps))\n",
    "    plt.plot(temps, population2)\n",
    "    plt.ylim([0,6])\n",
    "    plt.plot([t0, t1], [K, K], color=\"k\", linestyle='--')\n",
    "    plt.show()\n",
    "    \n",
    "interact(pltlogistique, x0=(0.01,6,0.1), K=(0.01,6,0.1), r=(0.1,20,0.1))\n",
    "plt.show()"
   ]
  },
  {
   "cell_type": "markdown",
   "metadata": {
    "collapsed": true,
    "nbpresent": {
     "id": "bfaedf84-b522-42b3-90f0-0ca8ba1f10eb"
    },
    "slideshow": {
     "slide_type": "slide"
    }
   },
   "source": [
    "## Modèle de Lotka-Volterra"
   ]
  },
  {
   "cell_type": "markdown",
   "metadata": {},
   "source": [
    "Il existe de nombreuses présentations de ce modèles, pour un résumé mathématique précis voir par exemple [ce document PDF](http://w3.bretagne.ens-cachan.fr/math/people/gregory.vial/files/cplts/volterra.pdf).\n",
    "\n",
    "Le [modèle de Lotka-Volterra](https://fr.wikipedia.org/wiki/Équations_de_Lotka-Volterra) représente deux populations en interaction:\n",
    "\n",
    "- des proies, de taille $x_1(t)$, ayant accès à une ressource ilimitée (non modélisée) \n",
    "- et des prédateurs, de taille $x_2(t)$, se nourissant de proies. \n",
    "\n",
    "On suppose que:\n",
    "\n",
    "- en l'absence de prédateurs, la population de proies croit de façon exponentielle selon un taux $r_1$; \n",
    "- en l'abscence de proies, la population de prédateurs décroit de façon exponentielle selon un taux $r_2$.\n",
    "\n",
    "On suppose que $r_1$ dépend de $x_2(t)$ et que $r_2$ dépend de $x_1(t)$: \n",
    "\n",
    "- $r_1=a-b\\,x_2(t)$, où $a$ est le taux de naissance des proies en l'absence de prédateurs et $b\\,x_2(t)$ est le taux de prédation que l'on suppose linéaire en $x_2(t);\n",
    "\n",
    "- $r_2=c\\,x_1(t)-d$, où $d$ est le taux de mort des prédateurs en l'absence de proies et $c\\,x_1(t)$ est le taux de naissance des prédateurs que l'on suppose linéaire en $x_1(t)$.\n",
    "\n",
    "On obtient donc un système de deux équations différentielles couplées:\n",
    "\n",
    "\\begin{align*}\n",
    "\\dot x_1(t) &= [a-b\\,x_2(t)]\\,x_1(t) \\\\\n",
    "\\dot x_2(t) &= [c\\,x_1(t)-d]\\,x_2(t)\n",
    "\\end{align*}\n",
    "\n",
    "ce système n'admet pas de solution explicite, on doit faire appel à une méthode numérique.\n",
    "\n",
    "La solution est périodique de période $\\sqrt{a\\,c}$.\n",
    "\n",
    "Voir par exemple dans le [SciPy Cookbook](http://scipy-cookbook.readthedocs.io/items/LoktaVolterraTutorial.html)."
   ]
  },
  {
   "cell_type": "code",
   "execution_count": 5,
   "metadata": {
    "nbpresent": {
     "id": "25a65aaf-2161-494f-9ab5-a6264c3ebb99"
    },
    "slideshow": {
     "slide_type": "subslide"
    }
   },
   "outputs": [],
   "source": [
    "from scipy.integrate import odeint\n",
    "\n",
    "a, b, c, d = 0.4, 0.002, 0.001, 0.7\n",
    "def f(x, t):\n",
    "    x1, x2 = x\n",
    "    return [a * x1 - b * x1 * x2, \n",
    "            c * x1 * x2 - d * x2]\n",
    "\n",
    "x0 = [600, 400]\n",
    "t = np.linspace(0, 50, 250)\n",
    "x_t = odeint(f, x0, t)"
   ]
  },
  {
   "cell_type": "code",
   "execution_count": 6,
   "metadata": {
    "nbpresent": {
     "id": "a3d35be3-8c22-4889-9ab7-4032611cb777"
    },
    "slideshow": {
     "slide_type": "subslide"
    }
   },
   "outputs": [
    {
     "data": {
      "image/png": "[encoded data removed]",
      "text/plain": [
       "<matplotlib.figure.Figure at 0x106691710>"
      ]
     },
     "metadata": {},
     "output_type": "display_data"
    }
   ],
   "source": [
    "plt.plot(t, x_t[:,0], label=r\"proies $x_1(t)$\")\n",
    "plt.plot(t, x_t[:,1], label=r\"prédateurs $x_2(t)$\")\n",
    "plt.xlabel(\"temps\")\n",
    "plt.ylabel(\"nombre d'animaux\")\n",
    "plt.legend()\n",
    "plt.show()"
   ]
  },
  {
   "cell_type": "markdown",
   "metadata": {},
   "source": [
    "### Espace des phases"
   ]
  },
  {
   "cell_type": "markdown",
   "metadata": {},
   "source": [
    "Au lieu de tracer $t\\to x_1(t)$ et $t\\to x_2(t)$, on trace les points $(x_1(t),x_2(t))$ lorsque $t$ varie, donc le temps n'apparait plus, il s'agit d'une courbe dans l'[espace des phases](https://fr.wikipedia.org/wiki/Espace_des_phases)."
   ]
  },
  {
   "cell_type": "code",
   "execution_count": 7,
   "metadata": {},
   "outputs": [
    {
     "data": {
      "image/png": "[encoded data removed]",
      "text/plain": [
       "<matplotlib.figure.Figure at 0x108158710>"
      ]
     },
     "metadata": {},
     "output_type": "display_data"
    }
   ],
   "source": [
    "plt.plot(x_t[:,0], x_t[:,1])\n",
    "plt.xlabel(r\"nombre de proies $x_1(t)$\")\n",
    "plt.ylabel(r\"nombre de prédateurs $x_2(t)$\")\n",
    "marker_style = dict(linestyle=':', markersize=10)\n",
    "equilibre = [d/c,a/b]\n",
    "plt.plot(equilibre[0], equilibre[1], marker='.', color=\"k\")\n",
    "plt.text(1.05*equilibre[0], 1.05*equilibre[1], r'$(d/c,a/b)$')\n",
    "plt.xlim(300, 1300)\n",
    "plt.ylim(0, 500)\n",
    "plt.axis('equal')  # les échelles en x et y sont égales\n",
    "plt.show()"
   ]
  },
  {
   "cell_type": "code",
   "execution_count": 8,
   "metadata": {},
   "outputs": [
    {
     "data": {
      "image/png": "[encoded data removed]",
      "text/plain": [
       "<matplotlib.figure.Figure at 0x1081747f0>"
      ]
     },
     "metadata": {},
     "output_type": "display_data"
    }
   ],
   "source": [
    "echelle  = np.linspace(0.3, 0.9, 5)\n",
    "couleurs = plt.cm.winter(np.linspace(0.3, 1., len(echelle)))\n",
    "\n",
    "for v, col in zip(echelle, couleurs):\n",
    "    val_ini = np.multiply(v,equilibre)\n",
    "    X = odeint( f, val_ini, t)\n",
    "    plt.plot( X[:,0], X[:,1], lw=1, color=col, \n",
    "             label=r'$(%.f, %.f)$' % tuple(val_ini) )\n",
    "\n",
    "x1max = plt.xlim(xmin=0)[1]\n",
    "x2max = plt.ylim(ymin=0)[1]\n",
    "\n",
    "nb_points = 20\n",
    "\n",
    "x1 = np.linspace(0, x1max, nb_points)\n",
    "x2 = np.linspace(0, x2max, nb_points)\n",
    "X1 , X2  = np.meshgrid(x1, x2)\n",
    "DX1, DX2 = f([X1, X2],0)\n",
    "vecteurs = np.hypot(DX1, DX2)     # norme du taux de croissance\n",
    "vecteurs[ vecteurs == 0] = 1.     # éviter la division par 0\n",
    "DX1 /= vecteurs                   # normalisation de chaque vecteur\n",
    "DX2 /= vecteurs\n",
    "\n",
    "plt.quiver(X1, X2, DX1, DX2, vecteurs, pivot='mid', cmap=plt.cm.hot)\n",
    "plt.xlabel(r\"nombre de proies $x_1(t)$\")\n",
    "plt.ylabel(r\"nombre de prédateurs $x_2(t)$\")\n",
    "plt.legend(title=\"condition initiale\")\n",
    "plt.grid()\n",
    "plt.xlim(0, x1max)\n",
    "plt.ylim(0, x2max)\n",
    "plt.show()"
   ]
  },
  {
   "cell_type": "markdown",
   "metadata": {
    "nbpresent": {
     "id": "997fb1f5-a41b-405e-83b9-681fbf243289"
    }
   },
   "source": [
    "<!--bibtex\n",
    "\n",
    "@book{bacaer2009a,\n",
    "\tAuthor = {Nicolas Baca{\\\"e}r},\n",
    "\tPublisher = {Editions Cassini},\n",
    "\tTitle = {Histoires de math{\\'e}matiques et de populations},\n",
    "\tYear = {2009}}\n",
    " \n",
    "@book{boularas2009a,\n",
    "\tAuthor = {Driss Boularas and Daniel Fredon and Daniel Petit},\n",
    "\tPublisher = {Dunod},\n",
    "\tTitle = {Mini Manuel de Mathématiques pour les sciences de la vie et de l'environnement},\n",
    "\tYear = {2009}}\n",
    "\n",
    "\n",
    "@book{otto2007a,\n",
    "\tAuthor = {Otto, Sarah P. and Day, Troy},\n",
    "\tDate-Added = {2009-11-29 20:19:32 +0100},\n",
    "\tDate-Modified = {2009-11-29 20:20:05 +0100},\n",
    "\tPublisher = {Princeton University Press},\n",
    "\tTitle = {A Biologist's Guide to Mathematical Modeling in Ecology and Evolution},\n",
    "\tYear = {2007},\n",
    "\tBdsk-Url-1 = {http://www.amazon.com/exec/obidos/redirect?tag=citeulike07-20&path=ASIN/0691123446}}\n",
    "\n",
    "-->\n"
   ]
  },
  {
   "cell_type": "markdown",
   "metadata": {
    "nbpresent": {
     "id": "8446e1b5-546c-4738-b8b1-10d2c72534c8"
    },
    "slideshow": {
     "slide_type": "slide"
    }
   },
   "source": [
    "# References\n",
    "\n",
    "<a name=\"cite-bacaer2009a\"/><sup>[^](#ref-1) </sup>Nicolas Baca&euml;r. 2009. _Histoires de math&eacute;matiques et de populations_.\n",
    "\n",
    "<a name=\"cite-boularas2009a\"/><sup>[^](#ref-2) </sup>Driss Boularas and Daniel Fredon and Daniel Petit. 2009. _Mini Manuel de Mathématiques pour les sciences de la vie et de l'environnement_.\n",
    "\n",
    "<a name=\"cite-otto2007a\"/><sup>[^](#ref-3) </sup>Otto, Sarah P. and Day, Troy. 2007. _A Biologist's Guide to Mathematical Modeling in Ecology and Evolution_.\n",
    "\n"
   ]
  },
  {
   "cell_type": "code",
   "execution_count": null,
   "metadata": {},
   "outputs": [],
   "source": []
  }
 ],
 "metadata": {
  "anaconda-cloud": {},
  "celltoolbar": "Slideshow",
  "kernelspec": {
   "display_name": "Python 3",
   "language": "python",
   "name": "python3"
  },
  "language_info": {
   "codemirror_mode": {
    "name": "ipython",
    "version": 3
   },
   "file_extension": ".py",
   "mimetype": "text/x-python",
   "name": "python",
   "nbconvert_exporter": "python",
   "pygments_lexer": "ipython3",
   "version": "3.6.3"
  },
  "latex_envs": {
   "LaTeX_envs_menu_present": true,
   "autocomplete": true,
   "bibliofile": "biblio.bib",
   "cite_by": "apalike",
   "current_citInitial": 1,
   "eqLabelWithNumbers": true,
   "eqNumInitial": 1,
   "hotkeys": {
    "equation": "Ctrl-E",
    "itemize": "Ctrl-I"
   },
   "labels_anchors": false,
   "latex_user_defs": false,
   "report_style_numbering": false,
   "user_envs_cfg": false
  },
  "nbpresent": {
   "slides": {
    "0fa710b2-d47c-4c28-961f-12d4a390d0d7": {
     "id": "0fa710b2-d47c-4c28-961f-12d4a390d0d7",
     "prev": "c67d57c4-facd-43d0-8255-66a319281afb",
     "regions": {
      "9271209d-e19b-4810-92ba-069c046ea5b5": {
       "attrs": {
        "height": 0.8,
        "width": 0.8,
        "x": 0.1,
        "y": 0.1
       },
       "content": {
        "cell": "cff156db-6eae-4555-9ae3-f4f2d867a4bb",
        "part": "whole"
       },
       "id": "9271209d-e19b-4810-92ba-069c046ea5b5"
      }
     }
    },
    "1aecfb94-d925-4c74-a791-2205531fe70a": {
     "id": "1aecfb94-d925-4c74-a791-2205531fe70a",
     "prev": "5cdb31ae-02cd-4215-bf8f-b2ed597fc1c4",
     "regions": {
      "f1e88476-fa86-408d-9b9c-e76aa541e81f": {
       "attrs": {
        "height": 0.8,
        "width": 0.8,
        "x": 0.1,
        "y": 0.1
       },
       "content": {
        "cell": "1a8ef29f-97d7-42a7-bc01-676ab015a317",
        "part": "whole"
       },
       "id": "f1e88476-fa86-408d-9b9c-e76aa541e81f"
      }
     }
    },
    "1fcfbcd4-27e5-4534-b2f5-47d91b8021bf": {
     "id": "1fcfbcd4-27e5-4534-b2f5-47d91b8021bf",
     "prev": "9c94a7e2-3531-4e5d-9ed6-52331cc81a25",
     "regions": {
      "277df10f-2fa1-4460-9325-0d942c13a02c": {
       "attrs": {
        "height": 0.8,
        "width": 0.8,
        "x": 0.1,
        "y": 0.1
       },
       "content": {
        "cell": "be4030bf-6933-4734-8671-cf7eb7053e81",
        "part": "whole"
       },
       "id": "277df10f-2fa1-4460-9325-0d942c13a02c"
      }
     }
    },
    "2009b453-955d-45f2-bc93-f32b572cd91c": {
     "id": "2009b453-955d-45f2-bc93-f32b572cd91c",
     "prev": "ceed6b98-2529-480a-ab19-d644f0839336",
     "regions": {
      "2f082e06-42ac-438d-9f90-48b68f94ce3f": {
       "attrs": {
        "height": 0.8,
        "width": 0.8,
        "x": 0.1,
        "y": 0.1
       },
       "content": {
        "cell": "a3d35be3-8c22-4889-9ab7-4032611cb777",
        "part": "whole"
       },
       "id": "2f082e06-42ac-438d-9f90-48b68f94ce3f"
      }
     }
    },
    "26e028fa-8fcf-4ce3-be26-1bbf01b65047": {
     "id": "26e028fa-8fcf-4ce3-be26-1bbf01b65047",
     "prev": "78a76222-1e9a-4411-8f97-6be02af0f6e3",
     "regions": {
      "9d3e1e88-4a36-4033-bbc3-d7a5ca4cc2d0": {
       "attrs": {
        "height": 0.8,
        "width": 0.8,
        "x": 0.1,
        "y": 0.1
       },
       "content": {
        "cell": "0618d73c-a2e4-4d01-8ece-bcf35efc6da8",
        "part": "whole"
       },
       "id": "9d3e1e88-4a36-4033-bbc3-d7a5ca4cc2d0"
      }
     }
    },
    "2919d728-06f6-4b5c-bcd1-cdfa385021d6": {
     "id": "2919d728-06f6-4b5c-bcd1-cdfa385021d6",
     "prev": "6d335fa2-d1b4-41fc-99cb-aea6633ea3ee",
     "regions": {
      "941ccc93-65c9-4cf2-a191-aab7f4a178cc": {
       "attrs": {
        "height": 0.8,
        "width": 0.8,
        "x": 0.1,
        "y": 0.1
       },
       "content": {
        "cell": "58414b35-5245-49af-b6cc-3de17850740a",
        "part": "whole"
       },
       "id": "941ccc93-65c9-4cf2-a191-aab7f4a178cc"
      }
     }
    },
    "335a81bc-1c7c-48a8-8671-59250354f598": {
     "id": "335a81bc-1c7c-48a8-8671-59250354f598",
     "prev": "4f4c32b6-42d8-4dff-b1ff-de2d7e6fa749",
     "regions": {
      "f788c3ef-ebc5-4a59-a341-6aa9f60c83d0": {
       "attrs": {
        "height": 0.8,
        "width": 0.8,
        "x": 0.1,
        "y": 0.1
       },
       "content": {
        "cell": "cf2d6f49-b2a7-4e86-8142-7e535b691185",
        "part": "whole"
       },
       "id": "f788c3ef-ebc5-4a59-a341-6aa9f60c83d0"
      }
     }
    },
    "45a968c6-642a-4f03-b42d-5be890924b6c": {
     "id": "45a968c6-642a-4f03-b42d-5be890924b6c",
     "prev": "7cfe42c3-acef-4a48-b80d-4f27c433f77d",
     "regions": {
      "d4f599e9-5d5f-4951-b462-f7b3df627b61": {
       "attrs": {
        "height": 0.8,
        "width": 0.8,
        "x": 0.1,
        "y": 0.1
       },
       "content": {
        "cell": "17f476ce-e8fd-452d-b912-09e7a41a9eb8",
        "part": "whole"
       },
       "id": "d4f599e9-5d5f-4951-b462-f7b3df627b61"
      }
     }
    },
    "4f4c32b6-42d8-4dff-b1ff-de2d7e6fa749": {
     "id": "4f4c32b6-42d8-4dff-b1ff-de2d7e6fa749",
     "prev": "26e028fa-8fcf-4ce3-be26-1bbf01b65047",
     "regions": {
      "e43efcf9-39de-4c8e-847d-374ddc978f3a": {
       "attrs": {
        "height": 0.8,
        "width": 0.8,
        "x": 0.1,
        "y": 0.1
       },
       "content": {
        "cell": "1d81fc20-f284-4303-a407-5cb5c7849000",
        "part": "whole"
       },
       "id": "e43efcf9-39de-4c8e-847d-374ddc978f3a"
      }
     }
    },
    "5c0488bf-9835-4377-a080-f00431f23156": {
     "id": "5c0488bf-9835-4377-a080-f00431f23156",
     "prev": "ee05daf3-8c57-48ef-9d66-5d283890433b",
     "regions": {
      "e399f6ba-c69d-40bc-9fb6-9d867a75b371": {
       "attrs": {
        "height": 0.8,
        "width": 0.8,
        "x": 0.1,
        "y": 0.1
       },
       "content": {
        "cell": "f1c86c1a-6f9b-49d9-a8c3-4790306b287d",
        "part": "whole"
       },
       "id": "e399f6ba-c69d-40bc-9fb6-9d867a75b371"
      }
     }
    },
    "5cdb31ae-02cd-4215-bf8f-b2ed597fc1c4": {
     "id": "5cdb31ae-02cd-4215-bf8f-b2ed597fc1c4",
     "prev": "90881867-4b07-479d-b873-a07d22d06157",
     "regions": {
      "f4b4442d-3750-4a85-aa5e-00ec9f61b896": {
       "attrs": {
        "height": 0.8,
        "width": 0.8,
        "x": 0.1,
        "y": 0.1
       },
       "content": {
        "cell": "c72c5cfe-4fff-4297-852d-79710ca6719e",
        "part": "whole"
       },
       "id": "f4b4442d-3750-4a85-aa5e-00ec9f61b896"
      }
     }
    },
    "6131c6ef-fcf3-4d69-8ca2-516e9e867104": {
     "id": "6131c6ef-fcf3-4d69-8ca2-516e9e867104",
     "prev": "9b90f276-68f0-47da-80df-bb5409a5ed88",
     "regions": {
      "79d26e4c-5623-4d6d-8d36-0bb97ca3dbdb": {
       "attrs": {
        "height": 0.8,
        "width": 0.8,
        "x": 0.1,
        "y": 0.1
       },
       "content": {
        "cell": "1341bfcf-c7f7-4986-8a9b-784be2aef5cb",
        "part": "whole"
       },
       "id": "79d26e4c-5623-4d6d-8d36-0bb97ca3dbdb"
      }
     }
    },
    "64022cc8-43ce-4f06-8694-1e081bb89ad2": {
     "id": "64022cc8-43ce-4f06-8694-1e081bb89ad2",
     "prev": "b7d0ea69-f7ae-46e0-80d4-4e98b9203013",
     "regions": {
      "e28a9361-4912-4ab6-9a07-0db1f865a0f4": {
       "attrs": {
        "height": 0.8,
        "width": 0.8,
        "x": 0.1,
        "y": 0.1
       },
       "content": {
        "cell": "53e70a83-96ce-43c9-9a73-4b8f0b2d3439",
        "part": "whole"
       },
       "id": "e28a9361-4912-4ab6-9a07-0db1f865a0f4"
      }
     }
    },
    "6d335fa2-d1b4-41fc-99cb-aea6633ea3ee": {
     "id": "6d335fa2-d1b4-41fc-99cb-aea6633ea3ee",
     "prev": "f35c9168-d7c4-43c0-b1fa-3a617758f692",
     "regions": {
      "6ed4f255-b00a-4143-82dc-82ea448afc70": {
       "attrs": {
        "height": 0.8,
        "width": 0.8,
        "x": 0.1,
        "y": 0.1
       },
       "content": {
        "cell": "cb05c7bb-7f2d-4adb-90ba-fe02a36cd0d4",
        "part": "whole"
       },
       "id": "6ed4f255-b00a-4143-82dc-82ea448afc70"
      }
     }
    },
    "76bdf74a-7d39-452b-8645-99317fe12468": {
     "id": "76bdf74a-7d39-452b-8645-99317fe12468",
     "prev": "2009b453-955d-45f2-bc93-f32b572cd91c",
     "regions": {
      "b016bc22-8069-4796-9c07-af08124bf1bf": {
       "attrs": {
        "height": 0.8,
        "width": 0.8,
        "x": 0.1,
        "y": 0.1
       },
       "content": {
        "cell": "cdd754e3-10e7-40ca-a5f3-982c00812f20",
        "part": "whole"
       },
       "id": "b016bc22-8069-4796-9c07-af08124bf1bf"
      }
     }
    },
    "78a76222-1e9a-4411-8f97-6be02af0f6e3": {
     "id": "78a76222-1e9a-4411-8f97-6be02af0f6e3",
     "prev": "78ab0521-0b29-4dda-9db2-8c6559c57c14",
     "regions": {
      "efebce90-c6ba-4c2b-8630-22b19035fdf9": {
       "attrs": {
        "height": 0.8,
        "width": 0.8,
        "x": 0.1,
        "y": 0.1
       },
       "content": {
        "cell": "ecac603f-050f-4d61-a9d6-23adb516a273",
        "part": "whole"
       },
       "id": "efebce90-c6ba-4c2b-8630-22b19035fdf9"
      }
     }
    },
    "78ab0521-0b29-4dda-9db2-8c6559c57c14": {
     "id": "78ab0521-0b29-4dda-9db2-8c6559c57c14",
     "prev": "e449a0cf-dd15-47e2-853a-2d97c4a3a325",
     "regions": {
      "f05ef5ad-6865-4696-9c37-6f954b654400": {
       "attrs": {
        "height": 0.8,
        "width": 0.8,
        "x": 0.1,
        "y": 0.1
       },
       "content": {
        "cell": "46deb29b-7018-4b56-b990-ebad367b1429",
        "part": "whole"
       },
       "id": "f05ef5ad-6865-4696-9c37-6f954b654400"
      }
     }
    },
    "7a6642f7-2b64-44ee-af39-a67840b85e8d": {
     "id": "7a6642f7-2b64-44ee-af39-a67840b85e8d",
     "prev": "c99ca3b9-fdf8-4537-9477-0e42aa96c43f",
     "regions": {
      "8f3ef6ab-29f1-4027-b7ad-8dc704acce78": {
       "attrs": {
        "height": 0.8,
        "width": 0.8,
        "x": 0.1,
        "y": 0.1
       },
       "content": {
        "cell": "397985f4-5108-469a-b342-c8862a49a4bc",
        "part": "whole"
       },
       "id": "8f3ef6ab-29f1-4027-b7ad-8dc704acce78"
      }
     }
    },
    "7cfe42c3-acef-4a48-b80d-4f27c433f77d": {
     "id": "7cfe42c3-acef-4a48-b80d-4f27c433f77d",
     "prev": "6131c6ef-fcf3-4d69-8ca2-516e9e867104",
     "regions": {
      "fcbe7324-9948-4351-a38f-2dee52673490": {
       "attrs": {
        "height": 0.8,
        "width": 0.8,
        "x": 0.1,
        "y": 0.1
       },
       "content": {
        "cell": "bfaedf84-b522-42b3-90f0-0ca8ba1f10eb",
        "part": "whole"
       },
       "id": "fcbe7324-9948-4351-a38f-2dee52673490"
      }
     }
    },
    "90881867-4b07-479d-b873-a07d22d06157": {
     "id": "90881867-4b07-479d-b873-a07d22d06157",
     "prev": "cd4a36de-b719-4343-8399-54a292ec0ae0",
     "regions": {
      "88db5942-374a-4679-aa01-2cbbff7e9cc7": {
       "attrs": {
        "height": 0.8,
        "width": 0.8,
        "x": 0.1,
        "y": 0.1
       },
       "content": {
        "cell": "96cfb3bd-c06d-4cd0-9647-c8dee2c26495",
        "part": "whole"
       },
       "id": "88db5942-374a-4679-aa01-2cbbff7e9cc7"
      }
     }
    },
    "9b90f276-68f0-47da-80df-bb5409a5ed88": {
     "id": "9b90f276-68f0-47da-80df-bb5409a5ed88",
     "prev": "0fa710b2-d47c-4c28-961f-12d4a390d0d7",
     "regions": {
      "e9794611-3ca1-45e7-9b66-f16bf34d33a6": {
       "attrs": {
        "height": 0.8,
        "width": 0.8,
        "x": 0.1,
        "y": 0.1
       },
       "content": {
        "cell": "5c3bba07-6c14-4842-a4b6-1155c48d6c95",
        "part": "whole"
       },
       "id": "e9794611-3ca1-45e7-9b66-f16bf34d33a6"
      }
     }
    },
    "9c94a7e2-3531-4e5d-9ed6-52331cc81a25": {
     "id": "9c94a7e2-3531-4e5d-9ed6-52331cc81a25",
     "prev": "cd71bca1-3495-4be2-b9c1-c2f7c4d9bafc",
     "regions": {
      "1682f76c-326d-437e-aca3-c63a3a6032aa": {
       "attrs": {
        "height": 0.8,
        "width": 0.8,
        "x": 0.1,
        "y": 0.1
       },
       "content": {
        "cell": "135873da-b423-4fac-876c-98c4dd295d04",
        "part": "whole"
       },
       "id": "1682f76c-326d-437e-aca3-c63a3a6032aa"
      }
     }
    },
    "a02b9fc8-5d2a-46d8-9ee2-a882f828b44c": {
     "id": "a02b9fc8-5d2a-46d8-9ee2-a882f828b44c",
     "prev": "fd3861b3-4547-4741-8640-61553d99bb0e",
     "regions": {
      "634061ac-fd63-416f-849a-4246f4c4f488": {
       "attrs": {
        "height": 0.8,
        "width": 0.8,
        "x": 0.1,
        "y": 0.1
       },
       "content": {
        "cell": "997fb1f5-a41b-405e-83b9-681fbf243289",
        "part": "whole"
       },
       "id": "634061ac-fd63-416f-849a-4246f4c4f488"
      }
     }
    },
    "b7d0ea69-f7ae-46e0-80d4-4e98b9203013": {
     "id": "b7d0ea69-f7ae-46e0-80d4-4e98b9203013",
     "prev": "5c0488bf-9835-4377-a080-f00431f23156",
     "regions": {
      "3e780352-49d9-4d66-9f2d-4db18f750571": {
       "attrs": {
        "height": 0.8,
        "width": 0.8,
        "x": 0.1,
        "y": 0.1
       },
       "content": {
        "cell": "4d5843cb-d24c-4bc7-9c47-535ee7ff00f0",
        "part": "whole"
       },
       "id": "3e780352-49d9-4d66-9f2d-4db18f750571"
      }
     }
    },
    "c2fa9c57-3d77-44c3-9738-7b536061764f": {
     "id": "c2fa9c57-3d77-44c3-9738-7b536061764f",
     "prev": "1aecfb94-d925-4c74-a791-2205531fe70a",
     "regions": {
      "7ec9b220-6e9b-4994-8402-e0d78990f60b": {
       "attrs": {
        "height": 0.8,
        "width": 0.8,
        "x": 0.1,
        "y": 0.1
       },
       "content": {
        "cell": "bf1b042a-c1a9-4413-9326-07c89c4ce0d2",
        "part": "whole"
       },
       "id": "7ec9b220-6e9b-4994-8402-e0d78990f60b"
      }
     }
    },
    "c67d57c4-facd-43d0-8255-66a319281afb": {
     "id": "c67d57c4-facd-43d0-8255-66a319281afb",
     "prev": "335a81bc-1c7c-48a8-8671-59250354f598",
     "regions": {
      "5f80da43-aabf-4090-83bb-4583bc48f46b": {
       "attrs": {
        "height": 0.8,
        "width": 0.8,
        "x": 0.1,
        "y": 0.1
       },
       "content": {
        "cell": "25ec18aa-d0b8-4ddd-ac57-ec1f57b519e9",
        "part": "whole"
       },
       "id": "5f80da43-aabf-4090-83bb-4583bc48f46b"
      }
     }
    },
    "c99ca3b9-fdf8-4537-9477-0e42aa96c43f": {
     "id": "c99ca3b9-fdf8-4537-9477-0e42aa96c43f",
     "prev": "1fcfbcd4-27e5-4534-b2f5-47d91b8021bf",
     "regions": {
      "5a90b095-88bc-4539-ab39-9aaccc3d3c3e": {
       "attrs": {
        "height": 0.8,
        "width": 0.8,
        "x": 0.1,
        "y": 0.1
       },
       "content": {
        "cell": "b3adc013-50e3-45d1-9588-aa017e3afd05",
        "part": "whole"
       },
       "id": "5a90b095-88bc-4539-ab39-9aaccc3d3c3e"
      }
     }
    },
    "cd4a36de-b719-4343-8399-54a292ec0ae0": {
     "id": "cd4a36de-b719-4343-8399-54a292ec0ae0",
     "prev": "64022cc8-43ce-4f06-8694-1e081bb89ad2",
     "regions": {
      "87a9e09d-1182-4db9-9a6c-eab82f8cfc5c": {
       "attrs": {
        "height": 0.8,
        "width": 0.8,
        "x": 0.1,
        "y": 0.1
       },
       "content": {
        "cell": "8f4fd15f-d41c-474b-8590-b2061b273ea1",
        "part": "whole"
       },
       "id": "87a9e09d-1182-4db9-9a6c-eab82f8cfc5c"
      }
     }
    },
    "cd71bca1-3495-4be2-b9c1-c2f7c4d9bafc": {
     "id": "cd71bca1-3495-4be2-b9c1-c2f7c4d9bafc",
     "prev": "c2fa9c57-3d77-44c3-9738-7b536061764f",
     "regions": {
      "591267c0-b438-41d2-827b-9dd17579a56a": {
       "attrs": {
        "height": 0.8,
        "width": 0.8,
        "x": 0.1,
        "y": 0.1
       },
       "content": {
        "cell": "4db0dc4e-7532-4916-9f62-4ba5dfeb7d18",
        "part": "whole"
       },
       "id": "591267c0-b438-41d2-827b-9dd17579a56a"
      }
     }
    },
    "ceed6b98-2529-480a-ab19-d644f0839336": {
     "id": "ceed6b98-2529-480a-ab19-d644f0839336",
     "prev": "45a968c6-642a-4f03-b42d-5be890924b6c",
     "regions": {
      "96d47f2a-b9d7-4214-ac9c-fa968311ebd2": {
       "attrs": {
        "height": 0.8,
        "width": 0.8,
        "x": 0.1,
        "y": 0.1
       },
       "content": {
        "cell": "25a65aaf-2161-494f-9ab5-a6264c3ebb99",
        "part": "whole"
       },
       "id": "96d47f2a-b9d7-4214-ac9c-fa968311ebd2"
      }
     }
    },
    "d980d221-84e4-4228-a372-9c82aeccb458": {
     "id": "d980d221-84e4-4228-a372-9c82aeccb458",
     "prev": "a02b9fc8-5d2a-46d8-9ee2-a882f828b44c",
     "regions": {
      "f7a3535e-084a-4501-9ab2-21e91e9baef1": {
       "attrs": {
        "height": 0.8,
        "width": 0.8,
        "x": 0.1,
        "y": 0.1
       },
       "content": {
        "cell": "8446e1b5-546c-4738-b8b1-10d2c72534c8",
        "part": "whole"
       },
       "id": "f7a3535e-084a-4501-9ab2-21e91e9baef1"
      }
     }
    },
    "e449a0cf-dd15-47e2-853a-2d97c4a3a325": {
     "id": "e449a0cf-dd15-47e2-853a-2d97c4a3a325",
     "prev": "e899bca2-3651-4706-8372-d29a165dc9e9",
     "regions": {
      "c113920b-1653-4e13-a748-8240d34b94c2": {
       "attrs": {
        "height": 0.8,
        "width": 0.8,
        "x": 0.1,
        "y": 0.1
       },
       "content": {
        "cell": "59e167c6-46f8-45c6-8def-954a7ba8cdc7",
        "part": "whole"
       },
       "id": "c113920b-1653-4e13-a748-8240d34b94c2"
      }
     }
    },
    "e899bca2-3651-4706-8372-d29a165dc9e9": {
     "id": "e899bca2-3651-4706-8372-d29a165dc9e9",
     "prev": "7a6642f7-2b64-44ee-af39-a67840b85e8d",
     "regions": {
      "8cd9e2b8-4e21-438e-a2c7-be1af235843a": {
       "attrs": {
        "height": 0.8,
        "width": 0.8,
        "x": 0.1,
        "y": 0.1
       },
       "content": {
        "cell": "f35083b5-e6cf-443d-a7a0-f3356f14d8c1",
        "part": "whole"
       },
       "id": "8cd9e2b8-4e21-438e-a2c7-be1af235843a"
      }
     }
    },
    "ee05daf3-8c57-48ef-9d66-5d283890433b": {
     "id": "ee05daf3-8c57-48ef-9d66-5d283890433b",
     "prev": "2919d728-06f6-4b5c-bcd1-cdfa385021d6",
     "regions": {
      "7aa156b1-7eca-4e9a-abc0-0ac7044f1ec6": {
       "attrs": {
        "height": 0.8,
        "width": 0.8,
        "x": 0.1,
        "y": 0.1
       },
       "content": {
        "cell": "68a9703f-7ba1-4885-8c95-d7ad883596b9",
        "part": "whole"
       },
       "id": "7aa156b1-7eca-4e9a-abc0-0ac7044f1ec6"
      }
     }
    },
    "f35c9168-d7c4-43c0-b1fa-3a617758f692": {
     "id": "f35c9168-d7c4-43c0-b1fa-3a617758f692",
     "prev": null,
     "regions": {
      "cdf6682a-ef1e-4d5c-985a-2c9ec5c232d2": {
       "attrs": {
        "height": 0.8,
        "width": 0.8,
        "x": 0.1,
        "y": 0.1
       },
       "content": {
        "cell": "53e72ef8-bd3e-4339-8392-099be3dd1f43",
        "part": "whole"
       },
       "id": "cdf6682a-ef1e-4d5c-985a-2c9ec5c232d2"
      }
     }
    },
    "fd3861b3-4547-4741-8640-61553d99bb0e": {
     "id": "fd3861b3-4547-4741-8640-61553d99bb0e",
     "prev": "76bdf74a-7d39-452b-8645-99317fe12468",
     "regions": {
      "01a2e45f-9061-41a6-ad24-b123d5dec89d": {
       "attrs": {
        "height": 0.8,
        "width": 0.8,
        "x": 0.1,
        "y": 0.1
       },
       "content": {
        "cell": "953d7aec-48cb-4d75-95e4-a3ce6299f0d4",
        "part": "whole"
       },
       "id": "01a2e45f-9061-41a6-ad24-b123d5dec89d"
      }
     }
    }
   },
   "themes": {}
  },
  "widgets": {
   "state": {
    "7e71c7d2a74d40bb9603a1954039203d": {
     "views": [
      {
       "cell_index": 28
      }
     ]
    }
   },
   "version": "1.2.0"
  }
 },
 "nbformat": 4,
 "nbformat_minor": 1
}
