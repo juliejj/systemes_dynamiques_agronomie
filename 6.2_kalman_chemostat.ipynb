{
 "cells": [
  {
   "cell_type": "markdown",
   "metadata": {
    "slideshow": {
     "slide_type": "slide"
    }
   },
   "source": [
    "# FKE pour le chemostat"
   ]
  },
  {
   "cell_type": "markdown",
   "metadata": {},
   "source": [
    "On écrit le modèle du chemostat:\n",
    "\\begin{align*}\n",
    "\\dot X(t) &= f(X(t)) + \\sigma \\,\\xi(t)\\\\\n",
    "Y_k  &= h(X(t_k)) + V_k\n",
    "\\end{align*}\n",
    "sous forme canonique en posant:\n",
    "\\begin{align*}\n",
    "X=\\begin{pmatrix} B\\\\ X\\end{pmatrix}=\\begin{pmatrix} x_1\\\\ x_2\\end{pmatrix}\n",
    "\\end{align*}\n",
    "On écrit $f$:\n",
    "\\begin{align*}\n",
    "  f(X) = f(B,S) = \\begin{pmatrix} \n",
    "    (\\mu(S)-D)\\,B \\\\ \n",
    "    D\\,(S_{in}-S)-\\kappa\\,\\mu(S)\\,B\n",
    "  \\end{pmatrix}  = \\begin{pmatrix} \n",
    "    (\\mu(x_2)-D)\\,x_1 \\\\ \n",
    "    D\\,(S_{in}-x_2)-\\kappa\\,\\mu(x_2)\\,x_1\n",
    "  \\end{pmatrix}\n",
    "\\end{align*}\n",
    "et son gradient:\n",
    "\\begin{align*}\n",
    "  \\nabla f(X) =\n",
    "  \\begin{pmatrix} \n",
    "    \\mu(S)-D  &  \\mu'(S)\\,B \\\\ \n",
    "    -\\kappa\\,\\mu(S) & D-\\kappa\\,\\mu'(S)\\,B  \n",
    "  \\end{pmatrix} = \\begin{pmatrix} \n",
    "    \\mu(x_2)-D  &  \\mu'(x_2)\\,x_1 \\\\ \n",
    "    -\\kappa\\,\\mu(x_2) & D-\\kappa\\,\\mu'(x_2)\\,x_1  \n",
    "  \\end{pmatrix}\n",
    "\\end{align*}\n",
    "De même $h$:\n",
    "\\begin{align*}\n",
    "   h(X) = h(B,S) = \\mu(S)\\,B=\\mu(x_2)\\,x_1\n",
    "\\end{align*}\n",
    "et son gradient:\n",
    "\\begin{align*}\n",
    "   \\nabla h(X) = \\nabla h(B,S)  =  \\begin{pmatrix}  \\mu(S) &  \\mu'(S)\\,B  \\end{pmatrix} = \n",
    "   \\begin{pmatrix}  \\mu(x_2) &  \\mu'(x_2)\\,x_1  \\end{pmatrix}\n",
    "\\end{align*}\n",
    "où\n",
    "\\begin{align*}\n",
    "   \\mu(S) =   \\mu_{max}\\,\\frac{S}{K+S} \n",
    "\\end{align*}\n",
    "et\n",
    "\\begin{align*}\n",
    "   \\mu'(S) =   \\mu_{max}\\,\\frac{(K+S)\\,S'-(K+S)'\\,S}{(K+S)^2} =   \\mu_{max}\\,\\frac{K}{(K+S)^2}\n",
    "\\end{align*}"
   ]
  },
  {
   "cell_type": "code",
   "execution_count": 2,
   "metadata": {
    "slideshow": {
     "slide_type": "slide"
    }
   },
   "outputs": [],
   "source": [
    "import numpy as np\n",
    "import matplotlib.pyplot as plt\n",
    "import scipy.stats as stats\n",
    "\n",
    "x1, x2, p11, p12, p21, p22 = 1,2,3,0.1,0.1,5\n",
    "vecteur = np.array([x1, x2, p11, p12, p21, p22])\n",
    "state = vecteur[2:7].reshape((2, 2))\n",
    "cov = vecteur[0:2].reshape((2, 1))\n",
    "type(cov)\n",
    "a = np.array([1.8 , 0.15])\n",
    "b = np.array([1.8 , 0.15]).reshape((2, 1))"
   ]
  },
  {
   "cell_type": "code",
   "execution_count": 3,
   "metadata": {
    "slideshow": {
     "slide_type": "slide"
    }
   },
   "outputs": [
    {
     "data": {
      "image/png": "[encoded data removed]",
      "text/plain": [
       "<matplotlib.figure.Figure at 0x10c778208>"
      ]
     },
     "metadata": {},
     "output_type": "display_data"
    }
   ],
   "source": [
    "import numpy as np\n",
    "import matplotlib.pyplot as plt\n",
    "from scipy.integrate import odeint\n",
    "\n",
    "\n",
    "smin, smax = 0, 3 \n",
    "bmin, bmax = 0, 1.5\n",
    "ka = 2;         # stoichiometric coefficient\n",
    "s_in = 2.4;     # input substrate concentration\n",
    "D = 0.1;        # dillution rate\n",
    "mu_max = 5;     # maximim of the specific rate (Monod case)\n",
    "k_s      = 10;  # half saturation coeficient   (Monod case)\n",
    "T = 300\n",
    "\n",
    "Sigma = np.array([1, 0, 0, 1]).reshape((2, 2))\n",
    "Qxi = np.array([0.0001, 0, 0, 0.0001]).reshape((2, 2))\n",
    "\n",
    "Qv = 0.0001\n",
    "\n",
    "EX0 = np.array([1.8 , 0.15]).reshape((2, 1))\n",
    "VX0 = np.array([1, 0, 0, 1]).reshape((2, 2))\n",
    "\n",
    "def f(x, t):\n",
    "    \"second memnbre de l'EDO chemostat\"\n",
    "    mu = mu_max*x[1]/(k_s+x[1])\n",
    "    f1 = (mu-D)*x[0]\n",
    "    f2 = D*(s_in-x[1])-ka*mu*x[0]\n",
    "    return f1,f2\n",
    "\n",
    "def Df(x):\n",
    "    \"differentielle second memnbre de l'EDO chemostat\"\n",
    "    mu = mu_max*x[1]/(k_s+x[1])\n",
    "    D1f1 = mu-D\n",
    "    D2f1 = mup*x[0]\n",
    "    D1f2 = -ka*mu\n",
    "    D3f2 = D-ka*mup*x[0]\n",
    "    return D1f1,D2f1,D1f2,D3f2\n",
    "\n",
    "def h(x):\n",
    "    \"fonction observation\"\n",
    "    mu = mu_max*x[1]/(k_s+x[1])\n",
    "    h = mu*x[0]\n",
    "    return h\n",
    "\n",
    "def Dh(x):\n",
    "    \"differentielle fonction observation\"\n",
    "    mu = mu_max*x[1]/(k_s+x[1])\n",
    "    mup = mu_max*1/(k_s+x[1])**2\n",
    "    h = mu*x[0]\n",
    "    return mu,mup*x[1]\n",
    "\n",
    "\n",
    "def f_etendu(x_etendu, t):\n",
    "    '''second membre étendu : \n",
    "    EDO chemostat couplé à l'EDO de Riccati pour FKE'''\n",
    "    x = x_etendu[0:2].reshape((2,1))\n",
    "    mu = mu_max*x[1]/(k_s+x[1])\n",
    "    mup = mu_max*1/(k_s+x[1])**2\n",
    "    f1 =(mu-D)*x[0]\n",
    "    f2 = D*(s_in-x[1])-ka*mu*x[0]\n",
    "    cov = x_etendu[2:7].reshape((2, 2))\n",
    "    DF = np.array([mu-D, -ka*mu, mup*x[0], D-ka*mup*x[0]]).reshape((2, 2))\n",
    "    Fcov = DF*cov+cov*DF.transpose()+Sigma*Qxi*Sigma.transpose()\n",
    "    return [f1, f2, Fcov[0,0], Fcov[1,0], Fcov[0,1], Fcov[1,1]]\n",
    "\n",
    "\n",
    "# SIMULATION\n",
    "\n",
    "t_obs = np.linspace(0, T, 1201)  # pas d'observation en t_obs[0]=0 \n",
    "\n",
    "X0 = EX0[0]  # biomasse initiale\n",
    "S0 = EX0[1]  # subtrat initiale\n",
    "\n",
    "X = np.ones_like(t_obs)\n",
    "S = np.ones_like(t_obs)\n",
    "Y = np.ones_like(t_obs)\n",
    "X[0], S[0] = X0, S0\n",
    "Y[0] = 0 # dummy value\n",
    "i = 0\n",
    "delta = t_obs[1]\n",
    "i_max = len(t_obs)\n",
    "for i in range(i_max-1):\n",
    "    fX, fS = f([X[i],S[i]], 0)\n",
    "    X[i+1] = X[i] + delta * fX + np.sqrt(Qxi[0,0]*delta)*np.random.randn()\n",
    "    S[i+1] = S[i] + delta * fS + np.sqrt(Qxi[1,1]*delta)*np.random.randn()\n",
    "    Y[i+1] = h([X[i+1],S[i+1]])  + np.sqrt(Qv)*np.random.randn()\n",
    "\n",
    "plt.plot(t_obs,X,label='biomass')    \n",
    "plt.plot(t_obs,S,label='substrat')    \n",
    "plt.plot(t_obs,Y,label='observation')    \n",
    "plt.xlabel(r'temps $h$')\n",
    "plt.legend()\n",
    "plt.show()\n"
   ]
  },
  {
   "cell_type": "code",
   "execution_count": 179,
   "metadata": {
    "slideshow": {
     "slide_type": "slide"
    }
   },
   "outputs": [
    {
     "data": {
      "text/plain": [
       "(6,)"
      ]
     },
     "execution_count": 179,
     "metadata": {},
     "output_type": "execute_result"
    }
   ],
   "source": [
    "# FILTRAGE\n",
    "R = np.ones((4,len(t_obs)))\n",
    "hatX = np.ones((2,len(t_obs)))\n",
    "\n",
    "hatX[:,0] = X0,S0\n",
    "R[:,0] = 0,0,0,0\n",
    "\n",
    "val_ini = np.concatenate([hatX[:,0] , R[:,0]])\n",
    "\n",
    "\n",
    "np.shape(val_ini)\n"
   ]
  },
  {
   "cell_type": "code",
   "execution_count": 217,
   "metadata": {},
   "outputs": [
    {
     "data": {
      "text/plain": [
       "(2, 2)"
      ]
     },
     "execution_count": 217,
     "metadata": {},
     "output_type": "execute_result"
    }
   ],
   "source": [
    "\n",
    "\n",
    "for i in range(i_max-1):\n",
    "    # prédiction\n",
    "    val_ini = np.concatenate([hatX[:,0] , R[:,0]])\n",
    "    tt,val_pred = odeint( f_etendu, val_ini, [t_obs[i],t_obs[i+1]])\n",
    "    hatXpred = np.array(val_pred[0:2]).reshape((2, 1))\n",
    "    Rpred = val_pred[2:6].reshape((2, 2))\n",
    "    \n",
    "  \n",
    "    # correction\n",
    "    H = np.array(Dh(hatXpred))\n",
    "    gain = Rpred*H.transpose()/(H*Rpred*H.transpose()+Qv)\n",
    "    hatXcor = hatXpred  + gain*(Y[i+1] - h(hatXpred))\n",
    "    Rcor  = (np.identity(2)-gain*H)*Rpred\n",
    "\n",
    "np.shape(np.array(H)*np.array(Rpred))                                 \n",
    "       "
   ]
  },
  {
   "cell_type": "code",
   "execution_count": null,
   "metadata": {
    "collapsed": true
   },
   "outputs": [],
   "source": [
    "    hatX[:,i+1] = hatXcor\n",
    "    R[:,i+1] = Rcor\n",
    "\n"
   ]
  }
 ],
 "metadata": {
  "anaconda-cloud": {},
  "celltoolbar": "Slideshow",
  "kernelspec": {
   "display_name": "Python 3",
   "language": "python",
   "name": "python3"
  },
  "language_info": {
   "codemirror_mode": {
    "name": "ipython",
    "version": 3
   },
   "file_extension": ".py",
   "mimetype": "text/x-python",
   "name": "python",
   "nbconvert_exporter": "python",
   "pygments_lexer": "ipython3",
   "version": "3.6.4"
  },
  "latex_envs": {
   "LaTeX_envs_menu_present": true,
   "autocomplete": true,
   "bibliofile": "biblio.bib",
   "cite_by": "apalike",
   "current_citInitial": 1,
   "eqLabelWithNumbers": true,
   "eqNumInitial": 1,
   "hotkeys": {
    "equation": "Ctrl-E",
    "itemize": "Ctrl-I"
   },
   "labels_anchors": false,
   "latex_user_defs": false,
   "report_style_numbering": false,
   "user_envs_cfg": false
  },
  "widgets": {
   "state": {
    "26b4d98b24754bf29c4bdcc57535143b": {
     "views": [
      {
       "cell_index": 13
      }
     ]
    },
    "8f7bcf23722d43c7b931b60173a4cc28": {
     "views": [
      {
       "cell_index": 7
      }
     ]
    }
   },
   "version": "1.2.0"
  }
 },
 "nbformat": 4,
 "nbformat_minor": 1
}
