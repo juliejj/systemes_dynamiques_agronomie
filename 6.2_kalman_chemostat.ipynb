{
 "cells": [
  {
   "cell_type": "markdown",
   "metadata": {
    "slideshow": {
     "slide_type": "slide"
    }
   },
   "source": [
    "# FKE pour le chemostat"
   ]
  },
  {
   "cell_type": "markdown",
   "metadata": {},
   "source": [
    "On écrit le modèle du chemostat:\n",
    "\\begin{align*}\n",
    "\\dot X(t) &= f(X(t)) + \\sigma \\,\\xi(t)\\\\\n",
    "Y_k  &= h(X(t_k)) + V_k\n",
    "\\end{align*}\n",
    "sous forme canonique en posant:\n",
    "\\begin{align*}\n",
    "X=\\begin{pmatrix} S\\\\ B\\end{pmatrix}=\\begin{pmatrix} x_1\\\\ x_2\\end{pmatrix}\n",
    "\\end{align*}\n",
    "On écrit $f$:\n",
    "\\begin{align*}\n",
    "  f(X) = f(S,B) = \n",
    "  \\begin{pmatrix}  D\\,(S_{in}-S)-\\kappa\\,\\mu(S)\\,B         \\\\ (\\mu(S)-D)\\,B \\end{pmatrix} = \n",
    "  \\begin{pmatrix}  D\\,(S_{in}-x_1)-\\kappa\\,\\mu(x_1)\\,x_2   \\\\ (\\mu(x_1)-D)\\,x_2 \\end{pmatrix}\n",
    "\\end{align*}\n",
    "et son gradient:\n",
    "\\begin{align*}\n",
    "  \\nabla f(X) =\n",
    "  \\begin{pmatrix}  -D-\\kappa\\,\\mu'(S)\\,B     & -\\kappa\\,\\mu(S)   \\\\  \\mu'(S)\\,B     & \\mu(S)-D   \\end{pmatrix} =   \n",
    "  \\begin{pmatrix}  -D-\\kappa\\,\\mu'(x_1)\\,x_2 & -\\kappa\\,\\mu(x_1) \\\\  \\mu'(x_1)\\,x_2 & \\mu(x_1)-D \\end{pmatrix}  \n",
    "\\end{align*}\n",
    "De même $h$:\n",
    "\\begin{align*}\n",
    "   h(X) = h(S,B) = \\mu(S)\\,B=\\mu(x_1)\\,x_2\n",
    "\\end{align*}\n",
    "et son gradient:\n",
    "\\begin{align*}\n",
    "   \\nabla h(X) = \\nabla h(S,B)  =  \n",
    "   \\begin{pmatrix}  \\mu'(S)\\,B      & \\mu(S)  \\end{pmatrix} = \n",
    "   \\begin{pmatrix}  \\mu'(x_1)\\,x_2  & \\mu(x_1) \\end{pmatrix}\n",
    "\\end{align*}\n",
    "où\n",
    "\\begin{align*}\n",
    "   \\mu(S) =   \\mu_{max}\\,\\frac{S}{K+S} =   \\mu_{max}\\,\\frac{x_1}{K+x_1} \n",
    "\\end{align*}\n",
    "et\n",
    "\\begin{align*}\n",
    "   \\mu'(S) =   \\mu_{max}\\,\\frac{(K+S)\\,S'-(K+S)'\\,S}{(K+S)^2} =   \\mu_{max}\\,\\frac{K}{(K+S)^2} =\n",
    "    \\mu_{max}\\,\\frac{K}{(K+x_1)^2}\n",
    "\\end{align*}"
   ]
  },
  {
   "cell_type": "markdown",
   "metadata": {},
   "source": [
    "## Les fonctions\n",
    "\n",
    "On définit toutes les fonctions $f(x)$,  $\\nabla f(x)$,  $h(x)$,  $\\nabla h(x)$"
   ]
  },
  {
   "cell_type": "code",
   "execution_count": 45,
   "metadata": {
    "slideshow": {
     "slide_type": "slide"
    }
   },
   "outputs": [],
   "source": [
    "import numpy as np\n",
    "import matplotlib.pyplot as plt\n",
    "from scipy.integrate import odeint\n",
    "\n",
    "\n",
    "smin, smax = 0, 3 \n",
    "bmin, bmax = 0, 1.5\n",
    "ka      = 2;    # stoichiometric coefficient\n",
    "s_in    = 2.4;  # input substrate concentration\n",
    "D       = 0.1;  # dillution rate\n",
    "mu_max  = 5;    # maximim of the specific rate (Monod case)\n",
    "k_s     = 10;   # half saturation coeficient   (Monod case)\n",
    "T       = 50    # temps final\n",
    "\n",
    "Sigma = np.array([ [1, 0],[0, 1] ])\n",
    "Qxi   = np.array([ [0.0001, 0], [0, 0.0001] ])\n",
    "Qv    = 0.0001\n",
    "\n",
    "EX0 = np.array([1.8 , 0.15]).reshape((2, 1))\n",
    "VX0 = np.array([1, 0, 0, 1]).reshape((2, 2))\n",
    "\n",
    "def f(x, t):\n",
    "    \"second memnbre de l'EDO chemostat\"\n",
    "    mu = mu_max*x[0]/(k_s+x[0])\n",
    "    f1 = D*(s_in-x[0])-ka*mu*x[1]\n",
    "    f2 = (mu-D)*x[1]\n",
    "    return f1,f2\n",
    "\n",
    "def Df(x):\n",
    "    \"differentielle second memnbre de l'EDO chemostat\"\n",
    "    denom = k_s+x[0]\n",
    "    mu    = mu_max*x[0]/denom\n",
    "    mu    = mu_max*k_s/(denom*denom)\n",
    "    D1f1  = -D-ka*mup*x[1]\n",
    "    D2f1  = -ka*mu\n",
    "    D1f2  = mup*x[1]\n",
    "    D2f2  = mu-D\n",
    "    return D1f1,D2f1,D1f2,D2f2\n",
    "\n",
    "def h(x):\n",
    "    \"fonction observation\"\n",
    "    mu = mu_max*x[0]/(k_s+x[0])\n",
    "    return mu*x[1]\n",
    "\n",
    "def Dh(x):\n",
    "    \"differentielle fonction observation\"\n",
    "    denom = k_s+x[0]\n",
    "    mu    = mu_max*x[0]/denom\n",
    "    mup   = mu_max*k_s/(denom*denom)\n",
    "    return mup*x[1],mu\n",
    "\n",
    "\n",
    "def f_etendu(x_etendu, t):\n",
    "    '''second membre étendu : \n",
    "    EDO chemostat couplé à l'EDO de Riccati pour FKE'''\n",
    "    x     = x_etendu[0:2].reshape((2,1))   # unpacking du couple (etat,Cov) \n",
    "    cov   = x_etendu[2:6].reshape((2,2))   #        -------\n",
    "    denom = k_s+x[0]\n",
    "    mu    = mu_max*x[0]/denom\n",
    "    mup   = mu_max*k_s/(denom*denom)\n",
    "    f1    = D*(s_in-x[0])-ka*mu*x[1]\n",
    "    f2    = (mu-D)*x[1]\n",
    "    D1f1  = -D-ka*mup*x[1]\n",
    "    D2f1  = -ka*mu\n",
    "    D1f2  = mup*x[1]\n",
    "    D2f2  = mu-D\n",
    "    DF    = np.array([D1f1, D2f1, D1f2, D2f2]).reshape((2, 2))\n",
    "    Fcov = DF*cov+cov.transpose()*DF.transpose()+Sigma*Qxi*Sigma.transpose()\n",
    "    \"attention je retourne deux fois Fcov[1,0]\"\n",
    "    return [f1, f2, Fcov[0,0], Fcov[1,0], Fcov[1,0], Fcov[1,1]]"
   ]
  },
  {
   "cell_type": "code",
   "execution_count": 46,
   "metadata": {},
   "outputs": [
    {
     "name": "stdout",
     "output_type": "stream",
     "text": [
      "x = [[1]\n",
      " [2]]\n",
      "cov = [[3 4]\n",
      " [5 6]]\n"
     ]
    }
   ],
   "source": [
    "\"pour mémo:\"\n",
    "x_etendu = np.array([1,2,3,4,5,6])\n",
    "x        = x_etendu[0:2].reshape((2,1))\n",
    "cov      = x_etendu[2:6].reshape((2, 2)) \n",
    "print(\"x =\",x)\n",
    "print(\"cov =\",cov)"
   ]
  },
  {
   "cell_type": "markdown",
   "metadata": {},
   "source": [
    "## Simulation du système à espace d'état\n",
    "\n"
   ]
  },
  {
   "cell_type": "code",
   "execution_count": 48,
   "metadata": {},
   "outputs": [
    {
     "data": {
      "image/png": "[encoded data removed]",
      "text/plain": [
       "<matplotlib.figure.Figure at 0x10a17deb8>"
      ]
     },
     "metadata": {},
     "output_type": "display_data"
    }
   ],
   "source": [
    "# SIMULATION\n",
    "t_obs = np.linspace(0, T, 1201)  # pas d'observation en t_obs[0]=0 \n",
    "\n",
    "S0 = EX0[0]  # subtrat initiale\n",
    "B0 = EX0[1]  # biomasse initiale\n",
    "\n",
    "S = np.ones_like(t_obs)\n",
    "B = np.ones_like(t_obs)\n",
    "Y = np.ones_like(t_obs)\n",
    "S[0] , B[0] = S0, B0\n",
    "Y[0] = 0 # dummy value\n",
    "i = 0\n",
    "delta = t_obs[1]\n",
    "i_max = len(t_obs)\n",
    "sq0 = np.sqrt(Qxi[0,0]*delta)\n",
    "sq1 = np.sqrt(Qxi[1,1]*delta)\n",
    "for i in range(i_max-1):\n",
    "    fS, fB = f([S[i],B[i]], 0)\n",
    "    S[i+1] = S[i] + delta * fS + sq0*np.random.randn()\n",
    "    B[i+1] = B[i] + delta * fB + sq1*np.random.randn()\n",
    "    Y[i+1] = h([S[i+1],B[i+1]]) + np.sqrt(Qv)*np.random.randn()\n",
    "\n",
    "plt.plot(t_obs,S,label='substrat')    \n",
    "plt.plot(t_obs,B,label='biomass')    \n",
    "plt.plot(t_obs,Y,label='observation')    \n",
    "plt.xlabel(r'temps $h$')\n",
    "plt.legend()\n",
    "plt.show()"
   ]
  }
 ],
 "metadata": {
  "anaconda-cloud": {},
  "celltoolbar": "Slideshow",
  "kernelspec": {
   "display_name": "Python 3",
   "language": "python",
   "name": "python3"
  },
  "language_info": {
   "codemirror_mode": {
    "name": "ipython",
    "version": 3
   },
   "file_extension": ".py",
   "mimetype": "text/x-python",
   "name": "python",
   "nbconvert_exporter": "python",
   "pygments_lexer": "ipython3",
   "version": "3.6.4"
  },
  "latex_envs": {
   "LaTeX_envs_menu_present": true,
   "autocomplete": true,
   "bibliofile": "biblio.bib",
   "cite_by": "apalike",
   "current_citInitial": 1,
   "eqLabelWithNumbers": true,
   "eqNumInitial": 1,
   "hotkeys": {
    "equation": "Ctrl-E",
    "itemize": "Ctrl-I"
   },
   "labels_anchors": false,
   "latex_user_defs": false,
   "report_style_numbering": false,
   "user_envs_cfg": false
  },
  "widgets": {
   "state": {
    "26b4d98b24754bf29c4bdcc57535143b": {
     "views": [
      {
       "cell_index": 13
      }
     ]
    },
    "8f7bcf23722d43c7b931b60173a4cc28": {
     "views": [
      {
       "cell_index": 7
      }
     ]
    }
   },
   "version": "1.2.0"
  }
 },
 "nbformat": 4,
 "nbformat_minor": 1
}
