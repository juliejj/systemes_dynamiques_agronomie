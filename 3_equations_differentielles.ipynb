{
 "cells": [
  {
   "cell_type": "markdown",
   "metadata": {},
   "source": [
    "# Table of Contents\n",
    "* [Equations différentielles](#Equations-différentielles)\n",
    "\t* [Définition](#Définition)\n",
    "\t* [Unicité](#Unicité)\n",
    "\t* [Existence](#Existence)\n",
    "* [Références](#Références)\n"
   ]
  },
  {
   "cell_type": "markdown",
   "metadata": {
    "nbpresent": {
     "id": "d038ae08-ee50-4ad2-9aa5-3dc09b3cb033"
    }
   },
   "source": [
    "# Equations différentielles"
   ]
  },
  {
   "cell_type": "markdown",
   "metadata": {},
   "source": [
    "- analyse\n",
    "- approximation"
   ]
  },
  {
   "cell_type": "markdown",
   "metadata": {
    "nbpresent": {
     "id": "9465da87-3279-4417-aaa7-f66e7f568c1b"
    }
   },
   "source": [
    "## Définition"
   ]
  },
  {
   "cell_type": "markdown",
   "metadata": {},
   "source": [
    "Une **[équation différentielle](https://fr.wikipedia.org/wiki/Équation_différentielle)** est une relation mathématique entre une ou plusieurs fonctions inconnues et leurs dérivées, par exemple $F(x(t),\\dot x(t),\\ddot x(t),t)=0$ où $t$ appartient à un \"certain sous-ensemble de $\\mathbb{R}$\". Nous allons considérer le cas le plus simple, celui des équations du premier ordre:\n",
    "\\begin{align}\n",
    "\\label{eq.cauchy}\n",
    "  \\dot x(t) = f(t,x(t))\\,,\\ t\\geq 0\\,,\\ x(0)=x_{0}\\,.\n",
    "\\end{align}\n",
    "où $x(t)\\in\\mathbb{R}^d$ et $f:\\mathbb{R}_+\\times\\mathbb{R}^d\\to \\mathbb{R}^d$. Lorsque $f$ ne dépend pas de $t$, l'ED est dite **autonome**, lorque $f$ est linéaire en $x(t)$, l'ED est dite **linéaire**.\n",
    "\n",
    "L'équation \\eqref{eq.cauchy} se comprend de façon équivalente sous la forme intégrale de la façon suivante:\n",
    "\\begin{align*}\n",
    "  x(t) = x_0 + \\int_0^t f(s,x(s))\\,{\\rm d} s\\,,\\ t\\geq 0\\,.\n",
    "\\end{align*}\n",
    "\n",
    "L'existence et l'unicité est assurée par le [théorème de Cauchy-Lipschitz](https://fr.wikipedia.org/wiki/Théorème_de_Cauchy-Lipschitz). \n",
    "\n",
    "L'analyse des ED n'est pas si simple. Le problème \\eqref{eq.cauchy}, dit de Cauchy, est un problème local en temps. Nous nous contentons ici de donner quelques éléments dans le cas le plus simple.\n",
    "\n",
    "Voir [[Benzoni-Gavage 2010](#cite-benzoni2010a)] ou [[Demailly 2006](#cite-demailly2006a)] pour un exposé plus complet."
   ]
  },
  {
   "cell_type": "markdown",
   "metadata": {
    "nbpresent": {
     "id": "fb0bd62c-c76b-4387-a64e-21049cbfc11a"
    }
   },
   "source": [
    "## Unicité"
   ]
  },
  {
   "cell_type": "markdown",
   "metadata": {},
   "source": [
    "On dira que l'équation \\eqref{eq.cauchy} admet une **solution unique** si, étant donné deux fonctions $x_i(t)$ vérifiant \\eqref{eq.cauchy}, $i=1,2$, alors $x_1(t)=x_2(t)$ pour tout $t\\geq 0$.\n",
    "\n",
    "\\begin{example}\n",
    "On considère l'ED autonome:\n",
    "\\[\n",
    "  \\dot x(t) = 2\\,\\sqrt{x(t)}\\,,\\ x(0)=0\\,.\n",
    "\\]\n",
    "Il est clair que $x_{1}(t)=0$, $t\\geq 0$ est une solution de cette équation ainsi que  $x_{2}(t)=t^2$, $t\\geq 0$. Par une technique de *recollement* consistant à mettre bout à bout ces deux solutions, on peut cosntruire une infinité de solutions. Ici $f(x)=2\\,\\sqrt{x}$ est une fonction continue, il faut en fait un peu plus de régularité pour abtenir l'unicité de la solution de l'équation \\eqref{eq.cauchy}.\n",
    "\\end{example}\n",
    "\n",
    "\n",
    "La fonction  $f$ est dite (globalement) *lipschitzienne* s'il existe  une constante $L$ tels que:\n",
    "\\begin{align*}\n",
    "  |f(t,x)-f(t,y)| \\leq L\\,|x-y|\\,,\\ \\forall t,x,y\\,.\n",
    "\\end{align*}\n",
    "\n",
    "<img src=\"./images/lipschitz2.pdf\" alt=\"Lipschitz\" style=\"width: 200px;\"/>\n",
    "\n",
    "Une fonction lipschitzienne est continue mais pas forcément dérivable. Lorsque la fonction admet une dérivée uniformément bornée par une constante $L$, alors elle est lipschitzienne avec constante $L$.\n",
    "\n",
    "\\begin{proposition}\n",
    "Soit $x_{i}(\\cdot)$, $i=1,2$, deux solutions du problème \\eqref{eq.cauchy}. On suppose $f$ globalement lipschitzienne, alors:\n",
    "\\[\n",
    "   |x_{1}(t)-x_{2}(t)| \\leq e^{L\\,|t-t_{0}|}\\,|x_{1}(0)-x_{2}(0)|\\,,\\forall t\\in I\\,.\n",
    "\\]\n",
    "\\end{proposition}\n",
    "\n",
    "Donc si $x_{1}(0)=x_{2}(0)=x_0$ alors $x_{1}(t)=x_{2}(t)$ pour tout $t$. Dans l'exemple précédent $f(x)=2\\,\\sqrt{x}$ n'est pas lipschitzienne. L'outil central permettant de démontrer la proposition précédente est le [lemme de Gronwall](https://fr.wikipedia.org/wiki/Lemme_de_Grönwall)."
   ]
  },
  {
   "cell_type": "markdown",
   "metadata": {
    "nbpresent": {
     "id": "20ac6e31-554f-4c02-a4f2-a4ab6aa70189"
    }
   },
   "source": [
    "## Existence"
   ]
  },
  {
   "cell_type": "markdown",
   "metadata": {},
   "source": [
    "Il existe deux méthodes classiques pour ``construire'' des solutions du problème de Cauchy. Nous verrons dans la section suivante la méthode d'**approximation d'Euler**, une autre approche classique mais moins constructive consiste à faire appel aux **approximations successives de Picard**. On se donne $x^{(0)}(t)$ continue et on pose:\n",
    "\\[\n",
    "    x^{(n+1)} = \\mathcal{I} x^{(n)}\n",
    "\\]\n",
    "avec\n",
    "\\[\n",
    "   \\mathcal{I} x(t) = x_{0} + \\int_{t_{0}}^t f(s,x(s))\\,{\\rm d} s\\,,\\ t\\geq 0\\,.\n",
    "\\]\n",
    "La solution de \\eqref{eq.cauchy} apparait alors comme un point fixe de l'application $\\mathcal{I}$, i.e. $x$ telle que $x=\\mathcal{I} x$.\n",
    "\n",
    "\n",
    "\\begin{proposition}\n",
    "Supposons $f$ est dite (globalement) *lipschitzienne* et continue en $(t,x)$, il existe alors une solution au problème  \\eqref{eq.cauchy}\n",
    "\\end{proposition}\n",
    "\n",
    "Preuve: voir [[Benzoni-Gavage 2010](#cite-benzoni2010a) p. 147]."
   ]
  },
  {
   "cell_type": "markdown",
   "metadata": {},
   "source": [
    "<!--bibtex\n",
    " \n",
    "@book{benzoni2010a,\n",
    "\tAuthor = {Sylvie Benzoni-Gavage},\n",
    "\tPublisher = {Dunod},\n",
    "\tTitle = {Calcul diff{\\'e}rentiel et équations diff{\\'e}rentielles},\n",
    "\tYear = {2010}}\n",
    "\n",
    "\n",
    "@book{demailly2006a,\n",
    "\tAuthor = {Demailly, J.P.},\n",
    "\tOpturl = {http://books.google.fr/books?id=2yTLzzm3N6kC},\n",
    "\tPublisher = {EDP Sciences},\n",
    "\tTitle = {Analyse num{\\'e}rique et équations fiff{\\'e}rentielles},\n",
    "\tYear = {2006}}\n",
    "\n",
    "-->"
   ]
  },
  {
   "cell_type": "markdown",
   "metadata": {},
   "source": [
    "# References\n",
    "\n",
    "<a name=\"cite-benzoni2010a\"/><sup>[^](#ref-1) [^](#ref-3) </sup>Sylvie Benzoni-Gavage. 2010. _Calcul Diff&eacute;rentiel et &Eacute;quations Diff&eacute;rentielles_.\n",
    "\n",
    "<a name=\"cite-demailly2006a\"/><sup>[^](#ref-2) </sup>Demailly, J.P.. 2006. _Analyse num&eacute;rique et &eacute;quations diff&eacute;rentielles_.\n",
    "\n"
   ]
  }
 ],
 "metadata": {
  "anaconda-cloud": {},
  "kernelspec": {
   "display_name": "Python [default]",
   "language": "python",
   "name": "python3"
  },
  "language_info": {
   "codemirror_mode": {
    "name": "ipython",
    "version": 3
   },
   "file_extension": ".py",
   "mimetype": "text/x-python",
   "name": "python",
   "nbconvert_exporter": "python",
   "pygments_lexer": "ipython3",
   "version": "3.5.2"
  },
  "latex_envs": {
   "LaTeX_envs_menu_present": true,
   "bibliofile": "biblio.bib",
   "cite_by": "apalike",
   "current_citInitial": 1,
   "eqLabelWithNumbers": true,
   "eqNumInitial": 1,
   "labels_anchors": false,
   "latex_user_defs": false,
   "report_style_numbering": false,
   "user_envs_cfg": false
  },
  "nbpresent": {
   "slides": {
    "2370c56b-61f1-404c-af0f-84176bc33cff": {
     "id": "2370c56b-61f1-404c-af0f-84176bc33cff",
     "prev": "7f712783-530e-4ce2-877c-8e9a465e992a",
     "regions": {
      "2fa00e09-8012-4978-86ca-177a886cc672": {
       "attrs": {
        "height": 0.8,
        "width": 0.8,
        "x": 0.1,
        "y": 0.1
       },
       "content": {
        "cell": "fb0bd62c-c76b-4387-a64e-21049cbfc11a",
        "part": "whole"
       },
       "id": "2fa00e09-8012-4978-86ca-177a886cc672"
      }
     }
    },
    "3745cb09-8bfb-46c4-9f28-09cca6df92e9": {
     "id": "3745cb09-8bfb-46c4-9f28-09cca6df92e9",
     "prev": "2370c56b-61f1-404c-af0f-84176bc33cff",
     "regions": {
      "ed03c2f3-604e-481e-aeb1-10c05f38efec": {
       "attrs": {
        "height": 0.8,
        "width": 0.8,
        "x": 0.1,
        "y": 0.1
       },
       "content": {
        "cell": "20ac6e31-554f-4c02-a4f2-a4ab6aa70189",
        "part": "whole"
       },
       "id": "ed03c2f3-604e-481e-aeb1-10c05f38efec"
      }
     }
    },
    "4b353193-8407-43e4-97e3-9521567f2f8c": {
     "id": "4b353193-8407-43e4-97e3-9521567f2f8c",
     "prev": null,
     "regions": {
      "9c442883-364e-47f7-8b98-6ad200b042d2": {
       "attrs": {
        "height": 0.8,
        "width": 0.8,
        "x": 0.1,
        "y": 0.1
       },
       "content": {
        "cell": "d038ae08-ee50-4ad2-9aa5-3dc09b3cb033",
        "part": "whole"
       },
       "id": "9c442883-364e-47f7-8b98-6ad200b042d2"
      }
     }
    },
    "7f712783-530e-4ce2-877c-8e9a465e992a": {
     "id": "7f712783-530e-4ce2-877c-8e9a465e992a",
     "prev": "4b353193-8407-43e4-97e3-9521567f2f8c",
     "regions": {
      "72edcf47-fb69-45dd-8444-08d2b40e4d28": {
       "attrs": {
        "height": 0.8,
        "width": 0.8,
        "x": 0.1,
        "y": 0.1
       },
       "content": {
        "cell": "9465da87-3279-4417-aaa7-f66e7f568c1b",
        "part": "whole"
       },
       "id": "72edcf47-fb69-45dd-8444-08d2b40e4d28"
      }
     }
    },
    "a4990c21-44c2-4634-8518-934edff8e434": {
     "id": "a4990c21-44c2-4634-8518-934edff8e434",
     "prev": "3745cb09-8bfb-46c4-9f28-09cca6df92e9",
     "regions": {
      "a8361832-346e-4814-9bd0-076f589af4d4": {
       "attrs": {
        "height": 0.8,
        "width": 0.8,
        "x": 0.1,
        "y": 0.1
       },
       "content": {
        "cell": "e129dde5-54aa-4ea4-94ce-1f9d1e7ad431",
        "part": "whole"
       },
       "id": "a8361832-346e-4814-9bd0-076f589af4d4"
      }
     }
    }
   },
   "themes": {}
  }
 },
 "nbformat": 4,
 "nbformat_minor": 1
}
