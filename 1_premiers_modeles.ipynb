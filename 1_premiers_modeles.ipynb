{
 "cells": [
  {
   "cell_type": "markdown",
   "metadata": {
    "nbpresent": {
     "id": "cb05c7bb-7f2d-4adb-90ba-fe02a36cd0d4"
    },
    "slideshow": {
     "slide_type": "slide"
    }
   },
   "source": [
    "# Les bases de la dynamique des populations\n",
    "\n",
    "\n",
    "- croissances géométrique et exponentielle \n",
    "- logistique\n",
    "- Lotka-Voltera\n",
    "- chemostat\n"
   ]
  },
  {
   "cell_type": "markdown",
   "metadata": {
    "nbpresent": {
     "id": "68a9703f-7ba1-4885-8c95-d7ad883596b9"
    },
    "slideshow": {
     "slide_type": "slide"
    }
   },
   "source": [
    "## La suite de Fibonacci\n",
    "\n",
    "<!---\n",
    "<img src=\"https://upload.wikimedia.org/wikipedia/commons/3/35/Fibonacci2.jpg\">\n",
    "--->\n",
    "\n",
    "[Leonardo Fibonacci](https://en.wikipedia.org/wiki/Fibonacci) (c. 1170-c. 1250) considera en 1202 un problème de croissance de populations de lapins:\n",
    "\n",
    "> Combien de couples de lapins obtiendrons-nous à la fin de l'année si, \n",
    "> commençant avec un couple, chacun des couples produisait chaque mois un \n",
    "> nouveau couple lequel deviendrait productif au second mois de son existence ?\n",
    "\n",
    "Si $x_{n}$ désigne la taille de la population au mois $n$ et si on suppose que $x_{1}=x_{2}=1$, alors au troisième mois ce couple se reproduit donc $x_{3}=2$, le mois suivant le premier couple se reproduit à nouveau et le couple obtenu au mois précédent n'est pas encore productif donc $x_{4}=3$, ainsi de suite:\n",
    "![suite de Fibonacci](./images/suite_fibonacci.png)\n",
    "(en rouge les couples en âge de se reproduire). "
   ]
  },
  {
   "cell_type": "markdown",
   "metadata": {
    "nbpresent": {
     "id": "4d5843cb-d24c-4bc7-9c47-535ee7ff00f0"
    }
   },
   "source": [
    "À un mois $n$ donné, la population comprend tous les couples du mois $n-2$ qui se sont reproduits au mois $n-1$ donc $2\\,x_{n-2}$ auxquels s'ajoutent les couples produits au mois $n-1$ qui ne sont pas en âge de se reproduire, c'est-à-dire $x_{n-1}-x_{n-2}$. Ainsi $x_{n}=2\\,x_{n-2}+(x_{n-1}-x_{n-2})$ d'où la relation de récurrence:\n",
    "\\begin{equation}\n",
    "\\label{eq.fibonacci}\n",
    " x_{n} = x_{n-1}+x_{n-2}\\,,\\ x_{1}=x_{2}=1\\,.\n",
    "\\end{equation}\n",
    "Cette [suite](https://en.wikipedia.org/wiki/Fibonacci_number) dite de Fibonacci est décrite sous la forme d'un système dynamique en temps discret \\eqref{eq.fibonacci}, i.e. la taille de la population n'est explicitement pas donnée, seule la dynamique de croissance locale en temps l'est.\n",
    "Il faudra attendre plus de cinq cent ans pour que la formule explicite de cette suite soit établie: \n",
    "\\begin{equation}\n",
    "\\label{eq.fibonacci.exp}\n",
    "x_{n}=[{(1+\\sqrt{5})^n-(1-\\sqrt{5})^{n}}]/[{2^n\\,\\sqrt{5}}]\\,.\n",
    "\\end{equation}\n",
    "Sur la plan de la dynamique de populations cette suite ne présente que peu d'intérêt. En effet elle croit plus vite que $n^2$ mais nettement moins vite que $2^n$. Elle a plus étonnamment trouvé des applications en [architecture des plantes](https://en.wikipedia.org/wiki/Patterns_in_nature). "
   ]
  },
  {
   "cell_type": "markdown",
   "metadata": {},
   "source": [
    "On dispose de [pluisieurs façons]{http://stackoverflow.com/questions/494594/how-to-write-the-fibonacci-sequence-in-python} de programmer cela en Python. La version récursive n'est pas la plus efficace, la plus simple est relativement efficace:"
   ]
  },
  {
   "cell_type": "code",
   "execution_count": 30,
   "metadata": {
    "collapsed": false
   },
   "outputs": [],
   "source": [
    "import numpy as np\n",
    "\n",
    "def fibonacci(n):\n",
    " a,b = 1,1\n",
    " for i in range(n-1):\n",
    "  a,b = b,a+b\n",
    " return a\n",
    "\n",
    "def fibonacci_explicit(n):\n",
    "    return np.int(np.ceil((1+np.sqrt(5))**n-(1-np.sqrt(5))**n)/(2**n*np.sqrt(5)))\n",
    "\n",
    "def fibonacci_recursive(n):\n",
    "    if n==1 or n==2:\n",
    "        return 1\n",
    "    return fibonacci_recursive(n-1)+fibonacci_recursive(n-2)"
   ]
  },
  {
   "cell_type": "code",
   "execution_count": 47,
   "metadata": {
    "collapsed": false
   },
   "outputs": [
    {
     "data": {
      "text/plain": [
       "[1,\n",
       " 1,\n",
       " 1,\n",
       " 2,\n",
       " 3,\n",
       " 5,\n",
       " 8,\n",
       " 13,\n",
       " 21,\n",
       " 34,\n",
       " 55,\n",
       " 89,\n",
       " 144,\n",
       " 233,\n",
       " 377,\n",
       " 610,\n",
       " 987,\n",
       " 1597,\n",
       " 2584,\n",
       " 4181,\n",
       " 6765,\n",
       " 10946]"
      ]
     },
     "execution_count": 47,
     "metadata": {},
     "output_type": "execute_result"
    }
   ],
   "source": [
    "[fibonacci(n) for n in range(22)]"
   ]
  },
  {
   "cell_type": "code",
   "execution_count": 32,
   "metadata": {
    "collapsed": false
   },
   "outputs": [
    {
     "name": "stdout",
     "output_type": "stream",
     "text": [
      "CPU times: user 2 µs, sys: 1 µs, total: 3 µs\n",
      "Wall time: 25 µs\n"
     ]
    }
   ],
   "source": [
    "%time\n",
    "for n in range(1,200):\n",
    "    fibonacci(n)"
   ]
  },
  {
   "cell_type": "code",
   "execution_count": 33,
   "metadata": {
    "collapsed": false
   },
   "outputs": [
    {
     "name": "stdout",
     "output_type": "stream",
     "text": [
      "CPU times: user 2 µs, sys: 0 ns, total: 2 µs\n",
      "Wall time: 4.77 µs\n"
     ]
    }
   ],
   "source": [
    "%time\n",
    "\n",
    "for n in range(1,200):\n",
    "    fibonacci_explicit(n)"
   ]
  },
  {
   "cell_type": "code",
   "execution_count": 34,
   "metadata": {
    "collapsed": false
   },
   "outputs": [
    {
     "name": "stdout",
     "output_type": "stream",
     "text": [
      "CPU times: user 2 µs, sys: 0 ns, total: 2 µs\n",
      "Wall time: 5.01 µs\n"
     ]
    },
    {
     "ename": "KeyboardInterrupt",
     "evalue": "",
     "output_type": "error",
     "traceback": [
      "\u001b[0;31m---------------------------------------------------------------------------\u001b[0m",
      "\u001b[0;31mKeyboardInterrupt\u001b[0m                         Traceback (most recent call last)",
      "\u001b[0;32m<ipython-input-34-f24798d5fb8d>\u001b[0m in \u001b[0;36m<module>\u001b[0;34m()\u001b[0m\n\u001b[1;32m      1\u001b[0m \u001b[0mget_ipython\u001b[0m\u001b[0;34m(\u001b[0m\u001b[0;34m)\u001b[0m\u001b[0;34m.\u001b[0m\u001b[0mmagic\u001b[0m\u001b[0;34m(\u001b[0m\u001b[0;34m'time'\u001b[0m\u001b[0;34m)\u001b[0m\u001b[0;34m\u001b[0m\u001b[0m\n\u001b[1;32m      2\u001b[0m \u001b[0;32mfor\u001b[0m \u001b[0mn\u001b[0m \u001b[0;32min\u001b[0m \u001b[0mrange\u001b[0m\u001b[0;34m(\u001b[0m\u001b[0;36m1\u001b[0m\u001b[0;34m,\u001b[0m\u001b[0;36m200\u001b[0m\u001b[0;34m)\u001b[0m\u001b[0;34m:\u001b[0m\u001b[0;34m\u001b[0m\u001b[0m\n\u001b[0;32m----> 3\u001b[0;31m     \u001b[0mfibonacci_recursive\u001b[0m\u001b[0;34m(\u001b[0m\u001b[0mn\u001b[0m\u001b[0;34m)\u001b[0m\u001b[0;34m\u001b[0m\u001b[0m\n\u001b[0m",
      "\u001b[0;32m<ipython-input-30-59432794d787>\u001b[0m in \u001b[0;36mfibonacci_recursive\u001b[0;34m(n)\u001b[0m\n\u001b[1;32m     20\u001b[0m     \u001b[0;32mif\u001b[0m \u001b[0mn\u001b[0m\u001b[0;34m==\u001b[0m\u001b[0;36m1\u001b[0m \u001b[0;32mor\u001b[0m \u001b[0mn\u001b[0m\u001b[0;34m==\u001b[0m\u001b[0;36m2\u001b[0m\u001b[0;34m:\u001b[0m\u001b[0;34m\u001b[0m\u001b[0m\n\u001b[1;32m     21\u001b[0m         \u001b[0;32mreturn\u001b[0m \u001b[0;36m1\u001b[0m\u001b[0;34m\u001b[0m\u001b[0m\n\u001b[0;32m---> 22\u001b[0;31m     \u001b[0;32mreturn\u001b[0m \u001b[0mfibonacci_recursive\u001b[0m\u001b[0;34m(\u001b[0m\u001b[0mn\u001b[0m\u001b[0;34m-\u001b[0m\u001b[0;36m1\u001b[0m\u001b[0;34m)\u001b[0m\u001b[0;34m+\u001b[0m\u001b[0mfibonacci_recursive\u001b[0m\u001b[0;34m(\u001b[0m\u001b[0mn\u001b[0m\u001b[0;34m-\u001b[0m\u001b[0;36m2\u001b[0m\u001b[0;34m)\u001b[0m\u001b[0;34m\u001b[0m\u001b[0m\n\u001b[0m",
      "\u001b[0;32m<ipython-input-30-59432794d787>\u001b[0m in \u001b[0;36mfibonacci_recursive\u001b[0;34m(n)\u001b[0m\n\u001b[1;32m     20\u001b[0m     \u001b[0;32mif\u001b[0m \u001b[0mn\u001b[0m\u001b[0;34m==\u001b[0m\u001b[0;36m1\u001b[0m \u001b[0;32mor\u001b[0m \u001b[0mn\u001b[0m\u001b[0;34m==\u001b[0m\u001b[0;36m2\u001b[0m\u001b[0;34m:\u001b[0m\u001b[0;34m\u001b[0m\u001b[0m\n\u001b[1;32m     21\u001b[0m         \u001b[0;32mreturn\u001b[0m \u001b[0;36m1\u001b[0m\u001b[0;34m\u001b[0m\u001b[0m\n\u001b[0;32m---> 22\u001b[0;31m     \u001b[0;32mreturn\u001b[0m \u001b[0mfibonacci_recursive\u001b[0m\u001b[0;34m(\u001b[0m\u001b[0mn\u001b[0m\u001b[0;34m-\u001b[0m\u001b[0;36m1\u001b[0m\u001b[0;34m)\u001b[0m\u001b[0;34m+\u001b[0m\u001b[0mfibonacci_recursive\u001b[0m\u001b[0;34m(\u001b[0m\u001b[0mn\u001b[0m\u001b[0;34m-\u001b[0m\u001b[0;36m2\u001b[0m\u001b[0;34m)\u001b[0m\u001b[0;34m\u001b[0m\u001b[0m\n\u001b[0m",
      "\u001b[0;32m<ipython-input-30-59432794d787>\u001b[0m in \u001b[0;36mfibonacci_recursive\u001b[0;34m(n)\u001b[0m\n\u001b[1;32m     20\u001b[0m     \u001b[0;32mif\u001b[0m \u001b[0mn\u001b[0m\u001b[0;34m==\u001b[0m\u001b[0;36m1\u001b[0m \u001b[0;32mor\u001b[0m \u001b[0mn\u001b[0m\u001b[0;34m==\u001b[0m\u001b[0;36m2\u001b[0m\u001b[0;34m:\u001b[0m\u001b[0;34m\u001b[0m\u001b[0m\n\u001b[1;32m     21\u001b[0m         \u001b[0;32mreturn\u001b[0m \u001b[0;36m1\u001b[0m\u001b[0;34m\u001b[0m\u001b[0m\n\u001b[0;32m---> 22\u001b[0;31m     \u001b[0;32mreturn\u001b[0m \u001b[0mfibonacci_recursive\u001b[0m\u001b[0;34m(\u001b[0m\u001b[0mn\u001b[0m\u001b[0;34m-\u001b[0m\u001b[0;36m1\u001b[0m\u001b[0;34m)\u001b[0m\u001b[0;34m+\u001b[0m\u001b[0mfibonacci_recursive\u001b[0m\u001b[0;34m(\u001b[0m\u001b[0mn\u001b[0m\u001b[0;34m-\u001b[0m\u001b[0;36m2\u001b[0m\u001b[0;34m)\u001b[0m\u001b[0;34m\u001b[0m\u001b[0m\n\u001b[0m",
      "\u001b[0;32m<ipython-input-30-59432794d787>\u001b[0m in \u001b[0;36mfibonacci_recursive\u001b[0;34m(n)\u001b[0m\n\u001b[1;32m     20\u001b[0m     \u001b[0;32mif\u001b[0m \u001b[0mn\u001b[0m\u001b[0;34m==\u001b[0m\u001b[0;36m1\u001b[0m \u001b[0;32mor\u001b[0m \u001b[0mn\u001b[0m\u001b[0;34m==\u001b[0m\u001b[0;36m2\u001b[0m\u001b[0;34m:\u001b[0m\u001b[0;34m\u001b[0m\u001b[0m\n\u001b[1;32m     21\u001b[0m         \u001b[0;32mreturn\u001b[0m \u001b[0;36m1\u001b[0m\u001b[0;34m\u001b[0m\u001b[0m\n\u001b[0;32m---> 22\u001b[0;31m     \u001b[0;32mreturn\u001b[0m \u001b[0mfibonacci_recursive\u001b[0m\u001b[0;34m(\u001b[0m\u001b[0mn\u001b[0m\u001b[0;34m-\u001b[0m\u001b[0;36m1\u001b[0m\u001b[0;34m)\u001b[0m\u001b[0;34m+\u001b[0m\u001b[0mfibonacci_recursive\u001b[0m\u001b[0;34m(\u001b[0m\u001b[0mn\u001b[0m\u001b[0;34m-\u001b[0m\u001b[0;36m2\u001b[0m\u001b[0;34m)\u001b[0m\u001b[0;34m\u001b[0m\u001b[0m\n\u001b[0m",
      "\u001b[0;32m<ipython-input-30-59432794d787>\u001b[0m in \u001b[0;36mfibonacci_recursive\u001b[0;34m(n)\u001b[0m\n\u001b[1;32m     20\u001b[0m     \u001b[0;32mif\u001b[0m \u001b[0mn\u001b[0m\u001b[0;34m==\u001b[0m\u001b[0;36m1\u001b[0m \u001b[0;32mor\u001b[0m \u001b[0mn\u001b[0m\u001b[0;34m==\u001b[0m\u001b[0;36m2\u001b[0m\u001b[0;34m:\u001b[0m\u001b[0;34m\u001b[0m\u001b[0m\n\u001b[1;32m     21\u001b[0m         \u001b[0;32mreturn\u001b[0m \u001b[0;36m1\u001b[0m\u001b[0;34m\u001b[0m\u001b[0m\n\u001b[0;32m---> 22\u001b[0;31m     \u001b[0;32mreturn\u001b[0m \u001b[0mfibonacci_recursive\u001b[0m\u001b[0;34m(\u001b[0m\u001b[0mn\u001b[0m\u001b[0;34m-\u001b[0m\u001b[0;36m1\u001b[0m\u001b[0;34m)\u001b[0m\u001b[0;34m+\u001b[0m\u001b[0mfibonacci_recursive\u001b[0m\u001b[0;34m(\u001b[0m\u001b[0mn\u001b[0m\u001b[0;34m-\u001b[0m\u001b[0;36m2\u001b[0m\u001b[0;34m)\u001b[0m\u001b[0;34m\u001b[0m\u001b[0m\n\u001b[0m",
      "\u001b[0;32m<ipython-input-30-59432794d787>\u001b[0m in \u001b[0;36mfibonacci_recursive\u001b[0;34m(n)\u001b[0m\n\u001b[1;32m     20\u001b[0m     \u001b[0;32mif\u001b[0m \u001b[0mn\u001b[0m\u001b[0;34m==\u001b[0m\u001b[0;36m1\u001b[0m \u001b[0;32mor\u001b[0m \u001b[0mn\u001b[0m\u001b[0;34m==\u001b[0m\u001b[0;36m2\u001b[0m\u001b[0;34m:\u001b[0m\u001b[0;34m\u001b[0m\u001b[0m\n\u001b[1;32m     21\u001b[0m         \u001b[0;32mreturn\u001b[0m \u001b[0;36m1\u001b[0m\u001b[0;34m\u001b[0m\u001b[0m\n\u001b[0;32m---> 22\u001b[0;31m     \u001b[0;32mreturn\u001b[0m \u001b[0mfibonacci_recursive\u001b[0m\u001b[0;34m(\u001b[0m\u001b[0mn\u001b[0m\u001b[0;34m-\u001b[0m\u001b[0;36m1\u001b[0m\u001b[0;34m)\u001b[0m\u001b[0;34m+\u001b[0m\u001b[0mfibonacci_recursive\u001b[0m\u001b[0;34m(\u001b[0m\u001b[0mn\u001b[0m\u001b[0;34m-\u001b[0m\u001b[0;36m2\u001b[0m\u001b[0;34m)\u001b[0m\u001b[0;34m\u001b[0m\u001b[0m\n\u001b[0m",
      "\u001b[0;32m<ipython-input-30-59432794d787>\u001b[0m in \u001b[0;36mfibonacci_recursive\u001b[0;34m(n)\u001b[0m\n\u001b[1;32m     20\u001b[0m     \u001b[0;32mif\u001b[0m \u001b[0mn\u001b[0m\u001b[0;34m==\u001b[0m\u001b[0;36m1\u001b[0m \u001b[0;32mor\u001b[0m \u001b[0mn\u001b[0m\u001b[0;34m==\u001b[0m\u001b[0;36m2\u001b[0m\u001b[0;34m:\u001b[0m\u001b[0;34m\u001b[0m\u001b[0m\n\u001b[1;32m     21\u001b[0m         \u001b[0;32mreturn\u001b[0m \u001b[0;36m1\u001b[0m\u001b[0;34m\u001b[0m\u001b[0m\n\u001b[0;32m---> 22\u001b[0;31m     \u001b[0;32mreturn\u001b[0m \u001b[0mfibonacci_recursive\u001b[0m\u001b[0;34m(\u001b[0m\u001b[0mn\u001b[0m\u001b[0;34m-\u001b[0m\u001b[0;36m1\u001b[0m\u001b[0;34m)\u001b[0m\u001b[0;34m+\u001b[0m\u001b[0mfibonacci_recursive\u001b[0m\u001b[0;34m(\u001b[0m\u001b[0mn\u001b[0m\u001b[0;34m-\u001b[0m\u001b[0;36m2\u001b[0m\u001b[0;34m)\u001b[0m\u001b[0;34m\u001b[0m\u001b[0m\n\u001b[0m",
      "\u001b[0;32m<ipython-input-30-59432794d787>\u001b[0m in \u001b[0;36mfibonacci_recursive\u001b[0;34m(n)\u001b[0m\n\u001b[1;32m     20\u001b[0m     \u001b[0;32mif\u001b[0m \u001b[0mn\u001b[0m\u001b[0;34m==\u001b[0m\u001b[0;36m1\u001b[0m \u001b[0;32mor\u001b[0m \u001b[0mn\u001b[0m\u001b[0;34m==\u001b[0m\u001b[0;36m2\u001b[0m\u001b[0;34m:\u001b[0m\u001b[0;34m\u001b[0m\u001b[0m\n\u001b[1;32m     21\u001b[0m         \u001b[0;32mreturn\u001b[0m \u001b[0;36m1\u001b[0m\u001b[0;34m\u001b[0m\u001b[0m\n\u001b[0;32m---> 22\u001b[0;31m     \u001b[0;32mreturn\u001b[0m \u001b[0mfibonacci_recursive\u001b[0m\u001b[0;34m(\u001b[0m\u001b[0mn\u001b[0m\u001b[0;34m-\u001b[0m\u001b[0;36m1\u001b[0m\u001b[0;34m)\u001b[0m\u001b[0;34m+\u001b[0m\u001b[0mfibonacci_recursive\u001b[0m\u001b[0;34m(\u001b[0m\u001b[0mn\u001b[0m\u001b[0;34m-\u001b[0m\u001b[0;36m2\u001b[0m\u001b[0;34m)\u001b[0m\u001b[0;34m\u001b[0m\u001b[0m\n\u001b[0m",
      "\u001b[0;32m<ipython-input-30-59432794d787>\u001b[0m in \u001b[0;36mfibonacci_recursive\u001b[0;34m(n)\u001b[0m\n\u001b[1;32m     20\u001b[0m     \u001b[0;32mif\u001b[0m \u001b[0mn\u001b[0m\u001b[0;34m==\u001b[0m\u001b[0;36m1\u001b[0m \u001b[0;32mor\u001b[0m \u001b[0mn\u001b[0m\u001b[0;34m==\u001b[0m\u001b[0;36m2\u001b[0m\u001b[0;34m:\u001b[0m\u001b[0;34m\u001b[0m\u001b[0m\n\u001b[1;32m     21\u001b[0m         \u001b[0;32mreturn\u001b[0m \u001b[0;36m1\u001b[0m\u001b[0;34m\u001b[0m\u001b[0m\n\u001b[0;32m---> 22\u001b[0;31m     \u001b[0;32mreturn\u001b[0m \u001b[0mfibonacci_recursive\u001b[0m\u001b[0;34m(\u001b[0m\u001b[0mn\u001b[0m\u001b[0;34m-\u001b[0m\u001b[0;36m1\u001b[0m\u001b[0;34m)\u001b[0m\u001b[0;34m+\u001b[0m\u001b[0mfibonacci_recursive\u001b[0m\u001b[0;34m(\u001b[0m\u001b[0mn\u001b[0m\u001b[0;34m-\u001b[0m\u001b[0;36m2\u001b[0m\u001b[0;34m)\u001b[0m\u001b[0;34m\u001b[0m\u001b[0m\n\u001b[0m",
      "\u001b[0;32m<ipython-input-30-59432794d787>\u001b[0m in \u001b[0;36mfibonacci_recursive\u001b[0;34m(n)\u001b[0m\n\u001b[1;32m     20\u001b[0m     \u001b[0;32mif\u001b[0m \u001b[0mn\u001b[0m\u001b[0;34m==\u001b[0m\u001b[0;36m1\u001b[0m \u001b[0;32mor\u001b[0m \u001b[0mn\u001b[0m\u001b[0;34m==\u001b[0m\u001b[0;36m2\u001b[0m\u001b[0;34m:\u001b[0m\u001b[0;34m\u001b[0m\u001b[0m\n\u001b[1;32m     21\u001b[0m         \u001b[0;32mreturn\u001b[0m \u001b[0;36m1\u001b[0m\u001b[0;34m\u001b[0m\u001b[0m\n\u001b[0;32m---> 22\u001b[0;31m     \u001b[0;32mreturn\u001b[0m \u001b[0mfibonacci_recursive\u001b[0m\u001b[0;34m(\u001b[0m\u001b[0mn\u001b[0m\u001b[0;34m-\u001b[0m\u001b[0;36m1\u001b[0m\u001b[0;34m)\u001b[0m\u001b[0;34m+\u001b[0m\u001b[0mfibonacci_recursive\u001b[0m\u001b[0;34m(\u001b[0m\u001b[0mn\u001b[0m\u001b[0;34m-\u001b[0m\u001b[0;36m2\u001b[0m\u001b[0;34m)\u001b[0m\u001b[0;34m\u001b[0m\u001b[0m\n\u001b[0m",
      "\u001b[0;32m<ipython-input-30-59432794d787>\u001b[0m in \u001b[0;36mfibonacci_recursive\u001b[0;34m(n)\u001b[0m\n\u001b[1;32m     20\u001b[0m     \u001b[0;32mif\u001b[0m \u001b[0mn\u001b[0m\u001b[0;34m==\u001b[0m\u001b[0;36m1\u001b[0m \u001b[0;32mor\u001b[0m \u001b[0mn\u001b[0m\u001b[0;34m==\u001b[0m\u001b[0;36m2\u001b[0m\u001b[0;34m:\u001b[0m\u001b[0;34m\u001b[0m\u001b[0m\n\u001b[1;32m     21\u001b[0m         \u001b[0;32mreturn\u001b[0m \u001b[0;36m1\u001b[0m\u001b[0;34m\u001b[0m\u001b[0m\n\u001b[0;32m---> 22\u001b[0;31m     \u001b[0;32mreturn\u001b[0m \u001b[0mfibonacci_recursive\u001b[0m\u001b[0;34m(\u001b[0m\u001b[0mn\u001b[0m\u001b[0;34m-\u001b[0m\u001b[0;36m1\u001b[0m\u001b[0;34m)\u001b[0m\u001b[0;34m+\u001b[0m\u001b[0mfibonacci_recursive\u001b[0m\u001b[0;34m(\u001b[0m\u001b[0mn\u001b[0m\u001b[0;34m-\u001b[0m\u001b[0;36m2\u001b[0m\u001b[0;34m)\u001b[0m\u001b[0;34m\u001b[0m\u001b[0m\n\u001b[0m",
      "\u001b[0;32m<ipython-input-30-59432794d787>\u001b[0m in \u001b[0;36mfibonacci_recursive\u001b[0;34m(n)\u001b[0m\n\u001b[1;32m     20\u001b[0m     \u001b[0;32mif\u001b[0m \u001b[0mn\u001b[0m\u001b[0;34m==\u001b[0m\u001b[0;36m1\u001b[0m \u001b[0;32mor\u001b[0m \u001b[0mn\u001b[0m\u001b[0;34m==\u001b[0m\u001b[0;36m2\u001b[0m\u001b[0;34m:\u001b[0m\u001b[0;34m\u001b[0m\u001b[0m\n\u001b[1;32m     21\u001b[0m         \u001b[0;32mreturn\u001b[0m \u001b[0;36m1\u001b[0m\u001b[0;34m\u001b[0m\u001b[0m\n\u001b[0;32m---> 22\u001b[0;31m     \u001b[0;32mreturn\u001b[0m \u001b[0mfibonacci_recursive\u001b[0m\u001b[0;34m(\u001b[0m\u001b[0mn\u001b[0m\u001b[0;34m-\u001b[0m\u001b[0;36m1\u001b[0m\u001b[0;34m)\u001b[0m\u001b[0;34m+\u001b[0m\u001b[0mfibonacci_recursive\u001b[0m\u001b[0;34m(\u001b[0m\u001b[0mn\u001b[0m\u001b[0;34m-\u001b[0m\u001b[0;36m2\u001b[0m\u001b[0;34m)\u001b[0m\u001b[0;34m\u001b[0m\u001b[0m\n\u001b[0m",
      "\u001b[0;32m<ipython-input-30-59432794d787>\u001b[0m in \u001b[0;36mfibonacci_recursive\u001b[0;34m(n)\u001b[0m\n\u001b[1;32m     20\u001b[0m     \u001b[0;32mif\u001b[0m \u001b[0mn\u001b[0m\u001b[0;34m==\u001b[0m\u001b[0;36m1\u001b[0m \u001b[0;32mor\u001b[0m \u001b[0mn\u001b[0m\u001b[0;34m==\u001b[0m\u001b[0;36m2\u001b[0m\u001b[0;34m:\u001b[0m\u001b[0;34m\u001b[0m\u001b[0m\n\u001b[1;32m     21\u001b[0m         \u001b[0;32mreturn\u001b[0m \u001b[0;36m1\u001b[0m\u001b[0;34m\u001b[0m\u001b[0m\n\u001b[0;32m---> 22\u001b[0;31m     \u001b[0;32mreturn\u001b[0m \u001b[0mfibonacci_recursive\u001b[0m\u001b[0;34m(\u001b[0m\u001b[0mn\u001b[0m\u001b[0;34m-\u001b[0m\u001b[0;36m1\u001b[0m\u001b[0;34m)\u001b[0m\u001b[0;34m+\u001b[0m\u001b[0mfibonacci_recursive\u001b[0m\u001b[0;34m(\u001b[0m\u001b[0mn\u001b[0m\u001b[0;34m-\u001b[0m\u001b[0;36m2\u001b[0m\u001b[0;34m)\u001b[0m\u001b[0;34m\u001b[0m\u001b[0m\n\u001b[0m",
      "\u001b[0;32m<ipython-input-30-59432794d787>\u001b[0m in \u001b[0;36mfibonacci_recursive\u001b[0;34m(n)\u001b[0m\n\u001b[1;32m     20\u001b[0m     \u001b[0;32mif\u001b[0m \u001b[0mn\u001b[0m\u001b[0;34m==\u001b[0m\u001b[0;36m1\u001b[0m \u001b[0;32mor\u001b[0m \u001b[0mn\u001b[0m\u001b[0;34m==\u001b[0m\u001b[0;36m2\u001b[0m\u001b[0;34m:\u001b[0m\u001b[0;34m\u001b[0m\u001b[0m\n\u001b[1;32m     21\u001b[0m         \u001b[0;32mreturn\u001b[0m \u001b[0;36m1\u001b[0m\u001b[0;34m\u001b[0m\u001b[0m\n\u001b[0;32m---> 22\u001b[0;31m     \u001b[0;32mreturn\u001b[0m \u001b[0mfibonacci_recursive\u001b[0m\u001b[0;34m(\u001b[0m\u001b[0mn\u001b[0m\u001b[0;34m-\u001b[0m\u001b[0;36m1\u001b[0m\u001b[0;34m)\u001b[0m\u001b[0;34m+\u001b[0m\u001b[0mfibonacci_recursive\u001b[0m\u001b[0;34m(\u001b[0m\u001b[0mn\u001b[0m\u001b[0;34m-\u001b[0m\u001b[0;36m2\u001b[0m\u001b[0;34m)\u001b[0m\u001b[0;34m\u001b[0m\u001b[0m\n\u001b[0m",
      "\u001b[0;32m<ipython-input-30-59432794d787>\u001b[0m in \u001b[0;36mfibonacci_recursive\u001b[0;34m(n)\u001b[0m\n\u001b[1;32m     20\u001b[0m     \u001b[0;32mif\u001b[0m \u001b[0mn\u001b[0m\u001b[0;34m==\u001b[0m\u001b[0;36m1\u001b[0m \u001b[0;32mor\u001b[0m \u001b[0mn\u001b[0m\u001b[0;34m==\u001b[0m\u001b[0;36m2\u001b[0m\u001b[0;34m:\u001b[0m\u001b[0;34m\u001b[0m\u001b[0m\n\u001b[1;32m     21\u001b[0m         \u001b[0;32mreturn\u001b[0m \u001b[0;36m1\u001b[0m\u001b[0;34m\u001b[0m\u001b[0m\n\u001b[0;32m---> 22\u001b[0;31m     \u001b[0;32mreturn\u001b[0m \u001b[0mfibonacci_recursive\u001b[0m\u001b[0;34m(\u001b[0m\u001b[0mn\u001b[0m\u001b[0;34m-\u001b[0m\u001b[0;36m1\u001b[0m\u001b[0;34m)\u001b[0m\u001b[0;34m+\u001b[0m\u001b[0mfibonacci_recursive\u001b[0m\u001b[0;34m(\u001b[0m\u001b[0mn\u001b[0m\u001b[0;34m-\u001b[0m\u001b[0;36m2\u001b[0m\u001b[0;34m)\u001b[0m\u001b[0;34m\u001b[0m\u001b[0m\n\u001b[0m",
      "\u001b[0;32m<ipython-input-30-59432794d787>\u001b[0m in \u001b[0;36mfibonacci_recursive\u001b[0;34m(n)\u001b[0m\n\u001b[1;32m     20\u001b[0m     \u001b[0;32mif\u001b[0m \u001b[0mn\u001b[0m\u001b[0;34m==\u001b[0m\u001b[0;36m1\u001b[0m \u001b[0;32mor\u001b[0m \u001b[0mn\u001b[0m\u001b[0;34m==\u001b[0m\u001b[0;36m2\u001b[0m\u001b[0;34m:\u001b[0m\u001b[0;34m\u001b[0m\u001b[0m\n\u001b[1;32m     21\u001b[0m         \u001b[0;32mreturn\u001b[0m \u001b[0;36m1\u001b[0m\u001b[0;34m\u001b[0m\u001b[0m\n\u001b[0;32m---> 22\u001b[0;31m     \u001b[0;32mreturn\u001b[0m \u001b[0mfibonacci_recursive\u001b[0m\u001b[0;34m(\u001b[0m\u001b[0mn\u001b[0m\u001b[0;34m-\u001b[0m\u001b[0;36m1\u001b[0m\u001b[0;34m)\u001b[0m\u001b[0;34m+\u001b[0m\u001b[0mfibonacci_recursive\u001b[0m\u001b[0;34m(\u001b[0m\u001b[0mn\u001b[0m\u001b[0;34m-\u001b[0m\u001b[0;36m2\u001b[0m\u001b[0;34m)\u001b[0m\u001b[0;34m\u001b[0m\u001b[0m\n\u001b[0m",
      "\u001b[0;32m<ipython-input-30-59432794d787>\u001b[0m in \u001b[0;36mfibonacci_recursive\u001b[0;34m(n)\u001b[0m\n\u001b[1;32m     20\u001b[0m     \u001b[0;32mif\u001b[0m \u001b[0mn\u001b[0m\u001b[0;34m==\u001b[0m\u001b[0;36m1\u001b[0m \u001b[0;32mor\u001b[0m \u001b[0mn\u001b[0m\u001b[0;34m==\u001b[0m\u001b[0;36m2\u001b[0m\u001b[0;34m:\u001b[0m\u001b[0;34m\u001b[0m\u001b[0m\n\u001b[1;32m     21\u001b[0m         \u001b[0;32mreturn\u001b[0m \u001b[0;36m1\u001b[0m\u001b[0;34m\u001b[0m\u001b[0m\n\u001b[0;32m---> 22\u001b[0;31m     \u001b[0;32mreturn\u001b[0m \u001b[0mfibonacci_recursive\u001b[0m\u001b[0;34m(\u001b[0m\u001b[0mn\u001b[0m\u001b[0;34m-\u001b[0m\u001b[0;36m1\u001b[0m\u001b[0;34m)\u001b[0m\u001b[0;34m+\u001b[0m\u001b[0mfibonacci_recursive\u001b[0m\u001b[0;34m(\u001b[0m\u001b[0mn\u001b[0m\u001b[0;34m-\u001b[0m\u001b[0;36m2\u001b[0m\u001b[0;34m)\u001b[0m\u001b[0;34m\u001b[0m\u001b[0m\n\u001b[0m",
      "\u001b[0;32m<ipython-input-30-59432794d787>\u001b[0m in \u001b[0;36mfibonacci_recursive\u001b[0;34m(n)\u001b[0m\n\u001b[1;32m     20\u001b[0m     \u001b[0;32mif\u001b[0m \u001b[0mn\u001b[0m\u001b[0;34m==\u001b[0m\u001b[0;36m1\u001b[0m \u001b[0;32mor\u001b[0m \u001b[0mn\u001b[0m\u001b[0;34m==\u001b[0m\u001b[0;36m2\u001b[0m\u001b[0;34m:\u001b[0m\u001b[0;34m\u001b[0m\u001b[0m\n\u001b[1;32m     21\u001b[0m         \u001b[0;32mreturn\u001b[0m \u001b[0;36m1\u001b[0m\u001b[0;34m\u001b[0m\u001b[0m\n\u001b[0;32m---> 22\u001b[0;31m     \u001b[0;32mreturn\u001b[0m \u001b[0mfibonacci_recursive\u001b[0m\u001b[0;34m(\u001b[0m\u001b[0mn\u001b[0m\u001b[0;34m-\u001b[0m\u001b[0;36m1\u001b[0m\u001b[0;34m)\u001b[0m\u001b[0;34m+\u001b[0m\u001b[0mfibonacci_recursive\u001b[0m\u001b[0;34m(\u001b[0m\u001b[0mn\u001b[0m\u001b[0;34m-\u001b[0m\u001b[0;36m2\u001b[0m\u001b[0;34m)\u001b[0m\u001b[0;34m\u001b[0m\u001b[0m\n\u001b[0m",
      "\u001b[0;32m<ipython-input-30-59432794d787>\u001b[0m in \u001b[0;36mfibonacci_recursive\u001b[0;34m(n)\u001b[0m\n\u001b[1;32m     20\u001b[0m     \u001b[0;32mif\u001b[0m \u001b[0mn\u001b[0m\u001b[0;34m==\u001b[0m\u001b[0;36m1\u001b[0m \u001b[0;32mor\u001b[0m \u001b[0mn\u001b[0m\u001b[0;34m==\u001b[0m\u001b[0;36m2\u001b[0m\u001b[0;34m:\u001b[0m\u001b[0;34m\u001b[0m\u001b[0m\n\u001b[1;32m     21\u001b[0m         \u001b[0;32mreturn\u001b[0m \u001b[0;36m1\u001b[0m\u001b[0;34m\u001b[0m\u001b[0m\n\u001b[0;32m---> 22\u001b[0;31m     \u001b[0;32mreturn\u001b[0m \u001b[0mfibonacci_recursive\u001b[0m\u001b[0;34m(\u001b[0m\u001b[0mn\u001b[0m\u001b[0;34m-\u001b[0m\u001b[0;36m1\u001b[0m\u001b[0;34m)\u001b[0m\u001b[0;34m+\u001b[0m\u001b[0mfibonacci_recursive\u001b[0m\u001b[0;34m(\u001b[0m\u001b[0mn\u001b[0m\u001b[0;34m-\u001b[0m\u001b[0;36m2\u001b[0m\u001b[0;34m)\u001b[0m\u001b[0;34m\u001b[0m\u001b[0m\n\u001b[0m",
      "\u001b[0;32m<ipython-input-30-59432794d787>\u001b[0m in \u001b[0;36mfibonacci_recursive\u001b[0;34m(n)\u001b[0m\n\u001b[1;32m     20\u001b[0m     \u001b[0;32mif\u001b[0m \u001b[0mn\u001b[0m\u001b[0;34m==\u001b[0m\u001b[0;36m1\u001b[0m \u001b[0;32mor\u001b[0m \u001b[0mn\u001b[0m\u001b[0;34m==\u001b[0m\u001b[0;36m2\u001b[0m\u001b[0;34m:\u001b[0m\u001b[0;34m\u001b[0m\u001b[0m\n\u001b[1;32m     21\u001b[0m         \u001b[0;32mreturn\u001b[0m \u001b[0;36m1\u001b[0m\u001b[0;34m\u001b[0m\u001b[0m\n\u001b[0;32m---> 22\u001b[0;31m     \u001b[0;32mreturn\u001b[0m \u001b[0mfibonacci_recursive\u001b[0m\u001b[0;34m(\u001b[0m\u001b[0mn\u001b[0m\u001b[0;34m-\u001b[0m\u001b[0;36m1\u001b[0m\u001b[0;34m)\u001b[0m\u001b[0;34m+\u001b[0m\u001b[0mfibonacci_recursive\u001b[0m\u001b[0;34m(\u001b[0m\u001b[0mn\u001b[0m\u001b[0;34m-\u001b[0m\u001b[0;36m2\u001b[0m\u001b[0;34m)\u001b[0m\u001b[0;34m\u001b[0m\u001b[0m\n\u001b[0m",
      "\u001b[0;32m<ipython-input-30-59432794d787>\u001b[0m in \u001b[0;36mfibonacci_recursive\u001b[0;34m(n)\u001b[0m\n\u001b[1;32m     20\u001b[0m     \u001b[0;32mif\u001b[0m \u001b[0mn\u001b[0m\u001b[0;34m==\u001b[0m\u001b[0;36m1\u001b[0m \u001b[0;32mor\u001b[0m \u001b[0mn\u001b[0m\u001b[0;34m==\u001b[0m\u001b[0;36m2\u001b[0m\u001b[0;34m:\u001b[0m\u001b[0;34m\u001b[0m\u001b[0m\n\u001b[1;32m     21\u001b[0m         \u001b[0;32mreturn\u001b[0m \u001b[0;36m1\u001b[0m\u001b[0;34m\u001b[0m\u001b[0m\n\u001b[0;32m---> 22\u001b[0;31m     \u001b[0;32mreturn\u001b[0m \u001b[0mfibonacci_recursive\u001b[0m\u001b[0;34m(\u001b[0m\u001b[0mn\u001b[0m\u001b[0;34m-\u001b[0m\u001b[0;36m1\u001b[0m\u001b[0;34m)\u001b[0m\u001b[0;34m+\u001b[0m\u001b[0mfibonacci_recursive\u001b[0m\u001b[0;34m(\u001b[0m\u001b[0mn\u001b[0m\u001b[0;34m-\u001b[0m\u001b[0;36m2\u001b[0m\u001b[0;34m)\u001b[0m\u001b[0;34m\u001b[0m\u001b[0m\n\u001b[0m",
      "\u001b[0;32m<ipython-input-30-59432794d787>\u001b[0m in \u001b[0;36mfibonacci_recursive\u001b[0;34m(n)\u001b[0m\n\u001b[1;32m     20\u001b[0m     \u001b[0;32mif\u001b[0m \u001b[0mn\u001b[0m\u001b[0;34m==\u001b[0m\u001b[0;36m1\u001b[0m \u001b[0;32mor\u001b[0m \u001b[0mn\u001b[0m\u001b[0;34m==\u001b[0m\u001b[0;36m2\u001b[0m\u001b[0;34m:\u001b[0m\u001b[0;34m\u001b[0m\u001b[0m\n\u001b[1;32m     21\u001b[0m         \u001b[0;32mreturn\u001b[0m \u001b[0;36m1\u001b[0m\u001b[0;34m\u001b[0m\u001b[0m\n\u001b[0;32m---> 22\u001b[0;31m     \u001b[0;32mreturn\u001b[0m \u001b[0mfibonacci_recursive\u001b[0m\u001b[0;34m(\u001b[0m\u001b[0mn\u001b[0m\u001b[0;34m-\u001b[0m\u001b[0;36m1\u001b[0m\u001b[0;34m)\u001b[0m\u001b[0;34m+\u001b[0m\u001b[0mfibonacci_recursive\u001b[0m\u001b[0;34m(\u001b[0m\u001b[0mn\u001b[0m\u001b[0;34m-\u001b[0m\u001b[0;36m2\u001b[0m\u001b[0;34m)\u001b[0m\u001b[0;34m\u001b[0m\u001b[0m\n\u001b[0m",
      "\u001b[0;32m<ipython-input-30-59432794d787>\u001b[0m in \u001b[0;36mfibonacci_recursive\u001b[0;34m(n)\u001b[0m\n\u001b[1;32m     20\u001b[0m     \u001b[0;32mif\u001b[0m \u001b[0mn\u001b[0m\u001b[0;34m==\u001b[0m\u001b[0;36m1\u001b[0m \u001b[0;32mor\u001b[0m \u001b[0mn\u001b[0m\u001b[0;34m==\u001b[0m\u001b[0;36m2\u001b[0m\u001b[0;34m:\u001b[0m\u001b[0;34m\u001b[0m\u001b[0m\n\u001b[1;32m     21\u001b[0m         \u001b[0;32mreturn\u001b[0m \u001b[0;36m1\u001b[0m\u001b[0;34m\u001b[0m\u001b[0m\n\u001b[0;32m---> 22\u001b[0;31m     \u001b[0;32mreturn\u001b[0m \u001b[0mfibonacci_recursive\u001b[0m\u001b[0;34m(\u001b[0m\u001b[0mn\u001b[0m\u001b[0;34m-\u001b[0m\u001b[0;36m1\u001b[0m\u001b[0;34m)\u001b[0m\u001b[0;34m+\u001b[0m\u001b[0mfibonacci_recursive\u001b[0m\u001b[0;34m(\u001b[0m\u001b[0mn\u001b[0m\u001b[0;34m-\u001b[0m\u001b[0;36m2\u001b[0m\u001b[0;34m)\u001b[0m\u001b[0;34m\u001b[0m\u001b[0m\n\u001b[0m",
      "\u001b[0;31mKeyboardInterrupt\u001b[0m: "
     ]
    }
   ],
   "source": [
    "%time\n",
    "for n in range(1,200):\n",
    "    fibonacci_recursive(n)"
   ]
  },
  {
   "cell_type": "markdown",
   "metadata": {},
   "source": [
    "La formule explicite \\eqref{eq.fibonacci.exp} conduit à un très mauvais algorithme puisque pour les grandes valeurs de $n$, elle fait apparaitre par exemple la différence de deux termes $1+\\sqrt(5))^n$ et $1-\\sqrt(5))^n$ qui divergent."
   ]
  },
  {
   "cell_type": "markdown",
   "metadata": {
    "nbpresent": {
     "id": "59e167c6-46f8-45c6-8def-954a7ba8cdc7"
    },
    "slideshow": {
     "slide_type": "slide"
    }
   },
   "source": [
    "## Croissances géométrique et exponentielle\n",
    "\n",
    "\n",
    "La suite de Fibonacci n'est pas un bon modèle de population. Des modèles en temps discret on été proposés aux XVII et XVIIIe siècles.   Les premiers modèles en temps continu apparaissent au 18ème siècle.\n",
    "\n",
    "[Daniel Bernoulli](https://en.wikipedia.org/wiki/Daniel_Bernoulli) (1700-1782) proposa une des premières études d'épidémiologie concernant l'inoculation de la variole. \n",
    "En 1760, il propose un modèle épidémiologique à l'aide d'équations différentielles et établit que, selon ce modèle, la généralisation de cette pratique permettrait de gagner un peu plus de trois ans d’espérance de vie à la naissance. La pratique a été généralisée quelques dizaines d'années plus tard par le médecin anglais Edward Jenner. C'est seulement un siècle plus tard que Louis Pasteur a clairement établi le principe d'action de la vaccination et celui du système immunitaire.\n",
    "\n",
    "[Leonhard Euler](https://en.wikipedia.org/wiki/Leonhard_Euler) (1707-1783) décrit la croissance géométrique des populations. \n",
    "\n",
    "[Thomas Malthus](https://fr.wikipedia.org/wiki/Thomas_Malthus) (1766-1834) pense que les idées progressives de Condorcet et William Godwin concernant les politiques à adopter face à la misère d'une classe importante de la population sont dangereuses. Pour lui: \n",
    "\n",
    "> ``The great error under which Mr Godwin labours throughout his whole work is the attributing almost all the vices and misery that are seen in civil society to human institutions... [T]he truth is, that though human institutions appear to be the obvious and obtrusive causes of much mischief to mankind, yet in reality they are light and superficial, they are mere feathers that float on the surface, in comparison with those deeper seated causes of impurity that corrupt the springs and render turbid the whole stream of human life.'' \n",
    "\n",
    "Pour Malthus la croissance géométrique de la population face à une croissance arithmétique des ressources conduit toujours au développement d'une classe exposée au vice et à la misère. Il est un peu facile d'opposer le progressiste Godwin et le conservateur Malthus, ces questions essentielles et toujours d'actualité mérite une nouvelle lecture de ces auteurs \\citep{mayhew2016a}.\n",
    "\n",
    "\n",
    "Il propose ainsi de coupler un modèle de croissance de population et des  ressources. Le modèle de Malthus n'est toutefois pas réaliste dans la mesure où il ne tient pas compte de l'influence du niveau des ressources sur la croissance de la population. \n",
    "\n",
    " \n",
    "La première étape consiste à appréhender la croissance géométique (temps discret) et exponentielle (temps continu).\n",
    "\n",
    "Modèle linéaire\n",
    "$$\n",
    "   \\dot x(t) = (\\lambda-\\mu)\\,x(t)\\,,\\ x(0)=x_0\n",
    "$$\n",
    "taux de naissance $\\lambda>0$, taux de mort $\\mu>0$."
   ]
  },
  {
   "cell_type": "code",
   "execution_count": 40,
   "metadata": {
    "collapsed": true,
    "nbpresent": {
     "id": "ecac603f-050f-4d61-a9d6-23adb516a273"
    },
    "slideshow": {
     "slide_type": "fragment"
    }
   },
   "outputs": [],
   "source": [
    "population = lambda t: x0*np.exp((rb-rd)*t)"
   ]
  },
  {
   "cell_type": "code",
   "execution_count": 41,
   "metadata": {
    "collapsed": false,
    "nbpresent": {
     "id": "0618d73c-a2e4-4d01-8ece-bcf35efc6da8"
    },
    "slideshow": {
     "slide_type": "fragment"
    }
   },
   "outputs": [
    {
     "data": {
      "image/png": "[encoded data removed]",
      "text/plain": [
       "<matplotlib.figure.Figure at 0x10d6faa20>"
      ]
     },
     "metadata": {},
     "output_type": "display_data"
    }
   ],
   "source": [
    "%matplotlib inline\n",
    "import matplotlib.pyplot as plt\n",
    "\n",
    "t0, t1 = 0, 10\n",
    "temps = np.linspace(t0,t1,200, endpoint=True)\n",
    "\n",
    "legende = []\n",
    "for [x0, rb, rd] in [[1, 1, 0.9], [1, 1, 1], [1, 0.9, 1]]:\n",
    "    plt.plot(temps, population(temps))\n",
    "    legende = legende + [r'$\\lambda=$'+str(rb)+r', $\\mu=$'+str(rd),]\n",
    "plt.legend(legende, loc='upper left')\n",
    "plt.show()"
   ]
  },
  {
   "cell_type": "markdown",
   "metadata": {
    "nbpresent": {
     "id": "cf2d6f49-b2a7-4e86-8142-7e535b691185"
    },
    "slideshow": {
     "slide_type": "slide"
    }
   },
   "source": [
    "## Croissance logistique\n",
    "\n",
    "En 1838,\n",
    " Pierre François Verhulst\\hrefwiki{https://en.wikipedia.org/wiki/Pierre_Francois_Verhulst} (1804-1849)\n",
    " proposa un modèle de croissance  dont le taux de croissance diminue linéairement en fonction de la taille de la population rendant ainsi compte de la capacité maximale d'accueil du milieu \\citep{verhulst1838a}. Cette courbe dite logistique, a été redécouverte et (très) popularisée par le biologiste et démographe Raymond Pearl  \\citep{pearl1920a,kingsland1982a}.\n",
    "\n",
    "\n",
    "$$\n",
    "  \\dot x(t) = r\\,\\left(1-\\frac{x(t)}{K}\\right)\\,x(t)\\,,\\ x(0)=x_0\n",
    "$$\n",
    "admet l'unique solution:\n",
    "$$\n",
    "  x(t) =  K \\,\\frac{1}{1+\\left(\\frac {K}{x_{0}} - 1\\right) \\,e^{-r\\,t}}\\,.\n",
    "$$"
   ]
  },
  {
   "cell_type": "code",
   "execution_count": 42,
   "metadata": {
    "collapsed": true,
    "nbpresent": {
     "id": "cff156db-6eae-4555-9ae3-f4f2d867a4bb"
    },
    "slideshow": {
     "slide_type": "fragment"
    }
   },
   "outputs": [],
   "source": [
    "population = lambda t: K*1/(1+ (K/x0-1) * np.exp(-r*t))"
   ]
  },
  {
   "cell_type": "code",
   "execution_count": 43,
   "metadata": {
    "collapsed": false,
    "nbpresent": {
     "id": "5c3bba07-6c14-4842-a4b6-1155c48d6c95"
    },
    "slideshow": {
     "slide_type": "fragment"
    }
   },
   "outputs": [
    {
     "data": {
      "image/png": "[encoded data removed]",
      "text/plain": [
       "<matplotlib.figure.Figure at 0x10df3ce48>"
      ]
     },
     "metadata": {},
     "output_type": "display_data"
    }
   ],
   "source": [
    "t0, t1 = 0, 10\n",
    "\n",
    "temps = np.linspace(t0,t1,300, endpoint=True)\n",
    "\n",
    "x0, K = 1, 5\n",
    "legende = []\n",
    "for r in [2, 1, 0.5]:\n",
    "    plt.plot(temps, population(temps))\n",
    "    legende = legende + [r'$r=$'+str(r),]    \n",
    "plt.ylim([0,K*1.2])\n",
    "plt.legend(legende, loc='lower right',title=r'taux de croissance $r$')\n",
    "plt.plot([t0, t1], [K, K], color=\"k\", linestyle='--')\n",
    "plt.text((t1-t0)/50, K, r\"$K$ (capacité d'accueil)\", \n",
    "         verticalalignment='bottom', horizontalalignment='left')\n",
    "plt.xlabel(r'temps $t$')\n",
    "plt.ylabel(r'taille $x(t)$ de la population')\n",
    "plt.show()"
   ]
  },
  {
   "cell_type": "code",
   "execution_count": 44,
   "metadata": {
    "collapsed": false,
    "nbpresent": {
     "id": "1341bfcf-c7f7-4986-8a9b-784be2aef5cb"
    }
   },
   "outputs": [
    {
     "data": {
      "image/png": "[encoded data removed]",
      "text/plain": [
       "<matplotlib.figure.Figure at 0x10e68da20>"
      ]
     },
     "metadata": {},
     "output_type": "display_data"
    }
   ],
   "source": [
    "from IPython.html.widgets import interact, fixed\n",
    "\n",
    "def pltlogistique(x0,K,r):\n",
    "    population2 = K*1/(1+ (K/x0-1) * np.exp(-r*temps))\n",
    "    plt.plot(temps, population2)\n",
    "    plt.ylim([0,6])\n",
    "    plt.plot([t0, t1], [K, K], color=\"k\", linestyle='--')\n",
    "    plt.show()\n",
    "    \n",
    "interact(pltlogistique, x0=(0.01,6,0.1), K=(0.01,6,0.1), r=(0.1,20,0.1))"
   ]
  },
  {
   "cell_type": "markdown",
   "metadata": {
    "collapsed": true,
    "nbpresent": {
     "id": "bfaedf84-b522-42b3-90f0-0ca8ba1f10eb"
    },
    "slideshow": {
     "slide_type": "slide"
    }
   },
   "source": [
    "## Modèle de Lotka-Volterra"
   ]
  },
  {
   "cell_type": "code",
   "execution_count": null,
   "metadata": {
    "collapsed": false,
    "nbpresent": {
     "id": "25a65aaf-2161-494f-9ab5-a6264c3ebb99"
    },
    "slideshow": {
     "slide_type": "fragment"
    }
   },
   "outputs": [],
   "source": [
    "from scipy.integrate import odeint\n",
    "import matplotlib.gridspec as gridspec\n",
    "\n",
    "a, b, c, d = 0.4, 0.002, 0.001, 0.7\n",
    "def f(xy, t):\n",
    "    x, y = xy\n",
    "    return [a * x - b * x * y, c * x * y - d * y]\n",
    "\n",
    "xy0 = [600, 400]\n",
    "t = np.linspace(0, 50, 250)\n",
    "xy_t = odeint(f, xy0, t)"
   ]
  },
  {
   "cell_type": "code",
   "execution_count": null,
   "metadata": {
    "collapsed": false,
    "nbpresent": {
     "id": "a3d35be3-8c22-4889-9ab7-4032611cb777"
    },
    "slideshow": {
     "slide_type": "fragment"
    }
   },
   "outputs": [],
   "source": [
    "fig = plt.subplots(1, 2, figsize=(12, 4))\n",
    "\n",
    "gs = gridspec.GridSpec(1, 2, width_ratios=[8.3, 5], wspace=0.3)\n",
    "\n",
    "ax0 = plt.subplot(gs[0])\n",
    "ax0.plot(t, xy_t[:,0], label=r\"proies $x_1(t)$\")\n",
    "ax0.plot(t, xy_t[:,1], label=r\"prédateurs $x_2(t)$\")\n",
    "ax0.set_xlabel(\"temps\")\n",
    "ax0.set_ylabel(\"nombre d'animaux\")\n",
    "ax0.legend()\n",
    "ax1 = plt.subplot(gs[1])\n",
    "ax1.plot(xy_t[:,0], xy_t[:,1], color=\"r\")\n",
    "ax1.set_xlabel(r\"nombre de proies $x_1(t)$\")\n",
    "ax1.set_ylabel(r\"nombre de prédateurs $x_2(t)$\")\n",
    "marker_style = dict(linestyle=':', markersize=10)\n",
    "ax1.plot([d/c], [a/b], marker='.', **marker_style, color=\"k\")\n",
    "ax1.text(1.05*d/c, 1.05*a/b, r'$(d/c,a/b)$')\n",
    "plt.show()"
   ]
  },
  {
   "cell_type": "code",
   "execution_count": null,
   "metadata": {
    "collapsed": true,
    "nbpresent": {
     "id": "9bee8ffa-9aa5-4681-9934-e5ee748f97b8"
    }
   },
   "outputs": [],
   "source": []
  }
 ],
 "metadata": {
  "anaconda-cloud": {},
  "celltoolbar": "Slideshow",
  "kernelspec": {
   "display_name": "Python [default]",
   "language": "python",
   "name": "python3"
  },
  "language_info": {
   "codemirror_mode": {
    "name": "ipython",
    "version": 3
   },
   "file_extension": ".py",
   "mimetype": "text/x-python",
   "name": "python",
   "nbconvert_exporter": "python",
   "pygments_lexer": "ipython3",
   "version": "3.5.2"
  },
  "latex_envs": {
   "LaTeX_envs_menu_present": true,
   "bibliofile": "biblio.bib",
   "cite_by": "apalike",
   "current_citInitial": 1,
   "eqLabelWithNumbers": true,
   "eqNumInitial": 1,
   "labels_anchors": false,
   "latex_user_defs": false,
   "report_style_numbering": false,
   "user_envs_cfg": false
  },
  "nbpresent": {
   "slides": {
    "0aa425e0-fd51-4ad6-905d-a28da5f02f40": {
     "id": "0aa425e0-fd51-4ad6-905d-a28da5f02f40",
     "prev": "77ebee07-8749-46d0-88de-ea912242b0ba",
     "regions": {
      "661eefad-87bb-45e1-bd06-66b28eb8ffe5": {
       "attrs": {
        "height": 0.8,
        "width": 0.8,
        "x": 0.1,
        "y": 0.1
       },
       "content": {
        "cell": "cff156db-6eae-4555-9ae3-f4f2d867a4bb",
        "part": "whole"
       },
       "id": "661eefad-87bb-45e1-bd06-66b28eb8ffe5"
      }
     }
    },
    "0c995356-8128-4d04-a8a0-bdf9ad7d9e2f": {
     "id": "0c995356-8128-4d04-a8a0-bdf9ad7d9e2f",
     "prev": "1c89b5ad-3190-4a32-a8eb-0d1f2400df90",
     "regions": {
      "be5a4d0c-8c2b-4d78-a53c-9828e2ea5828": {
       "attrs": {
        "height": 0.8,
        "width": 0.8,
        "x": 0.1,
        "y": 0.1
       },
       "content": {
        "cell": "bfaedf84-b522-42b3-90f0-0ca8ba1f10eb",
        "part": "whole"
       },
       "id": "be5a4d0c-8c2b-4d78-a53c-9828e2ea5828"
      }
     }
    },
    "1c89b5ad-3190-4a32-a8eb-0d1f2400df90": {
     "id": "1c89b5ad-3190-4a32-a8eb-0d1f2400df90",
     "prev": "bd805017-2d3e-447b-8807-aad1cb258ee3",
     "regions": {
      "3575e859-835c-4182-b176-379f0262be22": {
       "attrs": {
        "height": 0.8,
        "width": 0.8,
        "x": 0.1,
        "y": 0.1
       },
       "content": {
        "cell": "1341bfcf-c7f7-4986-8a9b-784be2aef5cb",
        "part": "whole"
       },
       "id": "3575e859-835c-4182-b176-379f0262be22"
      }
     }
    },
    "1fe22ed7-39d4-466d-b7fe-3f967fd251d2": {
     "id": "1fe22ed7-39d4-466d-b7fe-3f967fd251d2",
     "prev": "a903a097-8048-45b6-8f90-9636bba0442e",
     "regions": {
      "19712ba0-af41-4c00-ad86-bd8c231446b5": {
       "attrs": {
        "height": 0.8,
        "width": 0.8,
        "x": 0.1,
        "y": 0.1
       },
       "content": {
        "cell": "9bee8ffa-9aa5-4681-9934-e5ee748f97b8",
        "part": "whole"
       },
       "id": "19712ba0-af41-4c00-ad86-bd8c231446b5"
      }
     }
    },
    "57d80aae-2f55-4695-b543-1bbdc102ffbb": {
     "id": "57d80aae-2f55-4695-b543-1bbdc102ffbb",
     "prev": "0c995356-8128-4d04-a8a0-bdf9ad7d9e2f",
     "regions": {
      "36a165ca-be9d-4d34-b370-53e9c8e6a6ec": {
       "attrs": {
        "height": 0.8,
        "width": 0.8,
        "x": 0.1,
        "y": 0.1
       },
       "content": {
        "cell": "25a65aaf-2161-494f-9ab5-a6264c3ebb99",
        "part": "whole"
       },
       "id": "36a165ca-be9d-4d34-b370-53e9c8e6a6ec"
      }
     }
    },
    "60a1dd87-1741-465a-ba1d-bdee544d3b24": {
     "id": "60a1dd87-1741-465a-ba1d-bdee544d3b24",
     "prev": "b3672070-95dc-47ea-812c-ea426e1ad27d",
     "regions": {
      "1e625963-818a-404e-8a26-ddaee4711908": {
       "attrs": {
        "height": 0.8,
        "width": 0.8,
        "x": 0.1,
        "y": 0.1
       },
       "content": {
        "cell": "59e167c6-46f8-45c6-8def-954a7ba8cdc7",
        "part": "whole"
       },
       "id": "1e625963-818a-404e-8a26-ddaee4711908"
      }
     }
    },
    "77ebee07-8749-46d0-88de-ea912242b0ba": {
     "id": "77ebee07-8749-46d0-88de-ea912242b0ba",
     "prev": "9e06996b-e8a9-41e3-b50c-8dc323dfe2e7",
     "regions": {
      "10ee7d23-49d7-4832-ac8d-618acc048f01": {
       "attrs": {
        "height": 0.8,
        "width": 0.8,
        "x": 0.1,
        "y": 0.1
       },
       "content": {
        "cell": "cf2d6f49-b2a7-4e86-8142-7e535b691185",
        "part": "whole"
       },
       "id": "10ee7d23-49d7-4832-ac8d-618acc048f01"
      }
     }
    },
    "9aeffe36-e6fe-4453-8f86-bfe057689fc1": {
     "id": "9aeffe36-e6fe-4453-8f86-bfe057689fc1",
     "prev": "b7830dcf-9cf4-48a7-b558-a8422f6708d6",
     "regions": {
      "5424122e-26fc-4a41-92e8-7b4f23ce17cc": {
       "attrs": {
        "height": 0.8,
        "width": 0.8,
        "x": 0.1,
        "y": 0.1
       },
       "content": {
        "cell": "68a9703f-7ba1-4885-8c95-d7ad883596b9",
        "part": "whole"
       },
       "id": "5424122e-26fc-4a41-92e8-7b4f23ce17cc"
      }
     }
    },
    "9e06996b-e8a9-41e3-b50c-8dc323dfe2e7": {
     "id": "9e06996b-e8a9-41e3-b50c-8dc323dfe2e7",
     "prev": "ac67527a-744a-4e9d-865e-c1f1baeda613",
     "regions": {
      "a05f020e-8ef8-4d5f-8229-d0a51afa8d58": {
       "attrs": {
        "height": 0.8,
        "width": 0.8,
        "x": 0.1,
        "y": 0.1
       },
       "content": {
        "cell": "0618d73c-a2e4-4d01-8ece-bcf35efc6da8",
        "part": "whole"
       },
       "id": "a05f020e-8ef8-4d5f-8229-d0a51afa8d58"
      }
     }
    },
    "a903a097-8048-45b6-8f90-9636bba0442e": {
     "id": "a903a097-8048-45b6-8f90-9636bba0442e",
     "prev": "57d80aae-2f55-4695-b543-1bbdc102ffbb",
     "regions": {
      "5bcbea48-4fa7-47ef-ac35-19c1987a4b5f": {
       "attrs": {
        "height": 0.8,
        "width": 0.8,
        "x": 0.1,
        "y": 0.1
       },
       "content": {
        "cell": "a3d35be3-8c22-4889-9ab7-4032611cb777",
        "part": "whole"
       },
       "id": "5bcbea48-4fa7-47ef-ac35-19c1987a4b5f"
      }
     }
    },
    "ac67527a-744a-4e9d-865e-c1f1baeda613": {
     "id": "ac67527a-744a-4e9d-865e-c1f1baeda613",
     "prev": "60a1dd87-1741-465a-ba1d-bdee544d3b24",
     "regions": {
      "5b096dac-76f0-4dc6-8ce4-d0c0d128b3a5": {
       "attrs": {
        "height": 0.8,
        "width": 0.8,
        "x": 0.1,
        "y": 0.1
       },
       "content": {
        "cell": "ecac603f-050f-4d61-a9d6-23adb516a273",
        "part": "whole"
       },
       "id": "5b096dac-76f0-4dc6-8ce4-d0c0d128b3a5"
      }
     }
    },
    "b3672070-95dc-47ea-812c-ea426e1ad27d": {
     "id": "b3672070-95dc-47ea-812c-ea426e1ad27d",
     "prev": "9aeffe36-e6fe-4453-8f86-bfe057689fc1",
     "regions": {
      "4548471e-6b1b-43fc-834b-f25db2698c51": {
       "attrs": {
        "height": 0.8,
        "width": 0.8,
        "x": 0.1,
        "y": 0.1
       },
       "content": {
        "cell": "4d5843cb-d24c-4bc7-9c47-535ee7ff00f0",
        "part": "whole"
       },
       "id": "4548471e-6b1b-43fc-834b-f25db2698c51"
      }
     }
    },
    "b7830dcf-9cf4-48a7-b558-a8422f6708d6": {
     "id": "b7830dcf-9cf4-48a7-b558-a8422f6708d6",
     "prev": null,
     "regions": {
      "3547573f-7093-4632-8e26-3958fb469582": {
       "attrs": {
        "height": 0.8,
        "width": 0.8,
        "x": 0.1,
        "y": 0.1
       },
       "content": {
        "cell": "cb05c7bb-7f2d-4adb-90ba-fe02a36cd0d4",
        "part": "whole"
       },
       "id": "3547573f-7093-4632-8e26-3958fb469582"
      }
     }
    },
    "bd805017-2d3e-447b-8807-aad1cb258ee3": {
     "id": "bd805017-2d3e-447b-8807-aad1cb258ee3",
     "prev": "0aa425e0-fd51-4ad6-905d-a28da5f02f40",
     "regions": {
      "891fdc2e-9e27-4053-970c-1264781ccc56": {
       "attrs": {
        "height": 0.8,
        "width": 0.8,
        "x": 0.1,
        "y": 0.1
       },
       "content": {
        "cell": "5c3bba07-6c14-4842-a4b6-1155c48d6c95",
        "part": "whole"
       },
       "id": "891fdc2e-9e27-4053-970c-1264781ccc56"
      }
     }
    }
   },
   "themes": {}
  },
  "widgets": {
   "state": {
    "ef5de7271a4742ab9b2a5576eed12268": {
     "views": [
      {
       "cell_index": 16
      }
     ]
    }
   },
   "version": "1.2.0"
  }
 },
 "nbformat": 4,
 "nbformat_minor": 0
}
