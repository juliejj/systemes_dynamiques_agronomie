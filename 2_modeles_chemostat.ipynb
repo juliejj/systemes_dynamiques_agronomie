{
 "cells": [
  {
   "cell_type": "markdown",
   "metadata": {},
   "source": [
    "# Modèles de Chemostat"
   ]
  },
  {
   "cell_type": "markdown",
   "metadata": {},
   "source": [
    "La première étape consiste à appréhender la croissance géométique (temps discret) et exponentielle (temps continu).\n",
    "\n",
    "## 1 La suite de Fibonacci\n",
    "## 2 La croissance géométrique\n",
    "## 3 La croissance exponentielle\n",
    "## 4 La croissance logistique\n",
    "\n",
    "\n",
    "Modèle linéaire\n",
    "$$\n",
    "   \\dot x(t) = (\\lambda-\\mu)\\,x(t)\\,,\\ x(0)=x_0\n",
    "$$\n",
    "taux de naissance $\\lambda>0$, taux de mort $\\mu>0$"
   ]
  }
 ],
 "metadata": {
  "anaconda-cloud": {},
  "kernelspec": {
   "display_name": "Python [default]",
   "language": "python",
   "name": "python3"
  },
  "language_info": {
   "codemirror_mode": {
    "name": "ipython",
    "version": 3
   },
   "file_extension": ".py",
   "mimetype": "text/x-python",
   "name": "python",
   "nbconvert_exporter": "python",
   "pygments_lexer": "ipython3",
   "version": "3.5.2"
  },
  "latex_envs": {
   "LaTeX_envs_menu_present": true,
   "bibliofile": "biblio.bib",
   "cite_by": "apalike",
   "current_citInitial": 1,
   "eqLabelWithNumbers": true,
   "eqNumInitial": 1,
   "labels_anchors": false,
   "latex_user_defs": false,
   "report_style_numbering": false,
   "user_envs_cfg": false
  }
 },
 "nbformat": 4,
 "nbformat_minor": 0
}
