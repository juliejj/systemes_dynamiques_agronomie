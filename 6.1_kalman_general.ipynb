{
 "cells": [
  {
   "cell_type": "markdown",
   "metadata": {
    "slideshow": {
     "slide_type": "slide"
    }
   },
   "source": [
    "\n",
    "# Filtrage de Kalman"
   ]
  },
  {
   "cell_type": "markdown",
   "metadata": {
    "slideshow": {
     "slide_type": "slide"
    }
   },
   "source": [
    "## Loi conditionnelle gaussienne\n",
    "\n",
    "Soit $Z=\\left(\\begin{matrix}X \\\\ Y\\end{matrix}\\right)$ un vecteur aléatoire gaussien à valeurs dans $\\mathbb R^{n+d}$ de moyenne $\\bar Z$ et de covariance $Q_Z$ avec:\n",
    "\n",
    "\\begin{align*}\n",
    "   \\bar Z &= \\begin{pmatrix}\\bar X \\\\ \\bar Y \\end{pmatrix}\n",
    "   &\n",
    "   Q_Z &=\\begin{pmatrix} Q_{X X} & Q_{XY} \\\\ Q_{XY}^* &\n",
    "                         Q_{YY}\\end{pmatrix}\n",
    "\\end{align*}\n",
    "\n",
    "où $Q_{YY}>0$ alors $X|Y$ est gaussien $N(\\widehat{X},R)$ avec:\n",
    "\n",
    "\\begin{align*}\n",
    "  \\widehat{X}\n",
    "  &=\n",
    "  \\bar X + Q_{XY}\\,Q_{YY}^{-1}\\,(Y-\\bar Y)\n",
    "  &\n",
    "  R\n",
    "  &=\n",
    "  Q_{XX}-Q_{XY}\\,Q_{YY}^{-1}\\,Q_{XY}^*\n",
    "\\end{align*}\n",
    "C'est un problème bayésien gaussien."
   ]
  },
  {
   "cell_type": "code",
   "execution_count": 5,
   "metadata": {
    "slideshow": {
     "slide_type": "subslide"
    }
   },
   "outputs": [
    {
     "data": {
      "application/vnd.jupyter.widget-view+json": {
       "model_id": "ceb8ed63f48a47b9a348b96ecdbf62c5",
       "version_major": 2,
       "version_minor": 0
      },
      "text/html": [
       "<p>Failed to display Jupyter Widget of type <code>interactive</code>.</p>\n",
       "<p>\n",
       "  If you're reading this message in the Jupyter Notebook or JupyterLab Notebook, it may mean\n",
       "  that the widgets JavaScript is still loading. If this message persists, it\n",
       "  likely means that the widgets JavaScript library is either not installed or\n",
       "  not enabled. See the <a href=\"https://ipywidgets.readthedocs.io/en/stable/user_install.html\">Jupyter\n",
       "  Widgets Documentation</a> for setup instructions.\n",
       "</p>\n",
       "<p>\n",
       "  If you're reading this message in another frontend (for example, a static\n",
       "  rendering on GitHub or <a href=\"https://nbviewer.jupyter.org/\">NBViewer</a>),\n",
       "  it may mean that your frontend doesn't currently support widgets.\n",
       "</p>\n"
      ],
      "text/plain": [
       "interactive(children=(FloatSlider(value=2.0, description='obs', max=10.0, min=-6.0), Output()), _dom_classes=('widget-interact',))"
      ]
     },
     "metadata": {},
     "output_type": "display_data"
    }
   ],
   "source": [
    "%matplotlib inline\n",
    "import numpy as np\n",
    "import matplotlib.pyplot as plt\n",
    "import scipy.stats as stats\n",
    "\n",
    "barZ = np.array([[1],[3]])\n",
    "QZ = np.array([[3,1],[1,1]])\n",
    "\n",
    "a = barZ[0]\n",
    "b = QZ[0,0]\n",
    "xx = np.linspace(-6, 10, 100)\n",
    "\n",
    "R = QZ[0,0]-QZ[0,1]*QZ[0,1]/QZ[1,1]\n",
    "\n",
    "def pltbayesgauss(obs):\n",
    "    hatX = barZ[0]+QZ[0,1]*(obs-barZ[1])/QZ[1,1]\n",
    "    plt.plot([obs,obs],[0,1],':')\n",
    "    plt.plot(xx, stats.norm.pdf(xx, a, b),label='loi a priori')\n",
    "    plt.plot(xx, stats.norm.pdf(xx, hatX, R),label='loi a posteriori')\n",
    "    plt.ylim([0,0.25])\n",
    "    plt.legend()\n",
    "    plt.show()\n",
    "\n",
    "interact(pltbayesgauss, obs=(-6,10,0.1))\n",
    "plt.show()"
   ]
  },
  {
   "cell_type": "markdown",
   "metadata": {
    "slideshow": {
     "slide_type": "slide"
    }
   },
   "source": [
    "## Système linéaire gaussien en tems discret\n",
    "\n",
    "$$\n",
    "   X_{k+1} = A\\,X_{k} + B\\,W_k\\,,\\ 0\\leq k < k_{max}\n",
    "$$\n",
    "\n",
    "- $X_k\\to\\mathbb{R}^n$\n",
    "- bruit: $W_k\\to\\mathbb{R}^m$, $W_k\\sim N(0,Q_W)$\n",
    "- $A\\in\\mathbb{R}^{n\\times n}$, $B\\in\\mathbb{R}^{m\\times n}$\n",
    "\n",
    "Il s'agit d'un **système gaussien**: $X_{0:k_{max}}$ est un vecteur aléatoire gaussien. (Notation: $Z_{k':k}=(Z_{k'},Z_{k'+1},\\dots ,Z_{k})$, $k'\\leq k$).\n",
    "\n",
    "La moyenne $\\bar X_k = \\mathbb{E}(X_k)$ et la covariance $Q^X_k = \\mathrm{Var}(X_k)$ sont donnés par:\n",
    "\n",
    "\n",
    "\\begin{align*}\n",
    "   \\bar X_{k+1} &= A\\,\\bar X_{k} \n",
    "   \\\\\n",
    "   Q^X_{k+1} &= A\\,Q^X_{k}\\,A^*+B\\,Q_W\\,B^*\n",
    "\\end{align*}"
   ]
  },
  {
   "cell_type": "code",
   "execution_count": 6,
   "metadata": {
    "slideshow": {
     "slide_type": "subslide"
    }
   },
   "outputs": [
    {
     "data": {
      "image/png": "[encoded data removed]",
      "text/plain": [
       "<matplotlib.figure.Figure at 0x10c40cef0>"
      ]
     },
     "metadata": {},
     "output_type": "display_data"
    }
   ],
   "source": [
    "%matplotlib inline\n",
    "\n",
    "import numpy as np\n",
    "import matplotlib.pyplot as plt\n",
    "\n",
    "kmax = 300\n",
    "\n",
    "EX0, VX0 = 10, 5\n",
    "A, B, QW = 0.9, 1, 0.1\n",
    "sQW = np.sqrt(QW)\n",
    "sVX0 = np.sqrt(VX0)\n",
    "\n",
    "def sys_lin(EX0, sVX0, A, B, sQW):\n",
    "    W = sQW*np.random.randn(kmax)\n",
    "    X = np.ones(kmax+1)\n",
    "    X[0] = EX0+sVX0*np.random.randn()\n",
    "    for k in range(kmax):\n",
    "        X[k+1] = A*X[k]+B*W[k]\n",
    "    return X\n",
    "\n",
    "def sys_lin_loi(EX0, sVX0, A, B, sQW):\n",
    "    espX = np.ones(kmax+1)\n",
    "    varX = np.ones(kmax+1)\n",
    "    espX[0] = EX0\n",
    "    for k in range(kmax):\n",
    "        espX[k+1] = A*espX[k]\n",
    "        varX[k+1] = A*A*varX[k]+B*B*QW\n",
    "    return espX, varX\n",
    "\n",
    "X = sys_lin(EX0, sVX0, A, B, sQW)\n",
    "espX, varX = sys_lin_loi(EX0, sVX0, A, B, sQW)\n",
    "\n",
    "plt.plot([0, kmax], [0, 0], color=\"g\", linestyle=':')\n",
    "plt.plot(espX,color='k')\n",
    "plt.fill_between(range(kmax+1),espX+2*np.sqrt(varX), \n",
    "                 espX-2*np.sqrt(varX), color = '0.75', alpha=0.4)\n",
    "plt.plot(X)\n",
    "plt.show()"
   ]
  },
  {
   "cell_type": "code",
   "execution_count": 7,
   "metadata": {
    "slideshow": {
     "slide_type": "subslide"
    }
   },
   "outputs": [
    {
     "data": {
      "application/vnd.jupyter.widget-view+json": {
       "model_id": "f5d513c347df419f8bd4c01479a6d84d",
       "version_major": 2,
       "version_minor": 0
      },
      "text/html": [
       "<p>Failed to display Jupyter Widget of type <code>interactive</code>.</p>\n",
       "<p>\n",
       "  If you're reading this message in the Jupyter Notebook or JupyterLab Notebook, it may mean\n",
       "  that the widgets JavaScript is still loading. If this message persists, it\n",
       "  likely means that the widgets JavaScript library is either not installed or\n",
       "  not enabled. See the <a href=\"https://ipywidgets.readthedocs.io/en/stable/user_install.html\">Jupyter\n",
       "  Widgets Documentation</a> for setup instructions.\n",
       "</p>\n",
       "<p>\n",
       "  If you're reading this message in another frontend (for example, a static\n",
       "  rendering on GitHub or <a href=\"https://nbviewer.jupyter.org/\">NBViewer</a>),\n",
       "  it may mean that your frontend doesn't currently support widgets.\n",
       "</p>\n"
      ],
      "text/plain": [
       "interactive(children=(FloatSlider(value=0.0, description='A', max=1.0, step=0.01), FloatSlider(value=3.0, description='B', max=6.0), IntSlider(value=50, description='iseed', min=1), Output()), _dom_classes=('widget-interact',))"
      ]
     },
     "metadata": {},
     "output_type": "display_data"
    }
   ],
   "source": [
    "from ipywidgets import interact, fixed\n",
    "\n",
    "def plt_sys_lin(A, B, iseed):\n",
    "    np.random.seed(iseed)\n",
    "    X = sys_lin(10, 0, A, B, 1)\n",
    "    plt.plot([0, kmax], [0, 0], color=\"g\", linestyle=':')\n",
    "    plt.plot(X)\n",
    "    plt.ylim([-4,15])\n",
    "    plt.show()\n",
    "    \n",
    "interact(plt_sys_lin, A=(0,1,0.01), B=(0.,6,0.1), \n",
    "         iseed=(1,100,1))\n",
    "plt.show()\n"
   ]
  },
  {
   "cell_type": "markdown",
   "metadata": {
    "slideshow": {
     "slide_type": "subslide"
    }
   },
   "source": [
    "### Un peu de vectorisation"
   ]
  },
  {
   "cell_type": "code",
   "execution_count": 4,
   "metadata": {},
   "outputs": [
    {
     "data": {
      "image/png": "[encoded data removed]",
      "text/plain": [
       "<matplotlib.figure.Figure at 0x105b7c470>"
      ]
     },
     "metadata": {},
     "output_type": "display_data"
    }
   ],
   "source": [
    "kmax = 300\n",
    "\n",
    "mcmax = 300\n",
    "EX0, VX0 = 10, 5\n",
    "A, B, QW = 0.9, 1, 0.1\n",
    "sQW = np.sqrt(QW)\n",
    "sVX0 = np.sqrt(VX0)\n",
    "\n",
    "def sys_lin_vec(mcmax,EX0, sVX0, A, B, sQW):\n",
    "    W = sQW*np.random.randn(kmax,mcmax)\n",
    "    X = np.ones((kmax+1,mcmax))\n",
    "    X[0,] = EX0+sVX0*np.random.randn()\n",
    "    for k in range(kmax):\n",
    "        X[k+1,] = A*X[k,]+B*W[k,]\n",
    "    return X\n",
    "\n",
    "X = sys_lin_vec(mcmax, EX0, sVX0, A, B, sQW)\n",
    "plt.plot(X,alpha=.04,color='b')\n",
    "plt.plot(espX,color='w')\n",
    "plt.plot(espX+2*np.sqrt(varX),color='k')\n",
    "plt.plot(espX-2*np.sqrt(varX),color='k')\n",
    "plt.show()"
   ]
  },
  {
   "cell_type": "code",
   "execution_count": 5,
   "metadata": {
    "slideshow": {
     "slide_type": "subslide"
    }
   },
   "outputs": [
    {
     "data": {
      "image/png": "[encoded data removed]",
      "text/plain": [
       "<matplotlib.figure.Figure at 0x105987048>"
      ]
     },
     "metadata": {},
     "output_type": "display_data"
    }
   ],
   "source": [
    "mcmax = 10000\n",
    "X = sys_lin_vec(mcmax, EX0, sVX0, A, B, sQW)\n",
    "num_bins = 30\n",
    "n, bins, patches = plt.hist(X[-1,], num_bins, normed=1, \n",
    "                            facecolor='green', alpha=0.5)\n",
    "plt.show()\n"
   ]
  },
  {
   "cell_type": "markdown",
   "metadata": {
    "slideshow": {
     "slide_type": "slide"
    }
   },
   "source": [
    "## Filtrage linéaire gaussien\n",
    "\n",
    "\\begin{align*}\n",
    "\\tag{équation d'état}\n",
    "   X_{k+1} &= A\\,X_{k} + B\\,W_k\\,\\ 0\\leq k<k_{max}\n",
    "   \\\\\n",
    "\\tag{équation d'observation}\n",
    "   Y_{k} &= H\\,X_{k} + V_k   \\,\\ 0< k\\leq k_{max}\n",
    "\\end{align*}\n",
    "\n",
    "- $X_k\\to\\mathbb{R}^n$, $Y_k\\to\\mathbb{R}^d$\n",
    "- bruit d'état: $W_k\\to\\mathbb{R}^m$, $W_k\\sim N(0,Q_W)$\n",
    "- bruit de mesure: $V_k\\to\\mathbb{R}^d$, $V_k\\sim N(0,Q_V)$, $Q_V>0$\n",
    "- $A\\in\\mathbb{R}^{n\\times n}$, $B\\in\\mathbb{R}^{m\\times n}$, $H\\in\\mathbb{R}^{n\\times d}$\n",
    "\n",
    "Il s'agit d'un **système gaussien**: $(X_0,\\dots,X_{k_{max}},Y_1,\\dots,Y_{k_{max}})$ est un vecteur aléatoire gaussien. (Notation: $Z_{k':k}=(Z_{k'},Z_{k'+1},\\dots ,Z_{k})$, $k'\\leq k$).\n",
    "\n",
    "**Filtrage:** On veut estimer l'état caché à l'aide des observations. À l'instant $k$, on dispose des observations $Y_{1:k}$ et on veut estimer $X_k$. "
   ]
  },
  {
   "cell_type": "markdown",
   "metadata": {
    "slideshow": {
     "slide_type": "subslide"
    }
   },
   "source": [
    "### Filtre de Kalman\n",
    "\n",
    "La loi de $X_k$ sachant les observations $Y_{1:k}$ est gaussienne de moyenne $\\widehat{X}_k$ et de covariance $R_k$ donné par:\n",
    "> **initialisation**\n",
    ">   - $\\widehat{X}_0 \\leftarrow \\bar{X}_0$ \n",
    ">   - $R_0 \\leftarrow Q_0$ \n",
    ">\n",
    "> **itérations** $k=1,2,3\\dots$\n",
    ">   - **prédiction** (calcul de la loi de $X_k|Y_{0:k-1}$)\n",
    ">        * $\\widehat{X}_{k^-} \\leftarrow A\\,\\widehat{X}_{k-1} $\n",
    ">        * $R_{k^-} \\leftarrow  A\\,R_{k-1}\\,A^* + B\\,Q^W\\,B^*$\n",
    ">   - **correction** (calcul de la loi de $X_k|Y_{0:k}$)\n",
    ">        * $K_k \\leftarrow R_{k^-}\\,H^*\\;[ H\\,R_{k^-}\\,H^*+Q^ V ]^{-1}$  gain\n",
    ">        * $\\widehat{X}_k \\leftarrow \\widehat{X}_{k^-} + K_k\\;[ { Y_k}-H\\,\\widehat{X}_{k^-}]$\n",
    ">        * $R_k \\leftarrow [ I-K_k\\,H ]\\;R_{k^-}$\n",
    "\n",
    "\n",
    "\n"
   ]
  },
  {
   "cell_type": "code",
   "execution_count": 8,
   "metadata": {
    "slideshow": {
     "slide_type": "subslide"
    }
   },
   "outputs": [
    {
     "data": {
      "image/png": "[encoded data removed]",
      "text/plain": [
       "<matplotlib.figure.Figure at 0x110301f98>"
      ]
     },
     "metadata": {},
     "output_type": "display_data"
    }
   ],
   "source": [
    "import numpy as np\n",
    "import matplotlib.pyplot as plt\n",
    "\n",
    "kmax = 300\n",
    "\n",
    "EX0, VX0 = 10, 5\n",
    "A, B, QW = 0.9, 1, 0.1\n",
    "H, QV = 1, 0.2\n",
    "sQW = np.sqrt(QW)\n",
    "sQV = np.sqrt(QV)\n",
    "sVX0 = np.sqrt(VX0)\n",
    "\n",
    "def sys_lin_esp_etat(EX0, sVX0, A, B, H, sQW, sQV):\n",
    "    W = sQW*np.random.randn(kmax)\n",
    "    V = sQV*np.random.randn(kmax)\n",
    "    X = np.ones(kmax+1)\n",
    "    Y = np.ones(kmax+1)\n",
    "    X[0] = EX0+sVX0*np.random.randn()\n",
    "    Y[0] = 0 # on s en moque\n",
    "    for k in range(kmax):\n",
    "        X[k+1] = A*X[k]+B*W[k]\n",
    "        Y[k+1] = H*X[k+1]+V[k]\n",
    "    return X,Y\n",
    "\n",
    "def kalman(EX0, sVX0, A, B, H, sQW, sQV, Y):\n",
    "    hatX = np.ones(kmax+1)\n",
    "    R = np.ones(kmax+1)\n",
    "    hatX[0] = EX0\n",
    "    R[0] = sVX0*sVX0\n",
    "    for k in range(kmax):\n",
    "        # prediction\n",
    "        predX = A*hatX[k]\n",
    "        predR = A*A*R[k]+B*B*sQW*sQW\n",
    "        # correction\n",
    "        gain = predR * H / (H*predR*H+sQV*sQV)\n",
    "        hatX[k+1] = predX + gain * (Y[k+1]-H*predX)\n",
    "        R[k+1] = (1-gain*H)*predR\n",
    "    return hatX, R\n",
    "\n",
    "X,Y = sys_lin_esp_etat(EX0, sVX0, A, B, H, sQW, sQV)\n",
    "espX, varX = sys_lin_loi(EX0, sVX0, A, B, sQW)\n",
    "hatX, R = kalman(EX0, sVX0, A, B, H, sQW, sQV, Y)\n",
    "\n",
    "plt.fill_between(range(kmax+1),espX+2*np.sqrt(varX),\n",
    "                 espX-2*np.sqrt(varX), \n",
    "                 color = 'g', alpha=0.12,\n",
    "                 label=r'$\\bar X_k\\pm 2\\,\\sqrt{Q^X_k}$ (a priori)')\n",
    "plt.fill_between(range(kmax+1),hatX+2*np.sqrt(R),\n",
    "                 hatX-2*np.sqrt(R), \n",
    "                 color = 'r', alpha=0.12,\n",
    "                 label=r'$\\hat X_k\\pm 2\\,\\sqrt{R_k}$ (a posteriori)')\n",
    "plt.plot(X,label=r'$X_k$')\n",
    "plt.plot(espX,color='g',label=r'$\\bar X_k$')\n",
    "plt.plot(hatX,color='r',alpha=0.5,label=r'$\\hat X_k$')\n",
    "\n",
    "plt.legend()\n",
    "plt.show()"
   ]
  },
  {
   "cell_type": "markdown",
   "metadata": {
    "slideshow": {
     "slide_type": "slide"
    }
   },
   "source": [
    "## Filtre de Kalman étendu"
   ]
  },
  {
   "cell_type": "markdown",
   "metadata": {
    "slideshow": {
     "slide_type": "subslide"
    }
   },
   "source": [
    "### Filtrage non linéaire en temps dicsret\n",
    "\n",
    "\\begin{align*}\n",
    "\\tag{équation d'état}\n",
    "   X_{k+1} &= f(X_{k}) + \\sigma\\,W_k\\,\\ 0\\leq k<k_{max}\n",
    "   \\\\\n",
    "\\tag{équation d'observation}\n",
    "   Y_{k} &= h(X_{k}) + V_k   \\,\\ 0< k\\leq k_{max}\n",
    "\\end{align*}\n",
    "\n",
    "- $X_k\\to\\mathbb{R}^n$, $Y_k\\to\\mathbb{R}^d$\n",
    "- bruit d'état: $W_k\\to\\mathbb{R}^m$, $W_k\\sim N(0,Q_W)$\n",
    "- bruit de mesure: $V_k\\to\\mathbb{R}^d$, $V_k\\sim N(0,Q_V)$, $Q_V>0$\n",
    "\n",
    "**Filtrage:** On veut estimer l'état caché à l'aide des observations. À l'instant $k$, on dispose des observations $Y_{1:k}$ et on veut estimer $X_k$. \n",
    "\n",
    "En général: pas de solution en dimension finie\n"
   ]
  },
  {
   "cell_type": "markdown",
   "metadata": {
    "slideshow": {
     "slide_type": "subslide"
    }
   },
   "source": [
    "### Filtre de Kalman étendu en temps discret\n",
    "\n",
    "La loi de $X_k$ sachant les observations $Y_{1:k}$ est gaussienne de moyenne $\\widehat{X}_k$ et de covariance $R_k$ donné par:\n",
    "> **initialisation**\n",
    ">   - $\\widehat{X}_0 \\leftarrow \\bar{X}_0$ \n",
    ">   - $R_0 \\leftarrow Q_0$ \n",
    ">\n",
    "> **itérations** $k=1,2,3\\dots$\n",
    ">   - **prédiction** (calcul de la loi de $X_k|Y_{0:k-1}$)\n",
    ">        * $F_{k-1} \\leftarrow \\nabla f(\\widehat{X}_{k-1})$\n",
    ">        * $\\widehat{X}_{k^-} \\leftarrow f(\\widehat{X}_{k-1}) $\n",
    ">        * $R_{k^-} \\leftarrow  F_{k-1}\\,R_{k-1}\\,F_{k-1}^* + \\sigma\\,Q^W\\,\\sigma^*$\n",
    ">   - **correction** (calcul de la loi de $X_k|Y_{0:k}$)\n",
    ">        * $H_k \\leftarrow \\nabla h(\\widehat{X}_{k^-}) $\n",
    ">        * $K_k \\leftarrow R_{k^-}\\,H_k^*\\;[ H_k\\,R_{k^-}\\,H_k^*+Q^ V ]^{-1}$  gain\n",
    ">        * $\\widehat{X}_k \\leftarrow \\widehat{X}_{k^-} + K_k\\;[ { Y_k}-h(\\widehat{X}_{k^-})]$\n",
    ">        * $R_k \\leftarrow [ I-K_k\\,H_h ]\\;R_{k^-}$"
   ]
  },
  {
   "cell_type": "markdown",
   "metadata": {
    "slideshow": {
     "slide_type": "slide"
    }
   },
   "source": [
    "## Cas linéaire continu/discret"
   ]
  },
  {
   "cell_type": "markdown",
   "metadata": {},
   "source": [
    "\\begin{align*}\n",
    "\\dot X(t) &= f(X(t)) + \\sigma\\,\\xi(t) \\tag{équation d'état}  \\\\\n",
    "Y_{k} &= H\\,X(t_k) + V_k   \\tag{équation d'observation}\n",
    "\\end{align*}\n",
    "\n",
    "- $0=t_1<t_1<t_2\\cdots$\n",
    "- $X(t)\\to\\mathbb{R}^n$, $Y_k\\to\\mathbb{R}^d$\n",
    "- bruit d'état: $\\xi(t)$ bruit blanc gaussien centré de covariance $Q_\\xi$\n",
    "- bruit de mesure: $V_k\\to\\mathbb{R}^d$, $V_k\\sim N(0,Q_V)$, $Q_V>0$\n",
    "- $A\\in\\mathbb{R}^{n\\times n}$, $B\\in\\mathbb{R}^{m\\times n}$, $H\\in\\mathbb{R}^{n\\times d}$"
   ]
  },
  {
   "cell_type": "markdown",
   "metadata": {},
   "source": [
    "### Comprendre l'équation d'état\n",
    "\n",
    "Si $t_k=k\\,\\delta$ alors:\n",
    "\n",
    "$$\n",
    "  X(t_{k+1}) = X(t_k) + \\delta \\,f(X(t_k)) + \\sigma \\,W_k\n",
    "$$\n",
    "\n",
    "où\n",
    "\n",
    "$$\n",
    "  W_k =  \\int_{t_k}^{t_{k+1}} \\xi_s\\,ds\n",
    "$$\n",
    "\n",
    "est un bruit blanc gaussien discret de covariance $\\delta\\,Q_\\xi$"
   ]
  },
  {
   "cell_type": "markdown",
   "metadata": {},
   "source": [
    "### Filtre de Kalman étendu continu/discret\n",
    "\n",
    "> **initialisation**\n",
    ">   - $\\widehat{X}(0) \\leftarrow \\bar{X}_0$ \n",
    ">   - $R(0) \\leftarrow Q_0$ \n",
    ">\n",
    "> **itérations** $k=1,2,3\\dots$\n",
    ">   - **prédiction**  calcul de la loi de $X(t)|Y_{0:k-1}$ pour $t_{k-1}<t<t_k$:\n",
    "\n",
    ">\\begin{align*}\n",
    " \\frac{\\rm d}{{\\rm d}t} \\widehat{X}^-(t)  &= f(\\widehat{X}^-(t)) & \\widehat{X}^-(t_{k-1})=\\widehat{X}(t_{k-1}) \\\\\n",
    " \\frac{\\rm d}{{\\rm d}t} R^-(t)&=  \\nabla f(\\widehat{X}^-(t))\\,R^-(t)+R^-(t)\\,\\nabla f(\\widehat{X}^-(t))^* + \\sigma\\,Q_\\xi\\,\\sigma^* & R^-(t_{k-1})=R(t_{k-1})\n",
    "\\end{align*}\n",
    "\n",
    ">   - **correction** (calcul de la loi de $X(t_k)|Y_{0:k}$)\n",
    "\n",
    ">\\begin{align*}\n",
    "  H_k &\\leftarrow \\nabla h(\\widehat{X}^-(t_k)) \\\\\n",
    "  K_k &\\leftarrow R^-(t_k)\\,H_k^*\\;[ H_k\\,R^-(t_k)\\,H_k^*+Q^ V ]^{-1}\\\\\n",
    "  \\widehat{X}(t_k) &\\leftarrow \\widehat{X}^-(t_k)  + K_k\\;[ Y_k-h(\\widehat{X}^-(t_k))] \\\\\n",
    "  R(t_k) &\\leftarrow [ I-K_k\\,H_h ]\\;R^-(t_k)\n",
    "\\end{align*}\n",
    "\n",
    "\n"
   ]
  },
  {
   "cell_type": "code",
   "execution_count": null,
   "metadata": {},
   "outputs": [],
   "source": []
  }
 ],
 "metadata": {
  "anaconda-cloud": {},
  "celltoolbar": "Slideshow",
  "kernelspec": {
   "display_name": "Python 3",
   "language": "python",
   "name": "python3"
  },
  "language_info": {
   "codemirror_mode": {
    "name": "ipython",
    "version": 3
   },
   "file_extension": ".py",
   "mimetype": "text/x-python",
   "name": "python",
   "nbconvert_exporter": "python",
   "pygments_lexer": "ipython3",
   "version": "3.6.4"
  },
  "latex_envs": {
   "LaTeX_envs_menu_present": true,
   "autocomplete": true,
   "bibliofile": "biblio.bib",
   "cite_by": "apalike",
   "current_citInitial": 1,
   "eqLabelWithNumbers": true,
   "eqNumInitial": 1,
   "hotkeys": {
    "equation": "Ctrl-E",
    "itemize": "Ctrl-I"
   },
   "labels_anchors": false,
   "latex_user_defs": false,
   "report_style_numbering": false,
   "user_envs_cfg": false
  },
  "widgets": {
   "state": {
    "26b4d98b24754bf29c4bdcc57535143b": {
     "views": [
      {
       "cell_index": 13
      }
     ]
    },
    "8f7bcf23722d43c7b931b60173a4cc28": {
     "views": [
      {
       "cell_index": 7
      }
     ]
    }
   },
   "version": "1.2.0"
  }
 },
 "nbformat": 4,
 "nbformat_minor": 1
}
