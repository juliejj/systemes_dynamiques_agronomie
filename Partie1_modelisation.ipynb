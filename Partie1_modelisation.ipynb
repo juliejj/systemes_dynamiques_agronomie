{
 "cells": [
  {
   "cell_type": "markdown",
   "metadata": {
    "collapsed": false,
    "nbpresent": {
     "id": "807ad54a-89d9-4d52-8f93-83d81c075a95"
    },
    "slideshow": {
     "slide_type": "slide"
    }
   },
   "source": [
    "# TP n°1: modélisation de la fermentation alcoolique"
   ]
  },
  {
   "cell_type": "markdown",
   "metadata": {},
   "source": [
    "## Objectif\n",
    "\n",
    "Ecrire les modèles:\n",
    "1. de la [fermentation en réacteur batch](#batch)\n",
    "2. de la [fermentation en réacteur continu](#continu)"
   ]
  },
  {
   "cell_type": "markdown",
   "metadata": {
    "slideshow": {
     "slide_type": "subslide"
    }
   },
   "source": [
    "## <a name='batch'>1. Modèle de fermentation batch</a>\n",
    "\n",
    "- La première réaction de croissance de $X$ sur $S$ peut s'exprimer par:\n",
    "$$\n",
    "\\left\\{\\begin{array}{cr}\n",
    "\\frac{dX}{dt}= & \\mu_1(N)X \\\\\n",
    "\\frac{dN}{dt}= & -k_1\\mu_1(N)X \n",
    "\\end{array}\\right.\n",
    "$$\n",
    "où $\\mu_1$ est la fonction de croissance des levures, que l'on supposera sous forme de loi de Monod, c'est à dire de la forme:\n",
    "$$ \\mu_1(N)=\\mu_1^{max}\\frac{N}{K_N+N}$$\n",
    "- La conversion du sucre en éthanol s'écrit de la façon suivante:\n",
    "$$\n",
    "\\left\\{\\begin{array}{cr}\n",
    "\\frac{dE}{dt}= & \\mu_2(E,S)X  \\\\\n",
    "\\frac{dS}{dt}= & -k_2\\mu_2(E,S)X \n",
    "\\end{array}\\right.\n",
    "$$\n",
    "où $\\mu_2$ est la fonction de croissance de l'éthanol, que l'on supposera de la forme:\n",
    "$$ \\mu_2(E,S)=\\mu_2^{max}\\frac{S}{K_S+S}\\frac{K_E}{K_E+E}.$$\n",
    "\n",
    "La quantité $\\mu_2(E,S)X$ représente le taux de production ou vitesse de dégagement de $CO_2$.\n"
   ]
  },
  {
   "cell_type": "markdown",
   "metadata": {
    "slideshow": {
     "slide_type": "subslide"
    }
   },
   "source": [
    "## <a name='continu'>2. Modèle de fermentation Continue</a>\n",
    "\n",
    "On s'intéresse maintenant à la fermentation continue. Le fermenteur est alimenté en continu par un moût synthétique avec un débit $Q_{in}$. Pour garder un volume constant $V$, on soutire également du milieu dans le réacteur avec un débit $Q_{out}$ égal à $Q_{in}$.\n",
    "On note $D$ le taux de dilution qui est donné par:\n",
    "$$D=\\frac{Q_{in}}{V}.$$\n",
    "\n",
    "Le moût synthétique comprend uniquement de l'azote et du sucre en concentrations respectives $N_0$ et $S_0$.\n",
    "\n",
    "Le modèle complet du fermenteur continu s'écrit donc finalement:\n",
    "$$\n",
    "\\boxed{\n",
    "\\left\\{\n",
    "\\begin{array}{crl}\n",
    "\\frac{dX}{dt}= & \\mu_1(N)X &-DX\\\\\n",
    "\\frac{dN}{dt}= & -k_1\\mu_1(N)X&+D(N_0-N)  \\\\\n",
    "\\frac{dE}{dt}= & \\mu_2(E,S)X &-DE \\\\\n",
    "\\frac{dS}{dt}= & -k_2\\mu_2(E,S)X&+D(S_0-S) \n",
    "\\end{array}\n",
    "\\right.\n",
    "\\text{ avec }\n",
    "\\left\\{\n",
    "\\begin{array}{lcr}\n",
    " \\mu_1(N)&=&\\mu_1^{max}\\frac{N}{K_N+N}\\\\\n",
    " \\mu_2(E,S)&=&\\mu_2^{max}\\frac{S}{K_S+S}\\frac{K_E}{K_E+E}.\n",
    "\\end{array}\n",
    "\\right. \n",
    "}\n",
    "$$\n",
    "\n",
    "Tous les paramètres du modèle sont supposés strictement positifs:\n",
    "$$ k_1,\\,k_2,\\,\\mu_1^{max},\\,\\mu_2^{max},\\,K_E,\\,K_S>0.$$"
   ]
  }
 ],
 "metadata": {
  "anaconda-cloud": {},
  "celltoolbar": "Slideshow",
  "kernelspec": {
   "display_name": "Python 3",
   "language": "python",
   "name": "python3"
  },
  "language_info": {
   "codemirror_mode": {
    "name": "ipython",
    "version": 3
   },
   "file_extension": ".py",
   "mimetype": "text/x-python",
   "name": "python",
   "nbconvert_exporter": "python",
   "pygments_lexer": "ipython3",
   "version": "3.5.2"
  },
  "latex_envs": {
   "LaTeX_envs_menu_present": true,
   "bibliofile": "biblio.bib",
   "cite_by": "apalike",
   "current_citInitial": 1,
   "eqLabelWithNumbers": true,
   "eqNumInitial": 1,
   "labels_anchors": false,
   "latex_user_defs": false,
   "report_style_numbering": false,
   "user_envs_cfg": false
  },
  "nbpresent": {
   "slides": {
    "07e6a460-a4ba-4c53-9572-d101ff8dea6c": {
     "id": "07e6a460-a4ba-4c53-9572-d101ff8dea6c",
     "prev": "7fca2c18-45c9-4db8-bfe7-cea04caf67d3",
     "regions": {
      "8ebbc6ee-03b7-475f-8c02-c0fc458c8046": {
       "attrs": {
        "height": 0.8,
        "width": 0.8,
        "x": 0.1,
        "y": 0.1
       },
       "content": {
        "cell": "63efc5de-42ae-4ae5-8a9d-ae251344c407",
        "part": "whole"
       },
       "id": "8ebbc6ee-03b7-475f-8c02-c0fc458c8046"
      }
     }
    },
    "0aa33b04-2ead-4fb7-82ac-781ce4a6b2d2": {
     "id": "0aa33b04-2ead-4fb7-82ac-781ce4a6b2d2",
     "prev": null,
     "regions": {
      "6d1b9ed0-fd2e-49f7-9b91-4f20e31a1d9c": {
       "attrs": {
        "height": 0.8,
        "width": 0.8,
        "x": 0.1,
        "y": 0.1
       },
       "content": {
        "cell": "0c765ed4-e7de-4af2-bc42-0da5887a2841",
        "part": "whole"
       },
       "id": "6d1b9ed0-fd2e-49f7-9b91-4f20e31a1d9c"
      }
     }
    },
    "25204994-df75-45fe-addc-afbdac66cfca": {
     "id": "25204994-df75-45fe-addc-afbdac66cfca",
     "prev": "4ef7fd0e-8f2e-4ee9-9539-2c09c29e4d1f",
     "regions": {
      "3e1ff6bf-aaa6-4bb1-9583-93a2a1c34014": {
       "attrs": {
        "height": 0.8,
        "width": 0.8,
        "x": 0.1,
        "y": 0.1
       },
       "content": {
        "cell": "d6e6f062-3c13-4dba-ad2a-4b56f65be418",
        "part": "whole"
       },
       "id": "3e1ff6bf-aaa6-4bb1-9583-93a2a1c34014"
      }
     }
    },
    "39c39b33-6efa-4109-bd75-c5c84d06b675": {
     "id": "39c39b33-6efa-4109-bd75-c5c84d06b675",
     "prev": "07e6a460-a4ba-4c53-9572-d101ff8dea6c",
     "regions": {
      "9ab43b16-9633-477a-86a2-d6b5230ca6c9": {
       "attrs": {
        "height": 0.8,
        "width": 0.8,
        "x": 0.1,
        "y": 0.1
       },
       "content": {
        "cell": "39aa6d75-1f80-49d2-9878-d5b773b4bf66",
        "part": "whole"
       },
       "id": "9ab43b16-9633-477a-86a2-d6b5230ca6c9"
      }
     }
    },
    "3c47ee9c-09b5-4b3c-856d-8cf27b481ec0": {
     "id": "3c47ee9c-09b5-4b3c-856d-8cf27b481ec0",
     "prev": "7287ac15-c42a-4777-97a3-884493c23069",
     "regions": {
      "74fe33a1-54d4-4298-8b34-b745dcd15714": {
       "attrs": {
        "height": 0.8,
        "width": 0.8,
        "x": 0.1,
        "y": 0.1
       },
       "content": {
        "cell": "017b43f0-59ba-4fae-bea2-41d78b8186e5",
        "part": "whole"
       },
       "id": "74fe33a1-54d4-4298-8b34-b745dcd15714"
      }
     }
    },
    "4ef7fd0e-8f2e-4ee9-9539-2c09c29e4d1f": {
     "id": "4ef7fd0e-8f2e-4ee9-9539-2c09c29e4d1f",
     "prev": "f367e2ad-370a-485a-a720-22107a713586",
     "regions": {
      "e78e24bb-c4e4-474e-b961-446cc976844f": {
       "attrs": {
        "height": 0.8,
        "width": 0.8,
        "x": 0.1,
        "y": 0.1
       },
       "content": {
        "cell": "8244a81e-ebca-4d87-9b5d-86d96758f8d4",
        "part": "whole"
       },
       "id": "e78e24bb-c4e4-474e-b961-446cc976844f"
      }
     }
    },
    "58d6e727-61c0-4372-a242-d0b57a6d0aec": {
     "id": "58d6e727-61c0-4372-a242-d0b57a6d0aec",
     "prev": "e4b2b807-7582-44a1-9aa2-f007e6acd75f",
     "regions": {
      "71054266-82eb-428e-a4e8-7c25ca7b1b6d": {
       "attrs": {
        "height": 0.8,
        "width": 0.8,
        "x": 0.1,
        "y": 0.1
       },
       "content": {
        "cell": "c8c1eb8a-e1d2-4cd1-abb9-d00c752bc7d5",
        "part": "whole"
       },
       "id": "71054266-82eb-428e-a4e8-7c25ca7b1b6d"
      }
     }
    },
    "6ccbd6fc-d25b-43d3-a70c-d43f7b47dff4": {
     "id": "6ccbd6fc-d25b-43d3-a70c-d43f7b47dff4",
     "prev": "0aa33b04-2ead-4fb7-82ac-781ce4a6b2d2",
     "regions": {
      "3897df41-b451-468b-b138-976473c90494": {
       "attrs": {
        "height": 0.8,
        "width": 0.8,
        "x": 0.1,
        "y": 0.1
       },
       "content": {
        "cell": "184fef32-b352-477b-ad5b-38fc528389dc",
        "part": "whole"
       },
       "id": "3897df41-b451-468b-b138-976473c90494"
      }
     }
    },
    "7287ac15-c42a-4777-97a3-884493c23069": {
     "id": "7287ac15-c42a-4777-97a3-884493c23069",
     "prev": "e4720b25-5d77-472a-a508-740bf01b0d1b",
     "regions": {
      "e0dedc90-afc1-408c-b8a6-14c6e10e075d": {
       "attrs": {
        "height": 0.8,
        "width": 0.8,
        "x": 0.1,
        "y": 0.1
       },
       "content": {
        "cell": "7ad991d3-e9bc-4dc4-a7a1-abec3e87d641",
        "part": "whole"
       },
       "id": "e0dedc90-afc1-408c-b8a6-14c6e10e075d"
      }
     }
    },
    "7fca2c18-45c9-4db8-bfe7-cea04caf67d3": {
     "id": "7fca2c18-45c9-4db8-bfe7-cea04caf67d3",
     "prev": "bbfd0400-41c8-4b4d-a417-6621a96f6e2e",
     "regions": {
      "c2932076-be92-4aaf-aca3-620af06445f6": {
       "attrs": {
        "height": 0.8,
        "width": 0.8,
        "x": 0.1,
        "y": 0.1
       },
       "content": {
        "cell": "c8cd87ff-b0db-4d26-bcc0-e5f40047a9c6",
        "part": "whole"
       },
       "id": "c2932076-be92-4aaf-aca3-620af06445f6"
      }
     }
    },
    "bbfd0400-41c8-4b4d-a417-6621a96f6e2e": {
     "id": "bbfd0400-41c8-4b4d-a417-6621a96f6e2e",
     "prev": "e78b3a84-8c4a-4f50-8397-3b8c54956799",
     "regions": {
      "c0968ee1-2a3f-48f4-b753-c0a777176d6a": {
       "attrs": {
        "height": 0.8,
        "width": 0.8,
        "x": 0.1,
        "y": 0.1
       },
       "content": {
        "cell": "4636146b-a3ed-4565-bd3d-203ed55b0209",
        "part": "whole"
       },
       "id": "c0968ee1-2a3f-48f4-b753-c0a777176d6a"
      }
     }
    },
    "e4720b25-5d77-472a-a508-740bf01b0d1b": {
     "id": "e4720b25-5d77-472a-a508-740bf01b0d1b",
     "prev": "39c39b33-6efa-4109-bd75-c5c84d06b675",
     "regions": {
      "f08c488f-717e-46dd-80ee-1f8a45e611a3": {
       "attrs": {
        "height": 0.8,
        "width": 0.8,
        "x": 0.1,
        "y": 0.1
       },
       "content": {
        "cell": "fc9e338e-179e-4bea-9ffc-7ffa52d06f99",
        "part": "whole"
       },
       "id": "f08c488f-717e-46dd-80ee-1f8a45e611a3"
      }
     }
    },
    "e4b2b807-7582-44a1-9aa2-f007e6acd75f": {
     "id": "e4b2b807-7582-44a1-9aa2-f007e6acd75f",
     "prev": "6ccbd6fc-d25b-43d3-a70c-d43f7b47dff4",
     "regions": {
      "c0c8f1f7-b67b-43e9-8e36-da444342c0d6": {
       "attrs": {
        "height": 0.8,
        "width": 0.8,
        "x": 0.1,
        "y": 0.1
       },
       "content": {
        "cell": "3f7cd8cf-b424-49da-b53c-c37a13ee0c2e",
        "part": "whole"
       },
       "id": "c0c8f1f7-b67b-43e9-8e36-da444342c0d6"
      }
     }
    },
    "e78b3a84-8c4a-4f50-8397-3b8c54956799": {
     "id": "e78b3a84-8c4a-4f50-8397-3b8c54956799",
     "prev": "58d6e727-61c0-4372-a242-d0b57a6d0aec",
     "regions": {
      "83f014d5-a514-4d72-8919-3261f8c5e83f": {
       "attrs": {
        "height": 0.8,
        "width": 0.8,
        "x": 0.1,
        "y": 0.1
       },
       "content": {
        "cell": "e552ca4f-6634-46b0-9671-06166d9a43d2",
        "part": "whole"
       },
       "id": "83f014d5-a514-4d72-8919-3261f8c5e83f"
      }
     }
    },
    "f367e2ad-370a-485a-a720-22107a713586": {
     "id": "f367e2ad-370a-485a-a720-22107a713586",
     "prev": "3c47ee9c-09b5-4b3c-856d-8cf27b481ec0",
     "regions": {
      "71320ce3-4f62-4ffb-8764-f3151a06160d": {
       "attrs": {
        "height": 0.8,
        "width": 0.8,
        "x": 0.1,
        "y": 0.1
       },
       "content": {
        "cell": "e38a99ae-5823-463b-8b16-4fa1369febe5",
        "part": "whole"
       },
       "id": "71320ce3-4f62-4ffb-8764-f3151a06160d"
      }
     }
    }
   },
   "themes": {}
  }
 },
 "nbformat": 4,
 "nbformat_minor": 1
}
