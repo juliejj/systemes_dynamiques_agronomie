{
 "cells": [
  {
   "cell_type": "markdown",
   "metadata": {
    "collapsed": false,
    "nbpresent": {
     "id": "807ad54a-89d9-4d52-8f93-83d81c075a95"
    },
    "slideshow": {
     "slide_type": "slide"
    }
   },
   "source": [
    "# TP n°3: Identification des paramètres du modèle de fermentation"
   ]
  },
  {
   "cell_type": "markdown",
   "metadata": {},
   "source": [
    "## Objectif\n",
    "\n",
    "On identifiera les paramètres du modèle en deux étapes:\n",
    "\n",
    "1. [Identification des paramètres de rendement](#identif1) $k_1$ et $k_2$ en tirant profit des relations linéaires entre $N$ et $X$ et entre $E$ et $S$.\n",
    "\n",
    "2. [Identification des autres paramètres](#identif2) en utilisant un algorithme de minimisation non linéaire"
   ]
  },
  {
   "cell_type": "code",
   "execution_count": 34,
   "metadata": {
    "collapsed": true
   },
   "outputs": [],
   "source": [
    "import numpy as np # module numpy: vecteur, matrices, instructions vectorisees\n",
    "import matplotlib.pyplot as plt # module matplotlib: librairie graphique\n",
    "import scipy.integrate as scint\n",
    "import scipy.optimize as scop\n",
    "import os\n",
    "\n",
    "plt.close('all') # close all figure"
   ]
  },
  {
   "cell_type": "markdown",
   "metadata": {
    "nbpresent": {
     "id": "4636146b-a3ed-4565-bd3d-203ed55b0209"
    }
   },
   "source": [
    "## <a name='identif1'>1. Identification des paramètres de rendement $k_1$ et $k_2$</a>\n",
    "\n",
    "Le modèle de fermentation en réacteur batch suppose des relations linéaires entre $N$ et $X$ et entre $E$ et $S$.\n",
    "\n",
    "On a en effet:\n",
    "$$\\frac{dS}{dt}+k_2\\frac{dE}{dt}=0 \\Longleftrightarrow S(t)+k_2E(t)=S(0)+k_2E(0)= \\text{constante}$$\n",
    "$$\\frac{dN}{dt}+k_1\\frac{dX}{dt}=0 \\Longleftrightarrow N(t)+k_1X(t)=N(0)+k_1X(0)=\\text{constante}$$\n",
    "\n",
    "Cela veut dire que le modèle suppose que tout le sucre qui se dégrade se transforme en ethanol et que tout l'azote qui est consommée se transforme en biomasse.\n",
    "\n",
    "Les relations étant linéaires, on peut utiliser un estimateur de moindres carrés linéaires.\n",
    "\n",
    "$\\bullet$ **Tracé de $N$ en fonction de $B$ et de $S$ en fonction de $E$** pour vérifier si on retrouve la relation linéaire dans les données"
   ]
  },
  {
   "cell_type": "code",
   "execution_count": 35,
   "metadata": {
    "collapsed": false,
    "nbpresent": {
     "id": "c8cd87ff-b0db-4d26-bcc0-e5f40047a9c6"
    }
   },
   "outputs": [
    {
     "data": {
      "image/png": "[encoded data removed]",
      "text/plain": [
       "<matplotlib.figure.Figure at 0x7fd9d683ff28>"
      ]
     },
     "metadata": {},
     "output_type": "display_data"
    }
   ],
   "source": [
    "# Tracé des données expérimentales\n",
    "# --------------------------------\n",
    "    \n",
    "# Chargement des données expérimentales qui sont stockées dans le fichier batch.txt\n",
    "Data = np.loadtxt('batch.txt')\n",
    "Datatime = Data[:,0] #temps\n",
    "DataB2 = Data[:,1] # biomasse en 10^6 cell/mL\n",
    "DataB = Data[:,6] # biomasse en g/L\n",
    "DataN = Data[:,2]/1000 # azote\n",
    "DataE = Data[:,3] # ethanol\n",
    "DataS = Data[:,4] # sucre\n",
    "DataCO2 = Data[:,5]/100 # taux de production de CO2\n",
    "\n",
    "t0 = Datatime[0]  # instant initial de la simulation\n",
    "tf = Datatime[-1] # instant final de la simulation\n",
    "\n",
    "plt.figure(figsize = (10, 3))\n",
    "plt.subplots_adjust(hspace=0.4,wspace=0.4)\n",
    "plt.subplot2grid((1,2),(0,0))\n",
    "plt.plot(DataB,DataN,'ro')\n",
    "plt.xlabel('Biomasse')\n",
    "plt.ylabel('Azote')\n",
    "\n",
    "plt.subplot2grid((1,2),(0,1))\n",
    "plt.plot(DataE,DataS,'ro')\n",
    "plt.xlabel('Ethanol')\n",
    "plt.ylabel('Sucre')\n",
    "\n",
    "plt.show()"
   ]
  },
  {
   "cell_type": "markdown",
   "metadata": {},
   "source": [
    "On constate effectivement une relation linéaire marquée entre $S$ et $E$. Entre $N$ et $B$ la linéarité est moins évidente."
   ]
  },
  {
   "cell_type": "markdown",
   "metadata": {},
   "source": [
    "$\\bullet$ **Identification de $k_1$ et $k_2$** en résolvant les problèmes de minimisation suivants:\n",
    "$$ (\\hat{k_1},\\hat{c_1})=\\min_{(k_1,b)} \\left\\| k_1X(t)+c_1+N(t)\\right\\|^2 $$\n",
    "$$ (\\hat{k_2},\\hat{c_2})=\\min_{(k_2,c)} \\left\\| k_2E(t)+c_2+S(t)\\right\\|^2 $$\n",
    "\n",
    "$\\hat{k_1}$ et $\\hat{k_2}$ sont des estimations de $k_1$ et de $k_2$.\n",
    "$\\hat{c_1}$ et $\\hat{c_2}$ sont des estimations de $-N(0)-k_1X(0)$ et $-S(0)-k_2E(0)$.\n",
    "\n",
    "On utilisera pour résoudre ces problèmes des fonctions déjà codés sous python comme la fonction np.linalg.lstsq qui calcule l'estimateur de moindre carrés pour un système linéaire $Ax=b$. Cette fonction permet donc de résoudre le problème\n",
    "$$ \\min_{x} \\left\\|Ax-b\\right\\|^2$$"
   ]
  },
  {
   "cell_type": "code",
   "execution_count": 36,
   "metadata": {
    "collapsed": false,
    "nbpresent": {
     "id": "63efc5de-42ae-4ae5-8a9d-ae251344c407"
    }
   },
   "outputs": [],
   "source": [
    "# Identification des paramètres k1 et k2 du modèle de fermentation en réacteur batch\n",
    "# ----------------------------------------------------------------------------------\n",
    "\n",
    "# identification de k1\n",
    "# --------------------\n",
    "# A COMPLETER\n",
    "\n",
    "# identification de k2\n",
    "# --------------------\n",
    "# A COMPLETER"
   ]
  },
  {
   "cell_type": "markdown",
   "metadata": {
    "nbpresent": {
     "id": "39aa6d75-1f80-49d2-9878-d5b773b4bf66"
    }
   },
   "source": [
    "## <a name='identif2'>2. Identification des autres paramètres du modèle avec les moindres carrés</a>\n",
    "\n",
    "Pour cela, on va résoudre le problème non linéaire suivant:\n",
    "\n",
    "$$ \\hat{\\theta}=\\min_{\\theta} \\left\\|y^{sim}(\\theta)-y^{data} \\right\\|^2$$\n",
    "\n",
    "où $\\theta$ est le vecteur des paramètres du modèle\n",
    "\n",
    "$y^{sim}$ est la sortie simulée via le modèle\n",
    "\n",
    "et $y^{data}$ est la sortie mesurée (données expérimentales)\n",
    "\n",
    "Dans le cas de la fermentation, on a $4$ variables d'état donc le problème va s'écrire:\n",
    "\n",
    "$$ \\hat{\\theta}=\\min_{\\theta} \\left( \\beta_E\\left\\|E^{sim}(\\theta)-E^{data} \\right\\|^2 + \\beta_S\\left\\|S^{sim}(\\theta)-S^{data} \\right\\|^2 + \\beta_N\\left\\|N^{sim}(\\theta)-N^{data} \\right\\|^2 + \\beta_X\\left\\|X^{sim}(\\theta)-X^{data} \\right\\|^2\\right)$$\n",
    "\n",
    "où $\\theta$ est le vecteur des paramètres du modèle de fermentation en réacteur batch\n",
    "\n",
    "$(X^{sim},N^{sim},E^{sim},S^{sim})$ sont les sorties simulées via le modèle de fermentation en réacteur batch\n",
    "\n",
    "$(X^{data},N^{data},E^{data},S^{data})$ sont les sorties mesurées (données expérimentales)\n",
    "\n",
    "et $(\\beta_X, \\beta_N, \\beta_E, \\beta_S)$ sont des poids de pondération\n",
    "\n",
    "A noter que, comme $E^{sim}$ est une trajectoire, c'est à dire une fonction du temps, la norme $\\left\\|E^{sim}-E^{data} \\right\\|^2$ est définie de la manière suivante:\n",
    "\n",
    "$$\\left\\|E^{sim}(\\theta)-E^{data} \\right\\|^2=\\int_{0}^T (E^{sim}(\\theta,s)-E^{data}(s))^2 ds$$\n",
    "\n",
    "Numériquement, il va falloir calculer une approximation de cette intégrale car les mesures expérimentales sont discrètes. On ne mesure en effet pas les variables à chaque temps $t$ mais à des instants discrets $t_i$, $i=1:N$ où $N$ est le nombre de mesures effectuées.\n",
    "\n",
    "On pourra par exemple utiliser l'approximation de type trapèze:\n",
    "\n",
    "$$\\left\\|g \\right\\|^2=\\int_{0}^T g(s)^2 ds \\simeq \\sum_{i=1}^{N-1} \\frac{g(t_i)^2+g(t_{i+1})^2}{2}(t_{i+1}-t_i)$$\n",
    "\n",
    "Les poids de pondération $\\beta_E$ pourra quant à lui être calculé de la manière suivante:\n",
    "\n",
    "$$ \\beta_E = \\frac{1}{\\left\\| E^{data} \\right\\|} = \\frac{1}{\\int_{0}^T (E^{data}(s))^2 ds}$$\n",
    "\n",
    "que l'on pourra approcher numériquement par:\n",
    "\n",
    "$$ \\beta_E  \\simeq \\frac{1}{\\sum_{i=1}^{N-1} \\frac{E^{data}(t_i)^2+E^{data}(t_{i+1})^2}{2}(t_{i+1}-t_i)}$$\n"
   ]
  },
  {
   "cell_type": "code",
   "execution_count": 37,
   "metadata": {
    "collapsed": false,
    "nbpresent": {
     "id": "fc9e338e-179e-4bea-9ffc-7ffa52d06f99"
    }
   },
   "outputs": [
    {
     "name": "stdout",
     "output_type": "stream",
     "text": [
      " final_simplex: (array([[  6.06000000e-02,   2.17000000e+00,   1.34000000e+00,\n",
      "          1.45000000e+00,   1.57000000e+00,   1.41000000e+01,\n",
      "          1.54000000e-02,   3.03083594e-02,   4.32470000e-01,\n",
      "          4.15404752e-01,   1.88072161e+02],\n",
      "       [  6.06000231e-02,   2.17000000e+00,   1.34000000e+00,\n",
      "          1.45000000e+00,   1.57000000e+00,   1.41000000e+01,\n",
      "          1.54000000e-02,   3.03083594e-02,   4.32470000e-01,\n",
      "          4.15404752e-01,   1.88072161e+02],\n",
      "       [  6.06000000e-02,   2.17000083e+00,   1.34000000e+00,\n",
      "          1.45000000e+00,   1.57000000e+00,   1.41000000e+01,\n",
      "          1.54000000e-02,   3.03083594e-02,   4.32470000e-01,\n",
      "          4.15404752e-01,   1.88072161e+02],\n",
      "       [  6.06000000e-02,   2.17000000e+00,   1.34000051e+00,\n",
      "          1.45000000e+00,   1.57000000e+00,   1.41000000e+01,\n",
      "          1.54000000e-02,   3.03083594e-02,   4.32470000e-01,\n",
      "          4.15404752e-01,   1.88072161e+02],\n",
      "       [  6.06000000e-02,   2.17000000e+00,   1.34000000e+00,\n",
      "          1.45000055e+00,   1.57000000e+00,   1.41000000e+01,\n",
      "          1.54000000e-02,   3.03083594e-02,   4.32470000e-01,\n",
      "          4.15404752e-01,   1.88072161e+02],\n",
      "       [  6.06000000e-02,   2.17000000e+00,   1.34000000e+00,\n",
      "          1.45000000e+00,   1.57000060e+00,   1.41000000e+01,\n",
      "          1.54000000e-02,   3.03083594e-02,   4.32470000e-01,\n",
      "          4.15404752e-01,   1.88072161e+02],\n",
      "       [  6.06000000e-02,   2.17000000e+00,   1.34000000e+00,\n",
      "          1.45000000e+00,   1.57000000e+00,   1.41000054e+01,\n",
      "          1.54000000e-02,   3.03083594e-02,   4.32470000e-01,\n",
      "          4.15404752e-01,   1.88072161e+02],\n",
      "       [  6.06000000e-02,   2.17000000e+00,   1.34000000e+00,\n",
      "          1.45000000e+00,   1.57000000e+00,   1.41000000e+01,\n",
      "          1.54000059e-02,   3.03083594e-02,   4.32470000e-01,\n",
      "          4.15404752e-01,   1.88072161e+02],\n",
      "       [  6.06000000e-02,   2.17000000e+00,   1.34000000e+00,\n",
      "          1.45000000e+00,   1.57000000e+00,   1.41000000e+01,\n",
      "          1.54000000e-02,   3.03083710e-02,   4.32470000e-01,\n",
      "          4.15404752e-01,   1.88072161e+02],\n",
      "       [  6.06000000e-02,   2.17000000e+00,   1.34000000e+00,\n",
      "          1.45000000e+00,   1.57000000e+00,   1.41000000e+01,\n",
      "          1.54000000e-02,   3.03083594e-02,   4.32470165e-01,\n",
      "          4.15404752e-01,   1.88072161e+02],\n",
      "       [  6.06000000e-02,   2.17000000e+00,   1.34000000e+00,\n",
      "          1.45000000e+00,   1.57000000e+00,   1.41000000e+01,\n",
      "          1.54000000e-02,   3.03083594e-02,   4.32470000e-01,\n",
      "          4.15404911e-01,   1.88072161e+02],\n",
      "       [  6.06000000e-02,   2.17000000e+00,   1.34000000e+00,\n",
      "          1.45000000e+00,   1.57000000e+00,   1.41000000e+01,\n",
      "          1.54000000e-02,   3.03083594e-02,   4.32470000e-01,\n",
      "          4.15404752e-01,   1.88072232e+02]]), array([ 0.,  0.,  0.,  0.,  0.,  0.,  0.,  0.,  0.,  0.,  0.,  0.]))\n",
      "           fun: 0.0\n",
      "       message: 'Optimization terminated successfully.'\n",
      "          nfev: 233\n",
      "           nit: 18\n",
      "        status: 0\n",
      "       success: True\n",
      "             x: array([  6.06000000e-02,   2.17000000e+00,   1.34000000e+00,\n",
      "         1.45000000e+00,   1.57000000e+00,   1.41000000e+01,\n",
      "         1.54000000e-02,   3.03083594e-02,   4.32470000e-01,\n",
      "         4.15404752e-01,   1.88072161e+02])\n"
     ]
    },
    {
     "data": {
      "image/png": "[encoded data removed]",
      "text/plain": [
       "<matplotlib.figure.Figure at 0x7fd9d686ed68>"
      ]
     },
     "metadata": {},
     "output_type": "display_data"
    },
    {
     "name": "stdout",
     "output_type": "stream",
     "text": [
      "k1 = 0.0606\n",
      "k2 = 2.17\n",
      "mu1max = 1.34\n",
      "mu2max = 1.45\n",
      "KN = 1.57\n",
      "KE = 14.1\n",
      "KS = 0.0154\n",
      "B0 = 0.0303083594\n",
      "N0 = 0.43247\n",
      "E0 = 0.4154047525\n",
      "S0 = 188.072160664\n"
     ]
    }
   ],
   "source": [
    "# Fonction à minimiser\n",
    "def err(p,beta):\n",
    "    # p: paramètres du modèle à identifier\n",
    "    k1 = abs(p[0])\n",
    "    # etc ...\n",
    "    \n",
    "    # A COMPLETER\n",
    "    \n",
    "    f2min = 0\n",
    "\n",
    "    return f2min\n",
    "\n",
    "    \n",
    "# Identification du modèle de fermentation\n",
    "# ----------------------------------------\n",
    "# Identification 1: on identifie tous les paramètres et la condition initiale\n",
    "# ---------------------------------------------------------------------------\n",
    "\n",
    "# tracé des données\n",
    "f, ax = plt.subplots(2,2,figsize = (12, 6))\n",
    "\n",
    "ax[0,0].plot(Datatime,DataB,'ro')\n",
    "ax[0,0].set_xlabel('time (h)')\n",
    "    \n",
    "ax[0,1].plot(Datatime,DataN,'ro')\n",
    "ax[0,1].set_xlabel('time (h)')\n",
    "    \n",
    "ax[1,0].plot(Datatime,DataE,'ro')\n",
    "ax[1,0].set_xlabel('time (h)')\n",
    "    \n",
    "ax[1,1].plot(Datatime,DataS,'ro')\n",
    "ax[1,1].set_xlabel('time (h)')\n",
    "\n",
    "# Calcul des poids de pondération\n",
    "beta=np.zeros(4)\n",
    "# A COMPLETER\n",
    "beta[0]= 0\n",
    "beta[1]= 0\n",
    "beta[2]= 0\n",
    "beta[3]= 0\n",
    "\n",
    "# valeurs initiales des paramètres du modèle\n",
    "k1 = 0.0606 # -\n",
    "k2 = 2.17 # -\n",
    "mu1max = 1.34 # 1/h\n",
    "mu2max = 1.45 # 1/h\n",
    "KN = 1.57 # g/L\n",
    "KE = 14.1 # g/L\n",
    "KS = 0.0154 # g/L\n",
    "p0 = np.array([k1,k2,mu1max,mu2max,KN,KE,KS,DataB[0],DataN[0],DataE[0],DataS[0]])\n",
    "\n",
    "ps1 = scop.minimize(err,p0,args=(beta,),method='Nelder-Mead',options={\"maxiter\":40000})\n",
    "print(ps1)\n",
    "plt.show()\n",
    "\n",
    "print('k1 =',abs(ps1.x[0]))\n",
    "print('k2 =',abs(ps1.x[1]))\n",
    "print('mu1max =',abs(ps1.x[2]))\n",
    "print('mu2max =',abs(ps1.x[3]))\n",
    "print('KN =',abs(ps1.x[4]))\n",
    "print('KE =',abs(ps1.x[5]))\n",
    "print('KS =',abs(ps1.x[6]))\n",
    "print('B0 =',abs(ps1.x[7]))\n",
    "print('N0 =',abs(ps1.x[8]))\n",
    "print('E0 =',abs(ps1.x[9]))\n",
    "print('S0 =',abs(ps1.x[10]))"
   ]
  },
  {
   "cell_type": "code",
   "execution_count": 38,
   "metadata": {
    "collapsed": false,
    "nbpresent": {
     "id": "7ad991d3-e9bc-4dc4-a7a1-abec3e87d641"
    }
   },
   "outputs": [],
   "source": [
    "# Identification 2: on identifie la condition initiale ettous les paramètres sauf k2 qui prend la valeur k2_est \n",
    "# -------------------------------------------------------------------------------------------------------------\n",
    "# A COMPLETER"
   ]
  },
  {
   "cell_type": "code",
   "execution_count": 39,
   "metadata": {
    "collapsed": false,
    "nbpresent": {
     "id": "017b43f0-59ba-4fae-bea2-41d78b8186e5"
    }
   },
   "outputs": [
    {
     "data": {
      "image/png": "[encoded data removed]",
      "text/plain": [
       "<matplotlib.figure.Figure at 0x7fd9d67feba8>"
      ]
     },
     "metadata": {},
     "output_type": "display_data"
    }
   ],
   "source": [
    "# Simulations avec les paramètres identifiés: comparaison entre les résultats des deux identifications\n",
    "# ----------------------------------------------------------------------------------------------------\n",
    "f2, ax2 = plt.subplots(2,2,figsize = (12, 6))\n",
    "ax2[0,0].plot(Datatime,DataB,'ro')\n",
    "ax2[0,0].set_xlabel('time (h)')\n",
    "ax2[0,1].plot(Datatime,DataN,'ro')\n",
    "ax2[0,1].set_xlabel('time (h)')\n",
    "ax2[1,0].plot(Datatime,DataE,'ro')\n",
    "ax2[1,0].set_xlabel('time (h)')\n",
    "ax2[1,1].plot(Datatime,DataS,'ro')\n",
    "ax2[1,1].set_xlabel('time (h)')\n",
    "\n",
    "# Simulation avec le premier jeu de paramètres identifiés\n",
    "# -------------------------------------------------------\n",
    "k1 = ps1.x[0]\n",
    "k2 = ps1.x[1]\n",
    "mu1max = ps1.x[2]\n",
    "mu2max = ps1.x[3]\n",
    "KN = ps1.x[4]\n",
    "KE = ps1.x[5]\n",
    "KS = ps1.x[6]\n",
    "\n",
    "# condition initiale\n",
    "x0 = ps1.x[7:]\n",
    "\n",
    "# vecteur temps\n",
    "t = np.arange(t0,tf,0.1)\n",
    "\n",
    "# intégration numérique de l'EDO\n",
    "y = scint.odeint(fermenter,x0,t,args=(k1,k2,mu1max,mu2max,KN,KE,KS))\n",
    "\n",
    "# tracé des solutions\n",
    "color_plot='m'\n",
    "ax2[0,0].plot(t,y[:,0],color=color_plot,label='identif 1')\n",
    "ax2[0,1].plot(t,y[:,1],color=color_plot)\n",
    "ax2[1,0].plot(t,y[:,2],color=color_plot) \n",
    "ax2[1,1].plot(t,y[:,3],color=color_plot)\n",
    "\n",
    "# Simulation avec le deuxième jeu de paramètres identifiés\n",
    "# -------------------------------------------------------\n",
    "#  A COMPLETER\n",
    "\n",
    "plt.show()\n",
    "    "
   ]
  }
 ],
 "metadata": {
  "anaconda-cloud": {},
  "celltoolbar": "Slideshow",
  "kernelspec": {
   "display_name": "Python 3",
   "language": "python",
   "name": "python3"
  },
  "language_info": {
   "codemirror_mode": {
    "name": "ipython",
    "version": 3
   },
   "file_extension": ".py",
   "mimetype": "text/x-python",
   "name": "python",
   "nbconvert_exporter": "python",
   "pygments_lexer": "ipython3",
   "version": "3.5.2"
  },
  "latex_envs": {
   "LaTeX_envs_menu_present": true,
   "bibliofile": "biblio.bib",
   "cite_by": "apalike",
   "current_citInitial": 1,
   "eqLabelWithNumbers": true,
   "eqNumInitial": 1,
   "labels_anchors": false,
   "latex_user_defs": false,
   "report_style_numbering": false,
   "user_envs_cfg": false
  },
  "nbpresent": {
   "slides": {
    "07e6a460-a4ba-4c53-9572-d101ff8dea6c": {
     "id": "07e6a460-a4ba-4c53-9572-d101ff8dea6c",
     "prev": "7fca2c18-45c9-4db8-bfe7-cea04caf67d3",
     "regions": {
      "8ebbc6ee-03b7-475f-8c02-c0fc458c8046": {
       "attrs": {
        "height": 0.8,
        "width": 0.8,
        "x": 0.1,
        "y": 0.1
       },
       "content": {
        "cell": "63efc5de-42ae-4ae5-8a9d-ae251344c407",
        "part": "whole"
       },
       "id": "8ebbc6ee-03b7-475f-8c02-c0fc458c8046"
      }
     }
    },
    "0aa33b04-2ead-4fb7-82ac-781ce4a6b2d2": {
     "id": "0aa33b04-2ead-4fb7-82ac-781ce4a6b2d2",
     "prev": null,
     "regions": {
      "6d1b9ed0-fd2e-49f7-9b91-4f20e31a1d9c": {
       "attrs": {
        "height": 0.8,
        "width": 0.8,
        "x": 0.1,
        "y": 0.1
       },
       "content": {
        "cell": "0c765ed4-e7de-4af2-bc42-0da5887a2841",
        "part": "whole"
       },
       "id": "6d1b9ed0-fd2e-49f7-9b91-4f20e31a1d9c"
      }
     }
    },
    "25204994-df75-45fe-addc-afbdac66cfca": {
     "id": "25204994-df75-45fe-addc-afbdac66cfca",
     "prev": "4ef7fd0e-8f2e-4ee9-9539-2c09c29e4d1f",
     "regions": {
      "3e1ff6bf-aaa6-4bb1-9583-93a2a1c34014": {
       "attrs": {
        "height": 0.8,
        "width": 0.8,
        "x": 0.1,
        "y": 0.1
       },
       "content": {
        "cell": "d6e6f062-3c13-4dba-ad2a-4b56f65be418",
        "part": "whole"
       },
       "id": "3e1ff6bf-aaa6-4bb1-9583-93a2a1c34014"
      }
     }
    },
    "39c39b33-6efa-4109-bd75-c5c84d06b675": {
     "id": "39c39b33-6efa-4109-bd75-c5c84d06b675",
     "prev": "07e6a460-a4ba-4c53-9572-d101ff8dea6c",
     "regions": {
      "9ab43b16-9633-477a-86a2-d6b5230ca6c9": {
       "attrs": {
        "height": 0.8,
        "width": 0.8,
        "x": 0.1,
        "y": 0.1
       },
       "content": {
        "cell": "39aa6d75-1f80-49d2-9878-d5b773b4bf66",
        "part": "whole"
       },
       "id": "9ab43b16-9633-477a-86a2-d6b5230ca6c9"
      }
     }
    },
    "3c47ee9c-09b5-4b3c-856d-8cf27b481ec0": {
     "id": "3c47ee9c-09b5-4b3c-856d-8cf27b481ec0",
     "prev": "7287ac15-c42a-4777-97a3-884493c23069",
     "regions": {
      "74fe33a1-54d4-4298-8b34-b745dcd15714": {
       "attrs": {
        "height": 0.8,
        "width": 0.8,
        "x": 0.1,
        "y": 0.1
       },
       "content": {
        "cell": "017b43f0-59ba-4fae-bea2-41d78b8186e5",
        "part": "whole"
       },
       "id": "74fe33a1-54d4-4298-8b34-b745dcd15714"
      }
     }
    },
    "4ef7fd0e-8f2e-4ee9-9539-2c09c29e4d1f": {
     "id": "4ef7fd0e-8f2e-4ee9-9539-2c09c29e4d1f",
     "prev": "f367e2ad-370a-485a-a720-22107a713586",
     "regions": {
      "e78e24bb-c4e4-474e-b961-446cc976844f": {
       "attrs": {
        "height": 0.8,
        "width": 0.8,
        "x": 0.1,
        "y": 0.1
       },
       "content": {
        "cell": "8244a81e-ebca-4d87-9b5d-86d96758f8d4",
        "part": "whole"
       },
       "id": "e78e24bb-c4e4-474e-b961-446cc976844f"
      }
     }
    },
    "58d6e727-61c0-4372-a242-d0b57a6d0aec": {
     "id": "58d6e727-61c0-4372-a242-d0b57a6d0aec",
     "prev": "e4b2b807-7582-44a1-9aa2-f007e6acd75f",
     "regions": {
      "71054266-82eb-428e-a4e8-7c25ca7b1b6d": {
       "attrs": {
        "height": 0.8,
        "width": 0.8,
        "x": 0.1,
        "y": 0.1
       },
       "content": {
        "cell": "c8c1eb8a-e1d2-4cd1-abb9-d00c752bc7d5",
        "part": "whole"
       },
       "id": "71054266-82eb-428e-a4e8-7c25ca7b1b6d"
      }
     }
    },
    "6ccbd6fc-d25b-43d3-a70c-d43f7b47dff4": {
     "id": "6ccbd6fc-d25b-43d3-a70c-d43f7b47dff4",
     "prev": "0aa33b04-2ead-4fb7-82ac-781ce4a6b2d2",
     "regions": {
      "3897df41-b451-468b-b138-976473c90494": {
       "attrs": {
        "height": 0.8,
        "width": 0.8,
        "x": 0.1,
        "y": 0.1
       },
       "content": {
        "cell": "184fef32-b352-477b-ad5b-38fc528389dc",
        "part": "whole"
       },
       "id": "3897df41-b451-468b-b138-976473c90494"
      }
     }
    },
    "7287ac15-c42a-4777-97a3-884493c23069": {
     "id": "7287ac15-c42a-4777-97a3-884493c23069",
     "prev": "e4720b25-5d77-472a-a508-740bf01b0d1b",
     "regions": {
      "e0dedc90-afc1-408c-b8a6-14c6e10e075d": {
       "attrs": {
        "height": 0.8,
        "width": 0.8,
        "x": 0.1,
        "y": 0.1
       },
       "content": {
        "cell": "7ad991d3-e9bc-4dc4-a7a1-abec3e87d641",
        "part": "whole"
       },
       "id": "e0dedc90-afc1-408c-b8a6-14c6e10e075d"
      }
     }
    },
    "7fca2c18-45c9-4db8-bfe7-cea04caf67d3": {
     "id": "7fca2c18-45c9-4db8-bfe7-cea04caf67d3",
     "prev": "bbfd0400-41c8-4b4d-a417-6621a96f6e2e",
     "regions": {
      "c2932076-be92-4aaf-aca3-620af06445f6": {
       "attrs": {
        "height": 0.8,
        "width": 0.8,
        "x": 0.1,
        "y": 0.1
       },
       "content": {
        "cell": "c8cd87ff-b0db-4d26-bcc0-e5f40047a9c6",
        "part": "whole"
       },
       "id": "c2932076-be92-4aaf-aca3-620af06445f6"
      }
     }
    },
    "bbfd0400-41c8-4b4d-a417-6621a96f6e2e": {
     "id": "bbfd0400-41c8-4b4d-a417-6621a96f6e2e",
     "prev": "e78b3a84-8c4a-4f50-8397-3b8c54956799",
     "regions": {
      "c0968ee1-2a3f-48f4-b753-c0a777176d6a": {
       "attrs": {
        "height": 0.8,
        "width": 0.8,
        "x": 0.1,
        "y": 0.1
       },
       "content": {
        "cell": "4636146b-a3ed-4565-bd3d-203ed55b0209",
        "part": "whole"
       },
       "id": "c0968ee1-2a3f-48f4-b753-c0a777176d6a"
      }
     }
    },
    "e4720b25-5d77-472a-a508-740bf01b0d1b": {
     "id": "e4720b25-5d77-472a-a508-740bf01b0d1b",
     "prev": "39c39b33-6efa-4109-bd75-c5c84d06b675",
     "regions": {
      "f08c488f-717e-46dd-80ee-1f8a45e611a3": {
       "attrs": {
        "height": 0.8,
        "width": 0.8,
        "x": 0.1,
        "y": 0.1
       },
       "content": {
        "cell": "fc9e338e-179e-4bea-9ffc-7ffa52d06f99",
        "part": "whole"
       },
       "id": "f08c488f-717e-46dd-80ee-1f8a45e611a3"
      }
     }
    },
    "e4b2b807-7582-44a1-9aa2-f007e6acd75f": {
     "id": "e4b2b807-7582-44a1-9aa2-f007e6acd75f",
     "prev": "6ccbd6fc-d25b-43d3-a70c-d43f7b47dff4",
     "regions": {
      "c0c8f1f7-b67b-43e9-8e36-da444342c0d6": {
       "attrs": {
        "height": 0.8,
        "width": 0.8,
        "x": 0.1,
        "y": 0.1
       },
       "content": {
        "cell": "3f7cd8cf-b424-49da-b53c-c37a13ee0c2e",
        "part": "whole"
       },
       "id": "c0c8f1f7-b67b-43e9-8e36-da444342c0d6"
      }
     }
    },
    "e78b3a84-8c4a-4f50-8397-3b8c54956799": {
     "id": "e78b3a84-8c4a-4f50-8397-3b8c54956799",
     "prev": "58d6e727-61c0-4372-a242-d0b57a6d0aec",
     "regions": {
      "83f014d5-a514-4d72-8919-3261f8c5e83f": {
       "attrs": {
        "height": 0.8,
        "width": 0.8,
        "x": 0.1,
        "y": 0.1
       },
       "content": {
        "cell": "e552ca4f-6634-46b0-9671-06166d9a43d2",
        "part": "whole"
       },
       "id": "83f014d5-a514-4d72-8919-3261f8c5e83f"
      }
     }
    },
    "f367e2ad-370a-485a-a720-22107a713586": {
     "id": "f367e2ad-370a-485a-a720-22107a713586",
     "prev": "3c47ee9c-09b5-4b3c-856d-8cf27b481ec0",
     "regions": {
      "71320ce3-4f62-4ffb-8764-f3151a06160d": {
       "attrs": {
        "height": 0.8,
        "width": 0.8,
        "x": 0.1,
        "y": 0.1
       },
       "content": {
        "cell": "e38a99ae-5823-463b-8b16-4fa1369febe5",
        "part": "whole"
       },
       "id": "71320ce3-4f62-4ffb-8764-f3151a06160d"
      }
     }
    }
   },
   "themes": {}
  }
 },
 "nbformat": 4,
 "nbformat_minor": 1
}
