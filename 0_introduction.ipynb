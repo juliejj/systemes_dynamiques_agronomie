{
 "cells": [
  {
   "cell_type": "markdown",
   "metadata": {
    "nbpresent": {
     "id": "ee91c5ed-7d4a-427a-88fb-e966da8bf774"
    },
    "slideshow": {
     "slide_type": "slide"
    }
   },
   "source": [
    "# Table of Contents\n",
    "* [1. Introduction](#1.-Introduction)\n",
    "\t* [1.1 Le Big Data ou la fin des sciences](#1.1-Le-Big-Data-ou-la-fin-des-sciences)\n",
    "\t* [1.2 Theory-guided Data Science](#1.2-Theory-guided-Data-Science)\n",
    "\t* [1.3 Python c'est fun](#1.3-Python-c'est-fun)\n"
   ]
  },
  {
   "cell_type": "markdown",
   "metadata": {
    "nbpresent": {
     "id": "8e395759-ab35-49cd-b999-fc3e62e161f8"
    },
    "slideshow": {
     "slide_type": "slide"
    }
   },
   "source": [
    "# 1. Introduction"
   ]
  },
  {
   "cell_type": "markdown",
   "metadata": {
    "nbpresent": {
     "id": "ca2ccaad-ed2a-4c40-8578-47b816fccc16"
    },
    "slideshow": {
     "slide_type": "slide"
    }
   },
   "source": [
    "## 1.1 Le Big Data ou la fin des sciences"
   ]
  },
  {
   "cell_type": "markdown",
   "metadata": {},
   "source": [
    "<img src=\"./images/wired.png\" alt=\"wired\" style=\"width: 300px;\"/>\n",
    "\n",
    "[**The End of Theory: The Data Deluge Makes the Scientific Method Obsolete**](https://www.wired.com/2008/06/pb-theory/) Chris Anderson, Wired Magazine 2008\n",
    "\n",
    "\n"
   ]
  },
  {
   "cell_type": "markdown",
   "metadata": {
    "nbpresent": {
     "id": "0627f69c-6264-4af9-864b-1ed3223267b6"
    },
    "slideshow": {
     "slide_type": "subslide"
    }
   },
   "source": [
    "\n",
    "Ce genre de réflexions de l'[ère des post-vérités](https://fr.wikipedia.org/wiki/Ère_post-vérité), s'appuie sur une interprétation très \"limitée\" d'un aphorisme dû à George Box:\n",
    "\n",
    "> [\"All models are wrong, but some are useful\"](https://en.wikipedia.org/wiki/All_models_are_wrong), George Box\n",
    "\n",
    "dans lequel Chris Anderson a retenu \"les modèles sont faux\". Suivons la logique de son article:\n",
    "\n",
    "> Today companies like Google, which have grown up in an era of massively abundant data, don't have to settle for wrong models. Indeed, they don't have to settle for models at all.\n",
    "\n",
    "puis \n",
    "\n",
    "> Google's founding philosophy is that we don't know why this page is better than that one: If the statistics of incoming links say it is, that's good enough.\n",
    "\n",
    "On voit où se genre de \"phylosophie\" nous a récemment conduit. \n",
    "\n",
    "Sur le plan scientifique, il faut comprendre - par exemple - que les lois physiques sont souvent contre-intuitives : tout le monde \"constate\" que les corps lourds tombent plus rapidement que les corps légers; ce qui n'a pas empêché  Galilée  d'établir, par une simple [expérience de pensée](https://www.franceculture.fr/emissions/la-conversation-scientifique/quest-ce-quune-experience-de-pensee), que les corps tombent à la même vitesse et ce indépendamment  de leur poids, contredisant  le sens commun. Google avec ses [$130\\times 10^{18}$](http://searchengineland.com/googles-search-indexes-hits-130-trillion-pages-documents-263378) pages web indexées  aurait pourtant rejeté cette théorie."
   ]
  },
  {
   "cell_type": "markdown",
   "metadata": {
    "slideshow": {
     "slide_type": "subslide"
    }
   },
   "source": [
    "**Mais** si les mathématiques sont le langage de la physique:\n",
    "\n",
    "> [The Unreasonable Effectiveness of Mathematics in the Natural Sciences](https://en.wikipedia.org/wiki/The_Unreasonable_Effectiveness_of_Mathematics_in_the_Natural_Sciences), Eugene Wigner 1960.\n",
    "\n",
    "son rôle, au travers des modèles, au sein des sciences du vivant et notamment de la biologie, est (peut être) différent)"
   ]
  },
  {
   "cell_type": "markdown",
   "metadata": {
    "nbpresent": {
     "id": "5d2c928a-2e72-41cb-8b6c-26d13ef34107"
    },
    "slideshow": {
     "slide_type": "slide"
    }
   },
   "source": [
    "## 1.2 Theory-guided Data Science"
   ]
  },
  {
   "cell_type": "markdown",
   "metadata": {
    "nbpresent": {
     "id": "63783c2b-6096-41d1-9352-de27b09545c9"
    }
   },
   "source": [
    "<img src=\"./images/theory_guided_data_science.png\" alt=\"Theory-guided Data Science\" style=\"width: 400px;\"/>\n",
    "\n",
    "after [Theory-guided Data Science: A New Paradigm for Scientific Discovery](https://arxiv.org/abs/1612.08544) \n",
    "Anuj Karpatne et al"
   ]
  },
  {
   "cell_type": "markdown",
   "metadata": {
    "nbpresent": {
     "id": "974171b2-97d5-449a-a4dc-c0feefe0ab4a"
    },
    "slideshow": {
     "slide_type": "slide"
    }
   },
   "source": [
    "## 1.3 Python c'est fun"
   ]
  },
  {
   "cell_type": "markdown",
   "metadata": {
    "nbpresent": {
     "id": "510721f0-ea1d-4c59-a640-1131821c9a25"
    }
   },
   "source": [
    "[[Casamayou et al 2016](#cite-casamayou2016a)]\n",
    "\n",
    "[[Kiusalaas 2013](#cite-kiusalaas2013a)]\n",
    "\n",
    "[[Langtangen 2016](#cite-langtangen2016a)]"
   ]
  },
  {
   "cell_type": "markdown",
   "metadata": {},
   "source": [
    "<!--bibtex\n",
    "\n",
    "@book{casamayou2016a,\n",
    "\tAuthor = {Casamayou, Alexandre and Chauvin, Pascal and Connan, Guillaume and Demailly, Jean-Pierre},\n",
    "\tEdition = {2{\\`e}me},\n",
    "\tPublisher = {Dunod},\n",
    "\tTitle = {Programmation en Python pour les math{\\'e}matiques : cours et exercices},\n",
    "\tYear = {2016}}\n",
    "\n",
    "@book{kiusalaas2013a,\n",
    "\tAuthor = {Jaan Kiusalaas},\n",
    "\tPublisher = {Academic Press},\n",
    "\tTitle = {Numerical Methods in Engineering with Python 3},\n",
    "\tYear = {2013}}\n",
    "\n",
    "@book{langtangen2016a,\n",
    "\tAuthor = {Hans Petter Langtangen},\n",
    "\tEdition = {Fith},\n",
    "\tPublisher = {Springer},\n",
    "\tRating = {3},\n",
    "\tTitle = {A Primer on Scientific Programming with Python},\n",
    "\tYear = {2016}}\n",
    "\n",
    "-->"
   ]
  },
  {
   "cell_type": "markdown",
   "metadata": {},
   "source": [
    "# References\n",
    "\n",
    "<a name=\"cite-casamayou2016a\"/><sup>[^](#ref-1) </sup>Casamayou, Alexandre and Chauvin, Pascal and Connan, Guillaume and Demailly, Jean-Pierre. 2016. _Programmation en Python pour les math&eacute;matiques : cours et exercices_.\n",
    "\n",
    "<a name=\"cite-kiusalaas2013a\"/><sup>[^](#ref-2) </sup>Jaan Kiusalaas. 2013. _Numerical Methods in Engineering with Python 3_.\n",
    "\n",
    "<a name=\"cite-langtangen2016a\"/><sup>[^](#ref-3) </sup>Hans Petter Langtangen. 2016. _A Primer on Scientific Programming with Python_.\n",
    "\n"
   ]
  },
  {
   "cell_type": "code",
   "execution_count": null,
   "metadata": {
    "collapsed": true
   },
   "outputs": [],
   "source": []
  }
 ],
 "metadata": {
  "anaconda-cloud": {},
  "celltoolbar": "Slideshow",
  "kernelspec": {
   "display_name": "Python [default]",
   "language": "python",
   "name": "python3"
  },
  "language_info": {
   "codemirror_mode": {
    "name": "ipython",
    "version": 3
   },
   "file_extension": ".py",
   "mimetype": "text/x-python",
   "name": "python",
   "nbconvert_exporter": "python",
   "pygments_lexer": "ipython3",
   "version": "3.5.2"
  },
  "latex_envs": {
   "LaTeX_envs_menu_present": true,
   "bibliofile": "biblio.bib",
   "cite_by": "apalike",
   "current_citInitial": 1,
   "eqLabelWithNumbers": true,
   "eqNumInitial": 1,
   "labels_anchors": false,
   "latex_user_defs": false,
   "report_style_numbering": false,
   "user_envs_cfg": false
  },
  "nbpresent": {
   "slides": {
    "5ec392c1-de62-443f-a567-b532c78ab407": {
     "id": "5ec392c1-de62-443f-a567-b532c78ab407",
     "prev": "9d2e0622-3e8a-4add-8243-18923e24f2d7",
     "regions": {
      "fd07c1cc-1a54-4031-aaf6-285aa16c96da": {
       "attrs": {
        "height": 0.8,
        "width": 0.8,
        "x": 0.1,
        "y": 0.1
       },
       "content": {
        "cell": "8e395759-ab35-49cd-b999-fc3e62e161f8",
        "part": "whole"
       },
       "id": "fd07c1cc-1a54-4031-aaf6-285aa16c96da"
      }
     }
    },
    "65430a25-5702-4d63-8fb8-5ae93456494b": {
     "id": "65430a25-5702-4d63-8fb8-5ae93456494b",
     "prev": "5ec392c1-de62-443f-a567-b532c78ab407",
     "regions": {
      "05101908-83e9-4e2e-be40-9946c7f737d2": {
       "attrs": {
        "height": 0.4,
        "width": 0.8,
        "x": 0.1,
        "y": 0.5
       },
       "content": {
        "cell": "0627f69c-6264-4af9-864b-1ed3223267b6",
        "part": "whole"
       },
       "id": "05101908-83e9-4e2e-be40-9946c7f737d2"
      },
      "f67e2276-3d84-4856-baf1-97a3bc9f8b8c": {
       "attrs": {
        "height": 0.8,
        "width": 0.8,
        "x": 0.1,
        "y": 0.1
       },
       "content": {
        "cell": "ca2ccaad-ed2a-4c40-8578-47b816fccc16",
        "part": "whole"
       },
       "id": "f67e2276-3d84-4856-baf1-97a3bc9f8b8c"
      }
     }
    },
    "90e206d0-b698-44c5-98aa-7ec6796da013": {
     "id": "90e206d0-b698-44c5-98aa-7ec6796da013",
     "prev": "65430a25-5702-4d63-8fb8-5ae93456494b",
     "regions": {
      "8ef7b17d-cdba-4c37-bfc9-d610b7677c68": {
       "attrs": {
        "height": 0.8,
        "width": 0.8,
        "x": 0.1,
        "y": 0.1
       },
       "content": {
        "cell": "5d2c928a-2e72-41cb-8b6c-26d13ef34107",
        "part": "whole"
       },
       "id": "8ef7b17d-cdba-4c37-bfc9-d610b7677c68"
      },
      "a384bf0a-a0e1-4d1b-9fa1-3d8e8b1f0fc8": {
       "attrs": {
        "height": 0.4,
        "width": 0.8,
        "x": 0.1,
        "y": 0.5
       },
       "content": {
        "cell": "63783c2b-6096-41d1-9352-de27b09545c9",
        "part": "whole"
       },
       "id": "a384bf0a-a0e1-4d1b-9fa1-3d8e8b1f0fc8"
      }
     }
    },
    "9d2e0622-3e8a-4add-8243-18923e24f2d7": {
     "id": "9d2e0622-3e8a-4add-8243-18923e24f2d7",
     "prev": null,
     "regions": {
      "66587c7e-d58c-4f5c-95cd-30b8c6aed3c2": {
       "attrs": {
        "height": 0.8,
        "width": 0.8,
        "x": 0.1,
        "y": 0.1
       },
       "content": {
        "cell": "ee91c5ed-7d4a-427a-88fb-e966da8bf774",
        "part": "whole"
       },
       "id": "66587c7e-d58c-4f5c-95cd-30b8c6aed3c2"
      }
     }
    },
    "e8727119-f86c-484b-9854-bd53f6f2d3d9": {
     "id": "e8727119-f86c-484b-9854-bd53f6f2d3d9",
     "prev": "90e206d0-b698-44c5-98aa-7ec6796da013",
     "regions": {
      "4f279f61-d4c9-41b0-9349-25c68d50f05c": {
       "attrs": {
        "height": 0.4,
        "width": 0.8,
        "x": 0.1,
        "y": 0.5
       },
       "content": {
        "cell": "c8e7533a-6914-4fa5-8fe5-a1d6e6facbdb",
        "part": "whole"
       },
       "id": "4f279f61-d4c9-41b0-9349-25c68d50f05c"
      },
      "6f436cba-0ced-445d-af31-68bf2c7b879b": {
       "attrs": {
        "height": 0.8,
        "width": 0.8,
        "x": 0.1,
        "y": 0.1
       },
       "content": {
        "cell": "974171b2-97d5-449a-a4dc-c0feefe0ab4a",
        "part": "whole"
       },
       "id": "6f436cba-0ced-445d-af31-68bf2c7b879b"
      },
      "96b77a89-0e78-495b-a897-70f6d7bbb756": {
       "attrs": {
        "height": 0.4,
        "width": 0.8,
        "x": 0.1,
        "y": 0.5
       },
       "content": {
        "cell": "2b09dacb-2353-4861-a9d4-3edf6a21fc17",
        "part": "whole"
       },
       "id": "96b77a89-0e78-495b-a897-70f6d7bbb756"
      },
      "b3db63ce-bfe4-4db3-a04f-657b2eed1e02": {
       "attrs": {
        "height": 0.4,
        "width": 0.8,
        "x": 0.1,
        "y": 0.5
       },
       "content": {
        "cell": "510721f0-ea1d-4c59-a640-1131821c9a25",
        "part": "whole"
       },
       "id": "b3db63ce-bfe4-4db3-a04f-657b2eed1e02"
      }
     }
    }
   },
   "themes": {}
  }
 },
 "nbformat": 4,
 "nbformat_minor": 1
}
