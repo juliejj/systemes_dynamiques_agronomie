{
 "cells": [
  {
   "cell_type": "markdown",
   "metadata": {},
   "source": [
    "\n",
    "\n",
    "Theory-guided Data Science\n",
    "\n",
    "<img src=\"./images/theory_guided_data_science.png\" alt=\"Theory-guided Data Science\" style=\"width: 400px;\"/>\n",
    "\n",
    "after [Theory-guided Data Science: A New Paradigm for Scientific Discovery](https://arxiv.org/abs/1612.08544) \n",
    "Anuj Karpatne et al\n",
    "\n"
   ]
  },
  {
   "cell_type": "markdown",
   "metadata": {},
   "source": [
    "\n",
    "[[Casamayou et al 2016](#cite-casamayou2016a)]\n",
    "\n",
    "[[Kiusalaas 2013](#cite-kiusalaas2013a)]\n",
    "\n",
    "[[Langtangen 2016](#cite-langtangen2016a)]\n",
    "\n",
    "\n",
    "\n"
   ]
  },
  {
   "cell_type": "markdown",
   "metadata": {
    "collapsed": true
   },
   "source": [
    "<!--bibtex\n",
    "\n",
    "@book{casamayou2016a,\n",
    "\tAuthor = {Casamayou, Alexandre and Chauvin, Pascal and Connan, Guillaume and Demailly, Jean-Pierre},\n",
    "\tEdition = {2{\\`e}me},\n",
    "\tPublisher = {Dunod},\n",
    "\tTitle = {Programmation en Python pour les math{\\'e}matiques : cours et exercices},\n",
    "\tYear = {2016}}\n",
    "\n",
    "@book{kiusalaas2013a,\n",
    "\tAuthor = {Jaan Kiusalaas},\n",
    "\tPublisher = {Academic Press},\n",
    "\tTitle = {Numerical Methods in Engineering with Python 3},\n",
    "\tYear = {2013}}\n",
    "\n",
    "@book{langtangen2016a,\n",
    "\tAuthor = {Hans Petter Langtangen},\n",
    "\tEdition = {Fith},\n",
    "\tPublisher = {Springer},\n",
    "\tRating = {3},\n",
    "\tTitle = {A Primer on Scientific Programming with Python},\n",
    "\tYear = {2016}}\n",
    "\n",
    "-->"
   ]
  },
  {
   "cell_type": "code",
   "execution_count": null,
   "metadata": {
    "collapsed": true
   },
   "outputs": [],
   "source": []
  },
  {
   "cell_type": "markdown",
   "metadata": {},
   "source": [
    "# References\n",
    "\n",
    "<a name=\"cite-casamayou2016a\"/><sup>[^](#ref-1) </sup>Casamayou, Alexandre and Chauvin, Pascal and Connan, Guillaume and Demailly, Jean-Pierre. 2016. _Programmation en Python pour les math&eacute;matiques : cours et exercices_.\n",
    "\n",
    "<a name=\"cite-kiusalaas2013a\"/><sup>[^](#ref-2) </sup>Jaan Kiusalaas. 2013. _Numerical Methods in Engineering with Python 3_.\n",
    "\n",
    "<a name=\"cite-langtangen2016a\"/><sup>[^](#ref-3) </sup>Hans Petter Langtangen. 2016. _A Primer on Scientific Programming with Python_.\n",
    "\n"
   ]
  }
 ],
 "metadata": {
  "anaconda-cloud": {},
  "kernelspec": {
   "display_name": "Python [default]",
   "language": "python",
   "name": "python3"
  },
  "language_info": {
   "codemirror_mode": {
    "name": "ipython",
    "version": 3
   },
   "file_extension": ".py",
   "mimetype": "text/x-python",
   "name": "python",
   "nbconvert_exporter": "python",
   "pygments_lexer": "ipython3",
   "version": "3.5.2"
  },
  "latex_envs": {
   "LaTeX_envs_menu_present": true,
   "bibliofile": "biblio.bib",
   "cite_by": "apalike",
   "current_citInitial": 1,
   "eqLabelWithNumbers": true,
   "eqNumInitial": 1,
   "labels_anchors": false,
   "latex_user_defs": false,
   "report_style_numbering": false,
   "user_envs_cfg": false
  }
 },
 "nbformat": 4,
 "nbformat_minor": 1
}
