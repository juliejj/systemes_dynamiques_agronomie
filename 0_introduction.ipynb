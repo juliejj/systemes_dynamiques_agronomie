{
 "cells": [
  {
   "cell_type": "markdown",
   "metadata": {
    "nbpresent": {
     "id": "8e395759-ab35-49cd-b999-fc3e62e161f8"
    },
    "slideshow": {
     "slide_type": "slide"
    }
   },
   "source": [
    "# Modélisation et contrôle numérique de systèmes dynamiques en agronomie\n",
    "\n",
    "**Responsables : [Céline Casenave](https://www1.montpellier.inra.fr/wp-inra/casenave/) et [Fabien Campillo](http://www-sop.inria.fr/members/Fabien.Campillo/).**\n",
    "\n",
    "<img src=\"images/PhotoFCME.jpg\" alt=\"PhotoFCME\" style=\"width: 450px;\"/>\n",
    "\n",
    "Le but de cette formation est d'introduire quelques éléments de la modélisation, de l'identification et du contrôle de systèmes dynamiques apparaissant dans le domaine de l'agronomie. Cette formation organisée par [SupAgro Montpellier](http://www.supagro.fr).\n",
    "\n",
    "Les sujets abordés sont:\n",
    "\n",
    "1. Modélisation : schéma réactionnel, écosystème, bioréacteur.\n",
    "1. Analyse et simulation numérique d’équations différentielles ordinaires.\n",
    "1. Identification de modèles : \n",
    "     - moindres carrés,\n",
    "     - filtre de Kalman.\n",
    "1. Contrôle de systèmes dynamiques: \n",
    "     - loi de commande PID,\n",
    "     - observateur et saturation.\n",
    "\n",
    "\n",
    "Tout au long de la formation nous considérerons le cas d'un **fermenteur continu multi-étagé** (FCME). Ce fermenteur est un procédé de laboratoire mis au point par des chercheurs de l'[UMR SPO](http://www6.montpellier.inra.fr/spo/) (Sciences pour l'Oenologie) afin de pouvoir étudier les levures. [Céline Casenave](https://www1.montpellier.inra.fr/wp-inra/casenave/) a participé au développement  de sa modélisation et a proposé des méthodes de contrôle.\n",
    "\n",
    "\n",
    "\n",
    "\n",
    "Tout au long des exposés nous ferons appel à des implémentations en [python](https://www.python.org) qui prendront la forme de notebooks (développés et exploitables sous [jupyter](http://jupyter.org)):\n",
    "\n",
    "- ils sont accessibles sur un  dépôt Github ([lien](https://github.com/fabiencampillo/systemes_dynamiques_agronomie)): sur le menu \"Clone or download\" choisir \"Download ZIP\" (ou utiliser ce [lien](https://github.com/fabiencampillo/systemes_dynamiques_agronomie/archive/master.zip));\n",
    "\n",
    "- ils peuvent notamment traduits en slides qui sont directement accessibles sur le site \n",
    "[nbviewer](http://nbviewer.jupyter.org/github/fabiencampillo/systemes_dynamiques_agronomie/).\n",
    "\n",
    "Voir [ici](http://www-sop.inria.fr/members/Fabien.Campillo/teaching/python/index.html) quelques éléments sur python et jupyter.\n",
    "\n"
   ]
  }
 ],
 "metadata": {
  "anaconda-cloud": {},
  "celltoolbar": "Slideshow",
  "kernelspec": {
   "display_name": "Python [default]",
   "language": "python",
   "name": "python3"
  },
  "language_info": {
   "codemirror_mode": {
    "name": "ipython",
    "version": 3
   },
   "file_extension": ".py",
   "mimetype": "text/x-python",
   "name": "python",
   "nbconvert_exporter": "python",
   "pygments_lexer": "ipython3",
   "version": "3.5.2"
  },
  "latex_envs": {
   "LaTeX_envs_menu_present": true,
   "bibliofile": "biblio.bib",
   "cite_by": "apalike",
   "current_citInitial": 1,
   "eqLabelWithNumbers": true,
   "eqNumInitial": 1,
   "labels_anchors": false,
   "latex_user_defs": false,
   "report_style_numbering": false,
   "user_envs_cfg": false
  },
  "nbpresent": {
   "slides": {
    "5ec392c1-de62-443f-a567-b532c78ab407": {
     "id": "5ec392c1-de62-443f-a567-b532c78ab407",
     "prev": "9d2e0622-3e8a-4add-8243-18923e24f2d7",
     "regions": {
      "fd07c1cc-1a54-4031-aaf6-285aa16c96da": {
       "attrs": {
        "height": 0.8,
        "width": 0.8,
        "x": 0.1,
        "y": 0.1
       },
       "content": {
        "cell": "8e395759-ab35-49cd-b999-fc3e62e161f8",
        "part": "whole"
       },
       "id": "fd07c1cc-1a54-4031-aaf6-285aa16c96da"
      }
     }
    },
    "65430a25-5702-4d63-8fb8-5ae93456494b": {
     "id": "65430a25-5702-4d63-8fb8-5ae93456494b",
     "prev": "5ec392c1-de62-443f-a567-b532c78ab407",
     "regions": {
      "05101908-83e9-4e2e-be40-9946c7f737d2": {
       "attrs": {
        "height": 0.4,
        "width": 0.8,
        "x": 0.1,
        "y": 0.5
       },
       "content": {
        "cell": "0627f69c-6264-4af9-864b-1ed3223267b6",
        "part": "whole"
       },
       "id": "05101908-83e9-4e2e-be40-9946c7f737d2"
      },
      "f67e2276-3d84-4856-baf1-97a3bc9f8b8c": {
       "attrs": {
        "height": 0.8,
        "width": 0.8,
        "x": 0.1,
        "y": 0.1
       },
       "content": {
        "cell": "ca2ccaad-ed2a-4c40-8578-47b816fccc16",
        "part": "whole"
       },
       "id": "f67e2276-3d84-4856-baf1-97a3bc9f8b8c"
      }
     }
    },
    "90e206d0-b698-44c5-98aa-7ec6796da013": {
     "id": "90e206d0-b698-44c5-98aa-7ec6796da013",
     "prev": "65430a25-5702-4d63-8fb8-5ae93456494b",
     "regions": {
      "8ef7b17d-cdba-4c37-bfc9-d610b7677c68": {
       "attrs": {
        "height": 0.8,
        "width": 0.8,
        "x": 0.1,
        "y": 0.1
       },
       "content": {
        "cell": "5d2c928a-2e72-41cb-8b6c-26d13ef34107",
        "part": "whole"
       },
       "id": "8ef7b17d-cdba-4c37-bfc9-d610b7677c68"
      },
      "a384bf0a-a0e1-4d1b-9fa1-3d8e8b1f0fc8": {
       "attrs": {
        "height": 0.4,
        "width": 0.8,
        "x": 0.1,
        "y": 0.5
       },
       "content": {
        "cell": "63783c2b-6096-41d1-9352-de27b09545c9",
        "part": "whole"
       },
       "id": "a384bf0a-a0e1-4d1b-9fa1-3d8e8b1f0fc8"
      }
     }
    },
    "9d2e0622-3e8a-4add-8243-18923e24f2d7": {
     "id": "9d2e0622-3e8a-4add-8243-18923e24f2d7",
     "prev": null,
     "regions": {
      "66587c7e-d58c-4f5c-95cd-30b8c6aed3c2": {
       "attrs": {
        "height": 0.8,
        "width": 0.8,
        "x": 0.1,
        "y": 0.1
       },
       "content": {
        "cell": "ee91c5ed-7d4a-427a-88fb-e966da8bf774",
        "part": "whole"
       },
       "id": "66587c7e-d58c-4f5c-95cd-30b8c6aed3c2"
      }
     }
    },
    "e8727119-f86c-484b-9854-bd53f6f2d3d9": {
     "id": "e8727119-f86c-484b-9854-bd53f6f2d3d9",
     "prev": "90e206d0-b698-44c5-98aa-7ec6796da013",
     "regions": {
      "4f279f61-d4c9-41b0-9349-25c68d50f05c": {
       "attrs": {
        "height": 0.4,
        "width": 0.8,
        "x": 0.1,
        "y": 0.5
       },
       "content": {
        "cell": "c8e7533a-6914-4fa5-8fe5-a1d6e6facbdb",
        "part": "whole"
       },
       "id": "4f279f61-d4c9-41b0-9349-25c68d50f05c"
      },
      "6f436cba-0ced-445d-af31-68bf2c7b879b": {
       "attrs": {
        "height": 0.8,
        "width": 0.8,
        "x": 0.1,
        "y": 0.1
       },
       "content": {
        "cell": "974171b2-97d5-449a-a4dc-c0feefe0ab4a",
        "part": "whole"
       },
       "id": "6f436cba-0ced-445d-af31-68bf2c7b879b"
      },
      "96b77a89-0e78-495b-a897-70f6d7bbb756": {
       "attrs": {
        "height": 0.4,
        "width": 0.8,
        "x": 0.1,
        "y": 0.5
       },
       "content": {
        "cell": "2b09dacb-2353-4861-a9d4-3edf6a21fc17",
        "part": "whole"
       },
       "id": "96b77a89-0e78-495b-a897-70f6d7bbb756"
      },
      "b3db63ce-bfe4-4db3-a04f-657b2eed1e02": {
       "attrs": {
        "height": 0.4,
        "width": 0.8,
        "x": 0.1,
        "y": 0.5
       },
       "content": {
        "cell": "510721f0-ea1d-4c59-a640-1131821c9a25",
        "part": "whole"
       },
       "id": "b3db63ce-bfe4-4db3-a04f-657b2eed1e02"
      }
     }
    }
   },
   "themes": {}
  }
 },
 "nbformat": 4,
 "nbformat_minor": 1
}
