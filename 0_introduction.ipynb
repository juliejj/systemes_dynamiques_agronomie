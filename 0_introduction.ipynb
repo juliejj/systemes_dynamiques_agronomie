{
 "cells": [
  {
   "cell_type": "markdown",
   "metadata": {
    "slideshow": {
     "slide_type": "slide"
    }
   },
   "source": [
    "# Table of Contents\n",
    "* [1. Introduction](#1.-Introduction)\n",
    "\t* [1.1 Le Big Data ou la fin des science](#1.1-Le-Big-Data-ou-la-fin-des-science)\n",
    "\t* [1.2 Theory-guided Data Science](#1.2-Theory-guided-Data-Science)\n",
    "\t* [1.3 Python c'est fun](#1.3-Python-c'est-fun)\n"
   ]
  },
  {
   "cell_type": "markdown",
   "metadata": {
    "slideshow": {
     "slide_type": "slide"
    }
   },
   "source": [
    "# 1. Introduction"
   ]
  },
  {
   "cell_type": "markdown",
   "metadata": {
    "slideshow": {
     "slide_type": "slide"
    }
   },
   "source": [
    "## 1.1 Le Big Data ou la fin des science"
   ]
  },
  {
   "cell_type": "markdown",
   "metadata": {},
   "source": [
    "<img src=\"./images/wired.png\" alt=\"wired\" style=\"width: 300px;\"/>\n",
    "\n",
    "**The End of Theory: The Data Deluge Makes the Scientific Method Obsolete** Chris Anderson, Wired Magazine 2008\n",
    "\n",
    "\n",
    "Ce genre de réflexions de l'[ère des post-vérités](https://fr.wikipedia.org/wiki/Ère_post-vérité), s'appuie sur une interprétation très \"limitée\" d'un aphorisme dû à George Box:\n",
    "\n",
    "> [\"All models are wrong, but some are useful\"](https://en.wikipedia.org/wiki/All_models_are_wrong), George Box\n",
    "\n",
    "dans lequel Chris Anderson a retenu \"les modèles sont faux\". Suivons la logique de son article:\n",
    "\n",
    "> Today companies like Google, which have grown up in an era of massively abundant data, don't have to settle for wrong models. Indeed, they don't have to settle for models at all.\n",
    "\n",
    "puis \n",
    "\n",
    "> Google's founding philosophy is that we don't know why this page is better than that one: If the statistics of incoming links say it is, that's good enough.\n",
    "\n",
    "C'est assez effrayant, on voit où se genre de \"phylosophie\" nous a conduit."
   ]
  },
  {
   "cell_type": "markdown",
   "metadata": {
    "slideshow": {
     "slide_type": "slide"
    }
   },
   "source": [
    "## 1.2 Theory-guided Data Science"
   ]
  },
  {
   "cell_type": "markdown",
   "metadata": {},
   "source": [
    "<img src=\"./images/theory_guided_data_science.png\" alt=\"Theory-guided Data Science\" style=\"width: 400px;\"/>\n",
    "\n",
    "after [Theory-guided Data Science: A New Paradigm for Scientific Discovery](https://arxiv.org/abs/1612.08544) \n",
    "Anuj Karpatne et al"
   ]
  },
  {
   "cell_type": "markdown",
   "metadata": {
    "slideshow": {
     "slide_type": "slide"
    }
   },
   "source": [
    "## 1.3 Python c'est fun"
   ]
  },
  {
   "cell_type": "markdown",
   "metadata": {},
   "source": [
    "[[Casamayou et al 2016](#cite-casamayou2016a)]\n",
    "\n",
    "[[Kiusalaas 2013](#cite-kiusalaas2013a)]\n",
    "\n",
    "[[Langtangen 2016](#cite-langtangen2016a)]"
   ]
  },
  {
   "cell_type": "markdown",
   "metadata": {
    "collapsed": true
   },
   "source": [
    "<!--bibtex\n",
    "\n",
    "@book{casamayou2016a,\n",
    "\tAuthor = {Casamayou, Alexandre and Chauvin, Pascal and Connan, Guillaume and Demailly, Jean-Pierre},\n",
    "\tEdition = {2{\\`e}me},\n",
    "\tPublisher = {Dunod},\n",
    "\tTitle = {Programmation en Python pour les math{\\'e}matiques : cours et exercices},\n",
    "\tYear = {2016}}\n",
    "\n",
    "@book{kiusalaas2013a,\n",
    "\tAuthor = {Jaan Kiusalaas},\n",
    "\tPublisher = {Academic Press},\n",
    "\tTitle = {Numerical Methods in Engineering with Python 3},\n",
    "\tYear = {2013}}\n",
    "\n",
    "@book{langtangen2016a,\n",
    "\tAuthor = {Hans Petter Langtangen},\n",
    "\tEdition = {Fith},\n",
    "\tPublisher = {Springer},\n",
    "\tRating = {3},\n",
    "\tTitle = {A Primer on Scientific Programming with Python},\n",
    "\tYear = {2016}}\n",
    "\n",
    "-->"
   ]
  },
  {
   "cell_type": "markdown",
   "metadata": {},
   "source": [
    "# References\n",
    "\n",
    "<a name=\"cite-casamayou2016a\"/><sup>[^](#ref-1) </sup>Casamayou, Alexandre and Chauvin, Pascal and Connan, Guillaume and Demailly, Jean-Pierre. 2016. _Programmation en Python pour les math&eacute;matiques : cours et exercices_.\n",
    "\n",
    "<a name=\"cite-kiusalaas2013a\"/><sup>[^](#ref-2) </sup>Jaan Kiusalaas. 2013. _Numerical Methods in Engineering with Python 3_.\n",
    "\n",
    "<a name=\"cite-langtangen2016a\"/><sup>[^](#ref-3) </sup>Hans Petter Langtangen. 2016. _A Primer on Scientific Programming with Python_.\n",
    "\n"
   ]
  }
 ],
 "metadata": {
  "anaconda-cloud": {},
  "celltoolbar": "Slideshow",
  "kernelspec": {
   "display_name": "Python [default]",
   "language": "python",
   "name": "python3"
  },
  "language_info": {
   "codemirror_mode": {
    "name": "ipython",
    "version": 3
   },
   "file_extension": ".py",
   "mimetype": "text/x-python",
   "name": "python",
   "nbconvert_exporter": "python",
   "pygments_lexer": "ipython3",
   "version": "3.5.2"
  },
  "latex_envs": {
   "LaTeX_envs_menu_present": true,
   "bibliofile": "biblio.bib",
   "cite_by": "apalike",
   "current_citInitial": 1,
   "eqLabelWithNumbers": true,
   "eqNumInitial": 1,
   "labels_anchors": false,
   "latex_user_defs": false,
   "report_style_numbering": false,
   "user_envs_cfg": false
  }
 },
 "nbformat": 4,
 "nbformat_minor": 1
}
